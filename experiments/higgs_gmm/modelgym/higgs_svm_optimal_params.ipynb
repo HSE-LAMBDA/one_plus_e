{
 "cells": [
  {
   "cell_type": "markdown",
   "metadata": {},
   "source": [
    "# Получение значений метрик"
   ]
  },
  {
   "cell_type": "code",
   "execution_count": 1,
   "metadata": {},
   "outputs": [
    {
     "name": "stderr",
     "output_type": "stream",
     "text": [
      "/opt/conda/anaconda3/lib/python3.6/importlib/_bootstrap.py:205: RuntimeWarning: compiletime version 3.4 of module '_catboost' does not match runtime version 3.6\n",
      "  return f(*args, **kwds)\n"
     ]
    }
   ],
   "source": [
    "import sys\n",
    "import json\n",
    "import timeit\n",
    "import numpy as np\n",
    "import matplotlib.pyplot as plt\n",
    "\n",
    "from tqdm import tqdm\n",
    "from IPython import display\n",
    "\n",
    "from modelgym.report import Report\n",
    "from modelgym.utils import XYCDataset\n",
    "from modelgym.trainers import TpeTrainer\n",
    "from modelgym.metrics import Accuracy, RocAuc, F1\n",
    "\n",
    "from sklearn.ensemble import IsolationForest\n",
    "from sklearn.svm import OneClassSVM\n",
    "\n",
    "sys.path.append('../../gmm_modules/')\n",
    "from data_preparation import get_train_test_data\n",
    "from metrics import metric_boxplot, eval_metrics, dump_metrics\n",
    "from modelgym_models import SVMClassifier\n",
    "\n",
    "np.random.seed(10)\n",
    "%matplotlib inline"
   ]
  },
  {
   "cell_type": "markdown",
   "metadata": {},
   "source": [
    "## Подготовим данные"
   ]
  },
  {
   "cell_type": "code",
   "execution_count": 2,
   "metadata": {},
   "outputs": [
    {
     "name": "stdout",
     "output_type": "stream",
     "text": [
      "CPU times: user 3min 19s, sys: 28 s, total: 3min 47s\n",
      "Wall time: 4min 36s\n"
     ]
    }
   ],
   "source": [
    "%%time\n",
    "path_to_dataset = '../../../datasets/HIGGS.csv.gz'\n",
    "column_names = 'label, lepton pT, lepton eta, lepton phi, missing energy magnitude, missing energy phi, jet 1 pt, jet 1 eta, jet 1 phi, jet 1 b-tag, jet 2 pt, jet 2 eta, jet 2 phi, jet 2 b-tag, jet 3 pt, jet 3 eta, jet 3 phi, jet 3 b-tag, jet 4 pt, jet 4 eta, jet 4 phi, jet 4 b-tag, m_jj, m_jjj, m_lv, m_jlv, m_bb, m_wbb, m_wwbb'.split(', ')\n",
    "train_size = 400000\n",
    "test_size = 100000\n",
    "\n",
    "X_train, X_test, y_train, y_test = get_train_test_data(path_to_dataset, column_names, train_size, test_size)"
   ]
  },
  {
   "cell_type": "code",
   "execution_count": 3,
   "metadata": {
    "collapsed": true
   },
   "outputs": [],
   "source": [
    "# split X_train by class\n",
    "X_good = X_train[np.where(y_train==0)[0]]\n",
    "X_bad = X_train[np.where(y_train==1)[0]]  "
   ]
  },
  {
   "cell_type": "code",
   "execution_count": 4,
   "metadata": {},
   "outputs": [
    {
     "data": {
      "text/plain": [
       "((200000, 28), (200000, 28), (400000, 28), (100000, 28))"
      ]
     },
     "execution_count": 4,
     "metadata": {},
     "output_type": "execute_result"
    }
   ],
   "source": [
    "X_good.shape, X_bad.shape, X_train.shape, X_test.shape"
   ]
  },
  {
   "cell_type": "markdown",
   "metadata": {},
   "source": [
    "## Подберем SVM с оптимальными параметрами"
   ]
  },
  {
   "cell_type": "markdown",
   "metadata": {},
   "source": [
    "Создаем классификатор и trainer для подбора оптимальных параметров"
   ]
  },
  {
   "cell_type": "code",
   "execution_count": 5,
   "metadata": {
    "collapsed": true
   },
   "outputs": [],
   "source": [
    "models = [SVMClassifier]\n",
    "trainer = TpeTrainer(models)"
   ]
  },
  {
   "cell_type": "markdown",
   "metadata": {},
   "source": [
    "Обертка для данных"
   ]
  },
  {
   "cell_type": "code",
   "execution_count": 6,
   "metadata": {
    "collapsed": true
   },
   "outputs": [],
   "source": [
    "y_train_rescale = np.where(y_train == 0, np.ones((y_train.shape)), -np.ones((y_train.shape)))"
   ]
  },
  {
   "cell_type": "code",
   "execution_count": null,
   "metadata": {
    "collapsed": true
   },
   "outputs": [],
   "source": [
    "dataset = XYCDataset(X_train, y_train_rescale)"
   ]
  },
  {
   "cell_type": "markdown",
   "metadata": {},
   "source": [
    "Сам подбор параметров"
   ]
  },
  {
   "cell_type": "code",
   "execution_count": null,
   "metadata": {
    "scrolled": true
   },
   "outputs": [
    {
     "name": "stdout",
     "output_type": "stream",
     "text": [
      "*****************\n",
      "{'kernel': {'coef0': 0.01283178442401142, 'gamma': 0.03050156733584724, 'kernel': 'sigmoid'}, 'nu': 0.6000000000000001, 'shrinking': True}\n",
      "{'kernel': 'sigmoid', 'nu': 0.6000000000000001, 'shrinking': True, 'coef0': 0.01283178442401142, 'gamma': 0.03050156733584724}\n",
      "Fitted\n",
      "Run time: 4750.11 sec\n",
      "*****************\n",
      "\n",
      "*****************\n",
      "{'kernel': {'coef0': 0.01283178442401142, 'gamma': 0.03050156733584724, 'kernel': 'sigmoid'}, 'nu': 0.6000000000000001, 'shrinking': True}\n",
      "{'kernel': 'sigmoid', 'nu': 0.6000000000000001, 'shrinking': True, 'coef0': 0.01283178442401142, 'gamma': 0.03050156733584724}\n",
      "Fitted\n",
      "Run time: 4768.10 sec\n",
      "*****************\n",
      "\n",
      "*****************\n",
      "{'kernel': {'coef0': 0.01283178442401142, 'gamma': 0.03050156733584724, 'kernel': 'sigmoid'}, 'nu': 0.6000000000000001, 'shrinking': True}\n",
      "{'kernel': 'sigmoid', 'nu': 0.6000000000000001, 'shrinking': True, 'coef0': 0.01283178442401142, 'gamma': 0.03050156733584724}\n",
      "Fitted\n",
      "Run time: 4336.75 sec\n",
      "*****************\n",
      "\n",
      "*****************\n",
      "{'kernel': {'kernel': 'linear'}, 'nu': 0.8000000000000003, 'shrinking': False}\n",
      "{'kernel': 'linear', 'nu': 0.8000000000000003, 'shrinking': False}\n",
      "Fitted\n",
      "Run time: 1496.51 sec\n",
      "*****************\n",
      "\n",
      "*****************\n",
      "{'kernel': {'kernel': 'linear'}, 'nu': 0.8000000000000003, 'shrinking': False}\n",
      "{'kernel': 'linear', 'nu': 0.8000000000000003, 'shrinking': False}\n",
      "Fitted\n",
      "Run time: 1023.78 sec\n",
      "*****************\n",
      "\n",
      "*****************\n",
      "{'kernel': {'kernel': 'linear'}, 'nu': 0.8000000000000003, 'shrinking': False}\n",
      "{'kernel': 'linear', 'nu': 0.8000000000000003, 'shrinking': False}\n",
      "Fitted\n",
      "Run time: 966.09 sec\n",
      "*****************\n",
      "\n",
      "*****************\n",
      "{'kernel': {'kernel': 'linear'}, 'nu': 0.6000000000000001, 'shrinking': True}\n",
      "{'kernel': 'linear', 'nu': 0.6000000000000001, 'shrinking': True}\n",
      "Fitted\n",
      "Run time: 12098.63 sec\n",
      "*****************\n",
      "\n",
      "*****************\n",
      "{'kernel': {'kernel': 'linear'}, 'nu': 0.6000000000000001, 'shrinking': True}\n",
      "{'kernel': 'linear', 'nu': 0.6000000000000001, 'shrinking': True}\n",
      "Fitted\n",
      "Run time: 3655.96 sec\n",
      "*****************\n",
      "\n",
      "*****************\n",
      "{'kernel': {'kernel': 'linear'}, 'nu': 0.6000000000000001, 'shrinking': True}\n",
      "{'kernel': 'linear', 'nu': 0.6000000000000001, 'shrinking': True}\n"
     ]
    }
   ],
   "source": [
    "%%time\n",
    "trainer.crossval_optimize_params(RocAuc(), dataset, metrics=[Accuracy(), RocAuc(), F1()], verbose=True,\n",
    "                                 cv=3, opt_evals=20)"
   ]
  },
  {
   "cell_type": "markdown",
   "metadata": {},
   "source": [
    "Результаты"
   ]
  },
  {
   "cell_type": "code",
   "execution_count": 17,
   "metadata": {
    "collapsed": true
   },
   "outputs": [],
   "source": [
    "reporter = Report(trainer.get_best_results(), dataset, [Accuracy(), RocAuc(), F1()])"
   ]
  },
  {
   "cell_type": "code",
   "execution_count": 18,
   "metadata": {},
   "outputs": [
    {
     "name": "stdout",
     "output_type": "stream",
     "text": [
      "\n",
      "~~~~~~~~~~~~~~~~~~~~~~~~~~~~~~~~~~~~~~~~~~~~~~    accuracy    ~~~~~~~~~~~~~~~~~~~~~~~~~~~~~~~~~~~~~~~~~~~~~~~\n",
      "\n",
      "                           tuned\n",
      "SVMClassifier  0.563235 (+0.00%)\n",
      "\n",
      "~~~~~~~~~~~~~~~~~~~~~~~~~~~~~~~~~~~~~~~~~~~~~~~    roc_auc    ~~~~~~~~~~~~~~~~~~~~~~~~~~~~~~~~~~~~~~~~~~~~~~~\n",
      "\n",
      "                           tuned\n",
      "SVMClassifier  0.658192 (-0.00%)\n",
      "\n",
      "~~~~~~~~~~~~~~~~~~~~~~~~~~~~~~~~~~~~~~~~~~~~~~    f1_score    ~~~~~~~~~~~~~~~~~~~~~~~~~~~~~~~~~~~~~~~~~~~~~~~\n",
      "\n",
      "                           tuned\n",
      "SVMClassifier  0.314271 (+0.00%)\n"
     ]
    }
   ],
   "source": [
    "reporter.print_all_metric_results()"
   ]
  },
  {
   "cell_type": "code",
   "execution_count": 19,
   "metadata": {},
   "outputs": [
    {
     "name": "stdout",
     "output_type": "stream",
     "text": [
      "\n",
      "~~~~~~~~~~~~~~~~~~~~~~~~~~~~~~~~~~~~~~~~~~~~~~    accuracy    ~~~~~~~~~~~~~~~~~~~~~~~~~~~~~~~~~~~~~~~~~~~~~~~\n",
      "\n"
     ]
    },
    {
     "data": {
      "image/png": "[encoded data removed]",
      "text/plain": [
       "<matplotlib.figure.Figure at 0x7ff2a9c21c50>"
      ]
     },
     "metadata": {},
     "output_type": "display_data"
    },
    {
     "name": "stdout",
     "output_type": "stream",
     "text": [
      "\n",
      "~~~~~~~~~~~~~~~~~~~~~~~~~~~~~~~~~~~~~~~~~~~~~~~    roc_auc    ~~~~~~~~~~~~~~~~~~~~~~~~~~~~~~~~~~~~~~~~~~~~~~~\n",
      "\n"
     ]
    },
    {
     "data": {
      "image/png": "[encoded data removed]",
      "text/plain": [
       "<matplotlib.figure.Figure at 0x7ff2a9b086a0>"
      ]
     },
     "metadata": {},
     "output_type": "display_data"
    },
    {
     "name": "stdout",
     "output_type": "stream",
     "text": [
      "\n",
      "~~~~~~~~~~~~~~~~~~~~~~~~~~~~~~~~~~~~~~~~~~~~~~    f1_score    ~~~~~~~~~~~~~~~~~~~~~~~~~~~~~~~~~~~~~~~~~~~~~~~\n",
      "\n"
     ]
    },
    {
     "data": {
      "image/png": "[encoded data removed]",
      "text/plain": [
       "<matplotlib.figure.Figure at 0x7ff2a9a18a58>"
      ]
     },
     "metadata": {},
     "output_type": "display_data"
    }
   ],
   "source": [
    "reporter.plot_all_metrics()"
   ]
  },
  {
   "cell_type": "markdown",
   "metadata": {},
   "source": [
    "Вытащим значения оптимальных параметров"
   ]
  },
  {
   "cell_type": "code",
   "execution_count": null,
   "metadata": {
    "collapsed": true
   },
   "outputs": [],
   "source": [
    "trainer_log = trainer.state['SVMClassifier']\n",
    "opt_params = trainer_log.best_trial['result']['params']\n",
    "opt_params.update(opt_params['kernel'])\n",
    "opt_params"
   ]
  },
  {
   "cell_type": "markdown",
   "metadata": {},
   "source": [
    "Сохраним эти значения"
   ]
  },
  {
   "cell_type": "code",
   "execution_count": 21,
   "metadata": {
    "collapsed": true
   },
   "outputs": [],
   "source": [
    "file_name = 'optimal_svm_params.json'\n",
    "with open(file_name, 'w', encoding=\"utf-8\") as file:\n",
    "    # writing\n",
    "    json.dump(opt_params, file, indent=4, ensure_ascii=False)"
   ]
  },
  {
   "cell_type": "markdown",
   "metadata": {},
   "source": [
    "Загрузим значения"
   ]
  },
  {
   "cell_type": "code",
   "execution_count": 22,
   "metadata": {
    "collapsed": true
   },
   "outputs": [],
   "source": [
    "file_name = 'optimal_svm_params.json'\n",
    "with open(file_name, 'r', encoding=\"utf-8\") as file:\n",
    "    opt_params = json.load(file)"
   ]
  },
  {
   "cell_type": "code",
   "execution_count": 23,
   "metadata": {},
   "outputs": [
    {
     "data": {
      "text/plain": [
       "{'kernel': 'linear', 'nu': 0.8000000000000003, 'shrinking': False}"
      ]
     },
     "execution_count": 23,
     "metadata": {},
     "output_type": "execute_result"
    }
   ],
   "source": [
    "opt_params"
   ]
  },
  {
   "cell_type": "markdown",
   "metadata": {},
   "source": [
    "## Получим значения метрик OneClassSVM при оптимальных параметрах"
   ]
  },
  {
   "cell_type": "code",
   "execution_count": 24,
   "metadata": {
    "collapsed": true
   },
   "outputs": [],
   "source": [
    "y_test_rescale = np.where(y_test == 0, np.ones((y_test.shape)), -np.ones((y_test.shape)))"
   ]
  },
  {
   "cell_type": "code",
   "execution_count": 25,
   "metadata": {
    "collapsed": true
   },
   "outputs": [],
   "source": [
    "classifiers_classic_uns = {\n",
    "    \"One-Class SVM\": OneClassSVM(**opt_params)\n",
    "}\n",
    "\n",
    "frac = 0\n",
    "metrics_path = '../metrics/unsupervised/SVM_opt/'\n",
    "\n",
    "metrics_dict = {\n",
    "    'pr_aucs' : {},\n",
    "    'roc_aucs' : {},\n",
    "    'p_at_r' : {\n",
    "        '0.8': {},\n",
    "        '0.9': {}, \n",
    "        '0.95': {},\n",
    "        '0.99': {},\n",
    "    }\n",
    "}"
   ]
  },
  {
   "cell_type": "code",
   "execution_count": 26,
   "metadata": {
    "scrolled": false
   },
   "outputs": [
    {
     "name": "stdout",
     "output_type": "stream",
     "text": [
      "Run time: 2555.01 sec\n",
      "PR_AUC:  (0, 0.6401786592199875)\n",
      "ROC_AUC:  (0, 0.6571087516)\n",
      "clf_name:  One-Class SVM\n"
     ]
    },
    {
     "data": {
      "image/png": "[encoded data removed]",
      "text/plain": [
       "<matplotlib.figure.Figure at 0x7ff2a996dc88>"
      ]
     },
     "metadata": {},
     "output_type": "display_data"
    },
    {
     "data": {
      "image/png": "[encoded data removed]",
      "text/plain": [
       "<matplotlib.figure.Figure at 0x7ff2a90869b0>"
      ]
     },
     "metadata": {},
     "output_type": "display_data"
    },
    {
     "data": {
      "image/png": "[encoded data removed]",
      "text/plain": [
       "<matplotlib.figure.Figure at 0x7ff2a99b2c18>"
      ]
     },
     "metadata": {},
     "output_type": "display_data"
    },
    {
     "data": {
      "image/png": "[encoded data removed]",
      "text/plain": [
       "<matplotlib.figure.Figure at 0x7ff2a9a2b9b0>"
      ]
     },
     "metadata": {},
     "output_type": "display_data"
    },
    {
     "data": {
      "image/png": "[encoded data removed]",
      "text/plain": [
       "<matplotlib.figure.Figure at 0x7ff2a994b7f0>"
      ]
     },
     "metadata": {},
     "output_type": "display_data"
    },
    {
     "data": {
      "image/png": "[encoded data removed]",
      "text/plain": [
       "<matplotlib.figure.Figure at 0x7ff2b76a3780>"
      ]
     },
     "metadata": {},
     "output_type": "display_data"
    },
    {
     "name": "stderr",
     "output_type": "stream",
     "text": [
      "\r",
      "1it [42:36, 2556.95s/it]"
     ]
    },
    {
     "name": "stdout",
     "output_type": "stream",
     "text": [
      "CPU times: user 42min 12s, sys: 22.7 s, total: 42min 34s\n",
      "Wall time: 42min 36s\n"
     ]
    },
    {
     "name": "stderr",
     "output_type": "stream",
     "text": [
      "\n"
     ]
    }
   ],
   "source": [
    "%%time\n",
    "for i, (clf_name, clf) in tqdm(enumerate(classifiers_classic_uns.items())):\n",
    "    # prepare data\n",
    "    if frac > 1:\n",
    "        end_ind = X_good.shape[0]\n",
    "    else:   \n",
    "        end_ind = int(X_good.shape[0] * frac)\n",
    "\n",
    "    idx_neg = np.random.permutation(X_bad.shape[0])\n",
    "    X = np.concatenate((\n",
    "        X_good,\n",
    "        X_bad[idx_neg[:end_ind]]\n",
    "    ), axis=0)\n",
    "\n",
    "    # fit model and predict probas\n",
    "    start_time = timeit.default_timer()\n",
    "    clf.fit(np.random.permutation(X))\n",
    "    Score = clf.decision_function(X_test)\n",
    "    run_time = timeit.default_timer() - start_time\n",
    "    \n",
    "    # eval and save metrics\n",
    "    eval_metrics(-y_test_rescale, -Score, frac, metrics_dict, descr=clf_name)\n",
    "    dump_metrics(metrics_path, metrics_dict)\n",
    "\n",
    "    # print info\n",
    "    display.clear_output(wait=True)\n",
    "    print(\"Run time: {:.2f} sec\".format(run_time))\n",
    "    print(\"PR_AUC: \", metrics_dict['pr_aucs'][clf_name][-1])\n",
    "    print(\"ROC_AUC: \", metrics_dict['roc_aucs'][clf_name][-1])\n",
    "    print('clf_name: ', clf_name)\n",
    "\n",
    "    # plot metrics\n",
    "    metric_boxplot(metrics_dict['pr_aucs'], ylabel='PR_AUC', ylim=(0.1, 0.9))\n",
    "    plt.show()\n",
    "    metric_boxplot(metrics_dict['roc_aucs'], ylabel='ROC_AUC', ylim=(0.1, 0.9))\n",
    "    plt.show()\n",
    "    for k in metrics_dict['p_at_r'].keys():\n",
    "        metric_boxplot(metrics_dict['p_at_r'][k], ylabel='P@R_' + str(k), ylim=(0.4, 0.9))\n",
    "        plt.show()"
   ]
  },
  {
   "cell_type": "code",
   "execution_count": 27,
   "metadata": {},
   "outputs": [
    {
     "data": {
      "text/plain": [
       "{'p_at_r': {'0.8': {'One-Class SVM': [(0, 0.5723789630307886)]},\n",
       "  '0.9': {'One-Class SVM': [(0, 0.5449382417050134)]},\n",
       "  '0.95': {'One-Class SVM': [(0, 0.5275719981785266)]},\n",
       "  '0.99': {'One-Class SVM': [(0, 0.5089391275740472)]}},\n",
       " 'pr_aucs': {'One-Class SVM': [(0, 0.6401786592199875)]},\n",
       " 'roc_aucs': {'One-Class SVM': [(0, 0.6571087516)]}}"
      ]
     },
     "execution_count": 27,
     "metadata": {},
     "output_type": "execute_result"
    }
   ],
   "source": [
    "metrics_dict"
   ]
  },
  {
   "cell_type": "code",
   "execution_count": null,
   "metadata": {
    "collapsed": true
   },
   "outputs": [],
   "source": []
  }
 ],
 "metadata": {
  "anaconda-cloud": {},
  "kernelspec": {
   "display_name": "Python 3",
   "language": "python",
   "name": "python3"
  },
  "language_info": {
   "codemirror_mode": {
    "name": "ipython",
    "version": 3
   },
   "file_extension": ".py",
   "mimetype": "text/x-python",
   "name": "python",
   "nbconvert_exporter": "python",
   "pygments_lexer": "ipython3",
   "version": "3.6.2"
  }
 },
 "nbformat": 4,
 "nbformat_minor": 1
}
