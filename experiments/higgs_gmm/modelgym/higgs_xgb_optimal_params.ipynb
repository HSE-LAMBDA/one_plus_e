{
 "cells": [
  {
   "cell_type": "markdown",
   "metadata": {},
   "source": [
    "# Получение значений метрик"
   ]
  },
  {
   "cell_type": "code",
   "execution_count": 1,
   "metadata": {},
   "outputs": [
    {
     "name": "stderr",
     "output_type": "stream",
     "text": [
      "/opt/conda/anaconda3/lib/python3.6/importlib/_bootstrap.py:205: RuntimeWarning: compiletime version 3.4 of module '_catboost' does not match runtime version 3.6\n",
      "  return f(*args, **kwds)\n"
     ]
    }
   ],
   "source": [
    "import sys\n",
    "import json\n",
    "import timeit\n",
    "import numpy as np\n",
    "import xgboost as xgb\n",
    "import matplotlib.pyplot as plt\n",
    "\n",
    "from tqdm import tqdm\n",
    "from IPython import display\n",
    "\n",
    "from modelgym.report import Report\n",
    "from modelgym.utils import XYCDataset\n",
    "from modelgym.trainers import TpeTrainer\n",
    "from modelgym.metrics import Accuracy, RocAuc, F1\n",
    "\n",
    "from sklearn.ensemble import IsolationForest\n",
    "from sklearn.svm import OneClassSVM\n",
    "\n",
    "sys.path.append('../../gmm_modules/')\n",
    "from data_preparation import get_train_test_data\n",
    "from metrics import metric_boxplot, eval_metrics, dump_metrics\n",
    "from modelgym_models import XGBClassifier\n",
    "\n",
    "np.random.seed(10)\n",
    "%matplotlib inline"
   ]
  },
  {
   "cell_type": "markdown",
   "metadata": {},
   "source": [
    "## Подготовим данные"
   ]
  },
  {
   "cell_type": "code",
   "execution_count": 2,
   "metadata": {},
   "outputs": [
    {
     "name": "stdout",
     "output_type": "stream",
     "text": [
      "CPU times: user 3min 20s, sys: 17.3 s, total: 3min 37s\n",
      "Wall time: 3min 50s\n"
     ]
    }
   ],
   "source": [
    "%%time\n",
    "path_to_dataset = '../../../datasets/HIGGS.csv.gz'\n",
    "column_names = 'label, lepton pT, lepton eta, lepton phi, missing energy magnitude, missing energy phi, jet 1 pt, jet 1 eta, jet 1 phi, jet 1 b-tag, jet 2 pt, jet 2 eta, jet 2 phi, jet 2 b-tag, jet 3 pt, jet 3 eta, jet 3 phi, jet 3 b-tag, jet 4 pt, jet 4 eta, jet 4 phi, jet 4 b-tag, m_jj, m_jjj, m_lv, m_jlv, m_bb, m_wbb, m_wwbb'.split(', ')\n",
    "train_size = 400000\n",
    "test_size = 100000\n",
    "\n",
    "X_train, X_test, y_train, y_test = get_train_test_data(path_to_dataset, column_names, train_size, test_size)"
   ]
  },
  {
   "cell_type": "code",
   "execution_count": 3,
   "metadata": {
    "collapsed": true
   },
   "outputs": [],
   "source": [
    "# split X_train by class\n",
    "X_good = X_train[np.where(y_train==0)[0]]\n",
    "X_bad = X_train[np.where(y_train==1)[0]]  "
   ]
  },
  {
   "cell_type": "code",
   "execution_count": 4,
   "metadata": {},
   "outputs": [
    {
     "data": {
      "text/plain": [
       "((200000, 28), (200000, 28), (400000, 28), (100000, 28))"
      ]
     },
     "execution_count": 4,
     "metadata": {},
     "output_type": "execute_result"
    }
   ],
   "source": [
    "X_good.shape, X_bad.shape, X_train.shape, X_test.shape"
   ]
  },
  {
   "cell_type": "markdown",
   "metadata": {},
   "source": [
    "## Подберем XGBoost с оптимальными параметрами"
   ]
  },
  {
   "cell_type": "markdown",
   "metadata": {},
   "source": [
    "Создаем классификатор и trainer для подбора оптимальных параметров"
   ]
  },
  {
   "cell_type": "code",
   "execution_count": 5,
   "metadata": {
    "collapsed": true
   },
   "outputs": [],
   "source": [
    "models = [XGBClassifier]\n",
    "trainer = TpeTrainer(models)"
   ]
  },
  {
   "cell_type": "markdown",
   "metadata": {},
   "source": [
    "Обертка для данных"
   ]
  },
  {
   "cell_type": "code",
   "execution_count": 6,
   "metadata": {
    "collapsed": true
   },
   "outputs": [],
   "source": [
    "dataset = XYCDataset(X_train, y_train)"
   ]
  },
  {
   "cell_type": "markdown",
   "metadata": {},
   "source": [
    "Сам подбор параметров"
   ]
  },
  {
   "cell_type": "code",
   "execution_count": 7,
   "metadata": {
    "scrolled": true
   },
   "outputs": [
    {
     "name": "stdout",
     "output_type": "stream",
     "text": [
      "*****************\n",
      "{'objective': 'binary:logistic', 'eval_metric': 'logloss', 'silent': 1, 'alpha': 1.6576981560218025e-06, 'colsample_bylevel': 0.8266286588039223, 'colsample_bytree': 0.5213939752025252, 'eta': 0.2925426377149742, 'gamma': 0.0034412249156809214, 'lambdax': 0.006505492986185633, 'max_depth': 4, 'min_child_weight': 0.00046051818042811097, 'subsample': 0.9643372080606714}\n",
      "Fitted\n",
      "Run time: 79.00 sec\n",
      "*****************\n",
      "\n",
      "*****************\n",
      "{'objective': 'binary:logistic', 'eval_metric': 'logloss', 'silent': 1, 'alpha': 1.6576981560218025e-06, 'colsample_bylevel': 0.8266286588039223, 'colsample_bytree': 0.5213939752025252, 'eta': 0.2925426377149742, 'gamma': 0.0034412249156809214, 'lambdax': 0.006505492986185633, 'max_depth': 4, 'min_child_weight': 0.00046051818042811097, 'subsample': 0.9643372080606714}\n",
      "Fitted\n",
      "Run time: 78.99 sec\n",
      "*****************\n",
      "\n",
      "*****************\n",
      "{'objective': 'binary:logistic', 'eval_metric': 'logloss', 'silent': 1, 'alpha': 1.6576981560218025e-06, 'colsample_bylevel': 0.8266286588039223, 'colsample_bytree': 0.5213939752025252, 'eta': 0.2925426377149742, 'gamma': 0.0034412249156809214, 'lambdax': 0.006505492986185633, 'max_depth': 4, 'min_child_weight': 0.00046051818042811097, 'subsample': 0.9643372080606714}\n",
      "Fitted\n",
      "Run time: 65.69 sec\n",
      "*****************\n",
      "\n",
      "*****************\n",
      "{'objective': 'binary:logistic', 'eval_metric': 'logloss', 'silent': 1, 'alpha': 0.0004479811746080291, 'colsample_bylevel': 0.6315689974222569, 'colsample_bytree': 0.9316201773667658, 'eta': 0.002545882095400699, 'gamma': 0.04972120061202124, 'lambdax': 0.20391368267046275, 'max_depth': 3, 'min_child_weight': 0.18257301350729094, 'subsample': 0.9808139688996323}\n",
      "Fitted\n",
      "Run time: 134.00 sec\n",
      "*****************\n",
      "\n",
      "*****************\n",
      "{'objective': 'binary:logistic', 'eval_metric': 'logloss', 'silent': 1, 'alpha': 0.0004479811746080291, 'colsample_bylevel': 0.6315689974222569, 'colsample_bytree': 0.9316201773667658, 'eta': 0.002545882095400699, 'gamma': 0.04972120061202124, 'lambdax': 0.20391368267046275, 'max_depth': 3, 'min_child_weight': 0.18257301350729094, 'subsample': 0.9808139688996323}\n",
      "Fitted\n",
      "Run time: 132.52 sec\n",
      "*****************\n",
      "\n",
      "*****************\n",
      "{'objective': 'binary:logistic', 'eval_metric': 'logloss', 'silent': 1, 'alpha': 0.0004479811746080291, 'colsample_bylevel': 0.6315689974222569, 'colsample_bytree': 0.9316201773667658, 'eta': 0.002545882095400699, 'gamma': 0.04972120061202124, 'lambdax': 0.20391368267046275, 'max_depth': 3, 'min_child_weight': 0.18257301350729094, 'subsample': 0.9808139688996323}\n",
      "Fitted\n",
      "Run time: 152.35 sec\n",
      "*****************\n",
      "\n",
      "*****************\n",
      "{'objective': 'binary:logistic', 'eval_metric': 'logloss', 'silent': 1, 'alpha': 4.806374898951175e-07, 'colsample_bylevel': 0.5810235318247625, 'colsample_bytree': 0.8385419578737139, 'eta': 0.003866501961974733, 'gamma': 0.43996654273510993, 'lambdax': 7.757355854225867e-05, 'max_depth': 7, 'min_child_weight': 0.12145837599387188, 'subsample': 0.8876959467169123}\n",
      "Fitted\n",
      "Run time: 497.86 sec\n",
      "*****************\n",
      "\n",
      "*****************\n",
      "{'objective': 'binary:logistic', 'eval_metric': 'logloss', 'silent': 1, 'alpha': 4.806374898951175e-07, 'colsample_bylevel': 0.5810235318247625, 'colsample_bytree': 0.8385419578737139, 'eta': 0.003866501961974733, 'gamma': 0.43996654273510993, 'lambdax': 7.757355854225867e-05, 'max_depth': 7, 'min_child_weight': 0.12145837599387188, 'subsample': 0.8876959467169123}\n",
      "Fitted\n",
      "Run time: 517.09 sec\n",
      "*****************\n",
      "\n",
      "*****************\n",
      "{'objective': 'binary:logistic', 'eval_metric': 'logloss', 'silent': 1, 'alpha': 4.806374898951175e-07, 'colsample_bylevel': 0.5810235318247625, 'colsample_bytree': 0.8385419578737139, 'eta': 0.003866501961974733, 'gamma': 0.43996654273510993, 'lambdax': 7.757355854225867e-05, 'max_depth': 7, 'min_child_weight': 0.12145837599387188, 'subsample': 0.8876959467169123}\n",
      "Fitted\n",
      "Run time: 501.45 sec\n",
      "*****************\n",
      "\n",
      "*****************\n",
      "{'objective': 'binary:logistic', 'eval_metric': 'logloss', 'silent': 1, 'alpha': 0.004741521176129731, 'colsample_bylevel': 0.8818472759200958, 'colsample_bytree': 0.9939947604603538, 'eta': 0.001587240928810881, 'gamma': 0.22705884754115133, 'lambdax': 0.00025803205474735026, 'max_depth': 2, 'min_child_weight': 93.21630477947812, 'subsample': 0.7626602510720346}\n",
      "Fitted\n",
      "Run time: 116.92 sec\n",
      "*****************\n",
      "\n",
      "*****************\n",
      "{'objective': 'binary:logistic', 'eval_metric': 'logloss', 'silent': 1, 'alpha': 0.004741521176129731, 'colsample_bylevel': 0.8818472759200958, 'colsample_bytree': 0.9939947604603538, 'eta': 0.001587240928810881, 'gamma': 0.22705884754115133, 'lambdax': 0.00025803205474735026, 'max_depth': 2, 'min_child_weight': 93.21630477947812, 'subsample': 0.7626602510720346}\n",
      "Fitted\n",
      "Run time: 122.72 sec\n",
      "*****************\n",
      "\n",
      "*****************\n",
      "{'objective': 'binary:logistic', 'eval_metric': 'logloss', 'silent': 1, 'alpha': 0.004741521176129731, 'colsample_bylevel': 0.8818472759200958, 'colsample_bytree': 0.9939947604603538, 'eta': 0.001587240928810881, 'gamma': 0.22705884754115133, 'lambdax': 0.00025803205474735026, 'max_depth': 2, 'min_child_weight': 93.21630477947812, 'subsample': 0.7626602510720346}\n",
      "Fitted\n",
      "Run time: 118.39 sec\n",
      "*****************\n",
      "\n",
      "*****************\n",
      "{'objective': 'binary:logistic', 'eval_metric': 'logloss', 'silent': 1, 'alpha': 2.372902328775129e-05, 'colsample_bylevel': 0.6728939997407932, 'colsample_bytree': 0.7342366562253853, 'eta': 0.007150226032011635, 'gamma': 2.2980171601431927, 'lambdax': 1.634113524934871e-05, 'max_depth': 7, 'min_child_weight': 49.8397288982584, 'subsample': 0.7470977351429734}\n",
      "Fitted\n",
      "Run time: 73.02 sec\n",
      "*****************\n",
      "\n",
      "*****************\n",
      "{'objective': 'binary:logistic', 'eval_metric': 'logloss', 'silent': 1, 'alpha': 2.372902328775129e-05, 'colsample_bylevel': 0.6728939997407932, 'colsample_bytree': 0.7342366562253853, 'eta': 0.007150226032011635, 'gamma': 2.2980171601431927, 'lambdax': 1.634113524934871e-05, 'max_depth': 7, 'min_child_weight': 49.8397288982584, 'subsample': 0.7470977351429734}\n",
      "Fitted\n",
      "Run time: 61.20 sec\n",
      "*****************\n",
      "\n",
      "*****************\n",
      "{'objective': 'binary:logistic', 'eval_metric': 'logloss', 'silent': 1, 'alpha': 2.372902328775129e-05, 'colsample_bylevel': 0.6728939997407932, 'colsample_bytree': 0.7342366562253853, 'eta': 0.007150226032011635, 'gamma': 2.2980171601431927, 'lambdax': 1.634113524934871e-05, 'max_depth': 7, 'min_child_weight': 49.8397288982584, 'subsample': 0.7470977351429734}\n",
      "Fitted\n",
      "Run time: 55.72 sec\n",
      "*****************\n",
      "\n",
      "*****************\n",
      "{'objective': 'binary:logistic', 'eval_metric': 'logloss', 'silent': 1, 'alpha': 1.5599178988674691, 'colsample_bylevel': 0.6493750012938067, 'colsample_bytree': 0.7610737100889333, 'eta': 0.028054219550427698, 'gamma': 5.03010626704926e-05, 'lambdax': 6.20562968857463, 'max_depth': 7, 'min_child_weight': 3.285866805039281e-05, 'subsample': 0.5832915749057157}\n",
      "Fitted\n",
      "Run time: 520.71 sec\n",
      "*****************\n",
      "\n",
      "*****************\n",
      "{'objective': 'binary:logistic', 'eval_metric': 'logloss', 'silent': 1, 'alpha': 1.5599178988674691, 'colsample_bylevel': 0.6493750012938067, 'colsample_bytree': 0.7610737100889333, 'eta': 0.028054219550427698, 'gamma': 5.03010626704926e-05, 'lambdax': 6.20562968857463, 'max_depth': 7, 'min_child_weight': 3.285866805039281e-05, 'subsample': 0.5832915749057157}\n",
      "Fitted\n",
      "Run time: 534.69 sec\n",
      "*****************\n",
      "\n",
      "*****************\n",
      "{'objective': 'binary:logistic', 'eval_metric': 'logloss', 'silent': 1, 'alpha': 1.5599178988674691, 'colsample_bylevel': 0.6493750012938067, 'colsample_bytree': 0.7610737100889333, 'eta': 0.028054219550427698, 'gamma': 5.03010626704926e-05, 'lambdax': 6.20562968857463, 'max_depth': 7, 'min_child_weight': 3.285866805039281e-05, 'subsample': 0.5832915749057157}\n",
      "Fitted\n",
      "Run time: 528.73 sec\n",
      "*****************\n",
      "\n",
      "*****************\n",
      "{'objective': 'binary:logistic', 'eval_metric': 'logloss', 'silent': 1, 'alpha': 0.5266630532920237, 'colsample_bylevel': 0.8501088496025045, 'colsample_bytree': 0.5407911538722618, 'eta': 0.012200181880343818, 'gamma': 1.3173109709471447, 'lambdax': 0.06827159829356891, 'max_depth': 4, 'min_child_weight': 12.8515207605949, 'subsample': 0.7817895865743114}\n",
      "Fitted\n",
      "Run time: 26.95 sec\n",
      "*****************\n",
      "\n",
      "*****************\n",
      "{'objective': 'binary:logistic', 'eval_metric': 'logloss', 'silent': 1, 'alpha': 0.5266630532920237, 'colsample_bylevel': 0.8501088496025045, 'colsample_bytree': 0.5407911538722618, 'eta': 0.012200181880343818, 'gamma': 1.3173109709471447, 'lambdax': 0.06827159829356891, 'max_depth': 4, 'min_child_weight': 12.8515207605949, 'subsample': 0.7817895865743114}\n"
     ]
    },
    {
     "name": "stdout",
     "output_type": "stream",
     "text": [
      "Fitted\n",
      "Run time: 33.15 sec\n",
      "*****************\n",
      "\n",
      "*****************\n",
      "{'objective': 'binary:logistic', 'eval_metric': 'logloss', 'silent': 1, 'alpha': 0.5266630532920237, 'colsample_bylevel': 0.8501088496025045, 'colsample_bytree': 0.5407911538722618, 'eta': 0.012200181880343818, 'gamma': 1.3173109709471447, 'lambdax': 0.06827159829356891, 'max_depth': 4, 'min_child_weight': 12.8515207605949, 'subsample': 0.7817895865743114}\n",
      "Fitted\n",
      "Run time: 31.01 sec\n",
      "*****************\n",
      "\n",
      "*****************\n",
      "{'objective': 'binary:logistic', 'eval_metric': 'logloss', 'silent': 1, 'alpha': 4.7152128041955135e-06, 'colsample_bylevel': 0.9279900935906334, 'colsample_bytree': 0.9435719124280502, 'eta': 0.13224092228466736, 'gamma': 0.0008417313123282534, 'lambdax': 2.7790018751279317e-05, 'max_depth': 7, 'min_child_weight': 0.8111391845686768, 'subsample': 0.5105067612146056}\n",
      "Fitted\n",
      "Run time: 649.38 sec\n",
      "*****************\n",
      "\n",
      "*****************\n",
      "{'objective': 'binary:logistic', 'eval_metric': 'logloss', 'silent': 1, 'alpha': 4.7152128041955135e-06, 'colsample_bylevel': 0.9279900935906334, 'colsample_bytree': 0.9435719124280502, 'eta': 0.13224092228466736, 'gamma': 0.0008417313123282534, 'lambdax': 2.7790018751279317e-05, 'max_depth': 7, 'min_child_weight': 0.8111391845686768, 'subsample': 0.5105067612146056}\n",
      "Fitted\n",
      "Run time: 672.66 sec\n",
      "*****************\n",
      "\n",
      "*****************\n",
      "{'objective': 'binary:logistic', 'eval_metric': 'logloss', 'silent': 1, 'alpha': 4.7152128041955135e-06, 'colsample_bylevel': 0.9279900935906334, 'colsample_bytree': 0.9435719124280502, 'eta': 0.13224092228466736, 'gamma': 0.0008417313123282534, 'lambdax': 2.7790018751279317e-05, 'max_depth': 7, 'min_child_weight': 0.8111391845686768, 'subsample': 0.5105067612146056}\n",
      "Fitted\n",
      "Run time: 655.46 sec\n",
      "*****************\n",
      "\n",
      "*****************\n",
      "{'objective': 'binary:logistic', 'eval_metric': 'logloss', 'silent': 1, 'alpha': 0.0007154848893305752, 'colsample_bylevel': 0.5397223764345612, 'colsample_bytree': 0.7048043023344397, 'eta': 0.32846452247262564, 'gamma': 1.2685867527090961e-07, 'lambdax': 2.2448223574652583e-07, 'max_depth': 4, 'min_child_weight': 5.381360014101927, 'subsample': 0.6908610482653925}\n",
      "Fitted\n",
      "Run time: 125.06 sec\n",
      "*****************\n",
      "\n",
      "*****************\n",
      "{'objective': 'binary:logistic', 'eval_metric': 'logloss', 'silent': 1, 'alpha': 0.0007154848893305752, 'colsample_bylevel': 0.5397223764345612, 'colsample_bytree': 0.7048043023344397, 'eta': 0.32846452247262564, 'gamma': 1.2685867527090961e-07, 'lambdax': 2.2448223574652583e-07, 'max_depth': 4, 'min_child_weight': 5.381360014101927, 'subsample': 0.6908610482653925}\n",
      "Fitted\n",
      "Run time: 112.18 sec\n",
      "*****************\n",
      "\n",
      "*****************\n",
      "{'objective': 'binary:logistic', 'eval_metric': 'logloss', 'silent': 1, 'alpha': 0.0007154848893305752, 'colsample_bylevel': 0.5397223764345612, 'colsample_bytree': 0.7048043023344397, 'eta': 0.32846452247262564, 'gamma': 1.2685867527090961e-07, 'lambdax': 2.2448223574652583e-07, 'max_depth': 4, 'min_child_weight': 5.381360014101927, 'subsample': 0.6908610482653925}\n",
      "Fitted\n",
      "Run time: 120.30 sec\n",
      "*****************\n",
      "\n",
      "*****************\n",
      "{'objective': 'binary:logistic', 'eval_metric': 'logloss', 'silent': 1, 'alpha': 1.557639701037909e-06, 'colsample_bylevel': 0.9653400812581303, 'colsample_bytree': 0.5799770783772904, 'eta': 0.3847908669217927, 'gamma': 0.16291406031778694, 'lambdax': 2.3286374270358043e-05, 'max_depth': 10, 'min_child_weight': 2.875610818144554e-07, 'subsample': 0.9259075598807411}\n",
      "Fitted\n",
      "Run time: 951.42 sec\n",
      "*****************\n",
      "\n",
      "*****************\n",
      "{'objective': 'binary:logistic', 'eval_metric': 'logloss', 'silent': 1, 'alpha': 1.557639701037909e-06, 'colsample_bylevel': 0.9653400812581303, 'colsample_bytree': 0.5799770783772904, 'eta': 0.3847908669217927, 'gamma': 0.16291406031778694, 'lambdax': 2.3286374270358043e-05, 'max_depth': 10, 'min_child_weight': 2.875610818144554e-07, 'subsample': 0.9259075598807411}\n",
      "Fitted\n",
      "Run time: 986.32 sec\n",
      "*****************\n",
      "\n",
      "*****************\n",
      "{'objective': 'binary:logistic', 'eval_metric': 'logloss', 'silent': 1, 'alpha': 1.557639701037909e-06, 'colsample_bylevel': 0.9653400812581303, 'colsample_bytree': 0.5799770783772904, 'eta': 0.3847908669217927, 'gamma': 0.16291406031778694, 'lambdax': 2.3286374270358043e-05, 'max_depth': 10, 'min_child_weight': 2.875610818144554e-07, 'subsample': 0.9259075598807411}\n",
      "Fitted\n",
      "Run time: 952.94 sec\n",
      "*****************\n",
      "\n",
      "*****************\n",
      "{'objective': 'binary:logistic', 'eval_metric': 'logloss', 'silent': 1, 'alpha': 0.33509208817424085, 'colsample_bylevel': 0.7507529623248148, 'colsample_bytree': 0.6871838973798002, 'eta': 0.0017092291344731729, 'gamma': 9.130220690270673e-06, 'lambdax': 0.00010007520641319732, 'max_depth': 3, 'min_child_weight': 3.192052412798455e-05, 'subsample': 0.8170985324313624}\n",
      "Fitted\n",
      "Run time: 73.08 sec\n",
      "*****************\n",
      "\n",
      "*****************\n",
      "{'objective': 'binary:logistic', 'eval_metric': 'logloss', 'silent': 1, 'alpha': 0.33509208817424085, 'colsample_bylevel': 0.7507529623248148, 'colsample_bytree': 0.6871838973798002, 'eta': 0.0017092291344731729, 'gamma': 9.130220690270673e-06, 'lambdax': 0.00010007520641319732, 'max_depth': 3, 'min_child_weight': 3.192052412798455e-05, 'subsample': 0.8170985324313624}\n",
      "Fitted\n",
      "Run time: 67.00 sec\n",
      "*****************\n",
      "\n",
      "*****************\n",
      "{'objective': 'binary:logistic', 'eval_metric': 'logloss', 'silent': 1, 'alpha': 0.33509208817424085, 'colsample_bylevel': 0.7507529623248148, 'colsample_bytree': 0.6871838973798002, 'eta': 0.0017092291344731729, 'gamma': 9.130220690270673e-06, 'lambdax': 0.00010007520641319732, 'max_depth': 3, 'min_child_weight': 3.192052412798455e-05, 'subsample': 0.8170985324313624}\n",
      "Fitted\n",
      "Run time: 71.56 sec\n",
      "*****************\n",
      "\n",
      "*****************\n",
      "{'objective': 'binary:logistic', 'eval_metric': 'logloss', 'silent': 1, 'alpha': 3.86325458060099e-07, 'colsample_bylevel': 0.6787933776552888, 'colsample_bytree': 0.8772795295486776, 'eta': 0.10568841636310605, 'gamma': 2.3452327651158816e-07, 'lambdax': 2.127295450298486, 'max_depth': 7, 'min_child_weight': 0.00019554323722355163, 'subsample': 0.9066274853445584}\n",
      "Fitted\n",
      "Run time: 457.04 sec\n",
      "*****************\n",
      "\n",
      "*****************\n",
      "{'objective': 'binary:logistic', 'eval_metric': 'logloss', 'silent': 1, 'alpha': 3.86325458060099e-07, 'colsample_bylevel': 0.6787933776552888, 'colsample_bytree': 0.8772795295486776, 'eta': 0.10568841636310605, 'gamma': 2.3452327651158816e-07, 'lambdax': 2.127295450298486, 'max_depth': 7, 'min_child_weight': 0.00019554323722355163, 'subsample': 0.9066274853445584}\n",
      "Fitted\n",
      "Run time: 430.76 sec\n",
      "*****************\n",
      "\n",
      "*****************\n",
      "{'objective': 'binary:logistic', 'eval_metric': 'logloss', 'silent': 1, 'alpha': 3.86325458060099e-07, 'colsample_bylevel': 0.6787933776552888, 'colsample_bytree': 0.8772795295486776, 'eta': 0.10568841636310605, 'gamma': 2.3452327651158816e-07, 'lambdax': 2.127295450298486, 'max_depth': 7, 'min_child_weight': 0.00019554323722355163, 'subsample': 0.9066274853445584}\n",
      "Fitted\n",
      "Run time: 448.54 sec\n",
      "*****************\n",
      "\n",
      "*****************\n",
      "{'objective': 'binary:logistic', 'eval_metric': 'logloss', 'silent': 1, 'alpha': 6.824629624277283, 'colsample_bylevel': 0.953245689692757, 'colsample_bytree': 0.6568405397249981, 'eta': 0.023227946677727103, 'gamma': 3.0458526334864373e-05, 'lambdax': 0.00048080664138760656, 'max_depth': 4, 'min_child_weight': 0.021500229161636145, 'subsample': 0.5792935467176259}\n",
      "Fitted\n",
      "Run time: 302.11 sec\n",
      "*****************\n",
      "\n",
      "*****************\n",
      "{'objective': 'binary:logistic', 'eval_metric': 'logloss', 'silent': 1, 'alpha': 6.824629624277283, 'colsample_bylevel': 0.953245689692757, 'colsample_bytree': 0.6568405397249981, 'eta': 0.023227946677727103, 'gamma': 3.0458526334864373e-05, 'lambdax': 0.00048080664138760656, 'max_depth': 4, 'min_child_weight': 0.021500229161636145, 'subsample': 0.5792935467176259}\n",
      "Fitted\n",
      "Run time: 296.85 sec\n",
      "*****************\n",
      "\n",
      "*****************\n",
      "{'objective': 'binary:logistic', 'eval_metric': 'logloss', 'silent': 1, 'alpha': 6.824629624277283, 'colsample_bylevel': 0.953245689692757, 'colsample_bytree': 0.6568405397249981, 'eta': 0.023227946677727103, 'gamma': 3.0458526334864373e-05, 'lambdax': 0.00048080664138760656, 'max_depth': 4, 'min_child_weight': 0.021500229161636145, 'subsample': 0.5792935467176259}\n"
     ]
    },
    {
     "name": "stdout",
     "output_type": "stream",
     "text": [
      "Fitted\n",
      "Run time: 293.30 sec\n",
      "*****************\n",
      "\n",
      "*****************\n",
      "{'objective': 'binary:logistic', 'eval_metric': 'logloss', 'silent': 1, 'alpha': 1.6734180712199367, 'colsample_bylevel': 0.5591720939529441, 'colsample_bytree': 0.9713187137750563, 'eta': 0.021568840958935385, 'gamma': 1.6790803945216707e-05, 'lambdax': 0.0006856589442396446, 'max_depth': 6, 'min_child_weight': 1.5687261964906782e-07, 'subsample': 0.8588287679243385}\n",
      "Fitted\n",
      "Run time: 170.27 sec\n",
      "*****************\n",
      "\n",
      "*****************\n",
      "{'objective': 'binary:logistic', 'eval_metric': 'logloss', 'silent': 1, 'alpha': 1.6734180712199367, 'colsample_bylevel': 0.5591720939529441, 'colsample_bytree': 0.9713187137750563, 'eta': 0.021568840958935385, 'gamma': 1.6790803945216707e-05, 'lambdax': 0.0006856589442396446, 'max_depth': 6, 'min_child_weight': 1.5687261964906782e-07, 'subsample': 0.8588287679243385}\n",
      "Fitted\n",
      "Run time: 183.17 sec\n",
      "*****************\n",
      "\n",
      "*****************\n",
      "{'objective': 'binary:logistic', 'eval_metric': 'logloss', 'silent': 1, 'alpha': 1.6734180712199367, 'colsample_bylevel': 0.5591720939529441, 'colsample_bytree': 0.9713187137750563, 'eta': 0.021568840958935385, 'gamma': 1.6790803945216707e-05, 'lambdax': 0.0006856589442396446, 'max_depth': 6, 'min_child_weight': 1.5687261964906782e-07, 'subsample': 0.8588287679243385}\n",
      "Fitted\n",
      "Run time: 179.95 sec\n",
      "*****************\n",
      "\n",
      "*****************\n",
      "{'objective': 'binary:logistic', 'eval_metric': 'logloss', 'silent': 1, 'alpha': 0.004644980706951142, 'colsample_bylevel': 0.7272216473505924, 'colsample_bytree': 0.9216532993333868, 'eta': 0.035634788284453274, 'gamma': 0.062343829433226874, 'lambdax': 0.0010419488845544523, 'max_depth': 4, 'min_child_weight': 7.429570595666906, 'subsample': 0.962803144749071}\n",
      "Fitted\n",
      "Run time: 63.76 sec\n",
      "*****************\n",
      "\n",
      "*****************\n",
      "{'objective': 'binary:logistic', 'eval_metric': 'logloss', 'silent': 1, 'alpha': 0.004644980706951142, 'colsample_bylevel': 0.7272216473505924, 'colsample_bytree': 0.9216532993333868, 'eta': 0.035634788284453274, 'gamma': 0.062343829433226874, 'lambdax': 0.0010419488845544523, 'max_depth': 4, 'min_child_weight': 7.429570595666906, 'subsample': 0.962803144749071}\n",
      "Fitted\n",
      "Run time: 71.22 sec\n",
      "*****************\n",
      "\n",
      "*****************\n",
      "{'objective': 'binary:logistic', 'eval_metric': 'logloss', 'silent': 1, 'alpha': 0.004644980706951142, 'colsample_bylevel': 0.7272216473505924, 'colsample_bytree': 0.9216532993333868, 'eta': 0.035634788284453274, 'gamma': 0.062343829433226874, 'lambdax': 0.0010419488845544523, 'max_depth': 4, 'min_child_weight': 7.429570595666906, 'subsample': 0.962803144749071}\n",
      "Fitted\n",
      "Run time: 66.99 sec\n",
      "*****************\n",
      "\n",
      "*****************\n",
      "{'objective': 'binary:logistic', 'eval_metric': 'logloss', 'silent': 1, 'alpha': 3.104407821421147e-05, 'colsample_bylevel': 0.888713429411184, 'colsample_bytree': 0.5938809405220014, 'eta': 0.006396610885415471, 'gamma': 0.012884266344962179, 'lambdax': 0.941893829439234, 'max_depth': 5, 'min_child_weight': 0.30609874685576094, 'subsample': 0.5902641448361923}\n",
      "Fitted\n",
      "Run time: 336.44 sec\n",
      "*****************\n",
      "\n",
      "*****************\n",
      "{'objective': 'binary:logistic', 'eval_metric': 'logloss', 'silent': 1, 'alpha': 3.104407821421147e-05, 'colsample_bylevel': 0.888713429411184, 'colsample_bytree': 0.5938809405220014, 'eta': 0.006396610885415471, 'gamma': 0.012884266344962179, 'lambdax': 0.941893829439234, 'max_depth': 5, 'min_child_weight': 0.30609874685576094, 'subsample': 0.5902641448361923}\n",
      "Fitted\n",
      "Run time: 322.95 sec\n",
      "*****************\n",
      "\n",
      "*****************\n",
      "{'objective': 'binary:logistic', 'eval_metric': 'logloss', 'silent': 1, 'alpha': 3.104407821421147e-05, 'colsample_bylevel': 0.888713429411184, 'colsample_bytree': 0.5938809405220014, 'eta': 0.006396610885415471, 'gamma': 0.012884266344962179, 'lambdax': 0.941893829439234, 'max_depth': 5, 'min_child_weight': 0.30609874685576094, 'subsample': 0.5902641448361923}\n",
      "Fitted\n",
      "Run time: 347.06 sec\n",
      "*****************\n",
      "\n",
      "*****************\n",
      "{'objective': 'binary:logistic', 'eval_metric': 'logloss', 'silent': 1, 'alpha': 0.0009883987364806292, 'colsample_bylevel': 0.5709096076755348, 'colsample_bytree': 0.9966476723816926, 'eta': 0.0014719669261491729, 'gamma': 0.00025767263069534564, 'lambdax': 0.00259626912813605, 'max_depth': 3, 'min_child_weight': 58.64932901329269, 'subsample': 0.9841669422181945}\n",
      "Fitted\n",
      "Run time: 155.69 sec\n",
      "*****************\n",
      "\n",
      "*****************\n",
      "{'objective': 'binary:logistic', 'eval_metric': 'logloss', 'silent': 1, 'alpha': 0.0009883987364806292, 'colsample_bylevel': 0.5709096076755348, 'colsample_bytree': 0.9966476723816926, 'eta': 0.0014719669261491729, 'gamma': 0.00025767263069534564, 'lambdax': 0.00259626912813605, 'max_depth': 3, 'min_child_weight': 58.64932901329269, 'subsample': 0.9841669422181945}\n",
      "Fitted\n",
      "Run time: 162.68 sec\n",
      "*****************\n",
      "\n",
      "*****************\n",
      "{'objective': 'binary:logistic', 'eval_metric': 'logloss', 'silent': 1, 'alpha': 0.0009883987364806292, 'colsample_bylevel': 0.5709096076755348, 'colsample_bytree': 0.9966476723816926, 'eta': 0.0014719669261491729, 'gamma': 0.00025767263069534564, 'lambdax': 0.00259626912813605, 'max_depth': 3, 'min_child_weight': 58.64932901329269, 'subsample': 0.9841669422181945}\n",
      "Fitted\n",
      "Run time: 163.53 sec\n",
      "*****************\n",
      "\n",
      "*****************\n",
      "{'objective': 'binary:logistic', 'eval_metric': 'logloss', 'silent': 1, 'alpha': 1.4248541642102736e-07, 'colsample_bylevel': 0.9531508369213317, 'colsample_bytree': 0.9131565758776345, 'eta': 0.6382140982818642, 'gamma': 9.510560981787295e-05, 'lambdax': 5.066491241114501e-07, 'max_depth': 7, 'min_child_weight': 6.958069026389537e-06, 'subsample': 0.9270515075192982}\n",
      "Fitted\n",
      "Run time: 609.14 sec\n",
      "*****************\n",
      "\n",
      "*****************\n",
      "{'objective': 'binary:logistic', 'eval_metric': 'logloss', 'silent': 1, 'alpha': 1.4248541642102736e-07, 'colsample_bylevel': 0.9531508369213317, 'colsample_bytree': 0.9131565758776345, 'eta': 0.6382140982818642, 'gamma': 9.510560981787295e-05, 'lambdax': 5.066491241114501e-07, 'max_depth': 7, 'min_child_weight': 6.958069026389537e-06, 'subsample': 0.9270515075192982}\n",
      "Fitted\n",
      "Run time: 627.03 sec\n",
      "*****************\n",
      "\n",
      "*****************\n",
      "{'objective': 'binary:logistic', 'eval_metric': 'logloss', 'silent': 1, 'alpha': 1.4248541642102736e-07, 'colsample_bylevel': 0.9531508369213317, 'colsample_bytree': 0.9131565758776345, 'eta': 0.6382140982818642, 'gamma': 9.510560981787295e-05, 'lambdax': 5.066491241114501e-07, 'max_depth': 7, 'min_child_weight': 6.958069026389537e-06, 'subsample': 0.9270515075192982}\n",
      "Fitted\n",
      "Run time: 609.00 sec\n",
      "*****************\n",
      "\n",
      "*****************\n",
      "{'objective': 'binary:logistic', 'eval_metric': 'logloss', 'silent': 1, 'alpha': 0.00011973637387084637, 'colsample_bylevel': 0.9975364150287053, 'colsample_bytree': 0.9584980197126227, 'eta': 0.0010089366104444474, 'gamma': 0.0002654698803143075, 'lambdax': 1.7825089523906741e-07, 'max_depth': 7, 'min_child_weight': 78.47205532485317, 'subsample': 0.7992613345120143}\n",
      "Fitted\n",
      "Run time: 803.17 sec\n",
      "*****************\n",
      "\n",
      "*****************\n",
      "{'objective': 'binary:logistic', 'eval_metric': 'logloss', 'silent': 1, 'alpha': 0.00011973637387084637, 'colsample_bylevel': 0.9975364150287053, 'colsample_bytree': 0.9584980197126227, 'eta': 0.0010089366104444474, 'gamma': 0.0002654698803143075, 'lambdax': 1.7825089523906741e-07, 'max_depth': 7, 'min_child_weight': 78.47205532485317, 'subsample': 0.7992613345120143}\n",
      "Fitted\n",
      "Run time: 786.78 sec\n",
      "*****************\n",
      "\n",
      "*****************\n",
      "{'objective': 'binary:logistic', 'eval_metric': 'logloss', 'silent': 1, 'alpha': 0.00011973637387084637, 'colsample_bylevel': 0.9975364150287053, 'colsample_bytree': 0.9584980197126227, 'eta': 0.0010089366104444474, 'gamma': 0.0002654698803143075, 'lambdax': 1.7825089523906741e-07, 'max_depth': 7, 'min_child_weight': 78.47205532485317, 'subsample': 0.7992613345120143}\n",
      "Fitted\n",
      "Run time: 794.24 sec\n",
      "*****************\n",
      "\n",
      "*****************\n",
      "{'objective': 'binary:logistic', 'eval_metric': 'logloss', 'silent': 1, 'alpha': 0.00016144829044243314, 'colsample_bylevel': 0.6415407007137599, 'colsample_bytree': 0.6260118276458179, 'eta': 0.2566057469527923, 'gamma': 0.13046781661805523, 'lambdax': 0.00024131160993218334, 'max_depth': 8, 'min_child_weight': 0.03868670859352842, 'subsample': 0.6787141304711013}\n"
     ]
    },
    {
     "name": "stdout",
     "output_type": "stream",
     "text": [
      "Fitted\n",
      "Run time: 301.03 sec\n",
      "*****************\n",
      "\n",
      "*****************\n",
      "{'objective': 'binary:logistic', 'eval_metric': 'logloss', 'silent': 1, 'alpha': 0.00016144829044243314, 'colsample_bylevel': 0.6415407007137599, 'colsample_bytree': 0.6260118276458179, 'eta': 0.2566057469527923, 'gamma': 0.13046781661805523, 'lambdax': 0.00024131160993218334, 'max_depth': 8, 'min_child_weight': 0.03868670859352842, 'subsample': 0.6787141304711013}\n",
      "Fitted\n",
      "Run time: 296.93 sec\n",
      "*****************\n",
      "\n",
      "*****************\n",
      "{'objective': 'binary:logistic', 'eval_metric': 'logloss', 'silent': 1, 'alpha': 0.00016144829044243314, 'colsample_bylevel': 0.6415407007137599, 'colsample_bytree': 0.6260118276458179, 'eta': 0.2566057469527923, 'gamma': 0.13046781661805523, 'lambdax': 0.00024131160993218334, 'max_depth': 8, 'min_child_weight': 0.03868670859352842, 'subsample': 0.6787141304711013}\n",
      "Fitted\n",
      "Run time: 302.32 sec\n",
      "*****************\n",
      "\n",
      "CPU times: user 2d 12h 9min 54s, sys: 9h 21min 37s, total: 2d 21h 31min 32s\n",
      "Wall time: 5h 25min 36s\n"
     ]
    }
   ],
   "source": [
    "%%time\n",
    "trainer.crossval_optimize_params(RocAuc(), dataset, metrics=[Accuracy(), RocAuc(), F1()], verbose=True,\n",
    "                                 cv=3, opt_evals=20)"
   ]
  },
  {
   "cell_type": "markdown",
   "metadata": {},
   "source": [
    "Результаты"
   ]
  },
  {
   "cell_type": "code",
   "execution_count": 8,
   "metadata": {
    "collapsed": true
   },
   "outputs": [],
   "source": [
    "reporter = Report(trainer.get_best_results(), dataset, [Accuracy(), RocAuc(), F1()])"
   ]
  },
  {
   "cell_type": "code",
   "execution_count": 9,
   "metadata": {},
   "outputs": [
    {
     "name": "stdout",
     "output_type": "stream",
     "text": [
      "\n",
      "~~~~~~~~~~~~~~~~~~~~~~~~~~~~~~~~~~~~~~~~~~~~~~    accuracy    ~~~~~~~~~~~~~~~~~~~~~~~~~~~~~~~~~~~~~~~~~~~~~~~\n",
      "\n",
      "                           tuned\n",
      "XGBClassifier  0.739445 (-0.00%)\n",
      "\n",
      "~~~~~~~~~~~~~~~~~~~~~~~~~~~~~~~~~~~~~~~~~~~~~~~    roc_auc    ~~~~~~~~~~~~~~~~~~~~~~~~~~~~~~~~~~~~~~~~~~~~~~~\n",
      "\n",
      "                           tuned\n",
      "XGBClassifier  0.821695 (+0.00%)\n",
      "\n",
      "~~~~~~~~~~~~~~~~~~~~~~~~~~~~~~~~~~~~~~~~~~~~~~    f1_score    ~~~~~~~~~~~~~~~~~~~~~~~~~~~~~~~~~~~~~~~~~~~~~~~\n",
      "\n",
      "                           tuned\n",
      "XGBClassifier  0.737856 (+0.00%)\n"
     ]
    }
   ],
   "source": [
    "reporter.print_all_metric_results()"
   ]
  },
  {
   "cell_type": "code",
   "execution_count": 10,
   "metadata": {
    "scrolled": true
   },
   "outputs": [
    {
     "name": "stdout",
     "output_type": "stream",
     "text": [
      "\n",
      "~~~~~~~~~~~~~~~~~~~~~~~~~~~~~~~~~~~~~~~~~~~~~~    accuracy    ~~~~~~~~~~~~~~~~~~~~~~~~~~~~~~~~~~~~~~~~~~~~~~~\n",
      "\n"
     ]
    },
    {
     "data": {
      "image/png": "[encoded data removed]",
      "text/plain": [
       "<matplotlib.figure.Figure at 0x7f7b8fe8a470>"
      ]
     },
     "metadata": {},
     "output_type": "display_data"
    },
    {
     "name": "stdout",
     "output_type": "stream",
     "text": [
      "\n",
      "~~~~~~~~~~~~~~~~~~~~~~~~~~~~~~~~~~~~~~~~~~~~~~~    roc_auc    ~~~~~~~~~~~~~~~~~~~~~~~~~~~~~~~~~~~~~~~~~~~~~~~\n",
      "\n"
     ]
    },
    {
     "data": {
      "image/png": "[encoded data removed]",
      "text/plain": [
       "<matplotlib.figure.Figure at 0x7f7b8fdddbe0>"
      ]
     },
     "metadata": {},
     "output_type": "display_data"
    },
    {
     "name": "stdout",
     "output_type": "stream",
     "text": [
      "\n",
      "~~~~~~~~~~~~~~~~~~~~~~~~~~~~~~~~~~~~~~~~~~~~~~    f1_score    ~~~~~~~~~~~~~~~~~~~~~~~~~~~~~~~~~~~~~~~~~~~~~~~\n",
      "\n"
     ]
    },
    {
     "data": {
      "image/png": "[encoded data removed]",
      "text/plain": [
       "<matplotlib.figure.Figure at 0x7f7b8254e0f0>"
      ]
     },
     "metadata": {},
     "output_type": "display_data"
    }
   ],
   "source": [
    "reporter.plot_all_metrics()"
   ]
  },
  {
   "cell_type": "markdown",
   "metadata": {},
   "source": [
    "Вытащим значения оптимальных параметров"
   ]
  },
  {
   "cell_type": "code",
   "execution_count": 11,
   "metadata": {},
   "outputs": [
    {
     "data": {
      "text/plain": [
       "{'alpha': 3.86325458060099e-07,\n",
       " 'colsample_bylevel': 0.6787933776552888,\n",
       " 'colsample_bytree': 0.8772795295486776,\n",
       " 'eta': 0.10568841636310605,\n",
       " 'gamma': 2.3452327651158816e-07,\n",
       " 'lambdax': 2.127295450298486,\n",
       " 'max_depth': 7,\n",
       " 'min_child_weight': 0.00019554323722355163,\n",
       " 'n_estimators': 600,\n",
       " 'subsample': 0.9066274853445584}"
      ]
     },
     "execution_count": 11,
     "metadata": {},
     "output_type": "execute_result"
    }
   ],
   "source": [
    "trainer_log = trainer.state['XGBClassifier']\n",
    "opt_params = trainer_log.best_trial['result']['params']\n",
    "opt_params"
   ]
  },
  {
   "cell_type": "markdown",
   "metadata": {},
   "source": [
    "Сохраним эти значения"
   ]
  },
  {
   "cell_type": "code",
   "execution_count": 12,
   "metadata": {
    "collapsed": true
   },
   "outputs": [],
   "source": [
    "file_name = 'optimal_xgb_params.json'\n",
    "with open(file_name, 'w', encoding=\"utf-8\") as file:\n",
    "    # writing\n",
    "    json.dump(opt_params, file, indent=4, ensure_ascii=False)"
   ]
  },
  {
   "cell_type": "markdown",
   "metadata": {},
   "source": [
    "Загрузим значения"
   ]
  },
  {
   "cell_type": "code",
   "execution_count": 13,
   "metadata": {
    "collapsed": true
   },
   "outputs": [],
   "source": [
    "file_name = 'optimal_xgb_params.json'\n",
    "with open(file_name, 'r', encoding=\"utf-8\") as file:\n",
    "    opt_params = json.load(file)"
   ]
  },
  {
   "cell_type": "code",
   "execution_count": 14,
   "metadata": {},
   "outputs": [
    {
     "data": {
      "text/plain": [
       "{'alpha': 3.86325458060099e-07,\n",
       " 'colsample_bylevel': 0.6787933776552888,\n",
       " 'colsample_bytree': 0.8772795295486776,\n",
       " 'eta': 0.10568841636310605,\n",
       " 'gamma': 2.3452327651158816e-07,\n",
       " 'lambdax': 2.127295450298486,\n",
       " 'max_depth': 7,\n",
       " 'min_child_weight': 0.00019554323722355163,\n",
       " 'n_estimators': 600,\n",
       " 'subsample': 0.9066274853445584}"
      ]
     },
     "execution_count": 14,
     "metadata": {},
     "output_type": "execute_result"
    }
   ],
   "source": [
    "opt_params"
   ]
  },
  {
   "cell_type": "code",
   "execution_count": 15,
   "metadata": {},
   "outputs": [
    {
     "data": {
      "text/plain": [
       "{'alpha': 3.86325458060099e-07,\n",
       " 'colsample_bylevel': 0.6787933776552888,\n",
       " 'colsample_bytree': 0.8772795295486776,\n",
       " 'eta': 0.10568841636310605,\n",
       " 'gamma': 2.3452327651158816e-07,\n",
       " 'lambdax': 2.127295450298486,\n",
       " 'max_depth': 7,\n",
       " 'min_child_weight': 0.00019554323722355163,\n",
       " 'n_estimators': 600,\n",
       " 'subsample': 0.9066274853445584}"
      ]
     },
     "execution_count": 15,
     "metadata": {},
     "output_type": "execute_result"
    }
   ],
   "source": [
    "opt_params"
   ]
  },
  {
   "cell_type": "markdown",
   "metadata": {},
   "source": [
    "## Получим значения метрик XGB при оптимальных параметрах"
   ]
  },
  {
   "cell_type": "markdown",
   "metadata": {},
   "source": [
    "Выберем классификаторы"
   ]
  },
  {
   "cell_type": "code",
   "execution_count": 16,
   "metadata": {
    "collapsed": true
   },
   "outputs": [],
   "source": [
    "clf_name = \"XGB_opt\"\n",
    "clf = xgb.XGBClassifier(**opt_params, nthread=-1, seed=111)\n",
    "metrics_path = '../metrics/xgb_opt'\n",
    "\n",
    "metrics_dict = {\n",
    "    'pr_aucs' : {},\n",
    "    'roc_aucs' : {},\n",
    "    'p_at_r' : {\n",
    "        '0.8': {},\n",
    "        '0.9': {}, \n",
    "        '0.95': {},\n",
    "        '0.99': {},\n",
    "    }\n",
    "}"
   ]
  },
  {
   "cell_type": "markdown",
   "metadata": {},
   "source": [
    "Значения долей негативных примеров взял из Meeting minutes (29.03.2018)"
   ]
  },
  {
   "cell_type": "code",
   "execution_count": null,
   "metadata": {
    "collapsed": true
   },
   "outputs": [],
   "source": [
    "fraction_of_negative_used = np.array([0.001, 0.01, 0.1, 0.5, 1, 5, 10, 25, 100]) / 100.\n",
    "n_resplits = np.array([20, 20, 20, 20, 4, 4, 4, 4, 4])\n",
    "n_evals_for_frac = np.zeros_like(fraction_of_negative_used)"
   ]
  },
  {
   "cell_type": "code",
   "execution_count": null,
   "metadata": {
    "scrolled": false
   },
   "outputs": [
    {
     "name": "stdout",
     "output_type": "stream",
     "text": [
      "Run time: 276.96 sec\n",
      "PR_AUC:  (0.0001, 0.5937748237889285)\n",
      "ROC_AUC:  (0.0001, 0.6052226766000001)\n",
      "clf_name:  XGB_opt\n",
      "n_evals_for_frac:  [16. 16. 15. 15.  4.  4.  4.  4.  4.]\n"
     ]
    },
    {
     "data": {
      "image/png": "[encoded data removed]",
      "text/plain": [
       "<matplotlib.figure.Figure at 0x7f7b8180a048>"
      ]
     },
     "metadata": {},
     "output_type": "display_data"
    },
    {
     "data": {
      "image/png": "[encoded data removed]",
      "text/plain": [
       "<matplotlib.figure.Figure at 0x7f7b82463748>"
      ]
     },
     "metadata": {},
     "output_type": "display_data"
    },
    {
     "data": {
      "image/png": "[encoded data removed]",
      "text/plain": [
       "<matplotlib.figure.Figure at 0x7f7b81517320>"
      ]
     },
     "metadata": {},
     "output_type": "display_data"
    },
    {
     "data": {
      "image/png": "[encoded data removed]",
      "text/plain": [
       "<matplotlib.figure.Figure at 0x7f7b815050f0>"
      ]
     },
     "metadata": {},
     "output_type": "display_data"
    },
    {
     "data": {
      "image/png": "[encoded data removed]",
      "text/plain": [
       "<matplotlib.figure.Figure at 0x7f7b81abb2e8>"
      ]
     },
     "metadata": {},
     "output_type": "display_data"
    },
    {
     "data": {
      "image/png": "[encoded data removed]",
      "text/plain": [
       "<matplotlib.figure.Figure at 0x7f7b81b5f828>"
      ]
     },
     "metadata": {},
     "output_type": "display_data"
    },
    {
     "name": "stderr",
     "output_type": "stream",
     "text": [
      "\r",
      "2it [07:06, 186.31s/it]"
     ]
    }
   ],
   "source": [
    "%%time\n",
    "while np.sum(n_resplits - n_evals_for_frac) > 0:\n",
    "    for i, frac in tqdm(enumerate(fraction_of_negative_used)):\n",
    "        if n_evals_for_frac[i] >= n_resplits[i]:\n",
    "            continue\n",
    "            \n",
    "        # prepare data\n",
    "        if frac > 1:\n",
    "            end_ind = X_good.shape[0]\n",
    "        else:   \n",
    "            end_ind = int(X_good.shape[0] * frac)\n",
    "            \n",
    "        idx = np.random.permutation(X_bad.shape[0])\n",
    "\n",
    "        # fit model and predict probas\n",
    "        start_time = timeit.default_timer()\n",
    "        clf.fit(np.concatenate((X_good, X_bad[idx[:end_ind]])), \n",
    "                np.concatenate((np.zeros((X_good.shape[0],1)), np.ones((end_ind,1)))).ravel()) \n",
    "        y_pred = clf.predict_proba(X_test)[:, 1]\n",
    "        run_time = timeit.default_timer() - start_time\n",
    "\n",
    "        # eval and save metrics\n",
    "        eval_metrics(y_test, y_pred, frac, metrics_dict, descr=clf_name)\n",
    "        dump_metrics(metrics_path, metrics_dict)\n",
    "        n_evals_for_frac[i] += 1\n",
    "\n",
    "        # print info\n",
    "        display.clear_output(wait=True)\n",
    "        print(\"Run time: {:.2f} sec\".format(run_time))\n",
    "        print(\"PR_AUC: \", metrics_dict['pr_aucs'][clf_name][-1])\n",
    "        print(\"ROC_AUC: \", metrics_dict['roc_aucs'][clf_name][-1])\n",
    "        print('clf_name: ', clf_name)\n",
    "        print('n_evals_for_frac: ', n_evals_for_frac)\n",
    "\n",
    "        # plot metrics\n",
    "        metric_boxplot(metrics_dict['pr_aucs'], ylabel='PR_AUC', ylim=(0.1, 0.9))\n",
    "        plt.show()\n",
    "        metric_boxplot(metrics_dict['roc_aucs'], ylabel='ROC_AUC', ylim=(0.1, 0.9))\n",
    "        plt.show()\n",
    "        for k in metrics_dict['p_at_r'].keys():\n",
    "            metric_boxplot(metrics_dict['p_at_r'][k], ylabel='P@R_' + str(k), ylim=(0.4, 0.9))\n",
    "            plt.show()"
   ]
  },
  {
   "cell_type": "code",
   "execution_count": null,
   "metadata": {
    "collapsed": true
   },
   "outputs": [],
   "source": []
  }
 ],
 "metadata": {
  "anaconda-cloud": {},
  "kernelspec": {
   "display_name": "Python 3",
   "language": "python",
   "name": "python3"
  },
  "language_info": {
   "codemirror_mode": {
    "name": "ipython",
    "version": 3
   },
   "file_extension": ".py",
   "mimetype": "text/x-python",
   "name": "python",
   "nbconvert_exporter": "python",
   "pygments_lexer": "ipython3",
   "version": "3.6.2"
  }
 },
 "nbformat": 4,
 "nbformat_minor": 1
}
