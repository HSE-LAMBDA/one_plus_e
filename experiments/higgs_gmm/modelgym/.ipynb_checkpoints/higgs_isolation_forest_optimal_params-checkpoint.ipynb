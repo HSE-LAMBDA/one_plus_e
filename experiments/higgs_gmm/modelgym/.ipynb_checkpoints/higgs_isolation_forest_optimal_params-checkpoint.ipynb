{
 "cells": [
  {
   "cell_type": "markdown",
   "metadata": {},
   "source": [
    "# Получение значений метрик"
   ]
  },
  {
   "cell_type": "code",
   "execution_count": 1,
   "metadata": {},
   "outputs": [
    {
     "name": "stderr",
     "output_type": "stream",
     "text": [
      "/opt/conda/anaconda3/lib/python3.6/importlib/_bootstrap.py:205: RuntimeWarning: compiletime version 3.4 of module '_catboost' does not match runtime version 3.6\n",
      "  return f(*args, **kwds)\n"
     ]
    }
   ],
   "source": [
    "import sys\n",
    "import json\n",
    "import timeit\n",
    "import numpy as np\n",
    "import matplotlib.pyplot as plt\n",
    "\n",
    "from tqdm import tqdm\n",
    "from IPython import display\n",
    "\n",
    "from modelgym.report import Report\n",
    "from modelgym.utils import XYCDataset\n",
    "from modelgym.trainers import TpeTrainer\n",
    "from modelgym.metrics import Accuracy, RocAuc, F1\n",
    "\n",
    "from sklearn.ensemble import IsolationForest\n",
    "from sklearn.svm import OneClassSVM\n",
    "\n",
    "sys.path.append('../../gmm_modules/')\n",
    "from data_preparation import get_train_test_data\n",
    "from metrics import metric_boxplot, eval_metrics, dump_metrics\n",
    "from modelgym_models import IsolationForestClassifier\n",
    "\n",
    "np.random.seed(10)\n",
    "%matplotlib inline"
   ]
  },
  {
   "cell_type": "markdown",
   "metadata": {},
   "source": [
    "## Подготовим данные"
   ]
  },
  {
   "cell_type": "code",
   "execution_count": 2,
   "metadata": {},
   "outputs": [
    {
     "name": "stdout",
     "output_type": "stream",
     "text": [
      "CPU times: user 3min 18s, sys: 17.5 s, total: 3min 35s\n",
      "Wall time: 3min 49s\n"
     ]
    }
   ],
   "source": [
    "%%time\n",
    "path_to_dataset = '../../../datasets/HIGGS.csv.gz'\n",
    "column_names = 'label, lepton pT, lepton eta, lepton phi, missing energy magnitude, missing energy phi, jet 1 pt, jet 1 eta, jet 1 phi, jet 1 b-tag, jet 2 pt, jet 2 eta, jet 2 phi, jet 2 b-tag, jet 3 pt, jet 3 eta, jet 3 phi, jet 3 b-tag, jet 4 pt, jet 4 eta, jet 4 phi, jet 4 b-tag, m_jj, m_jjj, m_lv, m_jlv, m_bb, m_wbb, m_wwbb'.split(', ')\n",
    "train_size = 400000\n",
    "test_size = 100000\n",
    "\n",
    "X_train, X_test, y_train, y_test = get_train_test_data(path_to_dataset, column_names, train_size, test_size)"
   ]
  },
  {
   "cell_type": "code",
   "execution_count": 3,
   "metadata": {
    "collapsed": true
   },
   "outputs": [],
   "source": [
    "# split X_train by class\n",
    "X_good = X_train[np.where(y_train==0)[0]]\n",
    "X_bad = X_train[np.where(y_train==1)[0]]  "
   ]
  },
  {
   "cell_type": "code",
   "execution_count": 4,
   "metadata": {},
   "outputs": [
    {
     "data": {
      "text/plain": [
       "((200000, 28), (200000, 28), (400000, 28), (100000, 28))"
      ]
     },
     "execution_count": 4,
     "metadata": {},
     "output_type": "execute_result"
    }
   ],
   "source": [
    "X_good.shape, X_bad.shape, X_train.shape, X_test.shape"
   ]
  },
  {
   "cell_type": "markdown",
   "metadata": {},
   "source": [
    "## Подберем IsolationForest с оптимальными параметрами"
   ]
  },
  {
   "cell_type": "code",
   "execution_count": null,
   "metadata": {
    "collapsed": true
   },
   "outputs": [],
   "source": []
  },
  {
   "cell_type": "markdown",
   "metadata": {},
   "source": [
    "Создаем классификатор и trainer для подбора оптимальных параметров"
   ]
  },
  {
   "cell_type": "code",
   "execution_count": 5,
   "metadata": {
    "collapsed": true
   },
   "outputs": [],
   "source": [
    "models = [IsolationForestClassifier]\n",
    "trainer = TpeTrainer(models)"
   ]
  },
  {
   "cell_type": "markdown",
   "metadata": {},
   "source": [
    "Обертка для данных"
   ]
  },
  {
   "cell_type": "code",
   "execution_count": 6,
   "metadata": {
    "collapsed": true
   },
   "outputs": [],
   "source": [
    "y_train_rescale = np.where(y_train == 0, np.ones((y_train.shape)), -np.ones((y_train.shape)))"
   ]
  },
  {
   "cell_type": "code",
   "execution_count": 7,
   "metadata": {
    "collapsed": true
   },
   "outputs": [],
   "source": [
    "dataset = XYCDataset(X_train, y_train_rescale)"
   ]
  },
  {
   "cell_type": "markdown",
   "metadata": {},
   "source": [
    "Сам подбор параметров"
   ]
  },
  {
   "cell_type": "code",
   "execution_count": 8,
   "metadata": {
    "scrolled": true
   },
   "outputs": [
    {
     "name": "stdout",
     "output_type": "stream",
     "text": [
      "*****************\n",
      "{'n_estimators': 1600, 'max_samples': 0.34261427478823897, 'contamination': 0.19561534662938096, 'verbose': 0}\n",
      "Fitted\n",
      "Run time: 525.90 sec\n",
      "*****************\n",
      "\n",
      "*****************\n",
      "{'n_estimators': 1600, 'max_samples': 0.34261427478823897, 'contamination': 0.19561534662938096, 'verbose': 0}\n",
      "Fitted\n",
      "Run time: 523.82 sec\n",
      "*****************\n",
      "\n",
      "*****************\n",
      "{'n_estimators': 1600, 'max_samples': 0.34261427478823897, 'contamination': 0.19561534662938096, 'verbose': 0}\n",
      "Fitted\n",
      "Run time: 524.38 sec\n",
      "*****************\n",
      "\n",
      "*****************\n",
      "{'n_estimators': 1200, 'max_samples': 0.8831657332750931, 'contamination': 0.06131213255647324, 'verbose': 0}\n",
      "Fitted\n",
      "Run time: 387.54 sec\n",
      "*****************\n",
      "\n",
      "*****************\n",
      "{'n_estimators': 1200, 'max_samples': 0.8831657332750931, 'contamination': 0.06131213255647324, 'verbose': 0}\n",
      "Fitted\n",
      "Run time: 377.61 sec\n",
      "*****************\n",
      "\n",
      "*****************\n",
      "{'n_estimators': 1200, 'max_samples': 0.8831657332750931, 'contamination': 0.06131213255647324, 'verbose': 0}\n",
      "Fitted\n",
      "Run time: 454.85 sec\n",
      "*****************\n",
      "\n",
      "*****************\n",
      "{'n_estimators': 1200, 'max_samples': 0.18516891106011996, 'contamination': 0.1411338916109569, 'verbose': 0}\n",
      "Fitted\n",
      "Run time: 394.81 sec\n",
      "*****************\n",
      "\n",
      "*****************\n",
      "{'n_estimators': 1200, 'max_samples': 0.18516891106011996, 'contamination': 0.1411338916109569, 'verbose': 0}\n",
      "Fitted\n",
      "Run time: 379.98 sec\n",
      "*****************\n",
      "\n",
      "*****************\n",
      "{'n_estimators': 1200, 'max_samples': 0.18516891106011996, 'contamination': 0.1411338916109569, 'verbose': 0}\n",
      "Fitted\n",
      "Run time: 380.69 sec\n",
      "*****************\n",
      "\n",
      "*****************\n",
      "{'n_estimators': 800, 'max_samples': 0.33451555549815604, 'contamination': 0.018847871033578725, 'verbose': 0}\n",
      "Fitted\n",
      "Run time: 243.33 sec\n",
      "*****************\n",
      "\n",
      "*****************\n",
      "{'n_estimators': 800, 'max_samples': 0.33451555549815604, 'contamination': 0.018847871033578725, 'verbose': 0}\n",
      "Fitted\n",
      "Run time: 235.64 sec\n",
      "*****************\n",
      "\n",
      "*****************\n",
      "{'n_estimators': 800, 'max_samples': 0.33451555549815604, 'contamination': 0.018847871033578725, 'verbose': 0}\n",
      "Fitted\n",
      "Run time: 238.24 sec\n",
      "*****************\n",
      "\n",
      "*****************\n",
      "{'n_estimators': 1800, 'max_samples': 0.17997347852174067, 'contamination': 0.04541203272132255, 'verbose': 0}\n",
      "Fitted\n",
      "Run time: 408.73 sec\n",
      "*****************\n",
      "\n",
      "*****************\n",
      "{'n_estimators': 1800, 'max_samples': 0.17997347852174067, 'contamination': 0.04541203272132255, 'verbose': 0}\n",
      "Fitted\n",
      "Run time: 437.64 sec\n",
      "*****************\n",
      "\n",
      "*****************\n",
      "{'n_estimators': 1800, 'max_samples': 0.17997347852174067, 'contamination': 0.04541203272132255, 'verbose': 0}\n",
      "Fitted\n",
      "Run time: 468.90 sec\n",
      "*****************\n",
      "\n",
      "*****************\n",
      "{'n_estimators': 800, 'max_samples': 0.37462715520425005, 'contamination': 0.08193624589657914, 'verbose': 0}\n",
      "Fitted\n",
      "Run time: 266.79 sec\n",
      "*****************\n",
      "\n",
      "*****************\n",
      "{'n_estimators': 800, 'max_samples': 0.37462715520425005, 'contamination': 0.08193624589657914, 'verbose': 0}\n",
      "Fitted\n",
      "Run time: 249.44 sec\n",
      "*****************\n",
      "\n",
      "*****************\n",
      "{'n_estimators': 800, 'max_samples': 0.37462715520425005, 'contamination': 0.08193624589657914, 'verbose': 0}\n",
      "Fitted\n",
      "Run time: 261.03 sec\n",
      "*****************\n",
      "\n",
      "*****************\n",
      "{'n_estimators': 1000, 'max_samples': 0.10087576601123369, 'contamination': 0.01008820744540997, 'verbose': 0}\n",
      "Fitted\n",
      "Run time: 256.36 sec\n",
      "*****************\n",
      "\n",
      "*****************\n",
      "{'n_estimators': 1000, 'max_samples': 0.10087576601123369, 'contamination': 0.01008820744540997, 'verbose': 0}\n",
      "Fitted\n",
      "Run time: 245.42 sec\n",
      "*****************\n",
      "\n",
      "*****************\n",
      "{'n_estimators': 1000, 'max_samples': 0.10087576601123369, 'contamination': 0.01008820744540997, 'verbose': 0}\n",
      "Fitted\n",
      "Run time: 258.87 sec\n",
      "*****************\n",
      "\n",
      "*****************\n",
      "{'n_estimators': 1000, 'max_samples': 0.8818737530202295, 'contamination': 0.009293409605271622, 'verbose': 0}\n",
      "Fitted\n",
      "Run time: 347.34 sec\n",
      "*****************\n",
      "\n",
      "*****************\n",
      "{'n_estimators': 1000, 'max_samples': 0.8818737530202295, 'contamination': 0.009293409605271622, 'verbose': 0}\n",
      "Fitted\n",
      "Run time: 338.09 sec\n",
      "*****************\n",
      "\n",
      "*****************\n",
      "{'n_estimators': 1000, 'max_samples': 0.8818737530202295, 'contamination': 0.009293409605271622, 'verbose': 0}\n",
      "Fitted\n",
      "Run time: 361.43 sec\n",
      "*****************\n",
      "\n",
      "*****************\n",
      "{'n_estimators': 1200, 'max_samples': 0.3703426387094563, 'contamination': 0.7606425873711156, 'verbose': 0}\n",
      "Fitted\n",
      "Run time: 651.67 sec\n",
      "*****************\n",
      "\n",
      "*****************\n",
      "{'n_estimators': 1200, 'max_samples': 0.3703426387094563, 'contamination': 0.7606425873711156, 'verbose': 0}\n",
      "Fitted\n",
      "Run time: 603.14 sec\n",
      "*****************\n",
      "\n",
      "*****************\n",
      "{'n_estimators': 1200, 'max_samples': 0.3703426387094563, 'contamination': 0.7606425873711156, 'verbose': 0}\n",
      "Fitted\n",
      "Run time: 609.03 sec\n",
      "*****************\n",
      "\n",
      "*****************\n",
      "{'n_estimators': 1800, 'max_samples': 0.6058204872075802, 'contamination': 0.012647236721258417, 'verbose': 0}\n",
      "Fitted\n",
      "Run time: 458.18 sec\n",
      "*****************\n",
      "\n",
      "*****************\n",
      "{'n_estimators': 1800, 'max_samples': 0.6058204872075802, 'contamination': 0.012647236721258417, 'verbose': 0}\n",
      "Fitted\n",
      "Run time: 478.23 sec\n",
      "*****************\n",
      "\n",
      "*****************\n",
      "{'n_estimators': 1800, 'max_samples': 0.6058204872075802, 'contamination': 0.012647236721258417, 'verbose': 0}\n",
      "Fitted\n",
      "Run time: 474.76 sec\n",
      "*****************\n",
      "\n",
      "*****************\n",
      "{'n_estimators': 600, 'max_samples': 0.9284324773612013, 'contamination': 0.012411181769730573, 'verbose': 0}\n",
      "Fitted\n",
      "Run time: 159.81 sec\n",
      "*****************\n",
      "\n",
      "*****************\n",
      "{'n_estimators': 600, 'max_samples': 0.9284324773612013, 'contamination': 0.012411181769730573, 'verbose': 0}\n",
      "Fitted\n",
      "Run time: 171.61 sec\n",
      "*****************\n",
      "\n",
      "*****************\n",
      "{'n_estimators': 600, 'max_samples': 0.9284324773612013, 'contamination': 0.012411181769730573, 'verbose': 0}\n",
      "Fitted\n",
      "Run time: 155.04 sec\n",
      "*****************\n",
      "\n",
      "*****************\n",
      "{'n_estimators': 1600, 'max_samples': 0.9240068067588815, 'contamination': 0.41066824159917864, 'verbose': 0}\n",
      "Fitted\n",
      "Run time: 725.93 sec\n",
      "*****************\n",
      "\n",
      "*****************\n",
      "{'n_estimators': 1600, 'max_samples': 0.9240068067588815, 'contamination': 0.41066824159917864, 'verbose': 0}\n",
      "Fitted\n",
      "Run time: 734.37 sec\n",
      "*****************\n",
      "\n",
      "*****************\n",
      "{'n_estimators': 1600, 'max_samples': 0.9240068067588815, 'contamination': 0.41066824159917864, 'verbose': 0}\n",
      "Fitted\n",
      "Run time: 750.17 sec\n",
      "*****************\n",
      "\n",
      "*****************\n",
      "{'n_estimators': 1800, 'max_samples': 0.6378038609140981, 'contamination': 0.10224391135362026, 'verbose': 0}\n",
      "Fitted\n",
      "Run time: 542.76 sec\n",
      "*****************\n",
      "\n",
      "*****************\n",
      "{'n_estimators': 1800, 'max_samples': 0.6378038609140981, 'contamination': 0.10224391135362026, 'verbose': 0}\n",
      "Fitted\n",
      "Run time: 537.65 sec\n",
      "*****************\n",
      "\n",
      "*****************\n",
      "{'n_estimators': 1800, 'max_samples': 0.6378038609140981, 'contamination': 0.10224391135362026, 'verbose': 0}\n",
      "Fitted\n",
      "Run time: 581.11 sec\n",
      "*****************\n",
      "\n",
      "*****************\n",
      "{'n_estimators': 200, 'max_samples': 0.5679801567030354, 'contamination': 0.17580250107183212, 'verbose': 0}\n",
      "Fitted\n",
      "Run time: 62.68 sec\n",
      "*****************\n",
      "\n",
      "*****************\n",
      "{'n_estimators': 200, 'max_samples': 0.5679801567030354, 'contamination': 0.17580250107183212, 'verbose': 0}\n",
      "Fitted\n",
      "Run time: 63.72 sec\n",
      "*****************\n",
      "\n",
      "*****************\n",
      "{'n_estimators': 200, 'max_samples': 0.5679801567030354, 'contamination': 0.17580250107183212, 'verbose': 0}\n",
      "Fitted\n",
      "Run time: 61.75 sec\n",
      "*****************\n",
      "\n",
      "*****************\n",
      "{'n_estimators': 1600, 'max_samples': 0.8713936180038222, 'contamination': 0.009652316252914423, 'verbose': 0}\n",
      "Fitted\n",
      "Run time: 480.74 sec\n",
      "*****************\n",
      "\n",
      "*****************\n",
      "{'n_estimators': 1600, 'max_samples': 0.8713936180038222, 'contamination': 0.009652316252914423, 'verbose': 0}\n",
      "Fitted\n",
      "Run time: 481.53 sec\n",
      "*****************\n",
      "\n",
      "*****************\n",
      "{'n_estimators': 1600, 'max_samples': 0.8713936180038222, 'contamination': 0.009652316252914423, 'verbose': 0}\n",
      "Fitted\n",
      "Run time: 500.54 sec\n",
      "*****************\n",
      "\n",
      "*****************\n",
      "{'n_estimators': 400, 'max_samples': 0.13452602120374735, 'contamination': 0.795769591813803, 'verbose': 0}\n",
      "Fitted\n",
      "Run time: 170.53 sec\n",
      "*****************\n",
      "\n",
      "*****************\n",
      "{'n_estimators': 400, 'max_samples': 0.13452602120374735, 'contamination': 0.795769591813803, 'verbose': 0}\n",
      "Fitted\n",
      "Run time: 171.29 sec\n",
      "*****************\n",
      "\n"
     ]
    },
    {
     "name": "stdout",
     "output_type": "stream",
     "text": [
      "*****************\n",
      "{'n_estimators': 400, 'max_samples': 0.13452602120374735, 'contamination': 0.795769591813803, 'verbose': 0}\n",
      "Fitted\n",
      "Run time: 164.95 sec\n",
      "*****************\n",
      "\n",
      "*****************\n",
      "{'n_estimators': 800, 'max_samples': 0.8770757265500166, 'contamination': 0.28634655473882936, 'verbose': 0}\n",
      "Fitted\n",
      "Run time: 332.69 sec\n",
      "*****************\n",
      "\n",
      "*****************\n",
      "{'n_estimators': 800, 'max_samples': 0.8770757265500166, 'contamination': 0.28634655473882936, 'verbose': 0}\n",
      "Fitted\n",
      "Run time: 310.68 sec\n",
      "*****************\n",
      "\n",
      "*****************\n",
      "{'n_estimators': 800, 'max_samples': 0.8770757265500166, 'contamination': 0.28634655473882936, 'verbose': 0}\n",
      "Fitted\n",
      "Run time: 320.46 sec\n",
      "*****************\n",
      "\n",
      "*****************\n",
      "{'n_estimators': 200, 'max_samples': 0.7352923206747857, 'contamination': 0.04987152096919817, 'verbose': 0}\n",
      "Fitted\n",
      "Run time: 46.99 sec\n",
      "*****************\n",
      "\n",
      "*****************\n",
      "{'n_estimators': 200, 'max_samples': 0.7352923206747857, 'contamination': 0.04987152096919817, 'verbose': 0}\n",
      "Fitted\n",
      "Run time: 53.93 sec\n",
      "*****************\n",
      "\n",
      "*****************\n",
      "{'n_estimators': 200, 'max_samples': 0.7352923206747857, 'contamination': 0.04987152096919817, 'verbose': 0}\n",
      "Fitted\n",
      "Run time: 48.93 sec\n",
      "*****************\n",
      "\n",
      "*****************\n",
      "{'n_estimators': 400, 'max_samples': 0.7663633649724328, 'contamination': 0.05828192164542899, 'verbose': 0}\n",
      "Fitted\n",
      "Run time: 102.15 sec\n",
      "*****************\n",
      "\n",
      "*****************\n",
      "{'n_estimators': 400, 'max_samples': 0.7663633649724328, 'contamination': 0.05828192164542899, 'verbose': 0}\n",
      "Fitted\n",
      "Run time: 109.18 sec\n",
      "*****************\n",
      "\n",
      "*****************\n",
      "{'n_estimators': 400, 'max_samples': 0.7663633649724328, 'contamination': 0.05828192164542899, 'verbose': 0}\n",
      "Fitted\n",
      "Run time: 108.61 sec\n",
      "*****************\n",
      "\n",
      "*****************\n",
      "{'n_estimators': 200, 'max_samples': 0.5763726824953537, 'contamination': 0.02397661309644084, 'verbose': 0}\n",
      "Fitted\n",
      "Run time: 50.63 sec\n",
      "*****************\n",
      "\n",
      "*****************\n",
      "{'n_estimators': 200, 'max_samples': 0.5763726824953537, 'contamination': 0.02397661309644084, 'verbose': 0}\n",
      "Fitted\n",
      "Run time: 45.66 sec\n",
      "*****************\n",
      "\n",
      "*****************\n",
      "{'n_estimators': 200, 'max_samples': 0.5763726824953537, 'contamination': 0.02397661309644084, 'verbose': 0}\n",
      "Fitted\n",
      "Run time: 46.17 sec\n",
      "*****************\n",
      "\n",
      "CPU times: user 9h 44min 35s, sys: 29min 49s, total: 10h 14min 24s\n",
      "Wall time: 10h 44min 16s\n"
     ]
    }
   ],
   "source": [
    "%%time\n",
    "trainer.crossval_optimize_params(RocAuc(), dataset, metrics=[Accuracy(), RocAuc(), F1()], \n",
    "                                 cv=3, opt_evals=20)"
   ]
  },
  {
   "cell_type": "markdown",
   "metadata": {},
   "source": [
    "Результаты"
   ]
  },
  {
   "cell_type": "code",
   "execution_count": 9,
   "metadata": {
    "collapsed": true
   },
   "outputs": [],
   "source": [
    "reporter = Report(trainer.get_best_results(), dataset, [Accuracy(), RocAuc(), F1()])"
   ]
  },
  {
   "cell_type": "code",
   "execution_count": 10,
   "metadata": {},
   "outputs": [
    {
     "name": "stdout",
     "output_type": "stream",
     "text": [
      "\n",
      "~~~~~~~~~~~~~~~~~~~~~~~~~~~~~~~~~~~~~~~~~~~~~~    accuracy    ~~~~~~~~~~~~~~~~~~~~~~~~~~~~~~~~~~~~~~~~~~~~~~~\n",
      "\n",
      "                                       tuned\n",
      "IsolationForestClassifier  0.476683 (+0.00%)\n",
      "\n",
      "~~~~~~~~~~~~~~~~~~~~~~~~~~~~~~~~~~~~~~~~~~~~~~~    roc_auc    ~~~~~~~~~~~~~~~~~~~~~~~~~~~~~~~~~~~~~~~~~~~~~~~\n",
      "\n",
      "                                       tuned\n",
      "IsolationForestClassifier  0.545151 (+0.00%)\n",
      "\n",
      "~~~~~~~~~~~~~~~~~~~~~~~~~~~~~~~~~~~~~~~~~~~~~~    f1_score    ~~~~~~~~~~~~~~~~~~~~~~~~~~~~~~~~~~~~~~~~~~~~~~~\n",
      "\n",
      "                                       tuned\n",
      "IsolationForestClassifier  0.258179 (+0.00%)\n"
     ]
    }
   ],
   "source": [
    "reporter.print_all_metric_results()"
   ]
  },
  {
   "cell_type": "code",
   "execution_count": 11,
   "metadata": {},
   "outputs": [
    {
     "name": "stdout",
     "output_type": "stream",
     "text": [
      "\n",
      "~~~~~~~~~~~~~~~~~~~~~~~~~~~~~~~~~~~~~~~~~~~~~~    accuracy    ~~~~~~~~~~~~~~~~~~~~~~~~~~~~~~~~~~~~~~~~~~~~~~~\n",
      "\n"
     ]
    },
    {
     "data": {
      "image/png": "[encoded data removed]",
      "text/plain": [
       "<matplotlib.figure.Figure at 0x7fc5bc15ce10>"
      ]
     },
     "metadata": {},
     "output_type": "display_data"
    },
    {
     "name": "stdout",
     "output_type": "stream",
     "text": [
      "\n",
      "~~~~~~~~~~~~~~~~~~~~~~~~~~~~~~~~~~~~~~~~~~~~~~~    roc_auc    ~~~~~~~~~~~~~~~~~~~~~~~~~~~~~~~~~~~~~~~~~~~~~~~\n",
      "\n"
     ]
    },
    {
     "data": {
      "image/png": "[encoded data removed]",
      "text/plain": [
       "<matplotlib.figure.Figure at 0x7fc5446f3f98>"
      ]
     },
     "metadata": {},
     "output_type": "display_data"
    },
    {
     "name": "stdout",
     "output_type": "stream",
     "text": [
      "\n",
      "~~~~~~~~~~~~~~~~~~~~~~~~~~~~~~~~~~~~~~~~~~~~~~    f1_score    ~~~~~~~~~~~~~~~~~~~~~~~~~~~~~~~~~~~~~~~~~~~~~~~\n",
      "\n"
     ]
    },
    {
     "data": {
      "image/png": "[encoded data removed]",
      "text/plain": [
       "<matplotlib.figure.Figure at 0x7fc536dcce80>"
      ]
     },
     "metadata": {},
     "output_type": "display_data"
    }
   ],
   "source": [
    "reporter.plot_all_metrics()"
   ]
  },
  {
   "cell_type": "markdown",
   "metadata": {},
   "source": [
    "Вытащим значения оптимальных параметров"
   ]
  },
  {
   "cell_type": "code",
   "execution_count": 12,
   "metadata": {},
   "outputs": [
    {
     "data": {
      "text/plain": [
       "{'contamination': 0.795769591813803,\n",
       " 'max_samples': 0.13452602120374735,\n",
       " 'n_estimators': 400}"
      ]
     },
     "execution_count": 12,
     "metadata": {},
     "output_type": "execute_result"
    }
   ],
   "source": [
    "trainer_log = trainer.state['IsolationForestClassifier']\n",
    "opt_params = trainer_log.best_trial['result']['params']\n",
    "opt_params"
   ]
  },
  {
   "cell_type": "markdown",
   "metadata": {},
   "source": [
    "Сохраним эти значения"
   ]
  },
  {
   "cell_type": "code",
   "execution_count": 13,
   "metadata": {
    "collapsed": true
   },
   "outputs": [],
   "source": [
    "file_name = 'optimal_isolation_forest_params.json'\n",
    "with open(file_name, 'w', encoding=\"utf-8\") as file:\n",
    "    # writing\n",
    "    json.dump(opt_params, file, indent=4, ensure_ascii=False)"
   ]
  },
  {
   "cell_type": "markdown",
   "metadata": {},
   "source": [
    "Загрузим значения"
   ]
  },
  {
   "cell_type": "code",
   "execution_count": 14,
   "metadata": {
    "collapsed": true
   },
   "outputs": [],
   "source": [
    "file_name = 'optimal_isolation_forest_params.json'\n",
    "with open(file_name, 'r', encoding=\"utf-8\") as file:\n",
    "    opt_params = json.load(file)"
   ]
  },
  {
   "cell_type": "code",
   "execution_count": 15,
   "metadata": {},
   "outputs": [
    {
     "data": {
      "text/plain": [
       "{'contamination': 0.795769591813803,\n",
       " 'max_samples': 0.13452602120374735,\n",
       " 'n_estimators': 400}"
      ]
     },
     "execution_count": 15,
     "metadata": {},
     "output_type": "execute_result"
    }
   ],
   "source": [
    "opt_params"
   ]
  },
  {
   "cell_type": "markdown",
   "metadata": {},
   "source": [
    "## Получим значения метрик Isolation Forest при оптимальных параметрах"
   ]
  },
  {
   "cell_type": "code",
   "execution_count": 16,
   "metadata": {
    "collapsed": true
   },
   "outputs": [],
   "source": [
    "y_test_rescale = np.where(y_test == 0, np.ones((y_test.shape)), -np.ones((y_test.shape)))"
   ]
  },
  {
   "cell_type": "code",
   "execution_count": 20,
   "metadata": {
    "collapsed": true
   },
   "outputs": [],
   "source": [
    "classifiers_classic_uns = {\n",
    "    \"Isolation Forest\": IsolationForest(**opt_params)\n",
    "}\n",
    "\n",
    "frac = opt_params['contamination']\n",
    "metrics_path = '../metrics/unsupervised/IF_opt/'\n",
    "\n",
    "metrics_dict = {\n",
    "    'pr_aucs' : {},\n",
    "    'roc_aucs' : {},\n",
    "    'p_at_r' : {\n",
    "        '0.8': {},\n",
    "        '0.9': {}, \n",
    "        '0.95': {},\n",
    "        '0.99': {},\n",
    "    }\n",
    "}"
   ]
  },
  {
   "cell_type": "code",
   "execution_count": 21,
   "metadata": {
    "scrolled": false
   },
   "outputs": [
    {
     "name": "stdout",
     "output_type": "stream",
     "text": [
      "Run time: 312.52 sec\n",
      "PR_AUC:  (0.795769591813803, 0.5388570029114498)\n",
      "ROC_AUC:  (0.795769591813803, 0.5464184468)\n",
      "clf_name:  Isolation Forest\n"
     ]
    },
    {
     "data": {
      "image/png": "[encoded data removed]",
      "text/plain": [
       "<matplotlib.figure.Figure at 0x7fc536cb6da0>"
      ]
     },
     "metadata": {},
     "output_type": "display_data"
    },
    {
     "data": {
      "image/png": "[encoded data removed]",
      "text/plain": [
       "<matplotlib.figure.Figure at 0x7fc5363a6b00>"
      ]
     },
     "metadata": {},
     "output_type": "display_data"
    },
    {
     "data": {
      "image/png": "[encoded data removed]",
      "text/plain": [
       "<matplotlib.figure.Figure at 0x7fc5361a5c18>"
      ]
     },
     "metadata": {},
     "output_type": "display_data"
    },
    {
     "data": {
      "image/png": "[encoded data removed]",
      "text/plain": [
       "<matplotlib.figure.Figure at 0x7fc5361198d0>"
      ]
     },
     "metadata": {},
     "output_type": "display_data"
    },
    {
     "data": {
      "image/png": "[encoded data removed]",
      "text/plain": [
       "<matplotlib.figure.Figure at 0x7fc536d2c710>"
      ]
     },
     "metadata": {},
     "output_type": "display_data"
    },
    {
     "data": {
      "image/png": "[encoded data removed]",
      "text/plain": [
       "<matplotlib.figure.Figure at 0x7fc5446f3240>"
      ]
     },
     "metadata": {},
     "output_type": "display_data"
    },
    {
     "name": "stderr",
     "output_type": "stream",
     "text": [
      "\r",
      "1it [05:14, 314.68s/it]"
     ]
    },
    {
     "name": "stdout",
     "output_type": "stream",
     "text": [
      "CPU times: user 4min 54s, sys: 12.5 s, total: 5min 7s\n",
      "Wall time: 5min 14s\n"
     ]
    },
    {
     "name": "stderr",
     "output_type": "stream",
     "text": [
      "\n"
     ]
    }
   ],
   "source": [
    "%%time\n",
    "for i, (clf_name, clf) in tqdm(enumerate(classifiers_classic_uns.items())):\n",
    "    # prepare data\n",
    "    if frac > 1:\n",
    "        end_ind = X_good.shape[0]\n",
    "    else:   \n",
    "        end_ind = int(X_good.shape[0] * frac)\n",
    "\n",
    "    idx_neg = np.random.permutation(X_bad.shape[0])\n",
    "    X = np.concatenate((\n",
    "        X_good,\n",
    "        X_bad[idx_neg[:end_ind]]\n",
    "    ), axis=0)\n",
    "\n",
    "    # fit model and predict probas\n",
    "    start_time = timeit.default_timer()\n",
    "    clf.fit(np.random.permutation(X))\n",
    "    Score = clf.decision_function(X_test)\n",
    "    run_time = timeit.default_timer() - start_time\n",
    "    \n",
    "    # eval and save metrics\n",
    "    eval_metrics(-y_test_rescale, -Score, frac, metrics_dict, descr=clf_name)\n",
    "    dump_metrics(metrics_path, metrics_dict)\n",
    "\n",
    "    # print info\n",
    "    display.clear_output(wait=True)\n",
    "    print(\"Run time: {:.2f} sec\".format(run_time))\n",
    "    print(\"PR_AUC: \", metrics_dict['pr_aucs'][clf_name][-1])\n",
    "    print(\"ROC_AUC: \", metrics_dict['roc_aucs'][clf_name][-1])\n",
    "    print('clf_name: ', clf_name)\n",
    "\n",
    "    # plot metrics\n",
    "    metric_boxplot(metrics_dict['pr_aucs'], ylabel='PR_AUC', ylim=(0.1, 0.9))\n",
    "    plt.show()\n",
    "    metric_boxplot(metrics_dict['roc_aucs'], ylabel='ROC_AUC', ylim=(0.1, 0.9))\n",
    "    plt.show()\n",
    "    for k in metrics_dict['p_at_r'].keys():\n",
    "        metric_boxplot(metrics_dict['p_at_r'][k], ylabel='P@R_' + str(k), ylim=(0.4, 0.9))\n",
    "        plt.show()"
   ]
  },
  {
   "cell_type": "code",
   "execution_count": 22,
   "metadata": {},
   "outputs": [
    {
     "data": {
      "text/plain": [
       "{'p_at_r': {'0.8': {'Isolation Forest': [(0.795769591813803,\n",
       "     0.5140922001310902)]},\n",
       "  '0.9': {'Isolation Forest': [(0.795769591813803, 0.5083587484468541)]},\n",
       "  '0.95': {'Isolation Forest': [(0.795769591813803, 0.5047418782723209)]},\n",
       "  '0.99': {'Isolation Forest': [(0.795769591813803, 0.501722984614761)]}},\n",
       " 'pr_aucs': {'Isolation Forest': [(0.795769591813803, 0.5388570029114498)]},\n",
       " 'roc_aucs': {'Isolation Forest': [(0.795769591813803, 0.5464184468)]}}"
      ]
     },
     "execution_count": 22,
     "metadata": {},
     "output_type": "execute_result"
    }
   ],
   "source": [
    "metrics_dict"
   ]
  },
  {
   "cell_type": "code",
   "execution_count": null,
   "metadata": {
    "collapsed": true
   },
   "outputs": [],
   "source": []
  }
 ],
 "metadata": {
  "anaconda-cloud": {},
  "kernelspec": {
   "display_name": "Python 3",
   "language": "python",
   "name": "python3"
  },
  "language_info": {
   "codemirror_mode": {
    "name": "ipython",
    "version": 3
   },
   "file_extension": ".py",
   "mimetype": "text/x-python",
   "name": "python",
   "nbconvert_exporter": "python",
   "pygments_lexer": "ipython3",
   "version": "3.6.2"
  }
 },
 "nbformat": 4,
 "nbformat_minor": 1
}
