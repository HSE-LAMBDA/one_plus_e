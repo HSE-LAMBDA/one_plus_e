{
 "cells": [
  {
   "cell_type": "code",
   "execution_count": 1,
   "metadata": {},
   "outputs": [
    {
     "name": "stderr",
     "output_type": "stream",
     "text": [
      "/opt/conda/anaconda3/lib/python3.6/site-packages/h5py/__init__.py:34: FutureWarning: Conversion of the second argument of issubdtype from `float` to `np.floating` is deprecated. In future, it will be treated as `np.float64 == np.dtype(float).type`.\n",
      "  from ._conv import register_converters as _register_converters\n"
     ]
    }
   ],
   "source": [
    "import time\n",
    "import timeit\n",
    "from IPython import display\n",
    "\n",
    "import numpy as np\n",
    "import pandas as pd\n",
    "import seaborn as sns\n",
    "import matplotlib.pyplot as plt\n",
    "\n",
    "from sklearn import datasets, mixture\n",
    "from sklearn.mixture import GaussianMixture\n",
    "from sklearn.preprocessing import StandardScaler\n",
    "from sklearn.metrics import precision_recall_curve\n",
    "from sklearn.model_selection import train_test_split\n",
    "\n",
    "from itertools import cycle, islice\n",
    "from math import ceil\n",
    "from tqdm import tqdm\n",
    "from ard_em import GaussianMixtureARD\n",
    "import h5py\n",
    "import shutil\n",
    "\n",
    "import sys\n",
    "sys.path.append('../../')\n",
    "\n",
    "from evaluation import *\n",
    "np.random.seed(10)\n",
    "%matplotlib inline"
   ]
  },
  {
   "cell_type": "markdown",
   "metadata": {},
   "source": [
    "## Подготовим данные"
   ]
  },
  {
   "cell_type": "code",
   "execution_count": 4,
   "metadata": {},
   "outputs": [],
   "source": [
    "column_names = 'label, lepton pT, lepton eta, lepton phi, missing energy magnitude, missing energy phi, jet 1 pt, jet 1 eta, jet 1 phi, jet 1 b-tag, jet 2 pt, jet 2 eta, jet 2 phi, jet 2 b-tag, jet 3 pt, jet 3 eta, jet 3 phi, jet 3 b-tag, jet 4 pt, jet 4 eta, jet 4 phi, jet 4 b-tag, m_jj, m_jjj, m_lv, m_jlv, m_bb, m_wbb, m_wwbb'.split(', ')\n",
    "data = pd.read_csv('../../datasets/HIGGS.csv.gz', header=None, names=column_names)"
   ]
  },
  {
   "cell_type": "code",
   "execution_count": 5,
   "metadata": {},
   "outputs": [
    {
     "data": {
      "text/html": [
       "<div>\n",
       "<style>\n",
       "    .dataframe thead tr:only-child th {\n",
       "        text-align: right;\n",
       "    }\n",
       "\n",
       "    .dataframe thead th {\n",
       "        text-align: left;\n",
       "    }\n",
       "\n",
       "    .dataframe tbody tr th {\n",
       "        vertical-align: top;\n",
       "    }\n",
       "</style>\n",
       "<table border=\"1\" class=\"dataframe\">\n",
       "  <thead>\n",
       "    <tr style=\"text-align: right;\">\n",
       "      <th></th>\n",
       "      <th>label</th>\n",
       "      <th>lepton pT</th>\n",
       "      <th>lepton eta</th>\n",
       "      <th>lepton phi</th>\n",
       "      <th>missing energy magnitude</th>\n",
       "      <th>missing energy phi</th>\n",
       "      <th>jet 1 pt</th>\n",
       "      <th>jet 1 eta</th>\n",
       "      <th>jet 1 phi</th>\n",
       "      <th>jet 1 b-tag</th>\n",
       "      <th>...</th>\n",
       "      <th>jet 4 eta</th>\n",
       "      <th>jet 4 phi</th>\n",
       "      <th>jet 4 b-tag</th>\n",
       "      <th>m_jj</th>\n",
       "      <th>m_jjj</th>\n",
       "      <th>m_lv</th>\n",
       "      <th>m_jlv</th>\n",
       "      <th>m_bb</th>\n",
       "      <th>m_wbb</th>\n",
       "      <th>m_wwbb</th>\n",
       "    </tr>\n",
       "  </thead>\n",
       "  <tbody>\n",
       "    <tr>\n",
       "      <th>0</th>\n",
       "      <td>1.0</td>\n",
       "      <td>0.869293</td>\n",
       "      <td>-0.635082</td>\n",
       "      <td>0.225690</td>\n",
       "      <td>0.327470</td>\n",
       "      <td>-0.689993</td>\n",
       "      <td>0.754202</td>\n",
       "      <td>-0.248573</td>\n",
       "      <td>-1.092064</td>\n",
       "      <td>0.000000</td>\n",
       "      <td>...</td>\n",
       "      <td>-0.010455</td>\n",
       "      <td>-0.045767</td>\n",
       "      <td>3.101961</td>\n",
       "      <td>1.353760</td>\n",
       "      <td>0.979563</td>\n",
       "      <td>0.978076</td>\n",
       "      <td>0.920005</td>\n",
       "      <td>0.721657</td>\n",
       "      <td>0.988751</td>\n",
       "      <td>0.876678</td>\n",
       "    </tr>\n",
       "    <tr>\n",
       "      <th>1</th>\n",
       "      <td>1.0</td>\n",
       "      <td>0.907542</td>\n",
       "      <td>0.329147</td>\n",
       "      <td>0.359412</td>\n",
       "      <td>1.497970</td>\n",
       "      <td>-0.313010</td>\n",
       "      <td>1.095531</td>\n",
       "      <td>-0.557525</td>\n",
       "      <td>-1.588230</td>\n",
       "      <td>2.173076</td>\n",
       "      <td>...</td>\n",
       "      <td>-1.138930</td>\n",
       "      <td>-0.000819</td>\n",
       "      <td>0.000000</td>\n",
       "      <td>0.302220</td>\n",
       "      <td>0.833048</td>\n",
       "      <td>0.985700</td>\n",
       "      <td>0.978098</td>\n",
       "      <td>0.779732</td>\n",
       "      <td>0.992356</td>\n",
       "      <td>0.798343</td>\n",
       "    </tr>\n",
       "    <tr>\n",
       "      <th>2</th>\n",
       "      <td>1.0</td>\n",
       "      <td>0.798835</td>\n",
       "      <td>1.470639</td>\n",
       "      <td>-1.635975</td>\n",
       "      <td>0.453773</td>\n",
       "      <td>0.425629</td>\n",
       "      <td>1.104875</td>\n",
       "      <td>1.282322</td>\n",
       "      <td>1.381664</td>\n",
       "      <td>0.000000</td>\n",
       "      <td>...</td>\n",
       "      <td>1.128848</td>\n",
       "      <td>0.900461</td>\n",
       "      <td>0.000000</td>\n",
       "      <td>0.909753</td>\n",
       "      <td>1.108330</td>\n",
       "      <td>0.985692</td>\n",
       "      <td>0.951331</td>\n",
       "      <td>0.803252</td>\n",
       "      <td>0.865924</td>\n",
       "      <td>0.780118</td>\n",
       "    </tr>\n",
       "    <tr>\n",
       "      <th>3</th>\n",
       "      <td>0.0</td>\n",
       "      <td>1.344385</td>\n",
       "      <td>-0.876626</td>\n",
       "      <td>0.935913</td>\n",
       "      <td>1.992050</td>\n",
       "      <td>0.882454</td>\n",
       "      <td>1.786066</td>\n",
       "      <td>-1.646778</td>\n",
       "      <td>-0.942383</td>\n",
       "      <td>0.000000</td>\n",
       "      <td>...</td>\n",
       "      <td>-0.678379</td>\n",
       "      <td>-1.360356</td>\n",
       "      <td>0.000000</td>\n",
       "      <td>0.946652</td>\n",
       "      <td>1.028704</td>\n",
       "      <td>0.998656</td>\n",
       "      <td>0.728281</td>\n",
       "      <td>0.869200</td>\n",
       "      <td>1.026736</td>\n",
       "      <td>0.957904</td>\n",
       "    </tr>\n",
       "    <tr>\n",
       "      <th>4</th>\n",
       "      <td>1.0</td>\n",
       "      <td>1.105009</td>\n",
       "      <td>0.321356</td>\n",
       "      <td>1.522401</td>\n",
       "      <td>0.882808</td>\n",
       "      <td>-1.205349</td>\n",
       "      <td>0.681466</td>\n",
       "      <td>-1.070464</td>\n",
       "      <td>-0.921871</td>\n",
       "      <td>0.000000</td>\n",
       "      <td>...</td>\n",
       "      <td>-0.373566</td>\n",
       "      <td>0.113041</td>\n",
       "      <td>0.000000</td>\n",
       "      <td>0.755856</td>\n",
       "      <td>1.361057</td>\n",
       "      <td>0.986610</td>\n",
       "      <td>0.838085</td>\n",
       "      <td>1.133295</td>\n",
       "      <td>0.872245</td>\n",
       "      <td>0.808487</td>\n",
       "    </tr>\n",
       "  </tbody>\n",
       "</table>\n",
       "<p>5 rows × 29 columns</p>\n",
       "</div>"
      ],
      "text/plain": [
       "   label  lepton pT  lepton eta  lepton phi  missing energy magnitude  \\\n",
       "0    1.0   0.869293   -0.635082    0.225690                  0.327470   \n",
       "1    1.0   0.907542    0.329147    0.359412                  1.497970   \n",
       "2    1.0   0.798835    1.470639   -1.635975                  0.453773   \n",
       "3    0.0   1.344385   -0.876626    0.935913                  1.992050   \n",
       "4    1.0   1.105009    0.321356    1.522401                  0.882808   \n",
       "\n",
       "   missing energy phi  jet 1 pt  jet 1 eta  jet 1 phi  jet 1 b-tag    ...     \\\n",
       "0           -0.689993  0.754202  -0.248573  -1.092064     0.000000    ...      \n",
       "1           -0.313010  1.095531  -0.557525  -1.588230     2.173076    ...      \n",
       "2            0.425629  1.104875   1.282322   1.381664     0.000000    ...      \n",
       "3            0.882454  1.786066  -1.646778  -0.942383     0.000000    ...      \n",
       "4           -1.205349  0.681466  -1.070464  -0.921871     0.000000    ...      \n",
       "\n",
       "   jet 4 eta  jet 4 phi  jet 4 b-tag      m_jj     m_jjj      m_lv     m_jlv  \\\n",
       "0  -0.010455  -0.045767     3.101961  1.353760  0.979563  0.978076  0.920005   \n",
       "1  -1.138930  -0.000819     0.000000  0.302220  0.833048  0.985700  0.978098   \n",
       "2   1.128848   0.900461     0.000000  0.909753  1.108330  0.985692  0.951331   \n",
       "3  -0.678379  -1.360356     0.000000  0.946652  1.028704  0.998656  0.728281   \n",
       "4  -0.373566   0.113041     0.000000  0.755856  1.361057  0.986610  0.838085   \n",
       "\n",
       "       m_bb     m_wbb    m_wwbb  \n",
       "0  0.721657  0.988751  0.876678  \n",
       "1  0.779732  0.992356  0.798343  \n",
       "2  0.803252  0.865924  0.780118  \n",
       "3  0.869200  1.026736  0.957904  \n",
       "4  1.133295  0.872245  0.808487  \n",
       "\n",
       "[5 rows x 29 columns]"
      ]
     },
     "execution_count": 5,
     "metadata": {},
     "output_type": "execute_result"
    }
   ],
   "source": [
    "data.head()"
   ]
  },
  {
   "cell_type": "code",
   "execution_count": 6,
   "metadata": {},
   "outputs": [
    {
     "data": {
      "text/plain": [
       "(11000000, 29)"
      ]
     },
     "execution_count": 6,
     "metadata": {},
     "output_type": "execute_result"
    }
   ],
   "source": [
    "data.shape"
   ]
  },
  {
   "cell_type": "markdown",
   "metadata": {},
   "source": [
    "Делим выборку на признаки и таргеты. Нормируем признаки."
   ]
  },
  {
   "cell_type": "markdown",
   "metadata": {},
   "source": [
    "$X_{new} = \\frac{X - \\mu}{\\sigma}$"
   ]
  },
  {
   "cell_type": "code",
   "execution_count": 7,
   "metadata": {
    "collapsed": true
   },
   "outputs": [],
   "source": [
    "X_data = data.drop('label', 1)\n",
    "X_data = StandardScaler().fit_transform(X_data)\n",
    "\n",
    "labels = data[\"label\"]"
   ]
  },
  {
   "cell_type": "code",
   "execution_count": 8,
   "metadata": {
    "collapsed": true
   },
   "outputs": [],
   "source": [
    "min_class_size = min(X_data[np.where(labels==0)[0]].shape[0], X_data[np.where(labels==1)[0]].shape[0])"
   ]
  },
  {
   "cell_type": "code",
   "execution_count": 9,
   "metadata": {},
   "outputs": [
    {
     "data": {
      "text/plain": [
       "5170877"
      ]
     },
     "execution_count": 9,
     "metadata": {},
     "output_type": "execute_result"
    }
   ],
   "source": [
    "min_class_size"
   ]
  },
  {
   "cell_type": "code",
   "execution_count": 10,
   "metadata": {
    "collapsed": true
   },
   "outputs": [],
   "source": [
    "X_0 = X_data[np.where(labels==0)[0]]\n",
    "X_1 = X_data[np.where(labels==1)[0]]"
   ]
  },
  {
   "cell_type": "code",
   "execution_count": 11,
   "metadata": {},
   "outputs": [
    {
     "data": {
      "text/plain": [
       "(10341754, 28)"
      ]
     },
     "execution_count": 11,
     "metadata": {},
     "output_type": "execute_result"
    }
   ],
   "source": [
    "np.concatenate((X_0[:min_class_size], X_1[:min_class_size])).shape"
   ]
  },
  {
   "cell_type": "code",
   "execution_count": 12,
   "metadata": {
    "collapsed": true
   },
   "outputs": [],
   "source": [
    "X_data = np.concatenate((X_0[:min_class_size], X_1[:min_class_size]))\n",
    "labels = np.concatenate((np.zeros((min_class_size,1)), np.ones((min_class_size,1)))).ravel()"
   ]
  },
  {
   "cell_type": "markdown",
   "metadata": {},
   "source": [
    "Разбиваем на train(4% от всех данных) и test(1%)"
   ]
  },
  {
   "cell_type": "code",
   "execution_count": 13,
   "metadata": {
    "collapsed": true
   },
   "outputs": [],
   "source": [
    "from sklearn.model_selection import train_test_split"
   ]
  },
  {
   "cell_type": "code",
   "execution_count": 14,
   "metadata": {
    "collapsed": true
   },
   "outputs": [],
   "source": [
    "indx_train, indx_test = train_test_split(np.arange(len(labels), dtype='int32'), \n",
    "                                         stratify=labels, train_size=400000, test_size=100000, random_state=5)"
   ]
  },
  {
   "cell_type": "code",
   "execution_count": 15,
   "metadata": {
    "collapsed": true
   },
   "outputs": [],
   "source": [
    "indx_train = np.random.permutation(indx_train)\n",
    "indx_test = np.random.permutation(indx_test)"
   ]
  },
  {
   "cell_type": "code",
   "execution_count": 16,
   "metadata": {
    "collapsed": true
   },
   "outputs": [],
   "source": [
    "y_train = labels[indx_train]\n",
    "y_test = labels[indx_test]\n",
    "\n",
    "X_train = X_data[indx_train]\n",
    "X_test = X_data[indx_test]"
   ]
  },
  {
   "cell_type": "markdown",
   "metadata": {},
   "source": [
    "Разбиваем объекты по классам"
   ]
  },
  {
   "cell_type": "code",
   "execution_count": 17,
   "metadata": {
    "collapsed": true
   },
   "outputs": [],
   "source": [
    "X_good = X_train[np.where(y_train==0)[0]]\n",
    "X_bad = X_train[np.where(y_train==1)[0]]"
   ]
  },
  {
   "cell_type": "code",
   "execution_count": 18,
   "metadata": {},
   "outputs": [
    {
     "data": {
      "text/plain": [
       "((200000, 28), (400000, 28), (10341754, 28))"
      ]
     },
     "execution_count": 18,
     "metadata": {},
     "output_type": "execute_result"
    }
   ],
   "source": [
    "X_good.shape, X_train.shape, X_data.shape"
   ]
  },
  {
   "cell_type": "code",
   "execution_count": null,
   "metadata": {
    "collapsed": true
   },
   "outputs": [],
   "source": []
  },
  {
   "cell_type": "code",
   "execution_count": null,
   "metadata": {
    "collapsed": true
   },
   "outputs": [],
   "source": []
  },
  {
   "cell_type": "markdown",
   "metadata": {},
   "source": [
    "## Сгенерируем примеры используя GMM подход"
   ]
  },
  {
   "cell_type": "markdown",
   "metadata": {},
   "source": [
    "Подберем оптимальное число компонент для GaussianMixture"
   ]
  },
  {
   "cell_type": "code",
   "execution_count": 19,
   "metadata": {
    "collapsed": true
   },
   "outputs": [],
   "source": [
    "gm = GaussianMixture(n_components=15, n_init=4, covariance_type=\"full\", verbose=0)"
   ]
  },
  {
   "cell_type": "code",
   "execution_count": 20,
   "metadata": {},
   "outputs": [
    {
     "name": "stdout",
     "output_type": "stream",
     "text": [
      "CPU times: user 6min 23s, sys: 3.85 s, total: 6min 26s\n",
      "Wall time: 6min 22s\n"
     ]
    }
   ],
   "source": [
    "%%time\n",
    "sigma = 0.01\n",
    "gm.fit(X_good + np.random.normal(0, sigma, X_good.shape))"
   ]
  },
  {
   "cell_type": "code",
   "execution_count": 21,
   "metadata": {},
   "outputs": [
    {
     "data": {
      "text/plain": [
       "9635045.415849743"
      ]
     },
     "execution_count": 21,
     "metadata": {},
     "output_type": "execute_result"
    }
   ],
   "source": [
    "gm.bic(X_good)"
   ]
  },
  {
   "cell_type": "markdown",
   "metadata": {},
   "source": [
    "Генерируем выборку размера исходной нейтральной следующим образом:\n",
    "- Для каждой компоненты смеси распределения, сэмплируем свои примеры с востановленными матожиданием и матрицей ковариаций\n",
    "- Количество примеров для компоненты пропорционально ее вкладу в смесь"
   ]
  },
  {
   "cell_type": "code",
   "execution_count": 22,
   "metadata": {
    "collapsed": true
   },
   "outputs": [],
   "source": [
    "from scipy.stats import multivariate_normal"
   ]
  },
  {
   "cell_type": "code",
   "execution_count": 23,
   "metadata": {
    "collapsed": true
   },
   "outputs": [],
   "source": [
    "n_samples = X_good.shape[0] * 5"
   ]
  },
  {
   "cell_type": "code",
   "execution_count": 24,
   "metadata": {
    "collapsed": true
   },
   "outputs": [],
   "source": [
    "gen = np.array(multivariate_normal.rvs(mean=gm.means_[0], cov=gm.covariances_[0], \n",
    "                                       size=ceil(gm.weights_[0]*n_samples)))\n",
    "for d in range(1, gm.n_components):\n",
    "    gen=np.vstack((\n",
    "        gen, multivariate_normal.rvs(mean=gm.means_[d], cov=gm.covariances_[d], size=ceil(gm.weights_[d]*n_samples))\n",
    "    ))\n",
    "np.random.shuffle(gen)\n",
    "gen = np.array(gen)[:n_samples]"
   ]
  },
  {
   "cell_type": "markdown",
   "metadata": {},
   "source": [
    "Посчитаем плотности вероятности на сгенерированных объектах для каждой компоненты смеси"
   ]
  },
  {
   "cell_type": "code",
   "execution_count": 25,
   "metadata": {
    "collapsed": true
   },
   "outputs": [],
   "source": [
    "probabilities = np.empty((gm.n_components, gen.shape[0]))"
   ]
  },
  {
   "cell_type": "code",
   "execution_count": 26,
   "metadata": {
    "collapsed": true
   },
   "outputs": [],
   "source": [
    "for d in range(gm.n_components):\n",
    "    probabilities[d] = multivariate_normal.pdf(gen, mean=gm.means_[d], cov=gm.covariances_[d], allow_singular=True)"
   ]
  },
  {
   "cell_type": "code",
   "execution_count": 27,
   "metadata": {},
   "outputs": [
    {
     "data": {
      "text/plain": [
       "(1000000, 28)"
      ]
     },
     "execution_count": 27,
     "metadata": {},
     "output_type": "execute_result"
    }
   ],
   "source": [
    "gen.shape"
   ]
  },
  {
   "cell_type": "markdown",
   "metadata": {},
   "source": [
    "Выберем для каждого объекта наибольшую вероятность по всем компонентам и инвертируем это значение для получения веса"
   ]
  },
  {
   "cell_type": "markdown",
   "metadata": {},
   "source": [
    "Т.е. нам интересны те примеры, которые мало вероятно появляются в восстановленной смеси распределения(необычное поведение == аномалия)"
   ]
  },
  {
   "cell_type": "code",
   "execution_count": 28,
   "metadata": {
    "collapsed": true
   },
   "outputs": [],
   "source": [
    "maxprob = np.max(probabilities, axis=0)\n",
    "gen_w = 1./(maxprob + 1e-2)"
   ]
  },
  {
   "cell_type": "markdown",
   "metadata": {},
   "source": [
    "Веса ограничены сверху 100. Из этого графика мало что понятно, так как точек слигком много. Можно сказаль лишь то, что около граничных значений весов точек намного больше, чем в середине."
   ]
  },
  {
   "cell_type": "code",
   "execution_count": 29,
   "metadata": {},
   "outputs": [
    {
     "data": {
      "image/png": "[encoded data removed]",
      "text/plain": [
       "<matplotlib.figure.Figure at 0x7f3d2af919b0>"
      ]
     },
     "metadata": {},
     "output_type": "display_data"
    }
   ],
   "source": [
    "plt.figure(figsize=(16, 10))\n",
    "plt.scatter(np.arange(len(gen_w)), gen_w, linewidths=0.00001)\n",
    "plt.show()"
   ]
  },
  {
   "cell_type": "markdown",
   "metadata": {},
   "source": [
    "Нормируем полученные веса"
   ]
  },
  {
   "cell_type": "code",
   "execution_count": 30,
   "metadata": {
    "collapsed": true
   },
   "outputs": [],
   "source": [
    "weights = np.ones((n_samples, 1)) #X_train.shape[0]"
   ]
  },
  {
   "cell_type": "code",
   "execution_count": 31,
   "metadata": {
    "collapsed": true
   },
   "outputs": [],
   "source": [
    "gen_w_normed = gen_w/np.sum(gen_w)*np.sum(weights)"
   ]
  },
  {
   "cell_type": "code",
   "execution_count": 32,
   "metadata": {},
   "outputs": [
    {
     "data": {
      "text/plain": [
       "(1000000.0000000005, 1000000.0)"
      ]
     },
     "execution_count": 32,
     "metadata": {},
     "output_type": "execute_result"
    }
   ],
   "source": [
    "gen_w_normed.sum(), np.sum(weights)"
   ]
  },
  {
   "cell_type": "code",
   "execution_count": 33,
   "metadata": {
    "collapsed": true
   },
   "outputs": [],
   "source": [
    "y1 = np.zeros((n_samples,1))\n",
    "y2 = np.ones((gen.shape[0],1))"
   ]
  },
  {
   "cell_type": "code",
   "execution_count": 34,
   "metadata": {
    "collapsed": true
   },
   "outputs": [],
   "source": [
    "X_mix = np.vstack((gen, X_good)) \n",
    "\n",
    "y_mix = np.vstack((y2, y1))\n",
    "\n",
    "weights_mix = np.vstack((gen_w_normed.reshape(-1,1), weights.reshape(-1,1))).reshape(-1)"
   ]
  },
  {
   "cell_type": "code",
   "execution_count": 35,
   "metadata": {},
   "outputs": [
    {
     "data": {
      "text/plain": [
       "((2000000,), (2000000, 1))"
      ]
     },
     "execution_count": 35,
     "metadata": {},
     "output_type": "execute_result"
    }
   ],
   "source": [
    "weights_mix.shape, y_mix.shape"
   ]
  },
  {
   "cell_type": "code",
   "execution_count": 36,
   "metadata": {
    "collapsed": true
   },
   "outputs": [],
   "source": [
    "X_gen = gen\n",
    "y_gen = np.ones((X_gen.shape[0],1))\n",
    "\n",
    "w_gen = gen_w_normed.reshape(-1)"
   ]
  },
  {
   "cell_type": "markdown",
   "metadata": {},
   "source": [
    "## Обучим на этом нейронку"
   ]
  },
  {
   "cell_type": "code",
   "execution_count": 37,
   "metadata": {
    "collapsed": true
   },
   "outputs": [],
   "source": [
    "import tensorflow as tf\n",
    "\n",
    "config = tf.ConfigProto()\n",
    "config.gpu_options.per_process_gpu_memory_fraction = 0.2\n",
    "config.gpu_options.visible_device_list = '2'"
   ]
  },
  {
   "cell_type": "code",
   "execution_count": 38,
   "metadata": {},
   "outputs": [
    {
     "name": "stderr",
     "output_type": "stream",
     "text": [
      "Using TensorFlow backend.\n"
     ]
    }
   ],
   "source": [
    "import os\n",
    "import tensorflow as tf\n",
    "tf.set_random_seed(1)\n",
    "\n",
    "import keras\n",
    "from keras.models import Sequential, Model\n",
    "from keras import layers as L\n",
    "from keras import backend as K\n",
    "from keras.backend.tensorflow_backend import set_session"
   ]
  },
  {
   "cell_type": "code",
   "execution_count": 39,
   "metadata": {
    "collapsed": true
   },
   "outputs": [],
   "source": [
    "sess = tf.Session(config=config)\n",
    "set_session(sess)"
   ]
  },
  {
   "cell_type": "markdown",
   "metadata": {},
   "source": [
    "Простейшая сверточная сеть для двухклассовой классификации"
   ]
  },
  {
   "cell_type": "code",
   "execution_count": 40,
   "metadata": {
    "collapsed": true
   },
   "outputs": [],
   "source": [
    "def build_net():\n",
    "#     with tf.device('/gpu:2'):\n",
    "    net = Sequential()\n",
    "    \n",
    "    net.add(L.Dense(100, input_shape=(X_good.shape[1],), activation = 'relu'))\n",
    "    net.add(L.BatchNormalization())\n",
    "    net.add(L.Dropout(0.2))\n",
    "    \n",
    "    net.add(L.Dense(46, activation='relu'))\n",
    "    net.add(L.BatchNormalization())\n",
    "    net.add(L.Dropout(0.1))\n",
    "    \n",
    "    net.add(L.Dense(20, activation='relu'))\n",
    "    net.add(L.BatchNormalization())\n",
    "    net.add(L.Dropout(0.1))\n",
    "    \n",
    "    net.add(L.Dense(1, activation='sigmoid'))\n",
    "\n",
    "    adam = keras.optimizers.Adam(lr=0.001)\n",
    "    net.compile(optimizer=adam, loss='binary_crossentropy')\n",
    "    return net"
   ]
  },
  {
   "cell_type": "markdown",
   "metadata": {},
   "source": [
    "Строит зависимость ошибок от эпохи"
   ]
  },
  {
   "cell_type": "code",
   "execution_count": 41,
   "metadata": {
    "collapsed": true,
    "scrolled": false
   },
   "outputs": [],
   "source": [
    "# summarize history for loss\n",
    "def history_plot(hist):\n",
    "    plt.plot(hist.history['loss'])\n",
    "    plt.plot(hist.history['val_loss'])\n",
    "    plt.title('model loss')\n",
    "    plt.ylabel('loss')\n",
    "    plt.xlabel('epoch')\n",
    "    plt.legend(['train', 'val'], loc='lower left')\n",
    "    plt.show()"
   ]
  },
  {
   "cell_type": "code",
   "execution_count": 42,
   "metadata": {
    "collapsed": true
   },
   "outputs": [],
   "source": [
    "ours_roc_aucs = {}\n",
    "ours_pr_aucs = {}\n",
    "ours_p_at_r = {\n",
    "    '0.8': {},\n",
    "    '0.9': {}, \n",
    "    '0.95': {},\n",
    "    '0.99': {},\n",
    "}"
   ]
  },
  {
   "cell_type": "markdown",
   "metadata": {},
   "source": [
    "Реализуем функции для вычисления precision at recall"
   ]
  },
  {
   "cell_type": "code",
   "execution_count": 43,
   "metadata": {
    "collapsed": true
   },
   "outputs": [],
   "source": [
    "def p_at_r(y_test, y_pred, x):\n",
    "    precision, recall, _ = precision_recall_curve(y_test, y_pred)\n",
    "    return max(precision[recall > x])"
   ]
  },
  {
   "cell_type": "code",
   "execution_count": 44,
   "metadata": {
    "collapsed": true
   },
   "outputs": [],
   "source": [
    "def _eval_p_at_rs(y_test, y_pred, frac, ours_p_at_r, descr):\n",
    "    for recall in ours_p_at_r.keys():\n",
    "        if descr in ours_p_at_r[recall]:\n",
    "            # append the new number to the existing array at this slot\n",
    "            ours_p_at_r[recall][descr].append((frac, p_at_r(y_test, y_pred, float(recall))))\n",
    "        else:\n",
    "            # create a new array in this slot\n",
    "            ours_p_at_r[recall][descr] = [(frac, p_at_r(y_test, y_pred, float(recall)))]\n",
    "            \n",
    "def _eval_p_at_rs_flatten(y_test, y_pred, frac, ours_p_at_r, descr):\n",
    "    for recall in ours_p_at_r.keys():\n",
    "        ours_p_at_r[recall][descr] = (frac, p_at_r(y_test, y_pred, float(recall)))"
   ]
  },
  {
   "cell_type": "markdown",
   "metadata": {},
   "source": [
    "Посмотрим на значения весов объектов в объединенной выборке"
   ]
  },
  {
   "cell_type": "code",
   "execution_count": 45,
   "metadata": {},
   "outputs": [
    {
     "data": {
      "image/png": "[encoded data removed]",
      "text/plain": [
       "<matplotlib.figure.Figure at 0x7f3d6f322048>"
      ]
     },
     "metadata": {},
     "output_type": "display_data"
    }
   ],
   "source": [
    "plt.plot(weights_mix)\n",
    "plt.show()"
   ]
  },
  {
   "cell_type": "markdown",
   "metadata": {},
   "source": [
    "Сохранение метрик"
   ]
  },
  {
   "cell_type": "code",
   "execution_count": 46,
   "metadata": {
    "collapsed": true
   },
   "outputs": [],
   "source": [
    "import json\n",
    "\n",
    "def dump(saved_dict, folder, name):\n",
    "    dict_for_json = {k: {kk: list(vv) for kk, vv in v.items()} if isinstance(v, dict) else list(v) \n",
    "                     for k, v in saved_dict.items()}\n",
    "    with open(os.path.join(folder, name + \".json\"), 'w', encoding=\"utf-8\") as file:\n",
    "        # writing\n",
    "        json.dump(dict_for_json, file, indent=4, ensure_ascii=False)\n",
    "    del dict_for_json\n",
    "    \n",
    "def create_metrics_folder(metrics_path):\n",
    "    if not os.path.exists(metrics_path):\n",
    "        os.makedirs(metrics_path)\n",
    "    try:\n",
    "        last_folder_n = max(list(map(lambda name: int(name), \n",
    "                                     filter(lambda name: os.path.isdir(os.path.join(metrics_path, name)) \n",
    "                                            and name.isdecimal(), os.listdir(metrics_path)))))\n",
    "    except:\n",
    "        last_folder_n = 0\n",
    "    new_folder = os.path.join(metrics_path, str(last_folder_n + 1))\n",
    "    old_folder = os.path.join(metrics_path, str(last_folder_n))\n",
    "    os.makedirs(new_folder)    \n",
    "    return new_folder, old_folder\n",
    "\n",
    "# костыль, чтобы не сохранять разные словари отдельно\n",
    "def dump_metrics(metrics_path):\n",
    "    folder, old_folder = create_metrics_folder(metrics_path)\n",
    "    print(folder)\n",
    "\n",
    "    dump(ours_pr_aucs, folder, \"ours_pr_aucs\")\n",
    "    dump(ours_roc_aucs, folder, \"ours_roc_aucs\")\n",
    "    dump(ours_p_at_r, folder, \"ours_p_at_r\")\n",
    "    \n",
    "    shutil.rmtree(old_folder, ignore_errors=True)"
   ]
  },
  {
   "cell_type": "markdown",
   "metadata": {},
   "source": [
    "Графики метрик"
   ]
  },
  {
   "cell_type": "code",
   "execution_count": 47,
   "metadata": {
    "collapsed": true
   },
   "outputs": [],
   "source": [
    "def metric_boxplot(metric, ylabel='PR_AUC', ylim=None):\n",
    "    n = len(metric.keys())\n",
    "    plt.figure(figsize=(15, 7 * ceil(n/2)))\n",
    "\n",
    "    for i, clf_name in enumerate(metric.keys()):\n",
    "        plt.subplot(ceil(n/2), 2, i + 1)\n",
    "        sns.boxplot(np.array(metric[clf_name])[:, 0]*100, np.array(metric[clf_name])[:, 1])\n",
    "        plt.ylim(ylim)\n",
    "        plt.xlabel(\"% of used anomalies\")\n",
    "        plt.ylabel(ylabel)\n",
    "        plt.grid(True)\n",
    "        plt.title(clf_name)"
   ]
  },
  {
   "cell_type": "code",
   "execution_count": 48,
   "metadata": {
    "collapsed": true
   },
   "outputs": [],
   "source": [
    "def get_train_data(X_pos, X_true_neg, X_pseudo_neg,\n",
    "                   w_pos, w_true_neg, w_pseudo_neg, batch_size=128*3, alpha=0.1):\n",
    "    max_size = max([X_pos.shape[0], X_true_neg.shape[0], X_pseudo_neg.shape[0]])\n",
    "    sub_batch_size = int(batch_size/3)\n",
    "\n",
    "    pos_idx = np.random.permutation([i%X_pos.shape[0] for i in np.arange(max_size)])\n",
    "    true_neg_idx = np.random.permutation([i%X_true_neg.shape[0] for i in np.arange(max_size)])\n",
    "    pseudo_neg_idx = np.random.permutation([i%X_pseudo_neg.shape[0] for i in np.arange(max_size)])\n",
    "\n",
    "    res_X = []\n",
    "    res_y = []\n",
    "    res_w = []\n",
    "    for i in range(0, max_size, sub_batch_size):\n",
    "        cur_len = min([i + sub_batch_size, max_size]) - i\n",
    "        idx = np.random.permutation(np.arange(cur_len * 3))\n",
    "        \n",
    "        res_X.extend(np.concatenate((\n",
    "            X_pos[pos_idx[i:i + sub_batch_size]], \n",
    "            X_true_neg[true_neg_idx[i:i + sub_batch_size]],\n",
    "            X_pseudo_neg[pseudo_neg_idx[i:i + sub_batch_size]]\n",
    "        ), axis=0)[idx])\n",
    "        res_y.extend(np.concatenate((\n",
    "            np.zeros(cur_len), \n",
    "            np.ones(cur_len * 2)\n",
    "        ), axis=0)[idx])\n",
    "        res_w.extend(np.concatenate((\n",
    "            w_pos[pos_idx[i:i + sub_batch_size]],\n",
    "            w_true_neg[true_neg_idx[i:i + sub_batch_size]] * alpha,\n",
    "            w_pseudo_neg[pseudo_neg_idx[i:i + sub_batch_size]] * (1 - alpha),\n",
    "        ), axis=0)[idx])\n",
    "        \n",
    "    return np.array(res_X), np.array(res_y), np.array(res_w)"
   ]
  },
  {
   "cell_type": "markdown",
   "metadata": {},
   "source": [
    "Обучим нейронку с нашими весами"
   ]
  },
  {
   "cell_type": "code",
   "execution_count": 49,
   "metadata": {
    "collapsed": true
   },
   "outputs": [],
   "source": [
    "ours_roc_aucs = {}\n",
    "ours_pr_aucs = {}\n",
    "ours_p_at_r = {\n",
    "    '0.8': {},\n",
    "    '0.9': {}, \n",
    "    '0.95': {},\n",
    "    '0.99': {},\n",
    "}"
   ]
  },
  {
   "cell_type": "code",
   "execution_count": 50,
   "metadata": {
    "collapsed": true
   },
   "outputs": [],
   "source": [
    "fraction_of_negative_used = np.array([0.001, 0.01, 0.1, 0.5, 1, 5, 10, 25, 100]) / 100.\n",
    "n_resplits = np.array([20, 20, 20, 20, 4, 4, 4, 4, 4])\n",
    "n_evals_for_frac = np.zeros_like(fraction_of_negative_used)"
   ]
  },
  {
   "cell_type": "code",
   "execution_count": null,
   "metadata": {},
   "outputs": [
    {
     "name": "stdout",
     "output_type": "stream",
     "text": [
      "[0. 0. 0. 0. 0. 0. 0. 0. 0.]\n"
     ]
    }
   ],
   "source": [
    "print(n_evals_for_frac)"
   ]
  },
  {
   "cell_type": "code",
   "execution_count": null,
   "metadata": {
    "scrolled": false
   },
   "outputs": [
    {
     "name": "stdout",
     "output_type": "stream",
     "text": [
      "Run time: 1877.97 sec\n"
     ]
    },
    {
     "data": {
      "image/png": "[encoded data removed]",
      "text/plain": [
       "<matplotlib.figure.Figure at 0x7f39e4193f98>"
      ]
     },
     "metadata": {},
     "output_type": "display_data"
    },
    {
     "data": {
      "image/png": "[encoded data removed]",
      "text/plain": [
       "<matplotlib.figure.Figure at 0x7f39eb4217b8>"
      ]
     },
     "metadata": {},
     "output_type": "display_data"
    },
    {
     "data": {
      "image/png": "[encoded data removed]",
      "text/plain": [
       "<matplotlib.figure.Figure at 0x7f39e41b4b70>"
      ]
     },
     "metadata": {},
     "output_type": "display_data"
    },
    {
     "data": {
      "image/png": "[encoded data removed]",
      "text/plain": [
       "<matplotlib.figure.Figure at 0x7f39e40958d0>"
      ]
     },
     "metadata": {},
     "output_type": "display_data"
    },
    {
     "data": {
      "image/png": "[encoded data removed]",
      "text/plain": [
       "<matplotlib.figure.Figure at 0x7f39e40ff470>"
      ]
     },
     "metadata": {},
     "output_type": "display_data"
    },
    {
     "data": {
      "image/png": "[encoded data removed]",
      "text/plain": [
       "<matplotlib.figure.Figure at 0x7f39e3bfeef0>"
      ]
     },
     "metadata": {},
     "output_type": "display_data"
    },
    {
     "data": {
      "image/png": "[encoded data removed]",
      "text/plain": [
       "<matplotlib.figure.Figure at 0x7f39e3ec2f28>"
      ]
     },
     "metadata": {},
     "output_type": "display_data"
    },
    {
     "name": "stderr",
     "output_type": "stream",
     "text": [
      "\r",
      "1it [31:53, 1913.77s/it]"
     ]
    },
    {
     "name": "stdout",
     "output_type": "stream",
     "text": [
      "./metrics/our/alpha_0.1/750\n",
      "ROC_AUC:  (1e-05, 0.49395243240000003)\n",
      "alpha:  0.1\n",
      "n_evals_for_frac:  [8. 7. 7. 7. 4. 4. 4. 4. 4.]\n"
     ]
    }
   ],
   "source": [
    "%%time\n",
    "alpha = 0.1\n",
    "metrics_path = './metrics/our/alpha_' + str(alpha)\n",
    "batch_size = 256 * 3\n",
    "n_epochs = 20\n",
    "\n",
    "# weights\n",
    "w_good = np.ones(X_good.shape[0])\n",
    "w_bad = np.ones(X_bad.shape[0])\n",
    "\n",
    "while np.sum(n_resplits - n_evals_for_frac) > 0:\n",
    "    for i, frac in tqdm(enumerate(fraction_of_negative_used)):\n",
    "        if n_evals_for_frac[i] >= n_resplits[i]:\n",
    "            continue\n",
    "        if frac > 1:\n",
    "            end_ind = X_good.shape[0]\n",
    "        else:   \n",
    "            end_ind = int(X_good.shape[0] * frac)\n",
    "\n",
    "        idx_good = np.random.permutation(X_good.shape[0])\n",
    "        idx_bad = np.random.permutation(X_bad.shape[0])\n",
    "        idx_gen = np.random.permutation(X_gen.shape[0])\n",
    "            \n",
    "        cur_X, cur_y, cur_w = get_train_data(\n",
    "            X_good[idx_good], X_bad[idx_bad[:end_ind]], X_gen[idx_gen],\n",
    "            w_good[idx_good], w_bad[idx_bad[:end_ind]], w_gen[idx_gen], batch_size, alpha)\n",
    "\n",
    "        net = build_net()\n",
    "\n",
    "        start_time = timeit.default_timer()\n",
    "        history = net.fit(cur_X, cur_y, sample_weight=cur_w,\n",
    "                          batch_size=batch_size, epochs=n_epochs, validation_split=0.1, verbose=0)\n",
    "        run_time = timeit.default_timer() - start_time\n",
    "\n",
    "        y_pred=net.predict_proba(X_test)\n",
    "        if alpha in ours_pr_aucs:\n",
    "            # append the new number to the existing array at this slot\n",
    "            ours_pr_aucs[alpha].append((frac, average_precision_score(y_test, y_pred)))\n",
    "            ours_roc_aucs[alpha].append((frac, roc_auc_score(y_test, y_pred)))\n",
    "        else:\n",
    "            # create a new array in this slot\n",
    "            ours_pr_aucs[alpha] = [(frac, average_precision_score(y_test, y_pred))]\n",
    "            ours_roc_aucs[alpha] = [(frac, roc_auc_score(y_test, y_pred))]\n",
    "        _eval_p_at_rs(y_test, y_pred, frac, ours_p_at_r, descr=alpha)\n",
    "\n",
    "\n",
    "        # plot metrics\n",
    "        display.clear_output(wait=True)\n",
    "        print(\"Run time: {:.2f} sec\".format(run_time))\n",
    "        history_plot(history)\n",
    "        metric_boxplot(ours_pr_aucs, ylabel='PR_AUC', ylim=(0.1, 0.9))\n",
    "        plt.show()\n",
    "        metric_boxplot(ours_roc_aucs, ylabel='ROC_AUC', ylim=(0.1, 0.9))\n",
    "        plt.show()\n",
    "        for k in ours_p_at_r.keys():\n",
    "            metric_boxplot(ours_p_at_r[k], ylabel='P@R_' + str(k), ylim=(0.4, 0.9))\n",
    "            plt.show()\n",
    "\n",
    "        dump_metrics(metrics_path)\n",
    "        n_evals_for_frac[i] += 1\n",
    "            \n",
    "        print(\"ROC_AUC: \", ours_roc_aucs[alpha][-1])\n",
    "        print('alpha: ', alpha)\n",
    "        print('n_evals_for_frac: ', n_evals_for_frac)"
   ]
  },
  {
   "cell_type": "code",
   "execution_count": null,
   "metadata": {
    "collapsed": true
   },
   "outputs": [],
   "source": []
  }
 ],
 "metadata": {
  "anaconda-cloud": {},
  "kernelspec": {
   "display_name": "Python 3",
   "language": "python",
   "name": "python3"
  },
  "language_info": {
   "codemirror_mode": {
    "name": "ipython",
    "version": 3
   },
   "file_extension": ".py",
   "mimetype": "text/x-python",
   "name": "python",
   "nbconvert_exporter": "python",
   "pygments_lexer": "ipython3",
   "version": "3.6.2"
  }
 },
 "nbformat": 4,
 "nbformat_minor": 1
}
