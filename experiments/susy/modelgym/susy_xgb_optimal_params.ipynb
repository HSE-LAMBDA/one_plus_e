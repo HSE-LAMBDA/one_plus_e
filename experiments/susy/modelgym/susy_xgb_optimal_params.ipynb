{
 "cells": [
  {
   "cell_type": "markdown",
   "metadata": {},
   "source": [
    "# Получение значений метрик"
   ]
  },
  {
   "cell_type": "code",
   "execution_count": 1,
   "metadata": {},
   "outputs": [
    {
     "name": "stderr",
     "output_type": "stream",
     "text": [
      "/opt/conda/anaconda3/lib/python3.6/importlib/_bootstrap.py:205: RuntimeWarning: compiletime version 3.4 of module '_catboost' does not match runtime version 3.6\n",
      "  return f(*args, **kwds)\n"
     ]
    }
   ],
   "source": [
    "import sys\n",
    "import json\n",
    "import timeit\n",
    "import numpy as np\n",
    "import xgboost as xgb\n",
    "import matplotlib.pyplot as plt\n",
    "\n",
    "from tqdm import tqdm\n",
    "from IPython import display\n",
    "\n",
    "from modelgym.report import Report\n",
    "from modelgym.utils import XYCDataset\n",
    "from modelgym.trainers import TpeTrainer\n",
    "from modelgym.metrics import Accuracy, RocAuc, F1\n",
    "\n",
    "from sklearn.ensemble import IsolationForest\n",
    "from sklearn.svm import OneClassSVM\n",
    "\n",
    "sys.path.append('../../gmm_modules/')\n",
    "from data_preparation import get_train_test_data\n",
    "from metrics import metric_boxplot, eval_metrics, dump_metrics\n",
    "from modelgym_models import XGBClassifier\n",
    "\n",
    "np.random.seed(10)\n",
    "%matplotlib inline"
   ]
  },
  {
   "cell_type": "markdown",
   "metadata": {},
   "source": [
    "## Подготовим данные"
   ]
  },
  {
   "cell_type": "code",
   "execution_count": 2,
   "metadata": {},
   "outputs": [
    {
     "name": "stdout",
     "output_type": "stream",
     "text": [
      "CPU times: user 37.3 s, sys: 5.17 s, total: 42.4 s\n",
      "Wall time: 43.6 s\n"
     ]
    }
   ],
   "source": [
    "%%time\n",
    "path_to_dataset = '../../../../SUSY.csv'\n",
    "column_names = 'label, lepton 1 pT, lepton 1 eta, lepton 1 phi, lepton 2 pT, lepton 2 eta, lepton 2 phi, missing energy magnitude, missing energy phi, MET_rel, axial MET, M_R, M_TR_2, R, MT2, S_R, M_Delta_R, dPhi_r_b, cos(theta_r1)'.split(', ')\n",
    "train_size = 400000\n",
    "test_size = 100000\n",
    "\n",
    "X_train, X_test, y_train, y_test = get_train_test_data(path_to_dataset, column_names, train_size, test_size)"
   ]
  },
  {
   "cell_type": "code",
   "execution_count": 3,
   "metadata": {
    "collapsed": true
   },
   "outputs": [],
   "source": [
    "# split X_train by class\n",
    "X_good = X_train[np.where(y_train==0)[0]]\n",
    "X_bad = X_train[np.where(y_train==1)[0]]  "
   ]
  },
  {
   "cell_type": "code",
   "execution_count": 4,
   "metadata": {},
   "outputs": [
    {
     "data": {
      "text/plain": [
       "((200000, 18), (200000, 18), (400000, 18), (100000, 18))"
      ]
     },
     "execution_count": 4,
     "metadata": {},
     "output_type": "execute_result"
    }
   ],
   "source": [
    "X_good.shape, X_bad.shape, X_train.shape, X_test.shape"
   ]
  },
  {
   "cell_type": "markdown",
   "metadata": {},
   "source": [
    "## Подберем XGBoost с оптимальными параметрами"
   ]
  },
  {
   "cell_type": "markdown",
   "metadata": {},
   "source": [
    "Создаем классификатор и trainer для подбора оптимальных параметров"
   ]
  },
  {
   "cell_type": "code",
   "execution_count": 5,
   "metadata": {
    "collapsed": true
   },
   "outputs": [],
   "source": [
    "models = [XGBClassifier]\n",
    "trainer = TpeTrainer(models)"
   ]
  },
  {
   "cell_type": "markdown",
   "metadata": {},
   "source": [
    "Обертка для данных"
   ]
  },
  {
   "cell_type": "code",
   "execution_count": 6,
   "metadata": {
    "collapsed": true
   },
   "outputs": [],
   "source": [
    "dataset = XYCDataset(X_train, y_train)"
   ]
  },
  {
   "cell_type": "markdown",
   "metadata": {},
   "source": [
    "Сам подбор параметров"
   ]
  },
  {
   "cell_type": "code",
   "execution_count": 7,
   "metadata": {
    "scrolled": true
   },
   "outputs": [
    {
     "name": "stdout",
     "output_type": "stream",
     "text": [
      "*****************\n",
      "{'objective': 'binary:logistic', 'eval_metric': 'logloss', 'silent': 1, 'alpha': 0.10863007883607052, 'colsample_bylevel': 0.5283026627708161, 'colsample_bytree': 0.9685334270404067, 'eta': 0.21872219611126306, 'gamma': 1.4183908411533214e-06, 'lambdax': 0.0045309822880843596, 'max_depth': 8, 'min_child_weight': 8.339892016447461e-05, 'subsample': 0.6260089224933235}\n",
      "Fitted\n",
      "Run time: 397.53 sec\n",
      "*****************\n",
      "\n",
      "*****************\n",
      "{'objective': 'binary:logistic', 'eval_metric': 'logloss', 'silent': 1, 'alpha': 0.10863007883607052, 'colsample_bylevel': 0.5283026627708161, 'colsample_bytree': 0.9685334270404067, 'eta': 0.21872219611126306, 'gamma': 1.4183908411533214e-06, 'lambdax': 0.0045309822880843596, 'max_depth': 8, 'min_child_weight': 8.339892016447461e-05, 'subsample': 0.6260089224933235}\n",
      "Fitted\n",
      "Run time: 381.25 sec\n",
      "*****************\n",
      "\n",
      "*****************\n",
      "{'objective': 'binary:logistic', 'eval_metric': 'logloss', 'silent': 1, 'alpha': 0.10863007883607052, 'colsample_bylevel': 0.5283026627708161, 'colsample_bytree': 0.9685334270404067, 'eta': 0.21872219611126306, 'gamma': 1.4183908411533214e-06, 'lambdax': 0.0045309822880843596, 'max_depth': 8, 'min_child_weight': 8.339892016447461e-05, 'subsample': 0.6260089224933235}\n",
      "Fitted\n",
      "Run time: 391.81 sec\n",
      "*****************\n",
      "\n",
      "*****************\n",
      "{'objective': 'binary:logistic', 'eval_metric': 'logloss', 'silent': 1, 'alpha': 0.09388780247255138, 'colsample_bylevel': 0.6180911977322274, 'colsample_bytree': 0.5189779595327051, 'eta': 0.055646269534529516, 'gamma': 6.003780128703213e-07, 'lambdax': 0.06769603516026226, 'max_depth': 3, 'min_child_weight': 2.149974825767237, 'subsample': 0.6146459652399276}\n",
      "Fitted\n",
      "Run time: 157.50 sec\n",
      "*****************\n",
      "\n",
      "*****************\n",
      "{'objective': 'binary:logistic', 'eval_metric': 'logloss', 'silent': 1, 'alpha': 0.09388780247255138, 'colsample_bylevel': 0.6180911977322274, 'colsample_bytree': 0.5189779595327051, 'eta': 0.055646269534529516, 'gamma': 6.003780128703213e-07, 'lambdax': 0.06769603516026226, 'max_depth': 3, 'min_child_weight': 2.149974825767237, 'subsample': 0.6146459652399276}\n",
      "Fitted\n",
      "Run time: 168.29 sec\n",
      "*****************\n",
      "\n",
      "*****************\n",
      "{'objective': 'binary:logistic', 'eval_metric': 'logloss', 'silent': 1, 'alpha': 0.09388780247255138, 'colsample_bylevel': 0.6180911977322274, 'colsample_bytree': 0.5189779595327051, 'eta': 0.055646269534529516, 'gamma': 6.003780128703213e-07, 'lambdax': 0.06769603516026226, 'max_depth': 3, 'min_child_weight': 2.149974825767237, 'subsample': 0.6146459652399276}\n",
      "Fitted\n",
      "Run time: 168.56 sec\n",
      "*****************\n",
      "\n",
      "*****************\n",
      "{'objective': 'binary:logistic', 'eval_metric': 'logloss', 'silent': 1, 'alpha': 0.0018294982095720805, 'colsample_bylevel': 0.5764263293059801, 'colsample_bytree': 0.6777456252762022, 'eta': 0.010462443799533701, 'gamma': 2.642238872230081e-07, 'lambdax': 4.509722156039216e-06, 'max_depth': 8, 'min_child_weight': 0.00016828261925194954, 'subsample': 0.5966677837241052}\n",
      "Fitted\n",
      "Run time: 202.34 sec\n",
      "*****************\n",
      "\n",
      "*****************\n",
      "{'objective': 'binary:logistic', 'eval_metric': 'logloss', 'silent': 1, 'alpha': 0.0018294982095720805, 'colsample_bylevel': 0.5764263293059801, 'colsample_bytree': 0.6777456252762022, 'eta': 0.010462443799533701, 'gamma': 2.642238872230081e-07, 'lambdax': 4.509722156039216e-06, 'max_depth': 8, 'min_child_weight': 0.00016828261925194954, 'subsample': 0.5966677837241052}\n",
      "Fitted\n",
      "Run time: 193.08 sec\n",
      "*****************\n",
      "\n",
      "*****************\n",
      "{'objective': 'binary:logistic', 'eval_metric': 'logloss', 'silent': 1, 'alpha': 0.0018294982095720805, 'colsample_bylevel': 0.5764263293059801, 'colsample_bytree': 0.6777456252762022, 'eta': 0.010462443799533701, 'gamma': 2.642238872230081e-07, 'lambdax': 4.509722156039216e-06, 'max_depth': 8, 'min_child_weight': 0.00016828261925194954, 'subsample': 0.5966677837241052}\n",
      "Fitted\n",
      "Run time: 206.96 sec\n",
      "*****************\n",
      "\n",
      "*****************\n",
      "{'objective': 'binary:logistic', 'eval_metric': 'logloss', 'silent': 1, 'alpha': 0.013462870482118965, 'colsample_bylevel': 0.7675387706254916, 'colsample_bytree': 0.7995461603934328, 'eta': 0.01618411484036948, 'gamma': 5.450852983607494e-05, 'lambdax': 3.173122587415945e-07, 'max_depth': 4, 'min_child_weight': 0.0038538152370682067, 'subsample': 0.7914740964329232}\n",
      "Fitted\n",
      "Run time: 262.13 sec\n",
      "*****************\n",
      "\n",
      "*****************\n",
      "{'objective': 'binary:logistic', 'eval_metric': 'logloss', 'silent': 1, 'alpha': 0.013462870482118965, 'colsample_bylevel': 0.7675387706254916, 'colsample_bytree': 0.7995461603934328, 'eta': 0.01618411484036948, 'gamma': 5.450852983607494e-05, 'lambdax': 3.173122587415945e-07, 'max_depth': 4, 'min_child_weight': 0.0038538152370682067, 'subsample': 0.7914740964329232}\n",
      "Fitted\n",
      "Run time: 266.69 sec\n",
      "*****************\n",
      "\n",
      "*****************\n",
      "{'objective': 'binary:logistic', 'eval_metric': 'logloss', 'silent': 1, 'alpha': 0.013462870482118965, 'colsample_bylevel': 0.7675387706254916, 'colsample_bytree': 0.7995461603934328, 'eta': 0.01618411484036948, 'gamma': 5.450852983607494e-05, 'lambdax': 3.173122587415945e-07, 'max_depth': 4, 'min_child_weight': 0.0038538152370682067, 'subsample': 0.7914740964329232}\n",
      "Fitted\n",
      "Run time: 264.84 sec\n",
      "*****************\n",
      "\n",
      "*****************\n",
      "{'objective': 'binary:logistic', 'eval_metric': 'logloss', 'silent': 1, 'alpha': 0.000136523157993275, 'colsample_bylevel': 0.842285859174285, 'colsample_bytree': 0.5257489415737904, 'eta': 0.8532809887409641, 'gamma': 1.8329400045360252e-05, 'lambdax': 0.10787907979634287, 'max_depth': 3, 'min_child_weight': 57.064928669955776, 'subsample': 0.7957655632618783}\n",
      "Fitted\n",
      "Run time: 90.39 sec\n",
      "*****************\n",
      "\n",
      "*****************\n",
      "{'objective': 'binary:logistic', 'eval_metric': 'logloss', 'silent': 1, 'alpha': 0.000136523157993275, 'colsample_bylevel': 0.842285859174285, 'colsample_bytree': 0.5257489415737904, 'eta': 0.8532809887409641, 'gamma': 1.8329400045360252e-05, 'lambdax': 0.10787907979634287, 'max_depth': 3, 'min_child_weight': 57.064928669955776, 'subsample': 0.7957655632618783}\n",
      "Fitted\n",
      "Run time: 90.29 sec\n",
      "*****************\n",
      "\n",
      "*****************\n",
      "{'objective': 'binary:logistic', 'eval_metric': 'logloss', 'silent': 1, 'alpha': 0.000136523157993275, 'colsample_bylevel': 0.842285859174285, 'colsample_bytree': 0.5257489415737904, 'eta': 0.8532809887409641, 'gamma': 1.8329400045360252e-05, 'lambdax': 0.10787907979634287, 'max_depth': 3, 'min_child_weight': 57.064928669955776, 'subsample': 0.7957655632618783}\n",
      "Fitted\n",
      "Run time: 86.24 sec\n",
      "*****************\n",
      "\n",
      "*****************\n",
      "{'objective': 'binary:logistic', 'eval_metric': 'logloss', 'silent': 1, 'alpha': 6.412479386878307e-07, 'colsample_bylevel': 0.5468077045432652, 'colsample_bytree': 0.9375064813152003, 'eta': 0.10326275648661956, 'gamma': 1.0213706468172582e-05, 'lambdax': 1.4888456637003583e-07, 'max_depth': 6, 'min_child_weight': 4.5312996075214e-07, 'subsample': 0.6175445696577933}\n",
      "Fitted\n",
      "Run time: 117.24 sec\n",
      "*****************\n",
      "\n",
      "*****************\n",
      "{'objective': 'binary:logistic', 'eval_metric': 'logloss', 'silent': 1, 'alpha': 6.412479386878307e-07, 'colsample_bylevel': 0.5468077045432652, 'colsample_bytree': 0.9375064813152003, 'eta': 0.10326275648661956, 'gamma': 1.0213706468172582e-05, 'lambdax': 1.4888456637003583e-07, 'max_depth': 6, 'min_child_weight': 4.5312996075214e-07, 'subsample': 0.6175445696577933}\n",
      "Fitted\n",
      "Run time: 107.59 sec\n",
      "*****************\n",
      "\n",
      "*****************\n",
      "{'objective': 'binary:logistic', 'eval_metric': 'logloss', 'silent': 1, 'alpha': 6.412479386878307e-07, 'colsample_bylevel': 0.5468077045432652, 'colsample_bytree': 0.9375064813152003, 'eta': 0.10326275648661956, 'gamma': 1.0213706468172582e-05, 'lambdax': 1.4888456637003583e-07, 'max_depth': 6, 'min_child_weight': 4.5312996075214e-07, 'subsample': 0.6175445696577933}\n",
      "Fitted\n",
      "Run time: 104.37 sec\n",
      "*****************\n",
      "\n",
      "*****************\n",
      "{'objective': 'binary:logistic', 'eval_metric': 'logloss', 'silent': 1, 'alpha': 0.0013446384330198394, 'colsample_bylevel': 0.814807701064985, 'colsample_bytree': 0.6410312720443044, 'eta': 0.028151096095252442, 'gamma': 0.021736356101880162, 'lambdax': 6.959187603290769e-05, 'max_depth': 3, 'min_child_weight': 0.0041127332205244125, 'subsample': 0.8874629313848942}\n",
      "Fitted\n",
      "Run time: 61.99 sec\n",
      "*****************\n",
      "\n"
     ]
    },
    {
     "name": "stdout",
     "output_type": "stream",
     "text": [
      "*****************\n",
      "{'objective': 'binary:logistic', 'eval_metric': 'logloss', 'silent': 1, 'alpha': 0.0013446384330198394, 'colsample_bylevel': 0.814807701064985, 'colsample_bytree': 0.6410312720443044, 'eta': 0.028151096095252442, 'gamma': 0.021736356101880162, 'lambdax': 6.959187603290769e-05, 'max_depth': 3, 'min_child_weight': 0.0041127332205244125, 'subsample': 0.8874629313848942}\n",
      "Fitted\n",
      "Run time: 71.24 sec\n",
      "*****************\n",
      "\n",
      "*****************\n",
      "{'objective': 'binary:logistic', 'eval_metric': 'logloss', 'silent': 1, 'alpha': 0.0013446384330198394, 'colsample_bylevel': 0.814807701064985, 'colsample_bytree': 0.6410312720443044, 'eta': 0.028151096095252442, 'gamma': 0.021736356101880162, 'lambdax': 6.959187603290769e-05, 'max_depth': 3, 'min_child_weight': 0.0041127332205244125, 'subsample': 0.8874629313848942}\n",
      "Fitted\n",
      "Run time: 67.71 sec\n",
      "*****************\n",
      "\n",
      "*****************\n",
      "{'objective': 'binary:logistic', 'eval_metric': 'logloss', 'silent': 1, 'alpha': 4.216031838385748, 'colsample_bylevel': 0.8113311589262485, 'colsample_bytree': 0.5381587957504228, 'eta': 0.020230851683517823, 'gamma': 0.9099252591253414, 'lambdax': 6.770624486445394e-05, 'max_depth': 6, 'min_child_weight': 1.2811810874034861, 'subsample': 0.6530645384019773}\n",
      "Fitted\n",
      "Run time: 265.57 sec\n",
      "*****************\n",
      "\n",
      "*****************\n",
      "{'objective': 'binary:logistic', 'eval_metric': 'logloss', 'silent': 1, 'alpha': 4.216031838385748, 'colsample_bylevel': 0.8113311589262485, 'colsample_bytree': 0.5381587957504228, 'eta': 0.020230851683517823, 'gamma': 0.9099252591253414, 'lambdax': 6.770624486445394e-05, 'max_depth': 6, 'min_child_weight': 1.2811810874034861, 'subsample': 0.6530645384019773}\n",
      "Fitted\n",
      "Run time: 256.38 sec\n",
      "*****************\n",
      "\n",
      "*****************\n",
      "{'objective': 'binary:logistic', 'eval_metric': 'logloss', 'silent': 1, 'alpha': 4.216031838385748, 'colsample_bylevel': 0.8113311589262485, 'colsample_bytree': 0.5381587957504228, 'eta': 0.020230851683517823, 'gamma': 0.9099252591253414, 'lambdax': 6.770624486445394e-05, 'max_depth': 6, 'min_child_weight': 1.2811810874034861, 'subsample': 0.6530645384019773}\n",
      "Fitted\n",
      "Run time: 260.71 sec\n",
      "*****************\n",
      "\n",
      "*****************\n",
      "{'objective': 'binary:logistic', 'eval_metric': 'logloss', 'silent': 1, 'alpha': 0.002193211501217325, 'colsample_bylevel': 0.8116959645306137, 'colsample_bytree': 0.8443680279539747, 'eta': 0.0017086462282563358, 'gamma': 0.4560220359418481, 'lambdax': 0.0023915690305308466, 'max_depth': 3, 'min_child_weight': 6.482267523406113e-05, 'subsample': 0.9155747881002403}\n",
      "Fitted\n",
      "Run time: 222.57 sec\n",
      "*****************\n",
      "\n",
      "*****************\n",
      "{'objective': 'binary:logistic', 'eval_metric': 'logloss', 'silent': 1, 'alpha': 0.002193211501217325, 'colsample_bylevel': 0.8116959645306137, 'colsample_bytree': 0.8443680279539747, 'eta': 0.0017086462282563358, 'gamma': 0.4560220359418481, 'lambdax': 0.0023915690305308466, 'max_depth': 3, 'min_child_weight': 6.482267523406113e-05, 'subsample': 0.9155747881002403}\n",
      "Fitted\n",
      "Run time: 207.36 sec\n",
      "*****************\n",
      "\n",
      "*****************\n",
      "{'objective': 'binary:logistic', 'eval_metric': 'logloss', 'silent': 1, 'alpha': 0.002193211501217325, 'colsample_bylevel': 0.8116959645306137, 'colsample_bytree': 0.8443680279539747, 'eta': 0.0017086462282563358, 'gamma': 0.4560220359418481, 'lambdax': 0.0023915690305308466, 'max_depth': 3, 'min_child_weight': 6.482267523406113e-05, 'subsample': 0.9155747881002403}\n",
      "Fitted\n",
      "Run time: 225.44 sec\n",
      "*****************\n",
      "\n",
      "*****************\n",
      "{'objective': 'binary:logistic', 'eval_metric': 'logloss', 'silent': 1, 'alpha': 0.016236950548099417, 'colsample_bylevel': 0.9913200311357452, 'colsample_bytree': 0.9337239277209227, 'eta': 0.0016413703055327496, 'gamma': 0.0026612621227298, 'lambdax': 0.016366516423366055, 'max_depth': 6, 'min_child_weight': 0.00021894483734729306, 'subsample': 0.5287161055811164}\n",
      "Fitted\n",
      "Run time: 319.08 sec\n",
      "*****************\n",
      "\n",
      "*****************\n",
      "{'objective': 'binary:logistic', 'eval_metric': 'logloss', 'silent': 1, 'alpha': 0.016236950548099417, 'colsample_bylevel': 0.9913200311357452, 'colsample_bytree': 0.9337239277209227, 'eta': 0.0016413703055327496, 'gamma': 0.0026612621227298, 'lambdax': 0.016366516423366055, 'max_depth': 6, 'min_child_weight': 0.00021894483734729306, 'subsample': 0.5287161055811164}\n",
      "Fitted\n",
      "Run time: 317.64 sec\n",
      "*****************\n",
      "\n",
      "*****************\n",
      "{'objective': 'binary:logistic', 'eval_metric': 'logloss', 'silent': 1, 'alpha': 0.016236950548099417, 'colsample_bylevel': 0.9913200311357452, 'colsample_bytree': 0.9337239277209227, 'eta': 0.0016413703055327496, 'gamma': 0.0026612621227298, 'lambdax': 0.016366516423366055, 'max_depth': 6, 'min_child_weight': 0.00021894483734729306, 'subsample': 0.5287161055811164}\n",
      "Fitted\n",
      "Run time: 301.54 sec\n",
      "*****************\n",
      "\n",
      "*****************\n",
      "{'objective': 'binary:logistic', 'eval_metric': 'logloss', 'silent': 1, 'alpha': 2.9947346800330745e-05, 'colsample_bylevel': 0.6274388795812785, 'colsample_bytree': 0.7063844271775325, 'eta': 0.07792599139236818, 'gamma': 4.620816158839498e-07, 'lambdax': 0.042160410925453556, 'max_depth': 9, 'min_child_weight': 6.736787372482394e-06, 'subsample': 0.6736205452510124}\n",
      "Fitted\n",
      "Run time: 328.02 sec\n",
      "*****************\n",
      "\n",
      "*****************\n",
      "{'objective': 'binary:logistic', 'eval_metric': 'logloss', 'silent': 1, 'alpha': 2.9947346800330745e-05, 'colsample_bylevel': 0.6274388795812785, 'colsample_bytree': 0.7063844271775325, 'eta': 0.07792599139236818, 'gamma': 4.620816158839498e-07, 'lambdax': 0.042160410925453556, 'max_depth': 9, 'min_child_weight': 6.736787372482394e-06, 'subsample': 0.6736205452510124}\n",
      "Fitted\n",
      "Run time: 340.39 sec\n",
      "*****************\n",
      "\n",
      "*****************\n",
      "{'objective': 'binary:logistic', 'eval_metric': 'logloss', 'silent': 1, 'alpha': 2.9947346800330745e-05, 'colsample_bylevel': 0.6274388795812785, 'colsample_bytree': 0.7063844271775325, 'eta': 0.07792599139236818, 'gamma': 4.620816158839498e-07, 'lambdax': 0.042160410925453556, 'max_depth': 9, 'min_child_weight': 6.736787372482394e-06, 'subsample': 0.6736205452510124}\n",
      "Fitted\n",
      "Run time: 331.79 sec\n",
      "*****************\n",
      "\n",
      "*****************\n",
      "{'objective': 'binary:logistic', 'eval_metric': 'logloss', 'silent': 1, 'alpha': 0.2578746518931605, 'colsample_bylevel': 0.7212232806510803, 'colsample_bytree': 0.9599446977965864, 'eta': 0.15099373246007536, 'gamma': 9.404798226807903e-06, 'lambdax': 0.7249996886966119, 'max_depth': 2, 'min_child_weight': 1.4249360902537627, 'subsample': 0.6573611901272085}\n",
      "Fitted\n",
      "Run time: 40.91 sec\n",
      "*****************\n",
      "\n",
      "*****************\n",
      "{'objective': 'binary:logistic', 'eval_metric': 'logloss', 'silent': 1, 'alpha': 0.2578746518931605, 'colsample_bylevel': 0.7212232806510803, 'colsample_bytree': 0.9599446977965864, 'eta': 0.15099373246007536, 'gamma': 9.404798226807903e-06, 'lambdax': 0.7249996886966119, 'max_depth': 2, 'min_child_weight': 1.4249360902537627, 'subsample': 0.6573611901272085}\n",
      "Fitted\n",
      "Run time: 41.07 sec\n",
      "*****************\n",
      "\n",
      "*****************\n",
      "{'objective': 'binary:logistic', 'eval_metric': 'logloss', 'silent': 1, 'alpha': 0.2578746518931605, 'colsample_bylevel': 0.7212232806510803, 'colsample_bytree': 0.9599446977965864, 'eta': 0.15099373246007536, 'gamma': 9.404798226807903e-06, 'lambdax': 0.7249996886966119, 'max_depth': 2, 'min_child_weight': 1.4249360902537627, 'subsample': 0.6573611901272085}\n",
      "Fitted\n",
      "Run time: 39.95 sec\n",
      "*****************\n",
      "\n",
      "*****************\n",
      "{'objective': 'binary:logistic', 'eval_metric': 'logloss', 'silent': 1, 'alpha': 3.6380511014622314, 'colsample_bylevel': 0.9489874661781345, 'colsample_bytree': 0.7397327773414224, 'eta': 0.006917995218811719, 'gamma': 0.0985310194635813, 'lambdax': 0.0007468046098141475, 'max_depth': 6, 'min_child_weight': 0.13846405630298025, 'subsample': 0.9765460201631335}\n",
      "Fitted\n",
      "Run time: 583.29 sec\n",
      "*****************\n",
      "\n",
      "*****************\n",
      "{'objective': 'binary:logistic', 'eval_metric': 'logloss', 'silent': 1, 'alpha': 3.6380511014622314, 'colsample_bylevel': 0.9489874661781345, 'colsample_bytree': 0.7397327773414224, 'eta': 0.006917995218811719, 'gamma': 0.0985310194635813, 'lambdax': 0.0007468046098141475, 'max_depth': 6, 'min_child_weight': 0.13846405630298025, 'subsample': 0.9765460201631335}\n",
      "Fitted\n",
      "Run time: 597.99 sec\n",
      "*****************\n",
      "\n"
     ]
    },
    {
     "name": "stdout",
     "output_type": "stream",
     "text": [
      "*****************\n",
      "{'objective': 'binary:logistic', 'eval_metric': 'logloss', 'silent': 1, 'alpha': 3.6380511014622314, 'colsample_bylevel': 0.9489874661781345, 'colsample_bytree': 0.7397327773414224, 'eta': 0.006917995218811719, 'gamma': 0.0985310194635813, 'lambdax': 0.0007468046098141475, 'max_depth': 6, 'min_child_weight': 0.13846405630298025, 'subsample': 0.9765460201631335}\n",
      "Fitted\n",
      "Run time: 588.04 sec\n",
      "*****************\n",
      "\n",
      "*****************\n",
      "{'objective': 'binary:logistic', 'eval_metric': 'logloss', 'silent': 1, 'alpha': 0.0016886225850734746, 'colsample_bylevel': 0.7156215715667293, 'colsample_bytree': 0.7577420728664577, 'eta': 0.4643317997088304, 'gamma': 3.6088260894983097, 'lambdax': 3.387530286607219e-07, 'max_depth': 8, 'min_child_weight': 0.0004770433192468865, 'subsample': 0.5815439938506958}\n",
      "Fitted\n",
      "Run time: 895.05 sec\n",
      "*****************\n",
      "\n",
      "*****************\n",
      "{'objective': 'binary:logistic', 'eval_metric': 'logloss', 'silent': 1, 'alpha': 0.0016886225850734746, 'colsample_bylevel': 0.7156215715667293, 'colsample_bytree': 0.7577420728664577, 'eta': 0.4643317997088304, 'gamma': 3.6088260894983097, 'lambdax': 3.387530286607219e-07, 'max_depth': 8, 'min_child_weight': 0.0004770433192468865, 'subsample': 0.5815439938506958}\n",
      "Fitted\n",
      "Run time: 880.07 sec\n",
      "*****************\n",
      "\n",
      "*****************\n",
      "{'objective': 'binary:logistic', 'eval_metric': 'logloss', 'silent': 1, 'alpha': 0.0016886225850734746, 'colsample_bylevel': 0.7156215715667293, 'colsample_bytree': 0.7577420728664577, 'eta': 0.4643317997088304, 'gamma': 3.6088260894983097, 'lambdax': 3.387530286607219e-07, 'max_depth': 8, 'min_child_weight': 0.0004770433192468865, 'subsample': 0.5815439938506958}\n",
      "Fitted\n",
      "Run time: 894.24 sec\n",
      "*****************\n",
      "\n",
      "*****************\n",
      "{'objective': 'binary:logistic', 'eval_metric': 'logloss', 'silent': 1, 'alpha': 1.9507518155415522, 'colsample_bylevel': 0.862064046016676, 'colsample_bytree': 0.6312468986389882, 'eta': 0.26147518872490044, 'gamma': 1.172176636625986e-05, 'lambdax': 2.0045685820203114e-06, 'max_depth': 4, 'min_child_weight': 2.1511210681467485, 'subsample': 0.6533931615959949}\n",
      "Fitted\n",
      "Run time: 197.72 sec\n",
      "*****************\n",
      "\n",
      "*****************\n",
      "{'objective': 'binary:logistic', 'eval_metric': 'logloss', 'silent': 1, 'alpha': 1.9507518155415522, 'colsample_bylevel': 0.862064046016676, 'colsample_bytree': 0.6312468986389882, 'eta': 0.26147518872490044, 'gamma': 1.172176636625986e-05, 'lambdax': 2.0045685820203114e-06, 'max_depth': 4, 'min_child_weight': 2.1511210681467485, 'subsample': 0.6533931615959949}\n",
      "Fitted\n",
      "Run time: 195.46 sec\n",
      "*****************\n",
      "\n",
      "*****************\n",
      "{'objective': 'binary:logistic', 'eval_metric': 'logloss', 'silent': 1, 'alpha': 1.9507518155415522, 'colsample_bylevel': 0.862064046016676, 'colsample_bytree': 0.6312468986389882, 'eta': 0.26147518872490044, 'gamma': 1.172176636625986e-05, 'lambdax': 2.0045685820203114e-06, 'max_depth': 4, 'min_child_weight': 2.1511210681467485, 'subsample': 0.6533931615959949}\n",
      "Fitted\n",
      "Run time: 193.22 sec\n",
      "*****************\n",
      "\n",
      "*****************\n",
      "{'objective': 'binary:logistic', 'eval_metric': 'logloss', 'silent': 1, 'alpha': 3.0421727075198572, 'colsample_bylevel': 0.7194471675262533, 'colsample_bytree': 0.8471132392679195, 'eta': 0.03727833234660572, 'gamma': 1.5601096697898438, 'lambdax': 1.2312457118529869e-05, 'max_depth': 4, 'min_child_weight': 1.401421156270952e-06, 'subsample': 0.7852957759418491}\n",
      "Fitted\n",
      "Run time: 203.38 sec\n",
      "*****************\n",
      "\n",
      "*****************\n",
      "{'objective': 'binary:logistic', 'eval_metric': 'logloss', 'silent': 1, 'alpha': 3.0421727075198572, 'colsample_bylevel': 0.7194471675262533, 'colsample_bytree': 0.8471132392679195, 'eta': 0.03727833234660572, 'gamma': 1.5601096697898438, 'lambdax': 1.2312457118529869e-05, 'max_depth': 4, 'min_child_weight': 1.401421156270952e-06, 'subsample': 0.7852957759418491}\n",
      "Fitted\n",
      "Run time: 204.79 sec\n",
      "*****************\n",
      "\n",
      "*****************\n",
      "{'objective': 'binary:logistic', 'eval_metric': 'logloss', 'silent': 1, 'alpha': 3.0421727075198572, 'colsample_bylevel': 0.7194471675262533, 'colsample_bytree': 0.8471132392679195, 'eta': 0.03727833234660572, 'gamma': 1.5601096697898438, 'lambdax': 1.2312457118529869e-05, 'max_depth': 4, 'min_child_weight': 1.401421156270952e-06, 'subsample': 0.7852957759418491}\n",
      "Fitted\n",
      "Run time: 197.18 sec\n",
      "*****************\n",
      "\n",
      "*****************\n",
      "{'objective': 'binary:logistic', 'eval_metric': 'logloss', 'silent': 1, 'alpha': 0.29085960300378316, 'colsample_bylevel': 0.9959213992076568, 'colsample_bytree': 0.9933361294026943, 'eta': 0.7484886361380824, 'gamma': 0.5810544678002773, 'lambdax': 0.027044354967690063, 'max_depth': 4, 'min_child_weight': 0.004984385035448782, 'subsample': 0.6862638537336444}\n",
      "Fitted\n",
      "Run time: 173.81 sec\n",
      "*****************\n",
      "\n",
      "*****************\n",
      "{'objective': 'binary:logistic', 'eval_metric': 'logloss', 'silent': 1, 'alpha': 0.29085960300378316, 'colsample_bylevel': 0.9959213992076568, 'colsample_bytree': 0.9933361294026943, 'eta': 0.7484886361380824, 'gamma': 0.5810544678002773, 'lambdax': 0.027044354967690063, 'max_depth': 4, 'min_child_weight': 0.004984385035448782, 'subsample': 0.6862638537336444}\n",
      "Fitted\n",
      "Run time: 174.61 sec\n",
      "*****************\n",
      "\n",
      "*****************\n",
      "{'objective': 'binary:logistic', 'eval_metric': 'logloss', 'silent': 1, 'alpha': 0.29085960300378316, 'colsample_bylevel': 0.9959213992076568, 'colsample_bytree': 0.9933361294026943, 'eta': 0.7484886361380824, 'gamma': 0.5810544678002773, 'lambdax': 0.027044354967690063, 'max_depth': 4, 'min_child_weight': 0.004984385035448782, 'subsample': 0.6862638537336444}\n",
      "Fitted\n",
      "Run time: 175.75 sec\n",
      "*****************\n",
      "\n",
      "*****************\n",
      "{'objective': 'binary:logistic', 'eval_metric': 'logloss', 'silent': 1, 'alpha': 0.002018669219603176, 'colsample_bylevel': 0.9782590174785173, 'colsample_bytree': 0.7841365214346445, 'eta': 0.013043767416833765, 'gamma': 1.1853820575655836e-07, 'lambdax': 0.0010936281029067596, 'max_depth': 7, 'min_child_weight': 0.054503184472902054, 'subsample': 0.8560809178216139}\n",
      "Fitted\n",
      "Run time: 499.45 sec\n",
      "*****************\n",
      "\n",
      "*****************\n",
      "{'objective': 'binary:logistic', 'eval_metric': 'logloss', 'silent': 1, 'alpha': 0.002018669219603176, 'colsample_bylevel': 0.9782590174785173, 'colsample_bytree': 0.7841365214346445, 'eta': 0.013043767416833765, 'gamma': 1.1853820575655836e-07, 'lambdax': 0.0010936281029067596, 'max_depth': 7, 'min_child_weight': 0.054503184472902054, 'subsample': 0.8560809178216139}\n",
      "Fitted\n",
      "Run time: 486.39 sec\n",
      "*****************\n",
      "\n",
      "*****************\n",
      "{'objective': 'binary:logistic', 'eval_metric': 'logloss', 'silent': 1, 'alpha': 0.002018669219603176, 'colsample_bylevel': 0.9782590174785173, 'colsample_bytree': 0.7841365214346445, 'eta': 0.013043767416833765, 'gamma': 1.1853820575655836e-07, 'lambdax': 0.0010936281029067596, 'max_depth': 7, 'min_child_weight': 0.054503184472902054, 'subsample': 0.8560809178216139}\n",
      "Fitted\n",
      "Run time: 490.48 sec\n",
      "*****************\n",
      "\n",
      "*****************\n",
      "{'objective': 'binary:logistic', 'eval_metric': 'logloss', 'silent': 1, 'alpha': 0.24706759682742413, 'colsample_bylevel': 0.6193160769479984, 'colsample_bytree': 0.7706086548273553, 'eta': 0.012460020103795582, 'gamma': 1.9118000235607855, 'lambdax': 4.239716267335376, 'max_depth': 8, 'min_child_weight': 1.68003581657348e-06, 'subsample': 0.9089821757806529}\n",
      "Fitted\n",
      "Run time: 774.78 sec\n",
      "*****************\n",
      "\n",
      "*****************\n",
      "{'objective': 'binary:logistic', 'eval_metric': 'logloss', 'silent': 1, 'alpha': 0.24706759682742413, 'colsample_bylevel': 0.6193160769479984, 'colsample_bytree': 0.7706086548273553, 'eta': 0.012460020103795582, 'gamma': 1.9118000235607855, 'lambdax': 4.239716267335376, 'max_depth': 8, 'min_child_weight': 1.68003581657348e-06, 'subsample': 0.9089821757806529}\n",
      "Fitted\n",
      "Run time: 765.28 sec\n",
      "*****************\n",
      "\n",
      "*****************\n",
      "{'objective': 'binary:logistic', 'eval_metric': 'logloss', 'silent': 1, 'alpha': 0.24706759682742413, 'colsample_bylevel': 0.6193160769479984, 'colsample_bytree': 0.7706086548273553, 'eta': 0.012460020103795582, 'gamma': 1.9118000235607855, 'lambdax': 4.239716267335376, 'max_depth': 8, 'min_child_weight': 1.68003581657348e-06, 'subsample': 0.9089821757806529}\n",
      "Fitted\n",
      "Run time: 754.50 sec\n",
      "*****************\n",
      "\n",
      "*****************\n",
      "{'objective': 'binary:logistic', 'eval_metric': 'logloss', 'silent': 1, 'alpha': 0.02229277529943254, 'colsample_bylevel': 0.7519409289884126, 'colsample_bytree': 0.7177271540817023, 'eta': 0.10229236688382558, 'gamma': 0.0003111873711948123, 'lambdax': 9.327379179256176e-06, 'max_depth': 10, 'min_child_weight': 0.0004745503133877425, 'subsample': 0.5613308792150343}\n"
     ]
    },
    {
     "name": "stdout",
     "output_type": "stream",
     "text": [
      "Fitted\n",
      "Run time: 1192.39 sec\n",
      "*****************\n",
      "\n",
      "*****************\n",
      "{'objective': 'binary:logistic', 'eval_metric': 'logloss', 'silent': 1, 'alpha': 0.02229277529943254, 'colsample_bylevel': 0.7519409289884126, 'colsample_bytree': 0.7177271540817023, 'eta': 0.10229236688382558, 'gamma': 0.0003111873711948123, 'lambdax': 9.327379179256176e-06, 'max_depth': 10, 'min_child_weight': 0.0004745503133877425, 'subsample': 0.5613308792150343}\n",
      "Fitted\n",
      "Run time: 1196.29 sec\n",
      "*****************\n",
      "\n",
      "*****************\n",
      "{'objective': 'binary:logistic', 'eval_metric': 'logloss', 'silent': 1, 'alpha': 0.02229277529943254, 'colsample_bylevel': 0.7519409289884126, 'colsample_bytree': 0.7177271540817023, 'eta': 0.10229236688382558, 'gamma': 0.0003111873711948123, 'lambdax': 9.327379179256176e-06, 'max_depth': 10, 'min_child_weight': 0.0004745503133877425, 'subsample': 0.5613308792150343}\n",
      "Fitted\n",
      "Run time: 1194.28 sec\n",
      "*****************\n",
      "\n",
      "CPU times: user 2d 22h 35min 41s, sys: 11h 47min 41s, total: 3d 10h 23min 22s\n",
      "Wall time: 5h 49min 52s\n"
     ]
    }
   ],
   "source": [
    "%%time\n",
    "trainer.crossval_optimize_params(RocAuc(), dataset, metrics=[Accuracy(), RocAuc(), F1()], verbose=True,\n",
    "                                 cv=3, opt_evals=20)"
   ]
  },
  {
   "cell_type": "code",
   "execution_count": null,
   "metadata": {
    "collapsed": true
   },
   "outputs": [],
   "source": [
    "9"
   ]
  },
  {
   "cell_type": "markdown",
   "metadata": {},
   "source": [
    "Результаты"
   ]
  },
  {
   "cell_type": "code",
   "execution_count": 8,
   "metadata": {
    "collapsed": true
   },
   "outputs": [],
   "source": [
    "reporter = Report(trainer.get_best_results(), dataset, [Accuracy(), RocAuc(), F1()])"
   ]
  },
  {
   "cell_type": "code",
   "execution_count": 9,
   "metadata": {},
   "outputs": [
    {
     "name": "stdout",
     "output_type": "stream",
     "text": [
      "\n",
      "~~~~~~~~~~~~~~~~~~~~~~~~~~~~~~~~~~~~~~~~~~~~~~    accuracy    ~~~~~~~~~~~~~~~~~~~~~~~~~~~~~~~~~~~~~~~~~~~~~~~\n",
      "\n",
      "                           tuned\n",
      "XGBClassifier  0.797317 (+0.00%)\n",
      "\n",
      "~~~~~~~~~~~~~~~~~~~~~~~~~~~~~~~~~~~~~~~~~~~~~~~    roc_auc    ~~~~~~~~~~~~~~~~~~~~~~~~~~~~~~~~~~~~~~~~~~~~~~~\n",
      "\n",
      "                           tuned\n",
      "XGBClassifier  0.875776 (+0.00%)\n",
      "\n",
      "~~~~~~~~~~~~~~~~~~~~~~~~~~~~~~~~~~~~~~~~~~~~~~    f1_score    ~~~~~~~~~~~~~~~~~~~~~~~~~~~~~~~~~~~~~~~~~~~~~~~\n",
      "\n",
      "                           tuned\n",
      "XGBClassifier  0.786243 (+0.00%)\n"
     ]
    }
   ],
   "source": [
    "reporter.print_all_metric_results()"
   ]
  },
  {
   "cell_type": "code",
   "execution_count": 10,
   "metadata": {
    "scrolled": true
   },
   "outputs": [
    {
     "name": "stdout",
     "output_type": "stream",
     "text": [
      "\n",
      "~~~~~~~~~~~~~~~~~~~~~~~~~~~~~~~~~~~~~~~~~~~~~~    accuracy    ~~~~~~~~~~~~~~~~~~~~~~~~~~~~~~~~~~~~~~~~~~~~~~~\n",
      "\n"
     ]
    },
    {
     "data": {
      "image/png": "[encoded data removed]",
      "text/plain": [
       "<matplotlib.figure.Figure at 0x7faacdb74400>"
      ]
     },
     "metadata": {},
     "output_type": "display_data"
    },
    {
     "name": "stdout",
     "output_type": "stream",
     "text": [
      "\n",
      "~~~~~~~~~~~~~~~~~~~~~~~~~~~~~~~~~~~~~~~~~~~~~~~    roc_auc    ~~~~~~~~~~~~~~~~~~~~~~~~~~~~~~~~~~~~~~~~~~~~~~~\n",
      "\n"
     ]
    },
    {
     "data": {
      "image/png": "[encoded data removed]",
      "text/plain": [
       "<matplotlib.figure.Figure at 0x7faafafd5be0>"
      ]
     },
     "metadata": {},
     "output_type": "display_data"
    },
    {
     "name": "stdout",
     "output_type": "stream",
     "text": [
      "\n",
      "~~~~~~~~~~~~~~~~~~~~~~~~~~~~~~~~~~~~~~~~~~~~~~    f1_score    ~~~~~~~~~~~~~~~~~~~~~~~~~~~~~~~~~~~~~~~~~~~~~~~\n",
      "\n"
     ]
    },
    {
     "data": {
      "image/png": "[encoded data removed]",
      "text/plain": [
       "<matplotlib.figure.Figure at 0x7faaed7ace10>"
      ]
     },
     "metadata": {},
     "output_type": "display_data"
    }
   ],
   "source": [
    "reporter.plot_all_metrics()"
   ]
  },
  {
   "cell_type": "markdown",
   "metadata": {},
   "source": [
    "Вытащим значения оптимальных параметров"
   ]
  },
  {
   "cell_type": "code",
   "execution_count": 11,
   "metadata": {},
   "outputs": [
    {
     "data": {
      "text/plain": [
       "{'alpha': 0.24706759682742413,\n",
       " 'colsample_bylevel': 0.6193160769479984,\n",
       " 'colsample_bytree': 0.7706086548273553,\n",
       " 'eta': 0.012460020103795582,\n",
       " 'gamma': 1.9118000235607855,\n",
       " 'lambdax': 4.239716267335376,\n",
       " 'max_depth': 8,\n",
       " 'min_child_weight': 1.68003581657348e-06,\n",
       " 'n_estimators': 800,\n",
       " 'subsample': 0.9089821757806529}"
      ]
     },
     "execution_count": 11,
     "metadata": {},
     "output_type": "execute_result"
    }
   ],
   "source": [
    "trainer_log = trainer.state['XGBClassifier']\n",
    "opt_params = trainer_log.best_trial['result']['params']\n",
    "opt_params"
   ]
  },
  {
   "cell_type": "markdown",
   "metadata": {},
   "source": [
    "Сохраним эти значения"
   ]
  },
  {
   "cell_type": "code",
   "execution_count": 12,
   "metadata": {
    "collapsed": true
   },
   "outputs": [],
   "source": [
    "file_name = 'optimal_xgb_params.json'\n",
    "with open(file_name, 'w', encoding=\"utf-8\") as file:\n",
    "    # writing\n",
    "    json.dump(opt_params, file, indent=4, ensure_ascii=False)"
   ]
  },
  {
   "cell_type": "markdown",
   "metadata": {},
   "source": [
    "Загрузим значения"
   ]
  },
  {
   "cell_type": "code",
   "execution_count": 13,
   "metadata": {
    "collapsed": true
   },
   "outputs": [],
   "source": [
    "file_name = 'optimal_xgb_params.json'\n",
    "with open(file_name, 'r', encoding=\"utf-8\") as file:\n",
    "    opt_params = json.load(file)"
   ]
  },
  {
   "cell_type": "code",
   "execution_count": 14,
   "metadata": {},
   "outputs": [
    {
     "data": {
      "text/plain": [
       "{'alpha': 0.24706759682742413,\n",
       " 'colsample_bylevel': 0.6193160769479984,\n",
       " 'colsample_bytree': 0.7706086548273553,\n",
       " 'eta': 0.012460020103795582,\n",
       " 'gamma': 1.9118000235607855,\n",
       " 'lambdax': 4.239716267335376,\n",
       " 'max_depth': 8,\n",
       " 'min_child_weight': 1.68003581657348e-06,\n",
       " 'n_estimators': 800,\n",
       " 'subsample': 0.9089821757806529}"
      ]
     },
     "execution_count": 14,
     "metadata": {},
     "output_type": "execute_result"
    }
   ],
   "source": [
    "opt_params"
   ]
  },
  {
   "cell_type": "markdown",
   "metadata": {},
   "source": [
    "## Получим значения метрик XGB при оптимальных параметрах"
   ]
  },
  {
   "cell_type": "markdown",
   "metadata": {},
   "source": [
    "Выберем классификаторы"
   ]
  },
  {
   "cell_type": "code",
   "execution_count": 15,
   "metadata": {
    "collapsed": true
   },
   "outputs": [],
   "source": [
    "clf_name = \"XGB_opt\"\n",
    "clf = xgb.XGBClassifier(**opt_params, nthread=-1, seed=111)\n",
    "metrics_path = '../metrics/xgb_opt'\n",
    "\n",
    "metrics_dict = {\n",
    "    'pr_aucs' : {},\n",
    "    'roc_aucs' : {},\n",
    "    'p_at_r' : {\n",
    "        '0.8': {},\n",
    "        '0.9': {}, \n",
    "        '0.95': {},\n",
    "        '0.99': {},\n",
    "    }\n",
    "}"
   ]
  },
  {
   "cell_type": "markdown",
   "metadata": {},
   "source": [
    "Значения долей негативных примеров взял из Meeting minutes (29.03.2018)"
   ]
  },
  {
   "cell_type": "code",
   "execution_count": null,
   "metadata": {
    "collapsed": true
   },
   "outputs": [],
   "source": [
    "fraction_of_negative_used = np.array([0.001, 0.01, 0.1, 0.5, 1, 5, 10, 25, 100]) / 100.\n",
    "n_resplits = np.array([20, 20, 20, 20, 4, 4, 4, 4, 4])\n",
    "n_evals_for_frac = np.zeros_like(fraction_of_negative_used)"
   ]
  },
  {
   "cell_type": "code",
   "execution_count": null,
   "metadata": {
    "scrolled": false
   },
   "outputs": [
    {
     "name": "stdout",
     "output_type": "stream",
     "text": [
      "Run time: 389.75 sec\n",
      "PR_AUC:  (0.01, 0.8675020622049016)\n",
      "ROC_AUC:  (0.01, 0.8426566014000001)\n",
      "clf_name:  XGB_opt\n",
      "n_evals_for_frac:  [0. 0. 0. 0. 0. 0. 0. 0. 0.]\n"
     ]
    },
    {
     "data": {
      "image/png": "[encoded data removed]",
      "text/plain": [
       "<matplotlib.figure.Figure at 0x7faaecce7b70>"
      ]
     },
     "metadata": {},
     "output_type": "display_data"
    },
    {
     "data": {
      "image/png": "[encoded data removed]",
      "text/plain": [
       "<matplotlib.figure.Figure at 0x7faaecaf0748>"
      ]
     },
     "metadata": {},
     "output_type": "display_data"
    },
    {
     "data": {
      "image/png": "[encoded data removed]",
      "text/plain": [
       "<matplotlib.figure.Figure at 0x7faaecd8bb38>"
      ]
     },
     "metadata": {},
     "output_type": "display_data"
    },
    {
     "data": {
      "image/png": "[encoded data removed]",
      "text/plain": [
       "<matplotlib.figure.Figure at 0x7faaeca10128>"
      ]
     },
     "metadata": {},
     "output_type": "display_data"
    },
    {
     "data": {
      "image/png": "[encoded data removed]",
      "text/plain": [
       "<matplotlib.figure.Figure at 0x7faaecc8f630>"
      ]
     },
     "metadata": {},
     "output_type": "display_data"
    },
    {
     "data": {
      "image/png": "[encoded data removed]",
      "text/plain": [
       "<matplotlib.figure.Figure at 0x7faaecc8f550>"
      ]
     },
     "metadata": {},
     "output_type": "display_data"
    },
    {
     "name": "stderr",
     "output_type": "stream",
     "text": [
      "\r",
      "5it [26:48, 323.23s/it]"
     ]
    }
   ],
   "source": [
    "%%time\n",
    "while np.sum(n_resplits - n_evals_for_frac) > 0:\n",
    "    for i, frac in tqdm(enumerate(fraction_of_negative_used)):\n",
    "        if n_evals_for_frac[i] >= n_resplits[i]:\n",
    "            continue\n",
    "            \n",
    "        # prepare data\n",
    "        if frac > 1:\n",
    "            end_ind = X_good.shape[0]\n",
    "        else:   \n",
    "            end_ind = int(X_good.shape[0] * frac)\n",
    "            \n",
    "        idx = np.random.permutation(X_bad.shape[0])\n",
    "\n",
    "        # fit model and predict probas\n",
    "        start_time = timeit.default_timer()\n",
    "        clf.fit(np.concatenate((X_good, X_bad[idx[:end_ind]])), \n",
    "                np.concatenate((np.zeros((X_good.shape[0],1)), np.ones((end_ind,1)))).ravel()) \n",
    "        y_pred = clf.predict_proba(X_test)[:, 1]\n",
    "        run_time = timeit.default_timer() - start_time\n",
    "\n",
    "        # eval and save metrics\n",
    "        eval_metrics(y_test, y_pred, frac, metrics_dict, descr=clf_name)\n",
    "        dump_metrics(metrics_path, metrics_dict)\n",
    "        n_evals_for_frac[i] += 1\n",
    "\n",
    "        # print info\n",
    "        display.clear_output(wait=True)\n",
    "        print(\"Run time: {:.2f} sec\".format(run_time))\n",
    "        print(\"PR_AUC: \", metrics_dict['pr_aucs'][clf_name][-1])\n",
    "        print(\"ROC_AUC: \", metrics_dict['roc_aucs'][clf_name][-1])\n",
    "        print('clf_name: ', clf_name)\n",
    "        print('n_evals_for_frac: ', n_evals_for_frac)\n",
    "\n",
    "        # plot metrics\n",
    "        metric_boxplot(metrics_dict['pr_aucs'], ylabel='PR_AUC', ylim=(0.1, 0.9))\n",
    "        plt.show()\n",
    "        metric_boxplot(metrics_dict['roc_aucs'], ylabel='ROC_AUC', ylim=(0.1, 0.9))\n",
    "        plt.show()\n",
    "        for k in metrics_dict['p_at_r'].keys():\n",
    "            metric_boxplot(metrics_dict['p_at_r'][k], ylabel='P@R_' + str(k), ylim=(0.4, 0.9))\n",
    "            plt.show()"
   ]
  },
  {
   "cell_type": "code",
   "execution_count": null,
   "metadata": {
    "collapsed": true
   },
   "outputs": [],
   "source": []
  }
 ],
 "metadata": {
  "anaconda-cloud": {},
  "kernelspec": {
   "display_name": "Python 3",
   "language": "python",
   "name": "python3"
  },
  "language_info": {
   "codemirror_mode": {
    "name": "ipython",
    "version": 3
   },
   "file_extension": ".py",
   "mimetype": "text/x-python",
   "name": "python",
   "nbconvert_exporter": "python",
   "pygments_lexer": "ipython3",
   "version": "3.6.2"
  }
 },
 "nbformat": 4,
 "nbformat_minor": 1
}
