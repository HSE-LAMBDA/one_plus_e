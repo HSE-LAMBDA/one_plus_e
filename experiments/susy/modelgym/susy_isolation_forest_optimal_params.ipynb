{
 "cells": [
  {
   "cell_type": "markdown",
   "metadata": {},
   "source": [
    "# Получение значений метрик"
   ]
  },
  {
   "cell_type": "code",
   "execution_count": 1,
   "metadata": {},
   "outputs": [
    {
     "name": "stderr",
     "output_type": "stream",
     "text": [
      "/opt/conda/anaconda3/lib/python3.6/importlib/_bootstrap.py:205: RuntimeWarning: compiletime version 3.4 of module '_catboost' does not match runtime version 3.6\n",
      "  return f(*args, **kwds)\n",
      "/opt/conda/anaconda3/lib/python3.6/site-packages/h5py/__init__.py:34: FutureWarning: Conversion of the second argument of issubdtype from `float` to `np.floating` is deprecated. In future, it will be treated as `np.float64 == np.dtype(float).type`.\n",
      "  from ._conv import register_converters as _register_converters\n"
     ]
    }
   ],
   "source": [
    "import time\n",
    "import timeit\n",
    "from IPython import display\n",
    "\n",
    "import os\n",
    "import numpy as np\n",
    "import pandas as pd\n",
    "import matplotlib.pyplot as plt\n",
    "import seaborn as sns\n",
    "\n",
    "from sklearn import datasets, mixture\n",
    "from sklearn.preprocessing import StandardScaler\n",
    "from sklearn.metrics import precision_recall_curve, roc_auc_score, average_precision_score\n",
    "from sklearn.mixture import GaussianMixture\n",
    "from modelgym.utils import XYCDataset\n",
    "from modelgym.models import XGBClassifier\n",
    "from itertools import cycle, islice\n",
    "import h5py \n",
    "import shutil\n",
    "import json\n",
    "\n",
    "import sys\n",
    "sys.path.append('../../../')\n",
    "\n",
    "from evaluation import *\n",
    "from tqdm import tqdm\n",
    "from math import ceil\n",
    "np.random.seed(10)\n",
    "%matplotlib inline"
   ]
  },
  {
   "cell_type": "markdown",
   "metadata": {},
   "source": [
    "## Подготовим данные"
   ]
  },
  {
   "cell_type": "code",
   "execution_count": 2,
   "metadata": {
    "collapsed": true
   },
   "outputs": [],
   "source": [
    "column_names = 'label, lepton 1 pT, lepton 1 eta, lepton 1 phi, lepton 2 pT, lepton 2 eta, lepton 2 phi, missing energy magnitude, missing energy phi, MET_rel, axial MET, M_R, M_TR_2, R, MT2, S_R, M_Delta_R, dPhi_r_b, cos(theta_r1)'.split(', ')\n",
    "data = pd.read_csv('../../../../SUSY.csv', header=None, names=column_names)"
   ]
  },
  {
   "cell_type": "code",
   "execution_count": 3,
   "metadata": {},
   "outputs": [
    {
     "data": {
      "text/html": [
       "<div>\n",
       "<style>\n",
       "    .dataframe thead tr:only-child th {\n",
       "        text-align: right;\n",
       "    }\n",
       "\n",
       "    .dataframe thead th {\n",
       "        text-align: left;\n",
       "    }\n",
       "\n",
       "    .dataframe tbody tr th {\n",
       "        vertical-align: top;\n",
       "    }\n",
       "</style>\n",
       "<table border=\"1\" class=\"dataframe\">\n",
       "  <thead>\n",
       "    <tr style=\"text-align: right;\">\n",
       "      <th></th>\n",
       "      <th>label</th>\n",
       "      <th>lepton 1 pT</th>\n",
       "      <th>lepton 1 eta</th>\n",
       "      <th>lepton 1 phi</th>\n",
       "      <th>lepton 2 pT</th>\n",
       "      <th>lepton 2 eta</th>\n",
       "      <th>lepton 2 phi</th>\n",
       "      <th>missing energy magnitude</th>\n",
       "      <th>missing energy phi</th>\n",
       "      <th>MET_rel</th>\n",
       "      <th>axial MET</th>\n",
       "      <th>M_R</th>\n",
       "      <th>M_TR_2</th>\n",
       "      <th>R</th>\n",
       "      <th>MT2</th>\n",
       "      <th>S_R</th>\n",
       "      <th>M_Delta_R</th>\n",
       "      <th>dPhi_r_b</th>\n",
       "      <th>cos(theta_r1)</th>\n",
       "    </tr>\n",
       "  </thead>\n",
       "  <tbody>\n",
       "    <tr>\n",
       "      <th>0</th>\n",
       "      <td>0.0</td>\n",
       "      <td>0.972861</td>\n",
       "      <td>0.653855</td>\n",
       "      <td>1.176225</td>\n",
       "      <td>1.157156</td>\n",
       "      <td>-1.739873</td>\n",
       "      <td>-0.874309</td>\n",
       "      <td>0.567765</td>\n",
       "      <td>-0.175000</td>\n",
       "      <td>0.810061</td>\n",
       "      <td>-0.252552</td>\n",
       "      <td>1.921887</td>\n",
       "      <td>0.889637</td>\n",
       "      <td>0.410772</td>\n",
       "      <td>1.145621</td>\n",
       "      <td>1.932632</td>\n",
       "      <td>0.994464</td>\n",
       "      <td>1.367815</td>\n",
       "      <td>0.040714</td>\n",
       "    </tr>\n",
       "    <tr>\n",
       "      <th>1</th>\n",
       "      <td>1.0</td>\n",
       "      <td>1.667973</td>\n",
       "      <td>0.064191</td>\n",
       "      <td>-1.225171</td>\n",
       "      <td>0.506102</td>\n",
       "      <td>-0.338939</td>\n",
       "      <td>1.672543</td>\n",
       "      <td>3.475464</td>\n",
       "      <td>-1.219136</td>\n",
       "      <td>0.012955</td>\n",
       "      <td>3.775174</td>\n",
       "      <td>1.045977</td>\n",
       "      <td>0.568051</td>\n",
       "      <td>0.481928</td>\n",
       "      <td>0.000000</td>\n",
       "      <td>0.448410</td>\n",
       "      <td>0.205356</td>\n",
       "      <td>1.321893</td>\n",
       "      <td>0.377584</td>\n",
       "    </tr>\n",
       "    <tr>\n",
       "      <th>2</th>\n",
       "      <td>1.0</td>\n",
       "      <td>0.444840</td>\n",
       "      <td>-0.134298</td>\n",
       "      <td>-0.709972</td>\n",
       "      <td>0.451719</td>\n",
       "      <td>-1.613871</td>\n",
       "      <td>-0.768661</td>\n",
       "      <td>1.219918</td>\n",
       "      <td>0.504026</td>\n",
       "      <td>1.831248</td>\n",
       "      <td>-0.431385</td>\n",
       "      <td>0.526283</td>\n",
       "      <td>0.941514</td>\n",
       "      <td>1.587535</td>\n",
       "      <td>2.024308</td>\n",
       "      <td>0.603498</td>\n",
       "      <td>1.562374</td>\n",
       "      <td>1.135454</td>\n",
       "      <td>0.180910</td>\n",
       "    </tr>\n",
       "    <tr>\n",
       "      <th>3</th>\n",
       "      <td>1.0</td>\n",
       "      <td>0.381256</td>\n",
       "      <td>-0.976145</td>\n",
       "      <td>0.693152</td>\n",
       "      <td>0.448959</td>\n",
       "      <td>0.891753</td>\n",
       "      <td>-0.677328</td>\n",
       "      <td>2.033060</td>\n",
       "      <td>1.533041</td>\n",
       "      <td>3.046260</td>\n",
       "      <td>-1.005285</td>\n",
       "      <td>0.569386</td>\n",
       "      <td>1.015211</td>\n",
       "      <td>1.582217</td>\n",
       "      <td>1.551914</td>\n",
       "      <td>0.761215</td>\n",
       "      <td>1.715464</td>\n",
       "      <td>1.492257</td>\n",
       "      <td>0.090719</td>\n",
       "    </tr>\n",
       "    <tr>\n",
       "      <th>4</th>\n",
       "      <td>1.0</td>\n",
       "      <td>1.309996</td>\n",
       "      <td>-0.690089</td>\n",
       "      <td>-0.676259</td>\n",
       "      <td>1.589283</td>\n",
       "      <td>-0.693326</td>\n",
       "      <td>0.622907</td>\n",
       "      <td>1.087562</td>\n",
       "      <td>-0.381742</td>\n",
       "      <td>0.589204</td>\n",
       "      <td>1.365479</td>\n",
       "      <td>1.179295</td>\n",
       "      <td>0.968218</td>\n",
       "      <td>0.728563</td>\n",
       "      <td>0.000000</td>\n",
       "      <td>1.083158</td>\n",
       "      <td>0.043429</td>\n",
       "      <td>1.154854</td>\n",
       "      <td>0.094859</td>\n",
       "    </tr>\n",
       "  </tbody>\n",
       "</table>\n",
       "</div>"
      ],
      "text/plain": [
       "   label  lepton 1 pT  lepton 1 eta  lepton 1 phi  lepton 2 pT  lepton 2 eta  \\\n",
       "0    0.0     0.972861      0.653855      1.176225     1.157156     -1.739873   \n",
       "1    1.0     1.667973      0.064191     -1.225171     0.506102     -0.338939   \n",
       "2    1.0     0.444840     -0.134298     -0.709972     0.451719     -1.613871   \n",
       "3    1.0     0.381256     -0.976145      0.693152     0.448959      0.891753   \n",
       "4    1.0     1.309996     -0.690089     -0.676259     1.589283     -0.693326   \n",
       "\n",
       "   lepton 2 phi  missing energy magnitude  missing energy phi   MET_rel  \\\n",
       "0     -0.874309                  0.567765           -0.175000  0.810061   \n",
       "1      1.672543                  3.475464           -1.219136  0.012955   \n",
       "2     -0.768661                  1.219918            0.504026  1.831248   \n",
       "3     -0.677328                  2.033060            1.533041  3.046260   \n",
       "4      0.622907                  1.087562           -0.381742  0.589204   \n",
       "\n",
       "   axial MET       M_R    M_TR_2         R       MT2       S_R  M_Delta_R  \\\n",
       "0  -0.252552  1.921887  0.889637  0.410772  1.145621  1.932632   0.994464   \n",
       "1   3.775174  1.045977  0.568051  0.481928  0.000000  0.448410   0.205356   \n",
       "2  -0.431385  0.526283  0.941514  1.587535  2.024308  0.603498   1.562374   \n",
       "3  -1.005285  0.569386  1.015211  1.582217  1.551914  0.761215   1.715464   \n",
       "4   1.365479  1.179295  0.968218  0.728563  0.000000  1.083158   0.043429   \n",
       "\n",
       "   dPhi_r_b  cos(theta_r1)  \n",
       "0  1.367815       0.040714  \n",
       "1  1.321893       0.377584  \n",
       "2  1.135454       0.180910  \n",
       "3  1.492257       0.090719  \n",
       "4  1.154854       0.094859  "
      ]
     },
     "execution_count": 3,
     "metadata": {},
     "output_type": "execute_result"
    }
   ],
   "source": [
    "data.head()"
   ]
  },
  {
   "cell_type": "code",
   "execution_count": 4,
   "metadata": {},
   "outputs": [
    {
     "data": {
      "text/plain": [
       "(5000000, 19)"
      ]
     },
     "execution_count": 4,
     "metadata": {},
     "output_type": "execute_result"
    }
   ],
   "source": [
    "data.shape"
   ]
  },
  {
   "cell_type": "markdown",
   "metadata": {},
   "source": [
    "Делим выборку на признаки и таргеты. Нормируем признаки."
   ]
  },
  {
   "cell_type": "markdown",
   "metadata": {},
   "source": [
    "$X_{new} = \\frac{X - \\mu}{\\sigma}$"
   ]
  },
  {
   "cell_type": "code",
   "execution_count": 5,
   "metadata": {
    "collapsed": true
   },
   "outputs": [],
   "source": [
    "X_data = data.drop('label', 1)\n",
    "X_data = StandardScaler().fit_transform(X_data)\n",
    "\n",
    "labels = data[\"label\"]"
   ]
  },
  {
   "cell_type": "markdown",
   "metadata": {},
   "source": [
    "Балансировка классов"
   ]
  },
  {
   "cell_type": "code",
   "execution_count": 6,
   "metadata": {
    "collapsed": true
   },
   "outputs": [],
   "source": [
    "min_class_size = min(X_data[np.where(labels==0)[0]].shape[0], X_data[np.where(labels==1)[0]].shape[0])\n",
    "\n",
    "X_0 = X_data[np.where(labels==0)[0]]\n",
    "X_1 = X_data[np.where(labels==1)[0]]\n",
    "\n",
    "X_data = np.concatenate((X_0[:min_class_size], X_1[:min_class_size]))\n",
    "labels = np.concatenate((np.zeros((min_class_size,1)), np.ones((min_class_size,1)))).ravel()"
   ]
  },
  {
   "cell_type": "markdown",
   "metadata": {},
   "source": [
    "Разбиваем на train(8% от всех данных) и test(2%)"
   ]
  },
  {
   "cell_type": "code",
   "execution_count": 7,
   "metadata": {
    "collapsed": true
   },
   "outputs": [],
   "source": [
    "from sklearn.model_selection import train_test_split"
   ]
  },
  {
   "cell_type": "code",
   "execution_count": 8,
   "metadata": {
    "collapsed": true
   },
   "outputs": [],
   "source": [
    "indx_train, indx_test = train_test_split(np.arange(len(labels), dtype='int32'), \n",
    "                                         stratify=labels, train_size=8e-2, test_size=2e-2, random_state=5)"
   ]
  },
  {
   "cell_type": "code",
   "execution_count": 9,
   "metadata": {
    "collapsed": true
   },
   "outputs": [],
   "source": [
    "y_train = labels[indx_train]\n",
    "y_test = labels[indx_test]\n",
    "\n",
    "X_train = X_data[indx_train]\n",
    "X_test = X_data[indx_test]"
   ]
  },
  {
   "cell_type": "markdown",
   "metadata": {},
   "source": [
    "Разбиваем объекты по классам"
   ]
  },
  {
   "cell_type": "code",
   "execution_count": 10,
   "metadata": {
    "collapsed": true
   },
   "outputs": [],
   "source": [
    "X_good = X_train[np.where(y_train==0)[0]]\n",
    "X_bad = X_train[np.where(y_train==1)[0]]"
   ]
  },
  {
   "cell_type": "code",
   "execution_count": 11,
   "metadata": {},
   "outputs": [
    {
     "data": {
      "text/plain": [
       "((183026, 18), (366052, 18), (4575654, 18))"
      ]
     },
     "execution_count": 11,
     "metadata": {},
     "output_type": "execute_result"
    }
   ],
   "source": [
    "X_good.shape, X_train.shape, X_data.shape"
   ]
  },
  {
   "cell_type": "code",
   "execution_count": null,
   "metadata": {
    "collapsed": true
   },
   "outputs": [],
   "source": []
  },
  {
   "cell_type": "code",
   "execution_count": null,
   "metadata": {
    "collapsed": true
   },
   "outputs": [],
   "source": []
  },
  {
   "cell_type": "code",
   "execution_count": null,
   "metadata": {
    "collapsed": true
   },
   "outputs": [],
   "source": []
  },
  {
   "cell_type": "code",
   "execution_count": null,
   "metadata": {
    "collapsed": true
   },
   "outputs": [],
   "source": []
  },
  {
   "cell_type": "code",
   "execution_count": 12,
   "metadata": {
    "collapsed": true
   },
   "outputs": [],
   "source": [
    "import pickle\n",
    "import numpy as np\n",
    "\n",
    "from modelgym.models import Model, LearningTask\n",
    "from hyperopt import hp\n",
    "from hyperopt.pyll.base import scope\n",
    "\n",
    "from sklearn.ensemble import IsolationForest"
   ]
  },
  {
   "cell_type": "code",
   "execution_count": 13,
   "metadata": {},
   "outputs": [
    {
     "data": {
      "text/plain": [
       "18"
      ]
     },
     "execution_count": 13,
     "metadata": {},
     "output_type": "execute_result"
    }
   ],
   "source": [
    "X_train.shape[1]"
   ]
  },
  {
   "cell_type": "code",
   "execution_count": 14,
   "metadata": {
    "collapsed": true
   },
   "outputs": [],
   "source": [
    "def softmax(x):\n",
    "    \"\"\"Compute softmax values for each sets of scores in x.\"\"\"\n",
    "    return np.exp(x) / np.sum(np.exp(x), axis=0)"
   ]
  },
  {
   "cell_type": "code",
   "execution_count": 15,
   "metadata": {
    "collapsed": true
   },
   "outputs": [],
   "source": [
    "def sigmoid(x):\n",
    "    \"\"\"Compute sigmoid values for each sets of scores in x.\"\"\"\n",
    "    return 1 / (1 + np.exp(-x))"
   ]
  },
  {
   "cell_type": "code",
   "execution_count": 16,
   "metadata": {},
   "outputs": [
    {
     "data": {
      "text/plain": [
       "array([1, 2, 3, 1, 2, 3])"
      ]
     },
     "execution_count": 16,
     "metadata": {},
     "output_type": "execute_result"
    }
   ],
   "source": [
    "a = np.array([1, 2, 3])\n",
    "np.concatenate([a, a], axis=0)"
   ]
  },
  {
   "cell_type": "code",
   "execution_count": 17,
   "metadata": {
    "collapsed": true
   },
   "outputs": [],
   "source": [
    "class IsolationForestClassifier(Model):\n",
    "    def __init__(self, params=None):\n",
    "        \"\"\"\n",
    "        Args:\n",
    "            params (dict): parameters for model.\n",
    "        \"\"\"\n",
    "\n",
    "        if params is None:\n",
    "            params = {}\n",
    "\n",
    "        self.params = {\n",
    "            'n_estimators': 10,\n",
    "            'max_samples': 0.1, \n",
    "            'contamination': 0.007,\n",
    "            'verbose': 0,\n",
    "        }\n",
    "        if params:\n",
    "            self.params.update(params)\n",
    "            \n",
    "        self.model = None\n",
    "\n",
    "    def _set_model(self, model):\n",
    "        \"\"\"\n",
    "        sets new model, internal method, do not use\n",
    "        Args:\n",
    "            model: internal model\n",
    "        \"\"\"\n",
    "        self.model = model\n",
    "\n",
    "    def _convert_to_dataset(self, data, label=None, cat_cols=None):\n",
    "        return XYCDataset(data, label, cat_cols)\n",
    "\n",
    "    def fit(self, dataset, weights=None):\n",
    "        \"\"\"\n",
    "        Args:\n",
    "            X (np.array, shape (n_samples, n_features)): the input data\n",
    "            y (np.array, shape (n_samples, ) or (n_samples, n_outputs)): the target data\n",
    "            weights (np.array, shape (n_samples, ) or (n_samples, n_outputs) or None): weights of the data\n",
    "        Return:\n",
    "            self\n",
    "        \"\"\"\n",
    "        # log info\n",
    "        print('*****************')\n",
    "        print(self.params)\n",
    "        \n",
    "        # clean train set\n",
    "        idx_pos = np.where(dataset.y==1)[0]\n",
    "        idx_neg = np.random.permutation(np.where(dataset.y!=1)[0])\n",
    "        end_ind = int(self.params['contamination'] * idx_neg.shape[0])\n",
    "        idx = np.concatenate([idx_pos, idx_neg[:end_ind]], axis=0)\n",
    "        dtrain = self._convert_to_dataset(dataset.X[idx], dataset.y[idx])\n",
    "        \n",
    "        # fit\n",
    "        start_time = timeit.default_timer()\n",
    "        self.model = IsolationForest(\n",
    "            random_state=self.params.get('random_state', 5), **self.params\n",
    "        ).fit(dtrain.X, dtrain.y)\n",
    "        run_time = timeit.default_timer() - start_time\n",
    "        \n",
    "        # log info\n",
    "        print('Fitted')\n",
    "        print(\"Run time: {:.2f} sec\".format(run_time))\n",
    "        print('*****************\\n')\n",
    "        return self\n",
    "\n",
    "    def save_snapshot(self, filename):\n",
    "        \"\"\"\n",
    "        Return:\n",
    "            serializable internal model state snapshot.\n",
    "        \"\"\"\n",
    "        assert self.model is not None, \"model is not fitted\"\n",
    "        with open(filename, 'wb') as f:\n",
    "            pickle.dump(self.model, f)\n",
    "\n",
    "    @staticmethod\n",
    "    def load_from_snapshot(self, filename):\n",
    "        \"\"\"\n",
    "        :snapshot serializable internal model state\n",
    "        loads from serializable internal model state snapshot.\n",
    "        \"\"\"\n",
    "        with open(filename, 'rb') as f:\n",
    "            model = pickle.load(f)\n",
    "\n",
    "        new_model = IsolationForestClassifier(model.get_params())\n",
    "        new_model._set_model(model)\n",
    "        return new_model\n",
    "\n",
    "    def predict(self, dataset):\n",
    "        \"\"\"\n",
    "        Args:\n",
    "            X (np.array, shape (n_samples, n_features)): the input data\n",
    "        Return:\n",
    "            np.array, shape (n_samples, ) or (n_samples, n_outputs)\n",
    "        \"\"\"\n",
    "        return self.model.predict(dataset.X)\n",
    "\n",
    "    def is_possible_predict_proba(self):\n",
    "        \"\"\"\n",
    "        Return:\n",
    "            bool, whether model can predict proba\n",
    "        \"\"\"\n",
    "        return True\n",
    "\n",
    "    def predict_proba(self, dataset):\n",
    "        \"\"\"\n",
    "        Args:\n",
    "            X (np.array, shape (n_samples, n_features)): the input data\n",
    "        Return:\n",
    "            np.array, shape (n_samples, n_classes)\n",
    "        \"\"\"\n",
    "        assert self.is_possible_predict_proba(), \"Model cannot predict probability distribution\"\n",
    "        return self.model.decision_function(dataset.X)\n",
    "#         return sigmoid(-self.model.decision_function(dataset.X)) # WHY '-'?!!!!!\n",
    "\n",
    "    @staticmethod\n",
    "    def get_default_parameter_space():\n",
    "        \"\"\"\n",
    "        Return:\n",
    "            dict of DistributionWrappers\n",
    "        \"\"\"\n",
    "\n",
    "        return {\n",
    "#             'max_features': hp.uniform('max_features', 0.2, 1),\n",
    "            'n_estimators': scope.int(hp.quniform('n_estimators', 100, 2000, 200)),\n",
    "            'max_samples': hp.uniform('max_samples', 0.1, 1), \n",
    "            'contamination': hp.loguniform('contamination', -5, 0),\n",
    "        }\n",
    "\n",
    "    @staticmethod\n",
    "    def get_learning_task():\n",
    "        return LearningTask.CLASSIFICATION"
   ]
  },
  {
   "cell_type": "markdown",
   "metadata": {},
   "source": [
    "## Подберем IsolationForest с оптимальными параметрами"
   ]
  },
  {
   "cell_type": "code",
   "execution_count": 18,
   "metadata": {
    "collapsed": true
   },
   "outputs": [],
   "source": [
    "from modelgym.trainers import TpeTrainer\n",
    "from skopt.optimizer import forest_minimize, gp_minimize\n",
    "from modelgym.metrics import Accuracy, RocAuc, F1\n",
    "from modelgym.report import Report"
   ]
  },
  {
   "cell_type": "markdown",
   "metadata": {},
   "source": [
    "Создаем классификатор и trainer для подбора оптимальных параметров"
   ]
  },
  {
   "cell_type": "code",
   "execution_count": 19,
   "metadata": {
    "collapsed": true
   },
   "outputs": [],
   "source": [
    "models = [IsolationForestClassifier]\n",
    "trainer = TpeTrainer(models)"
   ]
  },
  {
   "cell_type": "markdown",
   "metadata": {},
   "source": [
    "Обертка для данных"
   ]
  },
  {
   "cell_type": "code",
   "execution_count": 20,
   "metadata": {
    "collapsed": true
   },
   "outputs": [],
   "source": [
    "y_train_rescale = np.where(y_train == 0, np.ones((y_train.shape)), -np.ones((y_train.shape)))"
   ]
  },
  {
   "cell_type": "code",
   "execution_count": 21,
   "metadata": {
    "collapsed": true
   },
   "outputs": [],
   "source": [
    "dataset = XYCDataset(X_train, y_train_rescale)"
   ]
  },
  {
   "cell_type": "markdown",
   "metadata": {},
   "source": [
    "Сам подбор параметров"
   ]
  },
  {
   "cell_type": "code",
   "execution_count": 22,
   "metadata": {
    "scrolled": false
   },
   "outputs": [
    {
     "name": "stdout",
     "output_type": "stream",
     "text": [
      "*****************\n",
      "{'n_estimators': 1600, 'max_samples': 0.5171464826467033, 'contamination': 0.06063114230026169, 'verbose': 0}\n",
      "Fitted\n",
      "Run time: 303.21 sec\n",
      "*****************\n",
      "\n",
      "*****************\n",
      "{'n_estimators': 1600, 'max_samples': 0.5171464826467033, 'contamination': 0.06063114230026169, 'verbose': 0}\n",
      "Fitted\n",
      "Run time: 304.39 sec\n",
      "*****************\n",
      "\n",
      "*****************\n",
      "{'n_estimators': 1600, 'max_samples': 0.5171464826467033, 'contamination': 0.06063114230026169, 'verbose': 0}\n",
      "Fitted\n",
      "Run time: 304.94 sec\n",
      "*****************\n",
      "\n",
      "*****************\n",
      "{'n_estimators': 1400, 'max_samples': 0.6913740249438012, 'contamination': 0.7852030480629357, 'verbose': 0}\n",
      "Fitted\n",
      "Run time: 507.87 sec\n",
      "*****************\n",
      "\n",
      "*****************\n",
      "{'n_estimators': 1400, 'max_samples': 0.6913740249438012, 'contamination': 0.7852030480629357, 'verbose': 0}\n",
      "Fitted\n",
      "Run time: 504.85 sec\n",
      "*****************\n",
      "\n",
      "*****************\n",
      "{'n_estimators': 1400, 'max_samples': 0.6913740249438012, 'contamination': 0.7852030480629357, 'verbose': 0}\n",
      "Fitted\n",
      "Run time: 510.98 sec\n",
      "*****************\n",
      "\n",
      "*****************\n",
      "{'n_estimators': 600, 'max_samples': 0.11339235882149212, 'contamination': 0.1311043410162655, 'verbose': 0}\n",
      "Fitted\n",
      "Run time: 89.25 sec\n",
      "*****************\n",
      "\n",
      "*****************\n",
      "{'n_estimators': 600, 'max_samples': 0.11339235882149212, 'contamination': 0.1311043410162655, 'verbose': 0}\n",
      "Fitted\n",
      "Run time: 91.27 sec\n",
      "*****************\n",
      "\n",
      "*****************\n",
      "{'n_estimators': 600, 'max_samples': 0.11339235882149212, 'contamination': 0.1311043410162655, 'verbose': 0}\n",
      "Fitted\n",
      "Run time: 89.97 sec\n",
      "*****************\n",
      "\n",
      "*****************\n",
      "{'n_estimators': 1800, 'max_samples': 0.4194187262128696, 'contamination': 0.10093870353225814, 'verbose': 0}\n",
      "Fitted\n",
      "Run time: 333.39 sec\n",
      "*****************\n",
      "\n",
      "*****************\n",
      "{'n_estimators': 1800, 'max_samples': 0.4194187262128696, 'contamination': 0.10093870353225814, 'verbose': 0}\n",
      "Fitted\n",
      "Run time: 330.26 sec\n",
      "*****************\n",
      "\n",
      "*****************\n",
      "{'n_estimators': 1800, 'max_samples': 0.4194187262128696, 'contamination': 0.10093870353225814, 'verbose': 0}\n",
      "Fitted\n",
      "Run time: 332.95 sec\n",
      "*****************\n",
      "\n",
      "*****************\n",
      "{'n_estimators': 1800, 'max_samples': 0.3451469673743934, 'contamination': 0.058237825454741876, 'verbose': 0}\n",
      "Fitted\n",
      "Run time: 314.87 sec\n",
      "*****************\n",
      "\n",
      "*****************\n",
      "{'n_estimators': 1800, 'max_samples': 0.3451469673743934, 'contamination': 0.058237825454741876, 'verbose': 0}\n",
      "Fitted\n",
      "Run time: 325.79 sec\n",
      "*****************\n",
      "\n",
      "*****************\n",
      "{'n_estimators': 1800, 'max_samples': 0.3451469673743934, 'contamination': 0.058237825454741876, 'verbose': 0}\n",
      "Fitted\n",
      "Run time: 318.20 sec\n",
      "*****************\n",
      "\n",
      "*****************\n",
      "{'n_estimators': 600, 'max_samples': 0.19856585656076214, 'contamination': 0.049412774666903886, 'verbose': 0}\n",
      "Fitted\n",
      "Run time: 88.60 sec\n",
      "*****************\n",
      "\n",
      "*****************\n",
      "{'n_estimators': 600, 'max_samples': 0.19856585656076214, 'contamination': 0.049412774666903886, 'verbose': 0}\n",
      "Fitted\n",
      "Run time: 87.92 sec\n",
      "*****************\n",
      "\n",
      "*****************\n",
      "{'n_estimators': 600, 'max_samples': 0.19856585656076214, 'contamination': 0.049412774666903886, 'verbose': 0}\n",
      "Fitted\n",
      "Run time: 87.01 sec\n",
      "*****************\n",
      "\n",
      "*****************\n",
      "{'n_estimators': 200, 'max_samples': 0.13819394958157988, 'contamination': 0.07702871163726724, 'verbose': 0}\n",
      "Fitted\n",
      "Run time: 27.51 sec\n",
      "*****************\n",
      "\n",
      "*****************\n",
      "{'n_estimators': 200, 'max_samples': 0.13819394958157988, 'contamination': 0.07702871163726724, 'verbose': 0}\n",
      "Fitted\n",
      "Run time: 27.47 sec\n",
      "*****************\n",
      "\n",
      "*****************\n",
      "{'n_estimators': 200, 'max_samples': 0.13819394958157988, 'contamination': 0.07702871163726724, 'verbose': 0}\n",
      "Fitted\n",
      "Run time: 28.44 sec\n",
      "*****************\n",
      "\n",
      "*****************\n",
      "{'n_estimators': 800, 'max_samples': 0.7369253459971895, 'contamination': 0.04689812440084814, 'verbose': 0}\n",
      "Fitted\n",
      "Run time: 149.47 sec\n",
      "*****************\n",
      "\n",
      "*****************\n",
      "{'n_estimators': 800, 'max_samples': 0.7369253459971895, 'contamination': 0.04689812440084814, 'verbose': 0}\n",
      "Fitted\n",
      "Run time: 147.84 sec\n",
      "*****************\n",
      "\n",
      "*****************\n",
      "{'n_estimators': 800, 'max_samples': 0.7369253459971895, 'contamination': 0.04689812440084814, 'verbose': 0}\n",
      "Fitted\n",
      "Run time: 145.80 sec\n",
      "*****************\n",
      "\n",
      "*****************\n",
      "{'n_estimators': 1600, 'max_samples': 0.2534675043259536, 'contamination': 0.01567692474008427, 'verbose': 0}\n",
      "Fitted\n",
      "Run time: 251.18 sec\n",
      "*****************\n",
      "\n",
      "*****************\n",
      "{'n_estimators': 1600, 'max_samples': 0.2534675043259536, 'contamination': 0.01567692474008427, 'verbose': 0}\n",
      "Fitted\n",
      "Run time: 244.23 sec\n",
      "*****************\n",
      "\n",
      "*****************\n",
      "{'n_estimators': 1600, 'max_samples': 0.2534675043259536, 'contamination': 0.01567692474008427, 'verbose': 0}\n",
      "Fitted\n",
      "Run time: 253.53 sec\n",
      "*****************\n",
      "\n",
      "*****************\n",
      "{'n_estimators': 600, 'max_samples': 0.47324346445747034, 'contamination': 0.01909294610268335, 'verbose': 0}\n",
      "Fitted\n",
      "Run time: 98.06 sec\n",
      "*****************\n",
      "\n",
      "*****************\n",
      "{'n_estimators': 600, 'max_samples': 0.47324346445747034, 'contamination': 0.01909294610268335, 'verbose': 0}\n",
      "Fitted\n",
      "Run time: 95.40 sec\n",
      "*****************\n",
      "\n",
      "*****************\n",
      "{'n_estimators': 600, 'max_samples': 0.47324346445747034, 'contamination': 0.01909294610268335, 'verbose': 0}\n",
      "Fitted\n",
      "Run time: 95.77 sec\n",
      "*****************\n",
      "\n",
      "*****************\n",
      "{'n_estimators': 1000, 'max_samples': 0.3230729054691125, 'contamination': 0.06517161929585887, 'verbose': 0}\n",
      "Fitted\n",
      "Run time: 168.28 sec\n",
      "*****************\n",
      "\n",
      "*****************\n",
      "{'n_estimators': 1000, 'max_samples': 0.3230729054691125, 'contamination': 0.06517161929585887, 'verbose': 0}\n",
      "Fitted\n",
      "Run time: 164.04 sec\n",
      "*****************\n",
      "\n",
      "*****************\n",
      "{'n_estimators': 1000, 'max_samples': 0.3230729054691125, 'contamination': 0.06517161929585887, 'verbose': 0}\n",
      "Fitted\n",
      "Run time: 165.42 sec\n",
      "*****************\n",
      "\n",
      "*****************\n",
      "{'n_estimators': 600, 'max_samples': 0.4547684723743177, 'contamination': 0.1638838843204742, 'verbose': 0}\n",
      "Fitted\n",
      "Run time: 109.96 sec\n",
      "*****************\n",
      "\n",
      "*****************\n",
      "{'n_estimators': 600, 'max_samples': 0.4547684723743177, 'contamination': 0.1638838843204742, 'verbose': 0}\n",
      "Fitted\n",
      "Run time: 105.48 sec\n",
      "*****************\n",
      "\n",
      "*****************\n",
      "{'n_estimators': 600, 'max_samples': 0.4547684723743177, 'contamination': 0.1638838843204742, 'verbose': 0}\n",
      "Fitted\n",
      "Run time: 108.75 sec\n",
      "*****************\n",
      "\n",
      "*****************\n",
      "{'n_estimators': 200, 'max_samples': 0.9725149498201954, 'contamination': 0.5700238575003549, 'verbose': 0}\n",
      "Fitted\n",
      "Run time: 59.36 sec\n",
      "*****************\n",
      "\n",
      "*****************\n",
      "{'n_estimators': 200, 'max_samples': 0.9725149498201954, 'contamination': 0.5700238575003549, 'verbose': 0}\n",
      "Fitted\n",
      "Run time: 59.65 sec\n",
      "*****************\n",
      "\n",
      "*****************\n",
      "{'n_estimators': 200, 'max_samples': 0.9725149498201954, 'contamination': 0.5700238575003549, 'verbose': 0}\n",
      "Fitted\n",
      "Run time: 59.13 sec\n",
      "*****************\n",
      "\n",
      "*****************\n",
      "{'n_estimators': 1800, 'max_samples': 0.7565321800105079, 'contamination': 0.007316265531551174, 'verbose': 0}\n",
      "Fitted\n",
      "Run time: 346.03 sec\n",
      "*****************\n",
      "\n",
      "*****************\n",
      "{'n_estimators': 1800, 'max_samples': 0.7565321800105079, 'contamination': 0.007316265531551174, 'verbose': 0}\n",
      "Fitted\n",
      "Run time: 343.39 sec\n",
      "*****************\n",
      "\n",
      "*****************\n",
      "{'n_estimators': 1800, 'max_samples': 0.7565321800105079, 'contamination': 0.007316265531551174, 'verbose': 0}\n",
      "Fitted\n",
      "Run time: 342.15 sec\n",
      "*****************\n",
      "\n",
      "*****************\n",
      "{'n_estimators': 600, 'max_samples': 0.7376420981556255, 'contamination': 0.03522042939536472, 'verbose': 0}\n",
      "Fitted\n",
      "Run time: 109.99 sec\n",
      "*****************\n",
      "\n",
      "*****************\n",
      "{'n_estimators': 600, 'max_samples': 0.7376420981556255, 'contamination': 0.03522042939536472, 'verbose': 0}\n",
      "Fitted\n",
      "Run time: 106.62 sec\n",
      "*****************\n",
      "\n",
      "*****************\n",
      "{'n_estimators': 600, 'max_samples': 0.7376420981556255, 'contamination': 0.03522042939536472, 'verbose': 0}\n",
      "Fitted\n",
      "Run time: 105.25 sec\n",
      "*****************\n",
      "\n",
      "*****************\n",
      "{'n_estimators': 1800, 'max_samples': 0.3776315764188969, 'contamination': 0.6962424193880082, 'verbose': 0}\n",
      "Fitted\n",
      "Run time: 557.92 sec\n",
      "*****************\n",
      "\n",
      "*****************\n",
      "{'n_estimators': 1800, 'max_samples': 0.3776315764188969, 'contamination': 0.6962424193880082, 'verbose': 0}\n",
      "Fitted\n",
      "Run time: 577.78 sec\n",
      "*****************\n",
      "\n"
     ]
    },
    {
     "name": "stdout",
     "output_type": "stream",
     "text": [
      "*****************\n",
      "{'n_estimators': 1800, 'max_samples': 0.3776315764188969, 'contamination': 0.6962424193880082, 'verbose': 0}\n",
      "Fitted\n",
      "Run time: 554.31 sec\n",
      "*****************\n",
      "\n",
      "*****************\n",
      "{'n_estimators': 600, 'max_samples': 0.547227069615814, 'contamination': 0.08979321208070809, 'verbose': 0}\n",
      "Fitted\n",
      "Run time: 112.19 sec\n",
      "*****************\n",
      "\n",
      "*****************\n",
      "{'n_estimators': 600, 'max_samples': 0.547227069615814, 'contamination': 0.08979321208070809, 'verbose': 0}\n",
      "Fitted\n",
      "Run time: 108.91 sec\n",
      "*****************\n",
      "\n",
      "*****************\n",
      "{'n_estimators': 600, 'max_samples': 0.547227069615814, 'contamination': 0.08979321208070809, 'verbose': 0}\n",
      "Fitted\n",
      "Run time: 111.29 sec\n",
      "*****************\n",
      "\n",
      "*****************\n",
      "{'n_estimators': 2000, 'max_samples': 0.8356265134812865, 'contamination': 0.3944477159978967, 'verbose': 0}\n",
      "Fitted\n",
      "Run time: 564.65 sec\n",
      "*****************\n",
      "\n",
      "*****************\n",
      "{'n_estimators': 2000, 'max_samples': 0.8356265134812865, 'contamination': 0.3944477159978967, 'verbose': 0}\n",
      "Fitted\n",
      "Run time: 558.12 sec\n",
      "*****************\n",
      "\n",
      "*****************\n",
      "{'n_estimators': 2000, 'max_samples': 0.8356265134812865, 'contamination': 0.3944477159978967, 'verbose': 0}\n",
      "Fitted\n",
      "Run time: 568.32 sec\n",
      "*****************\n",
      "\n",
      "*****************\n",
      "{'n_estimators': 1600, 'max_samples': 0.6431437894298097, 'contamination': 0.6739674069493, 'verbose': 0}\n",
      "Fitted\n",
      "Run time: 536.45 sec\n",
      "*****************\n",
      "\n",
      "*****************\n",
      "{'n_estimators': 1600, 'max_samples': 0.6431437894298097, 'contamination': 0.6739674069493, 'verbose': 0}\n",
      "Fitted\n",
      "Run time: 547.83 sec\n",
      "*****************\n",
      "\n",
      "*****************\n",
      "{'n_estimators': 1600, 'max_samples': 0.6431437894298097, 'contamination': 0.6739674069493, 'verbose': 0}\n",
      "Fitted\n",
      "Run time: 542.00 sec\n",
      "*****************\n",
      "\n",
      "*****************\n",
      "{'n_estimators': 1200, 'max_samples': 0.5700732979802575, 'contamination': 0.5649222736019318, 'verbose': 0}\n",
      "Fitted\n",
      "Run time: 336.11 sec\n",
      "*****************\n",
      "\n",
      "*****************\n",
      "{'n_estimators': 1200, 'max_samples': 0.5700732979802575, 'contamination': 0.5649222736019318, 'verbose': 0}\n",
      "Fitted\n",
      "Run time: 336.20 sec\n",
      "*****************\n",
      "\n",
      "*****************\n",
      "{'n_estimators': 1200, 'max_samples': 0.5700732979802575, 'contamination': 0.5649222736019318, 'verbose': 0}\n",
      "Fitted\n",
      "Run time: 336.85 sec\n",
      "*****************\n",
      "\n",
      "*****************\n",
      "{'n_estimators': 2000, 'max_samples': 0.9016330819321385, 'contamination': 0.006840464255849169, 'verbose': 0}\n",
      "Fitted\n",
      "Run time: 384.94 sec\n",
      "*****************\n",
      "\n",
      "*****************\n",
      "{'n_estimators': 2000, 'max_samples': 0.9016330819321385, 'contamination': 0.006840464255849169, 'verbose': 0}\n",
      "Fitted\n",
      "Run time: 391.76 sec\n",
      "*****************\n",
      "\n",
      "*****************\n",
      "{'n_estimators': 2000, 'max_samples': 0.9016330819321385, 'contamination': 0.006840464255849169, 'verbose': 0}\n",
      "Fitted\n",
      "Run time: 380.31 sec\n",
      "*****************\n",
      "\n",
      "*****************\n",
      "{'n_estimators': 2000, 'max_samples': 0.9864071203684479, 'contamination': 0.008426304154413831, 'verbose': 0}\n",
      "Fitted\n",
      "Run time: 388.04 sec\n",
      "*****************\n",
      "\n",
      "*****************\n",
      "{'n_estimators': 2000, 'max_samples': 0.9864071203684479, 'contamination': 0.008426304154413831, 'verbose': 0}\n",
      "Fitted\n",
      "Run time: 404.44 sec\n",
      "*****************\n",
      "\n",
      "*****************\n",
      "{'n_estimators': 2000, 'max_samples': 0.9864071203684479, 'contamination': 0.008426304154413831, 'verbose': 0}\n",
      "Fitted\n",
      "Run time: 386.48 sec\n",
      "*****************\n",
      "\n",
      "*****************\n",
      "{'n_estimators': 2000, 'max_samples': 0.8849427317582841, 'contamination': 0.008109793690593047, 'verbose': 0}\n",
      "Fitted\n",
      "Run time: 386.46 sec\n",
      "*****************\n",
      "\n",
      "*****************\n",
      "{'n_estimators': 2000, 'max_samples': 0.8849427317582841, 'contamination': 0.008109793690593047, 'verbose': 0}\n",
      "Fitted\n",
      "Run time: 382.77 sec\n",
      "*****************\n",
      "\n",
      "*****************\n",
      "{'n_estimators': 2000, 'max_samples': 0.8849427317582841, 'contamination': 0.008109793690593047, 'verbose': 0}\n",
      "Fitted\n",
      "Run time: 385.42 sec\n",
      "*****************\n",
      "\n",
      "*****************\n",
      "{'n_estimators': 1400, 'max_samples': 0.8586679264214896, 'contamination': 0.01390549171627593, 'verbose': 0}\n",
      "Fitted\n",
      "Run time: 271.90 sec\n",
      "*****************\n",
      "\n",
      "*****************\n",
      "{'n_estimators': 1400, 'max_samples': 0.8586679264214896, 'contamination': 0.01390549171627593, 'verbose': 0}\n",
      "Fitted\n",
      "Run time: 274.60 sec\n",
      "*****************\n",
      "\n",
      "*****************\n",
      "{'n_estimators': 1400, 'max_samples': 0.8586679264214896, 'contamination': 0.01390549171627593, 'verbose': 0}\n",
      "Fitted\n",
      "Run time: 267.06 sec\n",
      "*****************\n",
      "\n",
      "*****************\n",
      "{'n_estimators': 1400, 'max_samples': 0.9322455554898058, 'contamination': 0.006813922607708675, 'verbose': 0}\n",
      "Fitted\n",
      "Run time: 277.06 sec\n",
      "*****************\n",
      "\n",
      "*****************\n",
      "{'n_estimators': 1400, 'max_samples': 0.9322455554898058, 'contamination': 0.006813922607708675, 'verbose': 0}\n",
      "Fitted\n",
      "Run time: 273.39 sec\n",
      "*****************\n",
      "\n",
      "*****************\n",
      "{'n_estimators': 1400, 'max_samples': 0.9322455554898058, 'contamination': 0.006813922607708675, 'verbose': 0}\n",
      "Fitted\n",
      "Run time: 268.26 sec\n",
      "*****************\n",
      "\n",
      "*****************\n",
      "{'n_estimators': 1800, 'max_samples': 0.7712423448867995, 'contamination': 0.027597352592279547, 'verbose': 0}\n",
      "Fitted\n",
      "Run time: 345.11 sec\n",
      "*****************\n",
      "\n",
      "*****************\n",
      "{'n_estimators': 1800, 'max_samples': 0.7712423448867995, 'contamination': 0.027597352592279547, 'verbose': 0}\n",
      "Fitted\n",
      "Run time: 355.39 sec\n",
      "*****************\n",
      "\n",
      "*****************\n",
      "{'n_estimators': 1800, 'max_samples': 0.7712423448867995, 'contamination': 0.027597352592279547, 'verbose': 0}\n",
      "Fitted\n",
      "Run time: 355.78 sec\n",
      "*****************\n",
      "\n",
      "*****************\n",
      "{'n_estimators': 1200, 'max_samples': 0.6276853928974717, 'contamination': 0.011916993323115648, 'verbose': 0}\n",
      "Fitted\n",
      "Run time: 223.42 sec\n",
      "*****************\n",
      "\n",
      "*****************\n",
      "{'n_estimators': 1200, 'max_samples': 0.6276853928974717, 'contamination': 0.011916993323115648, 'verbose': 0}\n",
      "Fitted\n",
      "Run time: 222.76 sec\n",
      "*****************\n",
      "\n",
      "*****************\n",
      "{'n_estimators': 1200, 'max_samples': 0.6276853928974717, 'contamination': 0.011916993323115648, 'verbose': 0}\n",
      "Fitted\n",
      "Run time: 226.17 sec\n",
      "*****************\n",
      "\n",
      "*****************\n",
      "{'n_estimators': 2000, 'max_samples': 0.791465038963356, 'contamination': 0.022319816833877765, 'verbose': 0}\n",
      "Fitted\n",
      "Run time: 388.22 sec\n",
      "*****************\n",
      "\n",
      "*****************\n",
      "{'n_estimators': 2000, 'max_samples': 0.791465038963356, 'contamination': 0.022319816833877765, 'verbose': 0}\n",
      "Fitted\n",
      "Run time: 386.21 sec\n",
      "*****************\n",
      "\n",
      "*****************\n",
      "{'n_estimators': 2000, 'max_samples': 0.791465038963356, 'contamination': 0.022319816833877765, 'verbose': 0}\n",
      "Fitted\n",
      "Run time: 395.04 sec\n",
      "*****************\n",
      "\n",
      "*****************\n",
      "{'n_estimators': 1600, 'max_samples': 0.9083395101487214, 'contamination': 0.011355661347269015, 'verbose': 0}\n",
      "Fitted\n",
      "Run time: 305.83 sec\n",
      "*****************\n",
      "\n",
      "*****************\n",
      "{'n_estimators': 1600, 'max_samples': 0.9083395101487214, 'contamination': 0.011355661347269015, 'verbose': 0}\n",
      "Fitted\n",
      "Run time: 313.53 sec\n",
      "*****************\n",
      "\n",
      "*****************\n",
      "{'n_estimators': 1600, 'max_samples': 0.9083395101487214, 'contamination': 0.011355661347269015, 'verbose': 0}\n",
      "Fitted\n",
      "Run time: 305.84 sec\n",
      "*****************\n",
      "\n",
      "*****************\n",
      "{'n_estimators': 1600, 'max_samples': 0.6550148506132644, 'contamination': 0.009433422147478122, 'verbose': 0}\n",
      "Fitted\n",
      "Run time: 301.23 sec\n",
      "*****************\n",
      "\n",
      "*****************\n",
      "{'n_estimators': 1600, 'max_samples': 0.6550148506132644, 'contamination': 0.009433422147478122, 'verbose': 0}\n",
      "Fitted\n",
      "Run time: 293.33 sec\n",
      "*****************\n",
      "\n",
      "*****************\n",
      "{'n_estimators': 1600, 'max_samples': 0.6550148506132644, 'contamination': 0.009433422147478122, 'verbose': 0}\n",
      "Fitted\n",
      "Run time: 293.14 sec\n",
      "*****************\n",
      "\n",
      "*****************\n",
      "{'n_estimators': 1200, 'max_samples': 0.6611277926386849, 'contamination': 0.18332763331994578, 'verbose': 0}\n",
      "Fitted\n",
      "Run time: 255.25 sec\n",
      "*****************\n",
      "\n",
      "*****************\n",
      "{'n_estimators': 1200, 'max_samples': 0.6611277926386849, 'contamination': 0.18332763331994578, 'verbose': 0}\n",
      "Fitted\n",
      "Run time: 263.17 sec\n",
      "*****************\n",
      "\n",
      "*****************\n",
      "{'n_estimators': 1200, 'max_samples': 0.6611277926386849, 'contamination': 0.18332763331994578, 'verbose': 0}\n",
      "Fitted\n",
      "Run time: 260.41 sec\n",
      "*****************\n",
      "\n",
      "*****************\n",
      "{'n_estimators': 1400, 'max_samples': 0.6119677462954969, 'contamination': 0.028317802035653986, 'verbose': 0}\n",
      "Fitted\n",
      "Run time: 255.93 sec\n",
      "*****************\n",
      "\n"
     ]
    },
    {
     "name": "stdout",
     "output_type": "stream",
     "text": [
      "*****************\n",
      "{'n_estimators': 1400, 'max_samples': 0.6119677462954969, 'contamination': 0.028317802035653986, 'verbose': 0}\n",
      "Fitted\n",
      "Run time: 256.18 sec\n",
      "*****************\n",
      "\n",
      "*****************\n",
      "{'n_estimators': 1400, 'max_samples': 0.6119677462954969, 'contamination': 0.028317802035653986, 'verbose': 0}\n",
      "Fitted\n",
      "Run time: 261.79 sec\n",
      "*****************\n",
      "\n",
      "*****************\n",
      "{'n_estimators': 1000, 'max_samples': 0.7047962109797282, 'contamination': 0.24141596611403734, 'verbose': 0}\n",
      "Fitted\n",
      "Run time: 214.74 sec\n",
      "*****************\n",
      "\n",
      "*****************\n",
      "{'n_estimators': 1000, 'max_samples': 0.7047962109797282, 'contamination': 0.24141596611403734, 'verbose': 0}\n",
      "Fitted\n",
      "Run time: 220.73 sec\n",
      "*****************\n",
      "\n",
      "*****************\n",
      "{'n_estimators': 1000, 'max_samples': 0.7047962109797282, 'contamination': 0.24141596611403734, 'verbose': 0}\n",
      "Fitted\n",
      "Run time: 222.03 sec\n",
      "*****************\n",
      "\n",
      "*****************\n",
      "{'n_estimators': 1600, 'max_samples': 0.5104882599423564, 'contamination': 0.009751876734438886, 'verbose': 0}\n",
      "Fitted\n",
      "Run time: 274.79 sec\n",
      "*****************\n",
      "\n",
      "*****************\n",
      "{'n_estimators': 1600, 'max_samples': 0.5104882599423564, 'contamination': 0.009751876734438886, 'verbose': 0}\n",
      "Fitted\n",
      "Run time: 274.38 sec\n",
      "*****************\n",
      "\n",
      "*****************\n",
      "{'n_estimators': 1600, 'max_samples': 0.5104882599423564, 'contamination': 0.009751876734438886, 'verbose': 0}\n",
      "Fitted\n",
      "Run time: 277.65 sec\n",
      "*****************\n",
      "\n",
      "*****************\n",
      "{'n_estimators': 1800, 'max_samples': 0.9567103172315037, 'contamination': 0.017380224257101774, 'verbose': 0}\n",
      "Fitted\n",
      "Run time: 364.11 sec\n",
      "*****************\n",
      "\n",
      "*****************\n",
      "{'n_estimators': 1800, 'max_samples': 0.9567103172315037, 'contamination': 0.017380224257101774, 'verbose': 0}\n",
      "Fitted\n",
      "Run time: 353.28 sec\n",
      "*****************\n",
      "\n",
      "*****************\n",
      "{'n_estimators': 1800, 'max_samples': 0.9567103172315037, 'contamination': 0.017380224257101774, 'verbose': 0}\n",
      "Fitted\n",
      "Run time: 357.51 sec\n",
      "*****************\n",
      "\n",
      "*****************\n",
      "{'n_estimators': 2000, 'max_samples': 0.8185967740031838, 'contamination': 0.039294288955398486, 'verbose': 0}\n",
      "Fitted\n",
      "Run time: 402.91 sec\n",
      "*****************\n",
      "\n",
      "*****************\n",
      "{'n_estimators': 2000, 'max_samples': 0.8185967740031838, 'contamination': 0.039294288955398486, 'verbose': 0}\n",
      "Fitted\n",
      "Run time: 395.34 sec\n",
      "*****************\n",
      "\n",
      "*****************\n",
      "{'n_estimators': 2000, 'max_samples': 0.8185967740031838, 'contamination': 0.039294288955398486, 'verbose': 0}\n",
      "Fitted\n",
      "Run time: 385.60 sec\n",
      "*****************\n",
      "\n",
      "*****************\n",
      "{'n_estimators': 800, 'max_samples': 0.5811079321946038, 'contamination': 0.02362230688097672, 'verbose': 0}\n",
      "Fitted\n",
      "Run time: 136.61 sec\n",
      "*****************\n",
      "\n",
      "*****************\n",
      "{'n_estimators': 800, 'max_samples': 0.5811079321946038, 'contamination': 0.02362230688097672, 'verbose': 0}\n",
      "Fitted\n",
      "Run time: 140.95 sec\n",
      "*****************\n",
      "\n",
      "*****************\n",
      "{'n_estimators': 800, 'max_samples': 0.5811079321946038, 'contamination': 0.02362230688097672, 'verbose': 0}\n",
      "Fitted\n",
      "Run time: 138.36 sec\n",
      "*****************\n",
      "\n",
      "*****************\n",
      "{'n_estimators': 1400, 'max_samples': 0.6940759784968991, 'contamination': 0.011070127697130562, 'verbose': 0}\n",
      "Fitted\n",
      "Run time: 263.63 sec\n",
      "*****************\n",
      "\n",
      "*****************\n",
      "{'n_estimators': 1400, 'max_samples': 0.6940759784968991, 'contamination': 0.011070127697130562, 'verbose': 0}\n",
      "Fitted\n",
      "Run time: 260.69 sec\n",
      "*****************\n",
      "\n",
      "*****************\n",
      "{'n_estimators': 1400, 'max_samples': 0.6940759784968991, 'contamination': 0.011070127697130562, 'verbose': 0}\n",
      "Fitted\n",
      "Run time: 263.37 sec\n",
      "*****************\n",
      "\n",
      "*****************\n",
      "{'n_estimators': 1600, 'max_samples': 0.5100399017609637, 'contamination': 0.006930288383644516, 'verbose': 0}\n",
      "Fitted\n",
      "Run time: 278.44 sec\n",
      "*****************\n",
      "\n",
      "*****************\n",
      "{'n_estimators': 1600, 'max_samples': 0.5100399017609637, 'contamination': 0.006930288383644516, 'verbose': 0}\n",
      "Fitted\n",
      "Run time: 271.50 sec\n",
      "*****************\n",
      "\n",
      "*****************\n",
      "{'n_estimators': 1600, 'max_samples': 0.5100399017609637, 'contamination': 0.006930288383644516, 'verbose': 0}\n",
      "Fitted\n",
      "Run time: 288.64 sec\n",
      "*****************\n",
      "\n",
      "*****************\n",
      "{'n_estimators': 1600, 'max_samples': 0.27146874044946695, 'contamination': 0.013958588434708845, 'verbose': 0}\n",
      "Fitted\n",
      "Run time: 269.60 sec\n",
      "*****************\n",
      "\n",
      "*****************\n",
      "{'n_estimators': 1600, 'max_samples': 0.27146874044946695, 'contamination': 0.013958588434708845, 'verbose': 0}\n",
      "Fitted\n",
      "Run time: 268.90 sec\n",
      "*****************\n",
      "\n",
      "*****************\n",
      "{'n_estimators': 1600, 'max_samples': 0.27146874044946695, 'contamination': 0.013958588434708845, 'verbose': 0}\n",
      "Fitted\n",
      "Run time: 266.12 sec\n",
      "*****************\n",
      "\n",
      "*****************\n",
      "{'n_estimators': 1200, 'max_samples': 0.26325782481748455, 'contamination': 0.05977164354459181, 'verbose': 0}\n",
      "Fitted\n",
      "Run time: 204.18 sec\n",
      "*****************\n",
      "\n",
      "*****************\n",
      "{'n_estimators': 1200, 'max_samples': 0.26325782481748455, 'contamination': 0.05977164354459181, 'verbose': 0}\n",
      "Fitted\n",
      "Run time: 204.29 sec\n",
      "*****************\n",
      "\n",
      "*****************\n",
      "{'n_estimators': 1200, 'max_samples': 0.26325782481748455, 'contamination': 0.05977164354459181, 'verbose': 0}\n",
      "Fitted\n",
      "Run time: 202.26 sec\n",
      "*****************\n",
      "\n",
      "*****************\n",
      "{'n_estimators': 800, 'max_samples': 0.10267806191980972, 'contamination': 0.013674886878180581, 'verbose': 0}\n",
      "Fitted\n",
      "Run time: 104.25 sec\n",
      "*****************\n",
      "\n",
      "*****************\n",
      "{'n_estimators': 800, 'max_samples': 0.10267806191980972, 'contamination': 0.013674886878180581, 'verbose': 0}\n",
      "Fitted\n",
      "Run time: 102.31 sec\n",
      "*****************\n",
      "\n",
      "*****************\n",
      "{'n_estimators': 800, 'max_samples': 0.10267806191980972, 'contamination': 0.013674886878180581, 'verbose': 0}\n",
      "Fitted\n",
      "Run time: 105.50 sec\n",
      "*****************\n",
      "\n",
      "*****************\n",
      "{'n_estimators': 1000, 'max_samples': 0.2126743368849794, 'contamination': 0.11936715746928499, 'verbose': 0}\n",
      "Fitted\n",
      "Run time: 165.12 sec\n",
      "*****************\n",
      "\n",
      "*****************\n",
      "{'n_estimators': 1000, 'max_samples': 0.2126743368849794, 'contamination': 0.11936715746928499, 'verbose': 0}\n",
      "Fitted\n",
      "Run time: 162.38 sec\n",
      "*****************\n",
      "\n",
      "*****************\n",
      "{'n_estimators': 1000, 'max_samples': 0.2126743368849794, 'contamination': 0.11936715746928499, 'verbose': 0}\n",
      "Fitted\n",
      "Run time: 163.12 sec\n",
      "*****************\n",
      "\n",
      "*****************\n",
      "{'n_estimators': 1400, 'max_samples': 0.16894317954378235, 'contamination': 0.9898949755967362, 'verbose': 0}\n",
      "Fitted\n",
      "Run time: 472.40 sec\n",
      "*****************\n",
      "\n",
      "*****************\n",
      "{'n_estimators': 1400, 'max_samples': 0.16894317954378235, 'contamination': 0.9898949755967362, 'verbose': 0}\n",
      "Fitted\n",
      "Run time: 460.89 sec\n",
      "*****************\n",
      "\n",
      "*****************\n",
      "{'n_estimators': 1400, 'max_samples': 0.16894317954378235, 'contamination': 0.9898949755967362, 'verbose': 0}\n",
      "Fitted\n",
      "Run time: 466.83 sec\n",
      "*****************\n",
      "\n",
      "*****************\n",
      "{'n_estimators': 400, 'max_samples': 0.4109206878931574, 'contamination': 0.04403394308687248, 'verbose': 0}\n",
      "Fitted\n",
      "Run time: 64.29 sec\n",
      "*****************\n",
      "\n",
      "*****************\n",
      "{'n_estimators': 400, 'max_samples': 0.4109206878931574, 'contamination': 0.04403394308687248, 'verbose': 0}\n",
      "Fitted\n",
      "Run time: 62.64 sec\n",
      "*****************\n",
      "\n",
      "*****************\n",
      "{'n_estimators': 400, 'max_samples': 0.4109206878931574, 'contamination': 0.04403394308687248, 'verbose': 0}\n",
      "Fitted\n",
      "Run time: 65.78 sec\n",
      "*****************\n",
      "\n",
      "*****************\n",
      "{'n_estimators': 1800, 'max_samples': 0.3151460878291225, 'contamination': 0.033178563509914126, 'verbose': 0}\n",
      "Fitted\n",
      "Run time: 312.99 sec\n",
      "*****************\n",
      "\n",
      "*****************\n",
      "{'n_estimators': 1800, 'max_samples': 0.3151460878291225, 'contamination': 0.033178563509914126, 'verbose': 0}\n",
      "Fitted\n",
      "Run time: 313.29 sec\n",
      "*****************\n",
      "\n",
      "*****************\n",
      "{'n_estimators': 1800, 'max_samples': 0.3151460878291225, 'contamination': 0.033178563509914126, 'verbose': 0}\n",
      "Fitted\n",
      "Run time: 310.93 sec\n",
      "*****************\n",
      "\n",
      "*****************\n",
      "{'n_estimators': 1600, 'max_samples': 0.44552327438350003, 'contamination': 0.019363233150920874, 'verbose': 0}\n",
      "Fitted\n",
      "Run time: 281.26 sec\n",
      "*****************\n",
      "\n",
      "*****************\n",
      "{'n_estimators': 1600, 'max_samples': 0.44552327438350003, 'contamination': 0.019363233150920874, 'verbose': 0}\n",
      "Fitted\n",
      "Run time: 280.27 sec\n",
      "*****************\n",
      "\n",
      "*****************\n",
      "{'n_estimators': 1600, 'max_samples': 0.44552327438350003, 'contamination': 0.019363233150920874, 'verbose': 0}\n"
     ]
    },
    {
     "name": "stdout",
     "output_type": "stream",
     "text": [
      "Fitted\n",
      "Run time: 282.81 sec\n",
      "*****************\n",
      "\n",
      "*****************\n",
      "{'n_estimators': 1200, 'max_samples': 0.28749709761011044, 'contamination': 0.07617518882933227, 'verbose': 0}\n",
      "Fitted\n",
      "Run time: 210.72 sec\n",
      "*****************\n",
      "\n",
      "*****************\n",
      "{'n_estimators': 1200, 'max_samples': 0.28749709761011044, 'contamination': 0.07617518882933227, 'verbose': 0}\n",
      "Fitted\n",
      "Run time: 209.49 sec\n",
      "*****************\n",
      "\n",
      "*****************\n",
      "{'n_estimators': 1200, 'max_samples': 0.28749709761011044, 'contamination': 0.07617518882933227, 'verbose': 0}\n",
      "Fitted\n",
      "Run time: 205.55 sec\n",
      "*****************\n",
      "\n",
      "*****************\n",
      "{'n_estimators': 1800, 'max_samples': 0.3761155370042712, 'contamination': 0.30909153439455667, 'verbose': 0}\n",
      "Fitted\n",
      "Run time: 402.45 sec\n",
      "*****************\n",
      "\n",
      "*****************\n",
      "{'n_estimators': 1800, 'max_samples': 0.3761155370042712, 'contamination': 0.30909153439455667, 'verbose': 0}\n",
      "Fitted\n",
      "Run time: 396.48 sec\n",
      "*****************\n",
      "\n",
      "*****************\n",
      "{'n_estimators': 1800, 'max_samples': 0.3761155370042712, 'contamination': 0.30909153439455667, 'verbose': 0}\n",
      "Fitted\n",
      "Run time: 402.07 sec\n",
      "*****************\n",
      "\n",
      "*****************\n",
      "{'n_estimators': 800, 'max_samples': 0.22104180795937428, 'contamination': 0.009799868586013971, 'verbose': 0}\n",
      "Fitted\n",
      "Run time: 115.97 sec\n",
      "*****************\n",
      "\n",
      "*****************\n",
      "{'n_estimators': 800, 'max_samples': 0.22104180795937428, 'contamination': 0.009799868586013971, 'verbose': 0}\n",
      "Fitted\n",
      "Run time: 119.94 sec\n",
      "*****************\n",
      "\n",
      "*****************\n",
      "{'n_estimators': 800, 'max_samples': 0.22104180795937428, 'contamination': 0.009799868586013971, 'verbose': 0}\n",
      "Fitted\n",
      "Run time: 118.35 sec\n",
      "*****************\n",
      "\n",
      "CPU times: user 1d 21min 36s, sys: 1h 17min 48s, total: 1d 1h 39min 25s\n",
      "Wall time: 1d 1h 39min 50s\n"
     ]
    }
   ],
   "source": [
    "%%time\n",
    "trainer.crossval_optimize_params(RocAuc(), dataset, metrics=[Accuracy(), RocAuc(), F1()])"
   ]
  },
  {
   "cell_type": "markdown",
   "metadata": {},
   "source": [
    "Результаты"
   ]
  },
  {
   "cell_type": "code",
   "execution_count": 23,
   "metadata": {
    "collapsed": true
   },
   "outputs": [],
   "source": [
    "reporter = Report(trainer.get_best_results(), dataset, [Accuracy(), RocAuc(), F1()])"
   ]
  },
  {
   "cell_type": "code",
   "execution_count": 24,
   "metadata": {},
   "outputs": [
    {
     "name": "stdout",
     "output_type": "stream",
     "text": [
      "\n",
      "~~~~~~~~~~~~~~~~~~~~~~~~~~~~~~~~~~~~~~~~~~~~~~    accuracy    ~~~~~~~~~~~~~~~~~~~~~~~~~~~~~~~~~~~~~~~~~~~~~~~\n",
      "\n",
      "                                       tuned\n",
      "IsolationForestClassifier  0.586938 (+0.00%)\n",
      "\n",
      "~~~~~~~~~~~~~~~~~~~~~~~~~~~~~~~~~~~~~~~~~~~~~~~    roc_auc    ~~~~~~~~~~~~~~~~~~~~~~~~~~~~~~~~~~~~~~~~~~~~~~~\n",
      "\n",
      "                                       tuned\n",
      "IsolationForestClassifier  0.763956 (+0.00%)\n",
      "\n",
      "~~~~~~~~~~~~~~~~~~~~~~~~~~~~~~~~~~~~~~~~~~~~~~    f1_score    ~~~~~~~~~~~~~~~~~~~~~~~~~~~~~~~~~~~~~~~~~~~~~~~\n",
      "\n",
      "                                       tuned\n",
      "IsolationForestClassifier  0.705948 (+0.00%)\n"
     ]
    }
   ],
   "source": [
    "reporter.print_all_metric_results()"
   ]
  },
  {
   "cell_type": "code",
   "execution_count": 25,
   "metadata": {},
   "outputs": [
    {
     "name": "stdout",
     "output_type": "stream",
     "text": [
      "\n",
      "~~~~~~~~~~~~~~~~~~~~~~~~~~~~~~~~~~~~~~~~~~~~~~    accuracy    ~~~~~~~~~~~~~~~~~~~~~~~~~~~~~~~~~~~~~~~~~~~~~~~\n",
      "\n"
     ]
    },
    {
     "data": {
      "image/png": "[encoded data removed]",
      "text/plain": [
       "<matplotlib.figure.Figure at 0x7f4821ff1fd0>"
      ]
     },
     "metadata": {},
     "output_type": "display_data"
    },
    {
     "name": "stdout",
     "output_type": "stream",
     "text": [
      "\n",
      "~~~~~~~~~~~~~~~~~~~~~~~~~~~~~~~~~~~~~~~~~~~~~~~    roc_auc    ~~~~~~~~~~~~~~~~~~~~~~~~~~~~~~~~~~~~~~~~~~~~~~~\n",
      "\n"
     ]
    },
    {
     "data": {
      "image/png": "[encoded data removed]",
      "text/plain": [
       "<matplotlib.figure.Figure at 0x7f480d27b1d0>"
      ]
     },
     "metadata": {},
     "output_type": "display_data"
    },
    {
     "name": "stdout",
     "output_type": "stream",
     "text": [
      "\n",
      "~~~~~~~~~~~~~~~~~~~~~~~~~~~~~~~~~~~~~~~~~~~~~~    f1_score    ~~~~~~~~~~~~~~~~~~~~~~~~~~~~~~~~~~~~~~~~~~~~~~~\n",
      "\n"
     ]
    },
    {
     "data": {
      "image/png": "[encoded data removed]",
      "text/plain": [
       "<matplotlib.figure.Figure at 0x7f480d406ef0>"
      ]
     },
     "metadata": {},
     "output_type": "display_data"
    }
   ],
   "source": [
    "reporter.plot_all_metrics()"
   ]
  },
  {
   "cell_type": "markdown",
   "metadata": {},
   "source": [
    "Вытащим значения оптимальных параметров"
   ]
  },
  {
   "cell_type": "code",
   "execution_count": 26,
   "metadata": {
    "collapsed": true
   },
   "outputs": [],
   "source": [
    "trainer_log = trainer.state['IsolationForestClassifier']"
   ]
  },
  {
   "cell_type": "code",
   "execution_count": 27,
   "metadata": {},
   "outputs": [
    {
     "data": {
      "text/plain": [
       "{'book_time': datetime.datetime(2018, 6, 7, 21, 27, 49, 195000),\n",
       " 'exp_key': None,\n",
       " 'misc': {'cmd': ('domain_attachment', 'FMinIter_Domain'),\n",
       "  'idxs': {'contamination': [49], 'max_samples': [49], 'n_estimators': [49]},\n",
       "  'tid': 49,\n",
       "  'vals': {'contamination': [0.009799868586013971],\n",
       "   'max_samples': [0.22104180795937428],\n",
       "   'n_estimators': [800.0]},\n",
       "  'workdir': None},\n",
       " 'owner': None,\n",
       " 'refresh_time': datetime.datetime(2018, 6, 7, 21, 42, 52, 473000),\n",
       " 'result': {'loss': -0.763955908641709,\n",
       "  'loss_variance': 0.003721423979906302,\n",
       "  'metric_cv_results': [{'accuracy': 0.5875444606533462,\n",
       "    'f1_score': 0.7060355955864743,\n",
       "    'roc_auc': 0.7587687077338886},\n",
       "   {'accuracy': 0.5870739323209061,\n",
       "    'f1_score': 0.7062808240739662,\n",
       "    'roc_auc': 0.7673197069362827},\n",
       "   {'accuracy': 0.5861970053353222,\n",
       "    'f1_score': 0.705528306398465,\n",
       "    'roc_auc': 0.7657793112549558}],\n",
       "  'params': {'contamination': 0.009799868586013971,\n",
       "   'max_samples': 0.22104180795937428,\n",
       "   'n_estimators': 800},\n",
       "  'status': 'ok'},\n",
       " 'spec': None,\n",
       " 'state': 2,\n",
       " 'tid': 49,\n",
       " 'version': 0}"
      ]
     },
     "execution_count": 27,
     "metadata": {},
     "output_type": "execute_result"
    }
   ],
   "source": [
    "trainer_log.best_trial"
   ]
  },
  {
   "cell_type": "code",
   "execution_count": 28,
   "metadata": {},
   "outputs": [
    {
     "data": {
      "text/plain": [
       "{'book_time': datetime.datetime(2018, 6, 7, 21, 27, 49, 195000),\n",
       " 'exp_key': None,\n",
       " 'misc': {'cmd': ('domain_attachment', 'FMinIter_Domain'),\n",
       "  'idxs': {'contamination': [49], 'max_samples': [49], 'n_estimators': [49]},\n",
       "  'tid': 49,\n",
       "  'vals': {'contamination': [0.009799868586013971],\n",
       "   'max_samples': [0.22104180795937428],\n",
       "   'n_estimators': [800.0]},\n",
       "  'workdir': None},\n",
       " 'owner': None,\n",
       " 'refresh_time': datetime.datetime(2018, 6, 7, 21, 42, 52, 473000),\n",
       " 'result': {'loss': -0.763955908641709,\n",
       "  'loss_variance': 0.003721423979906302,\n",
       "  'metric_cv_results': [{'accuracy': 0.5875444606533462,\n",
       "    'f1_score': 0.7060355955864743,\n",
       "    'roc_auc': 0.7587687077338886},\n",
       "   {'accuracy': 0.5870739323209061,\n",
       "    'f1_score': 0.7062808240739662,\n",
       "    'roc_auc': 0.7673197069362827},\n",
       "   {'accuracy': 0.5861970053353222,\n",
       "    'f1_score': 0.705528306398465,\n",
       "    'roc_auc': 0.7657793112549558}],\n",
       "  'params': {'contamination': 0.009799868586013971,\n",
       "   'max_samples': 0.22104180795937428,\n",
       "   'n_estimators': 800},\n",
       "  'status': 'ok'},\n",
       " 'spec': None,\n",
       " 'state': 2,\n",
       " 'tid': 49,\n",
       " 'version': 0}"
      ]
     },
     "execution_count": 28,
     "metadata": {},
     "output_type": "execute_result"
    }
   ],
   "source": [
    "trainer_log.best_trial"
   ]
  },
  {
   "cell_type": "code",
   "execution_count": 29,
   "metadata": {},
   "outputs": [
    {
     "data": {
      "text/plain": [
       "{'book_time': datetime.datetime(2018, 6, 7, 21, 27, 49, 195000),\n",
       " 'exp_key': None,\n",
       " 'misc': {'cmd': ('domain_attachment', 'FMinIter_Domain'),\n",
       "  'idxs': {'contamination': [49], 'max_samples': [49], 'n_estimators': [49]},\n",
       "  'tid': 49,\n",
       "  'vals': {'contamination': [0.009799868586013971],\n",
       "   'max_samples': [0.22104180795937428],\n",
       "   'n_estimators': [800.0]},\n",
       "  'workdir': None},\n",
       " 'owner': None,\n",
       " 'refresh_time': datetime.datetime(2018, 6, 7, 21, 42, 52, 473000),\n",
       " 'result': {'loss': -0.763955908641709,\n",
       "  'loss_variance': 0.003721423979906302,\n",
       "  'metric_cv_results': [{'accuracy': 0.5875444606533462,\n",
       "    'f1_score': 0.7060355955864743,\n",
       "    'roc_auc': 0.7587687077338886},\n",
       "   {'accuracy': 0.5870739323209061,\n",
       "    'f1_score': 0.7062808240739662,\n",
       "    'roc_auc': 0.7673197069362827},\n",
       "   {'accuracy': 0.5861970053353222,\n",
       "    'f1_score': 0.705528306398465,\n",
       "    'roc_auc': 0.7657793112549558}],\n",
       "  'params': {'contamination': 0.009799868586013971,\n",
       "   'max_samples': 0.22104180795937428,\n",
       "   'n_estimators': 800},\n",
       "  'status': 'ok'},\n",
       " 'spec': None,\n",
       " 'state': 2,\n",
       " 'tid': 49,\n",
       " 'version': 0}"
      ]
     },
     "execution_count": 29,
     "metadata": {},
     "output_type": "execute_result"
    }
   ],
   "source": [
    "trainer_log.best_trial"
   ]
  },
  {
   "cell_type": "markdown",
   "metadata": {},
   "source": [
    "Сами параметры"
   ]
  },
  {
   "cell_type": "code",
   "execution_count": 30,
   "metadata": {},
   "outputs": [
    {
     "data": {
      "text/plain": [
       "{'contamination': 0.009799868586013971,\n",
       " 'max_samples': 0.22104180795937428,\n",
       " 'n_estimators': 800}"
      ]
     },
     "execution_count": 30,
     "metadata": {},
     "output_type": "execute_result"
    }
   ],
   "source": [
    "opt_params = trainer_log.best_trial['result']['params']\n",
    "opt_params"
   ]
  },
  {
   "cell_type": "markdown",
   "metadata": {},
   "source": [
    "Сохраним эти значения"
   ]
  },
  {
   "cell_type": "code",
   "execution_count": 31,
   "metadata": {
    "collapsed": true
   },
   "outputs": [],
   "source": [
    "file_name = 'optimal_isolation_forest_params_3.json'\n",
    "with open(file_name, 'w', encoding=\"utf-8\") as file:\n",
    "    # writing\n",
    "    json.dump(opt_params, file, indent=4, ensure_ascii=False)"
   ]
  },
  {
   "cell_type": "markdown",
   "metadata": {},
   "source": [
    "Загрузим значения"
   ]
  },
  {
   "cell_type": "code",
   "execution_count": 32,
   "metadata": {
    "collapsed": true
   },
   "outputs": [],
   "source": [
    "file_name = 'optimal_isolation_forest_params_3.json'\n",
    "with open(file_name, 'r', encoding=\"utf-8\") as file:\n",
    "    opt_params = json.load(file)"
   ]
  },
  {
   "cell_type": "code",
   "execution_count": 112,
   "metadata": {},
   "outputs": [
    {
     "data": {
      "text/plain": [
       "{'contamination': 0.05385746471924635,\n",
       " 'max_samples': 0.9251608898029281,\n",
       " 'n_estimators': 200}"
      ]
     },
     "execution_count": 112,
     "metadata": {},
     "output_type": "execute_result"
    }
   ],
   "source": [
    "opt_params"
   ]
  },
  {
   "cell_type": "code",
   "execution_count": 82,
   "metadata": {},
   "outputs": [
    {
     "data": {
      "text/plain": [
       "{'contamination': 0.05172921173547536,\n",
       " 'max_samples': 0.13429110246032988,\n",
       " 'n_estimators': 1400}"
      ]
     },
     "execution_count": 82,
     "metadata": {},
     "output_type": "execute_result"
    }
   ],
   "source": [
    "opt_params"
   ]
  },
  {
   "cell_type": "code",
   "execution_count": 48,
   "metadata": {},
   "outputs": [
    {
     "data": {
      "text/plain": [
       "{'contamination': 0.1029849455683469,\n",
       " 'max_samples': 0.9940821722848857,\n",
       " 'n_estimators': 200}"
      ]
     },
     "execution_count": 48,
     "metadata": {},
     "output_type": "execute_result"
    }
   ],
   "source": [
    "opt_params"
   ]
  },
  {
   "cell_type": "code",
   "execution_count": 33,
   "metadata": {},
   "outputs": [
    {
     "data": {
      "text/plain": [
       "{'contamination': 0.009799868586013971,\n",
       " 'max_samples': 0.22104180795937428,\n",
       " 'n_estimators': 800}"
      ]
     },
     "execution_count": 33,
     "metadata": {},
     "output_type": "execute_result"
    }
   ],
   "source": [
    "opt_params"
   ]
  },
  {
   "cell_type": "markdown",
   "metadata": {},
   "source": [
    "## Получим значения метрик Isolation Forest при оптимальных параметрах"
   ]
  },
  {
   "cell_type": "code",
   "execution_count": 34,
   "metadata": {
    "collapsed": true
   },
   "outputs": [],
   "source": [
    "y_test_rescale = np.where(y_test == 0, np.ones((y_test.shape)), -np.ones((y_test.shape)))"
   ]
  },
  {
   "cell_type": "code",
   "execution_count": 35,
   "metadata": {
    "collapsed": true
   },
   "outputs": [],
   "source": [
    "unsupervised_pr_aucs = {}\n",
    "unsupervised_roc_aucs = {}\n",
    "unsupervised_p_at_r = {\n",
    "    '0.8': {},\n",
    "    '0.9': {}, \n",
    "    '0.95': {},\n",
    "    '0.99': {},\n",
    "}"
   ]
  },
  {
   "cell_type": "markdown",
   "metadata": {},
   "source": [
    "Реализуем функции для вычисления precision at recall"
   ]
  },
  {
   "cell_type": "code",
   "execution_count": 36,
   "metadata": {
    "collapsed": true
   },
   "outputs": [],
   "source": [
    "def p_at_r(y_test, y_pred, x):\n",
    "    precision, recall, _ = precision_recall_curve(y_test, y_pred)\n",
    "    return max(precision[recall > x])"
   ]
  },
  {
   "cell_type": "code",
   "execution_count": 37,
   "metadata": {
    "collapsed": true
   },
   "outputs": [],
   "source": [
    "def _eval_p_at_rs(y_test, y_pred, frac, ours_p_at_r, descr):\n",
    "    for recall in ours_p_at_r.keys():\n",
    "        if descr in ours_p_at_r[recall]:\n",
    "            # append the new number to the existing array at this slot\n",
    "            ours_p_at_r[recall][descr].append((frac, p_at_r(y_test, y_pred, float(recall))))\n",
    "        else:\n",
    "            # create a new array in this slot\n",
    "            ours_p_at_r[recall][descr] = [(frac, p_at_r(y_test, y_pred, float(recall)))]\n",
    "            \n",
    "def _eval_p_at_rs_flatten(y_test, y_pred, frac, ours_p_at_r, descr):\n",
    "    for recall in ours_p_at_r.keys():\n",
    "        ours_p_at_r[recall][descr] = (frac, p_at_r(y_test, y_pred, float(recall)))"
   ]
  },
  {
   "cell_type": "markdown",
   "metadata": {},
   "source": [
    "Сохранение данных"
   ]
  },
  {
   "cell_type": "code",
   "execution_count": 38,
   "metadata": {
    "collapsed": true
   },
   "outputs": [],
   "source": [
    "def dump(saved_dict, folder, name):\n",
    "    dict_for_json = {k: {kk: list(vv) for kk, vv in v.items()} if isinstance(v, dict) else list(v) \n",
    "                     for k, v in saved_dict.items()}\n",
    "    with open(os.path.join(folder, name + \".json\"), 'w', encoding=\"utf-8\") as file:\n",
    "        # writing\n",
    "        json.dump(dict_for_json, file, indent=4, ensure_ascii=False)\n",
    "    del dict_for_json"
   ]
  },
  {
   "cell_type": "code",
   "execution_count": 39,
   "metadata": {
    "collapsed": true
   },
   "outputs": [],
   "source": [
    "def create_metrics_folder(metrics_path):\n",
    "    try:\n",
    "        last_folder_n = max(list(map(lambda name: int(name), \n",
    "                                     filter(lambda name: os.path.isdir(os.path.join(metrics_path, name)) \n",
    "                                            and name.isdecimal(), os.listdir(metrics_path)))))\n",
    "    except:\n",
    "        last_folder_n = 0\n",
    "    new_folder = os.path.join(metrics_path, str(last_folder_n + 1))\n",
    "    old_folder = os.path.join(metrics_path, str(last_folder_n))\n",
    "    os.makedirs(new_folder)    \n",
    "    return new_folder, old_folder"
   ]
  },
  {
   "cell_type": "code",
   "execution_count": 40,
   "metadata": {
    "collapsed": true
   },
   "outputs": [],
   "source": [
    "def dump_metrics_un(metrics_path):\n",
    "    folder, old_folder = create_metrics_folder(metrics_path)\n",
    "    print(folder)\n",
    "\n",
    "    dump(unsupervised_pr_aucs, folder, \"unsupervised_pr_aucs\")\n",
    "    dump(unsupervised_roc_aucs, folder, \"unsupervised_roc_aucs\")\n",
    "    dump(unsupervised_p_at_r, folder, \"unsupervised_p_at_r\")\n",
    "    \n",
    "    shutil.rmtree(old_folder, ignore_errors=True)"
   ]
  },
  {
   "cell_type": "code",
   "execution_count": 41,
   "metadata": {
    "collapsed": true
   },
   "outputs": [],
   "source": [
    "y_test_rescale = np.where(y_test == 0, np.ones((y_test.shape)), -np.ones((y_test.shape)))"
   ]
  },
  {
   "cell_type": "code",
   "execution_count": 42,
   "metadata": {},
   "outputs": [
    {
     "name": "stderr",
     "output_type": "stream",
     "text": [
      "\r",
      "0it [00:00, ?it/s]"
     ]
    },
    {
     "name": "stdout",
     "output_type": "stream",
     "text": [
      "Isolation Forest\n",
      "recall_score  0.18469305242913653\n",
      "precision_score  0.9591419816138917\n",
      "f1_score  0.3097419733176954\n",
      "confusion_matrix \n",
      "[[45397   360]\n",
      " [37306  8451]]\n"
     ]
    },
    {
     "data": {
      "image/png": "[encoded data removed]",
      "text/plain": [
       "<matplotlib.figure.Figure at 0x7f480d34b7b8>"
      ]
     },
     "metadata": {},
     "output_type": "display_data"
    },
    {
     "data": {
      "image/png": "[encoded data removed]",
      "text/plain": [
       "<matplotlib.figure.Figure at 0x7f480e538eb8>"
      ]
     },
     "metadata": {},
     "output_type": "display_data"
    },
    {
     "name": "stderr",
     "output_type": "stream",
     "text": [
      "\r",
      "1it [05:19, 319.87s/it]"
     ]
    },
    {
     "name": "stdout",
     "output_type": "stream",
     "text": [
      "Precision at recall:  0.8 = [(0, 0.6180964762692691)]; 0.9 = [(0, 0.555527078977541)]; 0.95 = [(0, 0.5257467650260007)]; 0.99 = [(0, 0.5049829442846633)]\n",
      "../metrics/unsupervised/IF_opt/3\n"
     ]
    },
    {
     "name": "stderr",
     "output_type": "stream",
     "text": [
      "\n"
     ]
    }
   ],
   "source": [
    "from sklearn import svm\n",
    "from sklearn.ensemble import IsolationForest\n",
    "\n",
    "\n",
    "classifiers_classic_uns = {\n",
    "    \"Isolation Forest\": IsolationForest(**opt_params)\n",
    "}\n",
    "\n",
    "frac = 0\n",
    "metrics_path = '../metrics/unsupervised/IF_opt/'\n",
    "for i, (clf_name, clf) in tqdm(enumerate(classifiers_classic_uns.items())):\n",
    "        # create train set\n",
    "        idx_neg = np.random.permutation(X_bad.shape[0])\n",
    "        end_ind = int(opt_params['contamination'] * idx_neg.shape[0])\n",
    "        X = np.concatenate((\n",
    "            X_good,\n",
    "            X_bad[idx_neg[:end_ind]]\n",
    "        ), axis=0)\n",
    "        \n",
    "        clf.fit(np.random.permutation(X))\n",
    "        y_pred = clf.predict(X_test)\n",
    "#         y_pred = clf.decision_function(X_test)\n",
    "        \n",
    "        print (clf_name)\n",
    "        print (\"recall_score \",recall_score(-y_test_rescale, np.round(-y_pred)))\n",
    "        print (\"precision_score \",precision_score(-y_test_rescale, np.round(-y_pred)))\n",
    "        print (\"f1_score \",f1_score(-y_test_rescale, np.round(-y_pred)))\n",
    "        print (\"confusion_matrix \")\n",
    "        print (confusion_matrix(-y_test_rescale, np.round(-y_pred)))\n",
    "        \n",
    "\n",
    "        Score = clf.decision_function(X_test)\n",
    "        \n",
    "        \n",
    "        precision, recall, _ = precision_recall_curve(-y_test_rescale, -Score)\n",
    "        pr_auc = auc(recall, precision)\n",
    "        unsupervised_pr_aucs[clf_name]=[(frac, pr_auc)]\n",
    "        \n",
    "        plt.figure()\n",
    "        plt.plot(recall, precision, label='PR curve (area = %0.3f)' % pr_auc)\n",
    "        plt.xlim([0.0, 1.0])\n",
    "        plt.ylim([0.0, 1.05])\n",
    "        plt.xlabel('Recall')\n",
    "        plt.ylabel('Precision')\n",
    "        plt.legend(loc=\"lower right\")\n",
    "        plt.grid(True)\n",
    "        plt.show()\n",
    "        \n",
    "        fpr, tpr, _ = roc_curve(-y_test_rescale, -Score)\n",
    "        roc_auc = auc(fpr, tpr)\n",
    "        unsupervised_roc_aucs[clf_name]=[(frac, roc_auc)]\n",
    "        \n",
    "        plt.figure()\n",
    "        plt.plot(fpr, tpr, label='ROC curve (area = %0.3f)' % roc_auc)\n",
    "        plt.xlim([0.0, 1.0])\n",
    "        plt.ylim([0.0, 1.05])\n",
    "        plt.xlabel('False Positive Rate')\n",
    "        plt.ylabel('True Positive Rate')\n",
    "        plt.legend(loc=\"lower right\")\n",
    "        plt.grid(True)\n",
    "        plt.show()\n",
    "        \n",
    "        _eval_p_at_rs(-y_test_rescale, -Score, frac, unsupervised_p_at_r, descr=clf_name)\n",
    "        \n",
    "        print(\"Precision at recall: \", \"; \".join(\n",
    "            map(lambda k: \"{} = {}\".format(k, unsupervised_p_at_r[k][clf_name]), unsupervised_p_at_r.keys())\n",
    "        ))\n",
    "        dump_metrics_un(metrics_path)"
   ]
  },
  {
   "cell_type": "code",
   "execution_count": null,
   "metadata": {
    "collapsed": true
   },
   "outputs": [],
   "source": []
  }
 ],
 "metadata": {
  "anaconda-cloud": {},
  "kernelspec": {
   "display_name": "Python 3",
   "language": "python",
   "name": "python3"
  },
  "language_info": {
   "codemirror_mode": {
    "name": "ipython",
    "version": 3
   },
   "file_extension": ".py",
   "mimetype": "text/x-python",
   "name": "python",
   "nbconvert_exporter": "python",
   "pygments_lexer": "ipython3",
   "version": "3.6.2"
  }
 },
 "nbformat": 4,
 "nbformat_minor": 1
}
