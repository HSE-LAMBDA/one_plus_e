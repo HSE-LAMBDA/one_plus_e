{
 "cells": [
  {
   "cell_type": "markdown",
   "metadata": {},
   "source": [
    "# Получение значений метрик"
   ]
  },
  {
   "cell_type": "code",
   "execution_count": 14,
   "metadata": {
    "collapsed": true
   },
   "outputs": [],
   "source": [
    "import sys\n",
    "import json\n",
    "import timeit\n",
    "import numpy as np\n",
    "import matplotlib.pyplot as plt\n",
    "\n",
    "from tqdm import tqdm\n",
    "from IPython import display\n",
    "\n",
    "from modelgym.report import Report\n",
    "from modelgym.utils import XYCDataset\n",
    "from modelgym.trainers import TpeTrainer\n",
    "from modelgym.metrics import Accuracy, RocAuc, F1\n",
    "\n",
    "from sklearn.ensemble import IsolationForest\n",
    "from sklearn.svm import OneClassSVM\n",
    "\n",
    "sys.path.append('../../gmm_modules/')\n",
    "from data_preparation import get_train_test_data\n",
    "from metrics import metric_boxplot, eval_metrics, dump_metrics\n",
    "from modelgym_models import IsolationForestClassifier\n",
    "\n",
    "np.random.seed(10)\n",
    "%matplotlib inline"
   ]
  },
  {
   "cell_type": "markdown",
   "metadata": {},
   "source": [
    "## Подготовим данные"
   ]
  },
  {
   "cell_type": "code",
   "execution_count": 2,
   "metadata": {},
   "outputs": [
    {
     "name": "stdout",
     "output_type": "stream",
     "text": [
      "CPU times: user 37.9 s, sys: 7.86 s, total: 45.8 s\n",
      "Wall time: 1min 9s\n"
     ]
    }
   ],
   "source": [
    "%%time\n",
    "path_to_dataset = '../../../../SUSY.csv'\n",
    "column_names = 'label, lepton 1 pT, lepton 1 eta, lepton 1 phi, lepton 2 pT, lepton 2 eta, lepton 2 phi, missing energy magnitude, missing energy phi, MET_rel, axial MET, M_R, M_TR_2, R, MT2, S_R, M_Delta_R, dPhi_r_b, cos(theta_r1)'.split(', ')\n",
    "train_size = 400000\n",
    "test_size = 100000\n",
    "\n",
    "X_train, X_test, y_train, y_test = get_train_test_data(path_to_dataset, column_names, train_size, test_size)"
   ]
  },
  {
   "cell_type": "code",
   "execution_count": 3,
   "metadata": {
    "collapsed": true
   },
   "outputs": [],
   "source": [
    "# split X_train by class\n",
    "X_good = X_train[np.where(y_train==0)[0]]\n",
    "X_bad = X_train[np.where(y_train==1)[0]]  "
   ]
  },
  {
   "cell_type": "code",
   "execution_count": 4,
   "metadata": {},
   "outputs": [
    {
     "data": {
      "text/plain": [
       "((200000, 18), (200000, 18), (400000, 18), (100000, 18))"
      ]
     },
     "execution_count": 4,
     "metadata": {},
     "output_type": "execute_result"
    }
   ],
   "source": [
    "X_good.shape, X_bad.shape, X_train.shape, X_test.shape"
   ]
  },
  {
   "cell_type": "markdown",
   "metadata": {},
   "source": [
    "## Подберем IsolationForest с оптимальными параметрами"
   ]
  },
  {
   "cell_type": "code",
   "execution_count": null,
   "metadata": {
    "collapsed": true
   },
   "outputs": [],
   "source": []
  },
  {
   "cell_type": "markdown",
   "metadata": {},
   "source": [
    "Создаем классификатор и trainer для подбора оптимальных параметров"
   ]
  },
  {
   "cell_type": "code",
   "execution_count": 5,
   "metadata": {
    "collapsed": true
   },
   "outputs": [],
   "source": [
    "models = [IsolationForestClassifier]\n",
    "trainer = TpeTrainer(models)"
   ]
  },
  {
   "cell_type": "markdown",
   "metadata": {},
   "source": [
    "Обертка для данных"
   ]
  },
  {
   "cell_type": "code",
   "execution_count": 6,
   "metadata": {
    "collapsed": true
   },
   "outputs": [],
   "source": [
    "y_train_rescale = np.where(y_train == 0, np.ones((y_train.shape)), -np.ones((y_train.shape)))"
   ]
  },
  {
   "cell_type": "code",
   "execution_count": 7,
   "metadata": {
    "collapsed": true
   },
   "outputs": [],
   "source": [
    "dataset = XYCDataset(X_train, y_train_rescale)"
   ]
  },
  {
   "cell_type": "markdown",
   "metadata": {},
   "source": [
    "Сам подбор параметров"
   ]
  },
  {
   "cell_type": "code",
   "execution_count": 8,
   "metadata": {
    "scrolled": true
   },
   "outputs": [
    {
     "name": "stdout",
     "output_type": "stream",
     "text": [
      "*****************\n",
      "{'n_estimators': 1600, 'max_samples': 0.27654694058148693, 'contamination': 0.6111286869783378, 'verbose': 0}\n",
      "Fitted\n",
      "Run time: 813.38 sec\n",
      "*****************\n",
      "\n",
      "*****************\n",
      "{'n_estimators': 1600, 'max_samples': 0.27654694058148693, 'contamination': 0.6111286869783378, 'verbose': 0}\n",
      "Fitted\n",
      "Run time: 534.89 sec\n",
      "*****************\n",
      "\n",
      "*****************\n",
      "{'n_estimators': 1600, 'max_samples': 0.27654694058148693, 'contamination': 0.6111286869783378, 'verbose': 0}\n",
      "Fitted\n",
      "Run time: 582.67 sec\n",
      "*****************\n",
      "\n",
      "*****************\n",
      "{'n_estimators': 800, 'max_samples': 0.23381157033779482, 'contamination': 0.0076327772258622615, 'verbose': 0}\n",
      "Fitted\n",
      "Run time: 142.64 sec\n",
      "*****************\n",
      "\n",
      "*****************\n",
      "{'n_estimators': 800, 'max_samples': 0.23381157033779482, 'contamination': 0.0076327772258622615, 'verbose': 0}\n",
      "Fitted\n",
      "Run time: 142.11 sec\n",
      "*****************\n",
      "\n",
      "*****************\n",
      "{'n_estimators': 800, 'max_samples': 0.23381157033779482, 'contamination': 0.0076327772258622615, 'verbose': 0}\n",
      "Fitted\n",
      "Run time: 142.71 sec\n",
      "*****************\n",
      "\n",
      "*****************\n",
      "{'n_estimators': 400, 'max_samples': 0.22012085157892985, 'contamination': 0.20461343267913967, 'verbose': 0}\n",
      "Fitted\n",
      "Run time: 84.91 sec\n",
      "*****************\n",
      "\n",
      "*****************\n",
      "{'n_estimators': 400, 'max_samples': 0.22012085157892985, 'contamination': 0.20461343267913967, 'verbose': 0}\n",
      "Fitted\n",
      "Run time: 83.77 sec\n",
      "*****************\n",
      "\n",
      "*****************\n",
      "{'n_estimators': 400, 'max_samples': 0.22012085157892985, 'contamination': 0.20461343267913967, 'verbose': 0}\n",
      "Fitted\n",
      "Run time: 88.37 sec\n",
      "*****************\n",
      "\n",
      "*****************\n",
      "{'n_estimators': 1600, 'max_samples': 0.13014418496260588, 'contamination': 0.10385821152338069, 'verbose': 0}\n",
      "Fitted\n",
      "Run time: 326.80 sec\n",
      "*****************\n",
      "\n",
      "*****************\n",
      "{'n_estimators': 1600, 'max_samples': 0.13014418496260588, 'contamination': 0.10385821152338069, 'verbose': 0}\n",
      "Fitted\n",
      "Run time: 320.51 sec\n",
      "*****************\n",
      "\n",
      "*****************\n",
      "{'n_estimators': 1600, 'max_samples': 0.13014418496260588, 'contamination': 0.10385821152338069, 'verbose': 0}\n",
      "Fitted\n",
      "Run time: 483.22 sec\n",
      "*****************\n",
      "\n",
      "*****************\n",
      "{'n_estimators': 400, 'max_samples': 0.7678229800666798, 'contamination': 0.13129437108243058, 'verbose': 0}\n",
      "Fitted\n",
      "Run time: 97.33 sec\n",
      "*****************\n",
      "\n",
      "*****************\n",
      "{'n_estimators': 400, 'max_samples': 0.7678229800666798, 'contamination': 0.13129437108243058, 'verbose': 0}\n",
      "Fitted\n",
      "Run time: 93.15 sec\n",
      "*****************\n",
      "\n",
      "*****************\n",
      "{'n_estimators': 400, 'max_samples': 0.7678229800666798, 'contamination': 0.13129437108243058, 'verbose': 0}\n",
      "Fitted\n",
      "Run time: 92.99 sec\n",
      "*****************\n",
      "\n",
      "*****************\n",
      "{'n_estimators': 1600, 'max_samples': 0.12714223882485134, 'contamination': 0.03720275457641827, 'verbose': 0}\n",
      "Fitted\n",
      "Run time: 401.23 sec\n",
      "*****************\n",
      "\n",
      "*****************\n",
      "{'n_estimators': 1600, 'max_samples': 0.12714223882485134, 'contamination': 0.03720275457641827, 'verbose': 0}\n",
      "Fitted\n",
      "Run time: 444.03 sec\n",
      "*****************\n",
      "\n",
      "*****************\n",
      "{'n_estimators': 1600, 'max_samples': 0.12714223882485134, 'contamination': 0.03720275457641827, 'verbose': 0}\n",
      "Fitted\n",
      "Run time: 464.64 sec\n",
      "*****************\n",
      "\n",
      "*****************\n",
      "{'n_estimators': 1200, 'max_samples': 0.4099490908363629, 'contamination': 0.025889611664397617, 'verbose': 0}\n",
      "Fitted\n",
      "Run time: 373.25 sec\n",
      "*****************\n",
      "\n",
      "*****************\n",
      "{'n_estimators': 1200, 'max_samples': 0.4099490908363629, 'contamination': 0.025889611664397617, 'verbose': 0}\n",
      "Fitted\n",
      "Run time: 369.53 sec\n",
      "*****************\n",
      "\n",
      "*****************\n",
      "{'n_estimators': 1200, 'max_samples': 0.4099490908363629, 'contamination': 0.025889611664397617, 'verbose': 0}\n",
      "Fitted\n",
      "Run time: 367.89 sec\n",
      "*****************\n",
      "\n",
      "*****************\n",
      "{'n_estimators': 400, 'max_samples': 0.6234510738504379, 'contamination': 0.3757682996200664, 'verbose': 0}\n",
      "Fitted\n",
      "Run time: 181.31 sec\n",
      "*****************\n",
      "\n",
      "*****************\n",
      "{'n_estimators': 400, 'max_samples': 0.6234510738504379, 'contamination': 0.3757682996200664, 'verbose': 0}\n",
      "Fitted\n",
      "Run time: 185.08 sec\n",
      "*****************\n",
      "\n",
      "*****************\n",
      "{'n_estimators': 400, 'max_samples': 0.6234510738504379, 'contamination': 0.3757682996200664, 'verbose': 0}\n",
      "Fitted\n",
      "Run time: 180.55 sec\n",
      "*****************\n",
      "\n",
      "*****************\n",
      "{'n_estimators': 1800, 'max_samples': 0.4043697431946208, 'contamination': 0.6853551312080605, 'verbose': 0}\n",
      "Fitted\n",
      "Run time: 1137.52 sec\n",
      "*****************\n",
      "\n",
      "*****************\n",
      "{'n_estimators': 1800, 'max_samples': 0.4043697431946208, 'contamination': 0.6853551312080605, 'verbose': 0}\n",
      "Fitted\n",
      "Run time: 1120.01 sec\n",
      "*****************\n",
      "\n",
      "*****************\n",
      "{'n_estimators': 1800, 'max_samples': 0.4043697431946208, 'contamination': 0.6853551312080605, 'verbose': 0}\n",
      "Fitted\n",
      "Run time: 1151.34 sec\n",
      "*****************\n",
      "\n",
      "*****************\n",
      "{'n_estimators': 1400, 'max_samples': 0.9460932952913546, 'contamination': 0.7988435463670711, 'verbose': 0}\n",
      "Fitted\n",
      "Run time: 1258.76 sec\n",
      "*****************\n",
      "\n",
      "*****************\n",
      "{'n_estimators': 1400, 'max_samples': 0.9460932952913546, 'contamination': 0.7988435463670711, 'verbose': 0}\n",
      "Fitted\n",
      "Run time: 1251.30 sec\n",
      "*****************\n",
      "\n",
      "*****************\n",
      "{'n_estimators': 1400, 'max_samples': 0.9460932952913546, 'contamination': 0.7988435463670711, 'verbose': 0}\n",
      "Fitted\n",
      "Run time: 1146.59 sec\n",
      "*****************\n",
      "\n",
      "*****************\n",
      "{'n_estimators': 200, 'max_samples': 0.38543893487721537, 'contamination': 0.7993777352283785, 'verbose': 0}\n",
      "Fitted\n",
      "Run time: 122.79 sec\n",
      "*****************\n",
      "\n",
      "*****************\n",
      "{'n_estimators': 200, 'max_samples': 0.38543893487721537, 'contamination': 0.7993777352283785, 'verbose': 0}\n",
      "Fitted\n",
      "Run time: 122.13 sec\n",
      "*****************\n",
      "\n",
      "*****************\n",
      "{'n_estimators': 200, 'max_samples': 0.38543893487721537, 'contamination': 0.7993777352283785, 'verbose': 0}\n",
      "Fitted\n",
      "Run time: 119.90 sec\n",
      "*****************\n",
      "\n",
      "*****************\n",
      "{'n_estimators': 1800, 'max_samples': 0.20658682861075006, 'contamination': 0.03941212350907508, 'verbose': 0}\n",
      "Fitted\n",
      "Run time: 544.25 sec\n",
      "*****************\n",
      "\n",
      "*****************\n",
      "{'n_estimators': 1800, 'max_samples': 0.20658682861075006, 'contamination': 0.03941212350907508, 'verbose': 0}\n",
      "Fitted\n",
      "Run time: 337.54 sec\n",
      "*****************\n",
      "\n",
      "*****************\n",
      "{'n_estimators': 1800, 'max_samples': 0.20658682861075006, 'contamination': 0.03941212350907508, 'verbose': 0}\n",
      "Fitted\n",
      "Run time: 363.11 sec\n",
      "*****************\n",
      "\n",
      "*****************\n",
      "{'n_estimators': 1600, 'max_samples': 0.37056805675936466, 'contamination': 0.04001875856613585, 'verbose': 0}\n",
      "Fitted\n",
      "Run time: 336.04 sec\n",
      "*****************\n",
      "\n",
      "*****************\n",
      "{'n_estimators': 1600, 'max_samples': 0.37056805675936466, 'contamination': 0.04001875856613585, 'verbose': 0}\n",
      "Fitted\n",
      "Run time: 334.25 sec\n",
      "*****************\n",
      "\n",
      "*****************\n",
      "{'n_estimators': 1600, 'max_samples': 0.37056805675936466, 'contamination': 0.04001875856613585, 'verbose': 0}\n",
      "Fitted\n",
      "Run time: 332.58 sec\n",
      "*****************\n",
      "\n",
      "*****************\n",
      "{'n_estimators': 1400, 'max_samples': 0.4184198331896175, 'contamination': 0.18734174584556382, 'verbose': 0}\n",
      "Fitted\n",
      "Run time: 358.17 sec\n",
      "*****************\n",
      "\n",
      "*****************\n",
      "{'n_estimators': 1400, 'max_samples': 0.4184198331896175, 'contamination': 0.18734174584556382, 'verbose': 0}\n",
      "Fitted\n",
      "Run time: 369.99 sec\n",
      "*****************\n",
      "\n",
      "*****************\n",
      "{'n_estimators': 1400, 'max_samples': 0.4184198331896175, 'contamination': 0.18734174584556382, 'verbose': 0}\n",
      "Fitted\n",
      "Run time: 363.35 sec\n",
      "*****************\n",
      "\n",
      "*****************\n",
      "{'n_estimators': 600, 'max_samples': 0.27811075647505046, 'contamination': 0.1128514393470311, 'verbose': 0}\n",
      "Fitted\n",
      "Run time: 125.57 sec\n",
      "*****************\n",
      "\n",
      "*****************\n",
      "{'n_estimators': 600, 'max_samples': 0.27811075647505046, 'contamination': 0.1128514393470311, 'verbose': 0}\n",
      "Fitted\n",
      "Run time: 128.51 sec\n",
      "*****************\n",
      "\n",
      "*****************\n",
      "{'n_estimators': 600, 'max_samples': 0.27811075647505046, 'contamination': 0.1128514393470311, 'verbose': 0}\n",
      "Fitted\n",
      "Run time: 122.68 sec\n",
      "*****************\n",
      "\n",
      "*****************\n",
      "{'n_estimators': 1800, 'max_samples': 0.6821787312934224, 'contamination': 0.07347838978708764, 'verbose': 0}\n",
      "Fitted\n",
      "Run time: 457.13 sec\n",
      "*****************\n",
      "\n",
      "*****************\n",
      "{'n_estimators': 1800, 'max_samples': 0.6821787312934224, 'contamination': 0.07347838978708764, 'verbose': 0}\n",
      "Fitted\n",
      "Run time: 455.47 sec\n",
      "*****************\n",
      "\n"
     ]
    },
    {
     "name": "stdout",
     "output_type": "stream",
     "text": [
      "*****************\n",
      "{'n_estimators': 1800, 'max_samples': 0.6821787312934224, 'contamination': 0.07347838978708764, 'verbose': 0}\n",
      "Fitted\n",
      "Run time: 448.41 sec\n",
      "*****************\n",
      "\n",
      "*****************\n",
      "{'n_estimators': 1000, 'max_samples': 0.3061731170051698, 'contamination': 0.011037535285017658, 'verbose': 0}\n",
      "Fitted\n",
      "Run time: 203.42 sec\n",
      "*****************\n",
      "\n",
      "*****************\n",
      "{'n_estimators': 1000, 'max_samples': 0.3061731170051698, 'contamination': 0.011037535285017658, 'verbose': 0}\n",
      "Fitted\n",
      "Run time: 193.67 sec\n",
      "*****************\n",
      "\n",
      "*****************\n",
      "{'n_estimators': 1000, 'max_samples': 0.3061731170051698, 'contamination': 0.011037535285017658, 'verbose': 0}\n",
      "Fitted\n",
      "Run time: 200.61 sec\n",
      "*****************\n",
      "\n",
      "*****************\n",
      "{'n_estimators': 1400, 'max_samples': 0.24078614654052, 'contamination': 0.6553294129318902, 'verbose': 0}\n",
      "Fitted\n",
      "Run time: 494.18 sec\n",
      "*****************\n",
      "\n",
      "*****************\n",
      "{'n_estimators': 1400, 'max_samples': 0.24078614654052, 'contamination': 0.6553294129318902, 'verbose': 0}\n",
      "Fitted\n",
      "Run time: 508.81 sec\n",
      "*****************\n",
      "\n",
      "*****************\n",
      "{'n_estimators': 1400, 'max_samples': 0.24078614654052, 'contamination': 0.6553294129318902, 'verbose': 0}\n",
      "Fitted\n",
      "Run time: 498.31 sec\n",
      "*****************\n",
      "\n",
      "*****************\n",
      "{'n_estimators': 400, 'max_samples': 0.7212359492890944, 'contamination': 0.756284596051302, 'verbose': 0}\n",
      "Fitted\n",
      "Run time: 182.96 sec\n",
      "*****************\n",
      "\n",
      "*****************\n",
      "{'n_estimators': 400, 'max_samples': 0.7212359492890944, 'contamination': 0.756284596051302, 'verbose': 0}\n",
      "Fitted\n",
      "Run time: 174.61 sec\n",
      "*****************\n",
      "\n",
      "*****************\n",
      "{'n_estimators': 400, 'max_samples': 0.7212359492890944, 'contamination': 0.756284596051302, 'verbose': 0}\n",
      "Fitted\n",
      "Run time: 172.96 sec\n",
      "*****************\n",
      "\n",
      "*****************\n",
      "{'n_estimators': 1400, 'max_samples': 0.2605486212589962, 'contamination': 0.014292411907305935, 'verbose': 0}\n",
      "Fitted\n",
      "Run time: 285.31 sec\n",
      "*****************\n",
      "\n",
      "*****************\n",
      "{'n_estimators': 1400, 'max_samples': 0.2605486212589962, 'contamination': 0.014292411907305935, 'verbose': 0}\n",
      "Fitted\n",
      "Run time: 272.00 sec\n",
      "*****************\n",
      "\n",
      "*****************\n",
      "{'n_estimators': 1400, 'max_samples': 0.2605486212589962, 'contamination': 0.014292411907305935, 'verbose': 0}\n",
      "Fitted\n",
      "Run time: 283.17 sec\n",
      "*****************\n",
      "\n",
      "CPU times: user 10h 4s, sys: 1h 2min 4s, total: 11h 2min 8s\n",
      "Wall time: 13h 17min 19s\n"
     ]
    }
   ],
   "source": [
    "%%time\n",
    "trainer.crossval_optimize_params(RocAuc(), dataset, metrics=[Accuracy(), RocAuc(), F1()], \n",
    "                                 cv=3, opt_evals=20)"
   ]
  },
  {
   "cell_type": "code",
   "execution_count": null,
   "metadata": {
    "collapsed": true
   },
   "outputs": [],
   "source": [
    "7"
   ]
  },
  {
   "cell_type": "markdown",
   "metadata": {},
   "source": [
    "Результаты"
   ]
  },
  {
   "cell_type": "code",
   "execution_count": 9,
   "metadata": {
    "collapsed": true
   },
   "outputs": [],
   "source": [
    "reporter = Report(trainer.get_best_results(), dataset, [Accuracy(), RocAuc(), F1()])"
   ]
  },
  {
   "cell_type": "code",
   "execution_count": 10,
   "metadata": {},
   "outputs": [
    {
     "name": "stdout",
     "output_type": "stream",
     "text": [
      "\n",
      "~~~~~~~~~~~~~~~~~~~~~~~~~~~~~~~~~~~~~~~~~~~~~~    accuracy    ~~~~~~~~~~~~~~~~~~~~~~~~~~~~~~~~~~~~~~~~~~~~~~~\n",
      "\n",
      "                                       tuned\n",
      "IsolationForestClassifier  0.576990 (+0.00%)\n",
      "\n",
      "~~~~~~~~~~~~~~~~~~~~~~~~~~~~~~~~~~~~~~~~~~~~~~~    roc_auc    ~~~~~~~~~~~~~~~~~~~~~~~~~~~~~~~~~~~~~~~~~~~~~~~\n",
      "\n",
      "                                       tuned\n",
      "IsolationForestClassifier  0.764177 (+0.00%)\n",
      "\n",
      "~~~~~~~~~~~~~~~~~~~~~~~~~~~~~~~~~~~~~~~~~~~~~~    f1_score    ~~~~~~~~~~~~~~~~~~~~~~~~~~~~~~~~~~~~~~~~~~~~~~~\n",
      "\n",
      "                                       tuned\n",
      "IsolationForestClassifier  0.701370 (-0.00%)\n"
     ]
    }
   ],
   "source": [
    "reporter.print_all_metric_results()"
   ]
  },
  {
   "cell_type": "code",
   "execution_count": 11,
   "metadata": {},
   "outputs": [
    {
     "name": "stdout",
     "output_type": "stream",
     "text": [
      "\n",
      "~~~~~~~~~~~~~~~~~~~~~~~~~~~~~~~~~~~~~~~~~~~~~~    accuracy    ~~~~~~~~~~~~~~~~~~~~~~~~~~~~~~~~~~~~~~~~~~~~~~~\n",
      "\n"
     ]
    },
    {
     "data": {
      "image/png": "[encoded data removed]",
      "text/plain": [
       "<matplotlib.figure.Figure at 0x7f9a15fe0b00>"
      ]
     },
     "metadata": {},
     "output_type": "display_data"
    },
    {
     "name": "stdout",
     "output_type": "stream",
     "text": [
      "\n",
      "~~~~~~~~~~~~~~~~~~~~~~~~~~~~~~~~~~~~~~~~~~~~~~~    roc_auc    ~~~~~~~~~~~~~~~~~~~~~~~~~~~~~~~~~~~~~~~~~~~~~~~\n",
      "\n"
     ]
    },
    {
     "data": {
      "image/png": "[encoded data removed]",
      "text/plain": [
       "<matplotlib.figure.Figure at 0x7f99a2e7c6d8>"
      ]
     },
     "metadata": {},
     "output_type": "display_data"
    },
    {
     "name": "stdout",
     "output_type": "stream",
     "text": [
      "\n",
      "~~~~~~~~~~~~~~~~~~~~~~~~~~~~~~~~~~~~~~~~~~~~~~    f1_score    ~~~~~~~~~~~~~~~~~~~~~~~~~~~~~~~~~~~~~~~~~~~~~~~\n",
      "\n"
     ]
    },
    {
     "data": {
      "image/png": "[encoded data removed]",
      "text/plain": [
       "<matplotlib.figure.Figure at 0x7f999551dba8>"
      ]
     },
     "metadata": {},
     "output_type": "display_data"
    }
   ],
   "source": [
    "reporter.plot_all_metrics()"
   ]
  },
  {
   "cell_type": "markdown",
   "metadata": {},
   "source": [
    "Вытащим значения оптимальных параметров"
   ]
  },
  {
   "cell_type": "code",
   "execution_count": 12,
   "metadata": {},
   "outputs": [
    {
     "data": {
      "text/plain": [
       "{'contamination': 0.0076327772258622615,\n",
       " 'max_samples': 0.23381157033779482,\n",
       " 'n_estimators': 800}"
      ]
     },
     "execution_count": 12,
     "metadata": {},
     "output_type": "execute_result"
    }
   ],
   "source": [
    "trainer_log = trainer.state['IsolationForestClassifier']\n",
    "opt_params = trainer_log.best_trial['result']['params']\n",
    "opt_params"
   ]
  },
  {
   "cell_type": "markdown",
   "metadata": {},
   "source": [
    "Сохраним эти значения"
   ]
  },
  {
   "cell_type": "code",
   "execution_count": 15,
   "metadata": {
    "collapsed": true
   },
   "outputs": [],
   "source": [
    "file_name = 'optimal_isolation_forest_params.json'\n",
    "with open(file_name, 'w', encoding=\"utf-8\") as file:\n",
    "    # writing\n",
    "    json.dump(opt_params, file, indent=4, ensure_ascii=False)"
   ]
  },
  {
   "cell_type": "markdown",
   "metadata": {},
   "source": [
    "Загрузим значения"
   ]
  },
  {
   "cell_type": "code",
   "execution_count": 16,
   "metadata": {
    "collapsed": true
   },
   "outputs": [],
   "source": [
    "file_name = 'optimal_isolation_forest_params.json'\n",
    "with open(file_name, 'r', encoding=\"utf-8\") as file:\n",
    "    opt_params = json.load(file)"
   ]
  },
  {
   "cell_type": "code",
   "execution_count": 17,
   "metadata": {},
   "outputs": [
    {
     "data": {
      "text/plain": [
       "{'contamination': 0.0076327772258622615,\n",
       " 'max_samples': 0.23381157033779482,\n",
       " 'n_estimators': 800}"
      ]
     },
     "execution_count": 17,
     "metadata": {},
     "output_type": "execute_result"
    }
   ],
   "source": [
    "opt_params"
   ]
  },
  {
   "cell_type": "markdown",
   "metadata": {},
   "source": [
    "## Получим значения метрик Isolation Forest при оптимальных параметрах"
   ]
  },
  {
   "cell_type": "code",
   "execution_count": 18,
   "metadata": {
    "collapsed": true
   },
   "outputs": [],
   "source": [
    "y_test_rescale = np.where(y_test == 0, np.ones((y_test.shape)), -np.ones((y_test.shape)))"
   ]
  },
  {
   "cell_type": "code",
   "execution_count": 19,
   "metadata": {
    "collapsed": true
   },
   "outputs": [],
   "source": [
    "classifiers_classic_uns = {\n",
    "    \"Isolation Forest\": IsolationForest(**opt_params)\n",
    "}\n",
    "\n",
    "frac = opt_params['contamination']\n",
    "metrics_path = '../metrics/unsupervised/IF_opt/'\n",
    "\n",
    "metrics_dict = {\n",
    "    'pr_aucs' : {},\n",
    "    'roc_aucs' : {},\n",
    "    'p_at_r' : {\n",
    "        '0.8': {},\n",
    "        '0.9': {}, \n",
    "        '0.95': {},\n",
    "        '0.99': {},\n",
    "    }\n",
    "}"
   ]
  },
  {
   "cell_type": "code",
   "execution_count": null,
   "metadata": {},
   "outputs": [
    {
     "name": "stderr",
     "output_type": "stream",
     "text": [
      "\r",
      "0it [00:00, ?it/s]"
     ]
    }
   ],
   "source": [
    "%%time\n",
    "for i, (clf_name, clf) in tqdm(enumerate(classifiers_classic_uns.items())):\n",
    "    # prepare data\n",
    "    if frac > 1:\n",
    "        end_ind = X_good.shape[0]\n",
    "    else:   \n",
    "        end_ind = int(X_good.shape[0] * frac)\n",
    "\n",
    "    idx_neg = np.random.permutation(X_bad.shape[0])\n",
    "    X = np.concatenate((\n",
    "        X_good,\n",
    "        X_bad[idx_neg[:end_ind]]\n",
    "    ), axis=0)\n",
    "\n",
    "    # fit model and predict probas\n",
    "    start_time = timeit.default_timer()\n",
    "    clf.fit(np.random.permutation(X))\n",
    "    Score = clf.decision_function(X_test)\n",
    "    run_time = timeit.default_timer() - start_time\n",
    "    \n",
    "    # eval and save metrics\n",
    "    eval_metrics(-y_test_rescale, -Score, frac, metrics_dict, descr=clf_name)\n",
    "    dump_metrics(metrics_path, metrics_dict)\n",
    "\n",
    "    # print info\n",
    "    display.clear_output(wait=True)\n",
    "    print(\"Run time: {:.2f} sec\".format(run_time))\n",
    "    print(\"PR_AUC: \", metrics_dict['pr_aucs'][clf_name][-1])\n",
    "    print(\"ROC_AUC: \", metrics_dict['roc_aucs'][clf_name][-1])\n",
    "    print('clf_name: ', clf_name)\n",
    "\n",
    "    # plot metrics\n",
    "    metric_boxplot(metrics_dict['pr_aucs'], ylabel='PR_AUC', ylim=(0.1, 0.9))\n",
    "    plt.show()\n",
    "    metric_boxplot(metrics_dict['roc_aucs'], ylabel='ROC_AUC', ylim=(0.1, 0.9))\n",
    "    plt.show()\n",
    "    for k in metrics_dict['p_at_r'].keys():\n",
    "        metric_boxplot(metrics_dict['p_at_r'][k], ylabel='P@R_' + str(k), ylim=(0.4, 0.9))\n",
    "        plt.show()"
   ]
  },
  {
   "cell_type": "code",
   "execution_count": 21,
   "metadata": {},
   "outputs": [
    {
     "data": {
      "text/plain": [
       "{'p_at_r': {'0.8': {'Isolation Forest': [(0.0076327772258622615,\n",
       "     0.6181101753843776)]},\n",
       "  '0.9': {'Isolation Forest': [(0.0076327772258622615, 0.5551840702724042)]},\n",
       "  '0.95': {'Isolation Forest': [(0.0076327772258622615, 0.5261752846825292)]},\n",
       "  '0.99': {'Isolation Forest': [(0.0076327772258622615, 0.5055817136320461)]}},\n",
       " 'pr_aucs': {'Isolation Forest': [(0.0076327772258622615,\n",
       "    0.7969763937681634)]},\n",
       " 'roc_aucs': {'Isolation Forest': [(0.0076327772258622615, 0.763710428)]}}"
      ]
     },
     "execution_count": 21,
     "metadata": {},
     "output_type": "execute_result"
    }
   ],
   "source": [
    "metrics_dict"
   ]
  },
  {
   "cell_type": "code",
   "execution_count": null,
   "metadata": {
    "collapsed": true
   },
   "outputs": [],
   "source": []
  }
 ],
 "metadata": {
  "anaconda-cloud": {},
  "kernelspec": {
   "display_name": "Python 3",
   "language": "python",
   "name": "python3"
  },
  "language_info": {
   "codemirror_mode": {
    "name": "ipython",
    "version": 3
   },
   "file_extension": ".py",
   "mimetype": "text/x-python",
   "name": "python",
   "nbconvert_exporter": "python",
   "pygments_lexer": "ipython3",
   "version": "3.6.2"
  }
 },
 "nbformat": 4,
 "nbformat_minor": 1
}
