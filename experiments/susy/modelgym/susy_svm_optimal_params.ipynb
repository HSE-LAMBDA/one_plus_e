{
 "cells": [
  {
   "cell_type": "markdown",
   "metadata": {},
   "source": [
    "# Получение значений метрик"
   ]
  },
  {
   "cell_type": "code",
   "execution_count": 1,
   "metadata": {},
   "outputs": [
    {
     "name": "stderr",
     "output_type": "stream",
     "text": [
      "/opt/conda/anaconda3/lib/python3.6/importlib/_bootstrap.py:205: RuntimeWarning: compiletime version 3.4 of module '_catboost' does not match runtime version 3.6\n",
      "  return f(*args, **kwds)\n",
      "/opt/conda/anaconda3/lib/python3.6/site-packages/h5py/__init__.py:34: FutureWarning: Conversion of the second argument of issubdtype from `float` to `np.floating` is deprecated. In future, it will be treated as `np.float64 == np.dtype(float).type`.\n",
      "  from ._conv import register_converters as _register_converters\n"
     ]
    }
   ],
   "source": [
    "import time\n",
    "import timeit\n",
    "from IPython import display\n",
    "\n",
    "import os\n",
    "import numpy as np\n",
    "import pandas as pd\n",
    "import matplotlib.pyplot as plt\n",
    "import seaborn as sns\n",
    "\n",
    "from sklearn import datasets, mixture\n",
    "from sklearn.preprocessing import StandardScaler\n",
    "from sklearn.metrics import precision_recall_curve, roc_auc_score, average_precision_score\n",
    "from sklearn.mixture import GaussianMixture\n",
    "from modelgym.utils import XYCDataset\n",
    "from modelgym.models import XGBClassifier\n",
    "from itertools import cycle, islice\n",
    "import h5py \n",
    "import shutil\n",
    "import json\n",
    "\n",
    "import sys\n",
    "sys.path.append('../../../')\n",
    "\n",
    "from evaluation import *\n",
    "from tqdm import tqdm\n",
    "from math import ceil\n",
    "np.random.seed(10)\n",
    "%matplotlib inline"
   ]
  },
  {
   "cell_type": "markdown",
   "metadata": {},
   "source": [
    "## Подготовим данные"
   ]
  },
  {
   "cell_type": "code",
   "execution_count": 2,
   "metadata": {
    "collapsed": true
   },
   "outputs": [],
   "source": [
    "column_names = 'label, lepton 1 pT, lepton 1 eta, lepton 1 phi, lepton 2 pT, lepton 2 eta, lepton 2 phi, missing energy magnitude, missing energy phi, MET_rel, axial MET, M_R, M_TR_2, R, MT2, S_R, M_Delta_R, dPhi_r_b, cos(theta_r1)'.split(', ')\n",
    "data = pd.read_csv('../../../../SUSY.csv', header=None, names=column_names)"
   ]
  },
  {
   "cell_type": "code",
   "execution_count": 3,
   "metadata": {},
   "outputs": [
    {
     "data": {
      "text/html": [
       "<div>\n",
       "<style>\n",
       "    .dataframe thead tr:only-child th {\n",
       "        text-align: right;\n",
       "    }\n",
       "\n",
       "    .dataframe thead th {\n",
       "        text-align: left;\n",
       "    }\n",
       "\n",
       "    .dataframe tbody tr th {\n",
       "        vertical-align: top;\n",
       "    }\n",
       "</style>\n",
       "<table border=\"1\" class=\"dataframe\">\n",
       "  <thead>\n",
       "    <tr style=\"text-align: right;\">\n",
       "      <th></th>\n",
       "      <th>label</th>\n",
       "      <th>lepton 1 pT</th>\n",
       "      <th>lepton 1 eta</th>\n",
       "      <th>lepton 1 phi</th>\n",
       "      <th>lepton 2 pT</th>\n",
       "      <th>lepton 2 eta</th>\n",
       "      <th>lepton 2 phi</th>\n",
       "      <th>missing energy magnitude</th>\n",
       "      <th>missing energy phi</th>\n",
       "      <th>MET_rel</th>\n",
       "      <th>axial MET</th>\n",
       "      <th>M_R</th>\n",
       "      <th>M_TR_2</th>\n",
       "      <th>R</th>\n",
       "      <th>MT2</th>\n",
       "      <th>S_R</th>\n",
       "      <th>M_Delta_R</th>\n",
       "      <th>dPhi_r_b</th>\n",
       "      <th>cos(theta_r1)</th>\n",
       "    </tr>\n",
       "  </thead>\n",
       "  <tbody>\n",
       "    <tr>\n",
       "      <th>0</th>\n",
       "      <td>0.0</td>\n",
       "      <td>0.972861</td>\n",
       "      <td>0.653855</td>\n",
       "      <td>1.176225</td>\n",
       "      <td>1.157156</td>\n",
       "      <td>-1.739873</td>\n",
       "      <td>-0.874309</td>\n",
       "      <td>0.567765</td>\n",
       "      <td>-0.175000</td>\n",
       "      <td>0.810061</td>\n",
       "      <td>-0.252552</td>\n",
       "      <td>1.921887</td>\n",
       "      <td>0.889637</td>\n",
       "      <td>0.410772</td>\n",
       "      <td>1.145621</td>\n",
       "      <td>1.932632</td>\n",
       "      <td>0.994464</td>\n",
       "      <td>1.367815</td>\n",
       "      <td>0.040714</td>\n",
       "    </tr>\n",
       "    <tr>\n",
       "      <th>1</th>\n",
       "      <td>1.0</td>\n",
       "      <td>1.667973</td>\n",
       "      <td>0.064191</td>\n",
       "      <td>-1.225171</td>\n",
       "      <td>0.506102</td>\n",
       "      <td>-0.338939</td>\n",
       "      <td>1.672543</td>\n",
       "      <td>3.475464</td>\n",
       "      <td>-1.219136</td>\n",
       "      <td>0.012955</td>\n",
       "      <td>3.775174</td>\n",
       "      <td>1.045977</td>\n",
       "      <td>0.568051</td>\n",
       "      <td>0.481928</td>\n",
       "      <td>0.000000</td>\n",
       "      <td>0.448410</td>\n",
       "      <td>0.205356</td>\n",
       "      <td>1.321893</td>\n",
       "      <td>0.377584</td>\n",
       "    </tr>\n",
       "    <tr>\n",
       "      <th>2</th>\n",
       "      <td>1.0</td>\n",
       "      <td>0.444840</td>\n",
       "      <td>-0.134298</td>\n",
       "      <td>-0.709972</td>\n",
       "      <td>0.451719</td>\n",
       "      <td>-1.613871</td>\n",
       "      <td>-0.768661</td>\n",
       "      <td>1.219918</td>\n",
       "      <td>0.504026</td>\n",
       "      <td>1.831248</td>\n",
       "      <td>-0.431385</td>\n",
       "      <td>0.526283</td>\n",
       "      <td>0.941514</td>\n",
       "      <td>1.587535</td>\n",
       "      <td>2.024308</td>\n",
       "      <td>0.603498</td>\n",
       "      <td>1.562374</td>\n",
       "      <td>1.135454</td>\n",
       "      <td>0.180910</td>\n",
       "    </tr>\n",
       "    <tr>\n",
       "      <th>3</th>\n",
       "      <td>1.0</td>\n",
       "      <td>0.381256</td>\n",
       "      <td>-0.976145</td>\n",
       "      <td>0.693152</td>\n",
       "      <td>0.448959</td>\n",
       "      <td>0.891753</td>\n",
       "      <td>-0.677328</td>\n",
       "      <td>2.033060</td>\n",
       "      <td>1.533041</td>\n",
       "      <td>3.046260</td>\n",
       "      <td>-1.005285</td>\n",
       "      <td>0.569386</td>\n",
       "      <td>1.015211</td>\n",
       "      <td>1.582217</td>\n",
       "      <td>1.551914</td>\n",
       "      <td>0.761215</td>\n",
       "      <td>1.715464</td>\n",
       "      <td>1.492257</td>\n",
       "      <td>0.090719</td>\n",
       "    </tr>\n",
       "    <tr>\n",
       "      <th>4</th>\n",
       "      <td>1.0</td>\n",
       "      <td>1.309996</td>\n",
       "      <td>-0.690089</td>\n",
       "      <td>-0.676259</td>\n",
       "      <td>1.589283</td>\n",
       "      <td>-0.693326</td>\n",
       "      <td>0.622907</td>\n",
       "      <td>1.087562</td>\n",
       "      <td>-0.381742</td>\n",
       "      <td>0.589204</td>\n",
       "      <td>1.365479</td>\n",
       "      <td>1.179295</td>\n",
       "      <td>0.968218</td>\n",
       "      <td>0.728563</td>\n",
       "      <td>0.000000</td>\n",
       "      <td>1.083158</td>\n",
       "      <td>0.043429</td>\n",
       "      <td>1.154854</td>\n",
       "      <td>0.094859</td>\n",
       "    </tr>\n",
       "  </tbody>\n",
       "</table>\n",
       "</div>"
      ],
      "text/plain": [
       "   label  lepton 1 pT  lepton 1 eta  lepton 1 phi  lepton 2 pT  lepton 2 eta  \\\n",
       "0    0.0     0.972861      0.653855      1.176225     1.157156     -1.739873   \n",
       "1    1.0     1.667973      0.064191     -1.225171     0.506102     -0.338939   \n",
       "2    1.0     0.444840     -0.134298     -0.709972     0.451719     -1.613871   \n",
       "3    1.0     0.381256     -0.976145      0.693152     0.448959      0.891753   \n",
       "4    1.0     1.309996     -0.690089     -0.676259     1.589283     -0.693326   \n",
       "\n",
       "   lepton 2 phi  missing energy magnitude  missing energy phi   MET_rel  \\\n",
       "0     -0.874309                  0.567765           -0.175000  0.810061   \n",
       "1      1.672543                  3.475464           -1.219136  0.012955   \n",
       "2     -0.768661                  1.219918            0.504026  1.831248   \n",
       "3     -0.677328                  2.033060            1.533041  3.046260   \n",
       "4      0.622907                  1.087562           -0.381742  0.589204   \n",
       "\n",
       "   axial MET       M_R    M_TR_2         R       MT2       S_R  M_Delta_R  \\\n",
       "0  -0.252552  1.921887  0.889637  0.410772  1.145621  1.932632   0.994464   \n",
       "1   3.775174  1.045977  0.568051  0.481928  0.000000  0.448410   0.205356   \n",
       "2  -0.431385  0.526283  0.941514  1.587535  2.024308  0.603498   1.562374   \n",
       "3  -1.005285  0.569386  1.015211  1.582217  1.551914  0.761215   1.715464   \n",
       "4   1.365479  1.179295  0.968218  0.728563  0.000000  1.083158   0.043429   \n",
       "\n",
       "   dPhi_r_b  cos(theta_r1)  \n",
       "0  1.367815       0.040714  \n",
       "1  1.321893       0.377584  \n",
       "2  1.135454       0.180910  \n",
       "3  1.492257       0.090719  \n",
       "4  1.154854       0.094859  "
      ]
     },
     "execution_count": 3,
     "metadata": {},
     "output_type": "execute_result"
    }
   ],
   "source": [
    "data.head()"
   ]
  },
  {
   "cell_type": "code",
   "execution_count": 4,
   "metadata": {},
   "outputs": [
    {
     "data": {
      "text/plain": [
       "(5000000, 19)"
      ]
     },
     "execution_count": 4,
     "metadata": {},
     "output_type": "execute_result"
    }
   ],
   "source": [
    "data.shape"
   ]
  },
  {
   "cell_type": "markdown",
   "metadata": {},
   "source": [
    "Делим выборку на признаки и таргеты. Нормируем признаки."
   ]
  },
  {
   "cell_type": "markdown",
   "metadata": {},
   "source": [
    "$X_{new} = \\frac{X - \\mu}{\\sigma}$"
   ]
  },
  {
   "cell_type": "code",
   "execution_count": 5,
   "metadata": {
    "collapsed": true
   },
   "outputs": [],
   "source": [
    "X_data = data.drop('label', 1)\n",
    "X_data = StandardScaler().fit_transform(X_data)\n",
    "\n",
    "labels = data[\"label\"]"
   ]
  },
  {
   "cell_type": "markdown",
   "metadata": {},
   "source": [
    "Балансировка классов"
   ]
  },
  {
   "cell_type": "code",
   "execution_count": 6,
   "metadata": {
    "collapsed": true
   },
   "outputs": [],
   "source": [
    "min_class_size = min(X_data[np.where(labels==0)[0]].shape[0], X_data[np.where(labels==1)[0]].shape[0])\n",
    "\n",
    "X_0 = X_data[np.where(labels==0)[0]]\n",
    "X_1 = X_data[np.where(labels==1)[0]]\n",
    "\n",
    "X_data = np.concatenate((X_0[:min_class_size], X_1[:min_class_size]))\n",
    "labels = np.concatenate((np.zeros((min_class_size,1)), np.ones((min_class_size,1)))).ravel()"
   ]
  },
  {
   "cell_type": "markdown",
   "metadata": {},
   "source": [
    "Разбиваем на train(8% от всех данных) и test(2%)"
   ]
  },
  {
   "cell_type": "code",
   "execution_count": 7,
   "metadata": {
    "collapsed": true
   },
   "outputs": [],
   "source": [
    "from sklearn.model_selection import train_test_split"
   ]
  },
  {
   "cell_type": "code",
   "execution_count": 8,
   "metadata": {
    "collapsed": true
   },
   "outputs": [],
   "source": [
    "indx_train, indx_test = train_test_split(np.arange(len(labels), dtype='int32'), \n",
    "                                         stratify=labels, train_size=8e-2, test_size=2e-2, random_state=5)"
   ]
  },
  {
   "cell_type": "code",
   "execution_count": 9,
   "metadata": {
    "collapsed": true
   },
   "outputs": [],
   "source": [
    "y_train = labels[indx_train]\n",
    "y_test = labels[indx_test]\n",
    "\n",
    "X_train = X_data[indx_train]\n",
    "X_test = X_data[indx_test]"
   ]
  },
  {
   "cell_type": "markdown",
   "metadata": {},
   "source": [
    "Разбиваем объекты по классам"
   ]
  },
  {
   "cell_type": "code",
   "execution_count": 10,
   "metadata": {
    "collapsed": true
   },
   "outputs": [],
   "source": [
    "X_good = X_train[np.where(y_train==0)[0]]\n",
    "X_bad = X_train[np.where(y_train==1)[0]]"
   ]
  },
  {
   "cell_type": "code",
   "execution_count": 11,
   "metadata": {},
   "outputs": [
    {
     "data": {
      "text/plain": [
       "((183026, 18), (366052, 18), (4575654, 18))"
      ]
     },
     "execution_count": 11,
     "metadata": {},
     "output_type": "execute_result"
    }
   ],
   "source": [
    "X_good.shape, X_train.shape, X_data.shape"
   ]
  },
  {
   "cell_type": "code",
   "execution_count": null,
   "metadata": {
    "collapsed": true
   },
   "outputs": [],
   "source": []
  },
  {
   "cell_type": "code",
   "execution_count": null,
   "metadata": {
    "collapsed": true
   },
   "outputs": [],
   "source": []
  },
  {
   "cell_type": "code",
   "execution_count": null,
   "metadata": {
    "collapsed": true
   },
   "outputs": [],
   "source": []
  },
  {
   "cell_type": "code",
   "execution_count": null,
   "metadata": {
    "collapsed": true
   },
   "outputs": [],
   "source": []
  },
  {
   "cell_type": "code",
   "execution_count": 12,
   "metadata": {
    "collapsed": true
   },
   "outputs": [],
   "source": [
    "import pickle\n",
    "import numpy as np\n",
    "\n",
    "from modelgym.models import Model, LearningTask\n",
    "from hyperopt import hp\n",
    "from hyperopt.pyll.base import scope\n",
    "\n",
    "from sklearn.svm import OneClassSVM"
   ]
  },
  {
   "cell_type": "code",
   "execution_count": 13,
   "metadata": {
    "collapsed": true
   },
   "outputs": [],
   "source": [
    "def softmax(x):\n",
    "    \"\"\"Compute softmax values for each sets of scores in x.\"\"\"\n",
    "    return np.exp(x) / np.sum(np.exp(x), axis=0)"
   ]
  },
  {
   "cell_type": "code",
   "execution_count": 14,
   "metadata": {
    "collapsed": true
   },
   "outputs": [],
   "source": [
    "def sigmoid(x):\n",
    "    \"\"\"Compute sigmoid values for each sets of scores in x.\"\"\"\n",
    "    return 1 / (1 + np.exp(-x))"
   ]
  },
  {
   "cell_type": "code",
   "execution_count": 15,
   "metadata": {
    "collapsed": true
   },
   "outputs": [],
   "source": [
    "class SVMClassifier(Model):\n",
    "    def __init__(self, params=None):\n",
    "        \"\"\"\n",
    "        Args:\n",
    "            params (dict): parameters for model.\n",
    "        \"\"\"\n",
    "\n",
    "        if params is None:\n",
    "            params = {}\n",
    "            \n",
    "        self.params = {}\n",
    "#         {\n",
    "#             'kernel': 'rbf',\n",
    "#             'degree': 3,\n",
    "#             'gamma': 0.01,\n",
    "#             'coef0': 0.01,\n",
    "#             'nu': 0.5,\n",
    "#             'tol': 0.001, \n",
    "#             'shrinking': True,\n",
    "#             'cache_size': 100\n",
    "#         }\n",
    "        if params:\n",
    "            self.params.update(params)\n",
    "\n",
    "        self.model = None\n",
    "\n",
    "    def _set_model(self, model):\n",
    "        \"\"\"\n",
    "        sets new model, internal method, do not use\n",
    "        Args:\n",
    "            model: internal model\n",
    "        \"\"\"\n",
    "        self.model = model\n",
    "\n",
    "    def _convert_to_dataset(self, data, label=None, cat_cols=None):\n",
    "        return XYCDataset(data, label, cat_cols)\n",
    "\n",
    "    def fit(self, dataset, weights=None):\n",
    "        \"\"\"\n",
    "        Args:\n",
    "            X (np.array, shape (n_samples, n_features)): the input data\n",
    "            y (np.array, shape (n_samples, ) or (n_samples, n_outputs)): the target data\n",
    "            weights (np.array, shape (n_samples, ) or (n_samples, n_outputs) or None): weights of the data\n",
    "        Return:\n",
    "            self\n",
    "        \"\"\"\n",
    "        cur_params = self.params.copy()\n",
    "        cur_params.update(self.params['kernel'])\n",
    "        \n",
    "        # log info\n",
    "        print('*****************')\n",
    "        print(self.params)\n",
    "        print(cur_params)\n",
    "        \n",
    "        # clean train set\n",
    "        idx = np.where(dataset.y==1)[0]\n",
    "        dtrain = self._convert_to_dataset(dataset.X[idx], dataset.y[idx])\n",
    "        \n",
    "        # fit\n",
    "        start_time = timeit.default_timer()\n",
    "        self.model = OneClassSVM(\n",
    "            random_state=cur_params.get('random_state', 5), **cur_params\n",
    "        ).fit(dtrain.X, dtrain.y)\n",
    "        run_time = timeit.default_timer() - start_time\n",
    "        \n",
    "        # log info\n",
    "        print('Fitted')\n",
    "        print(\"Run time: {:.2f} sec\".format(run_time))\n",
    "        print('*****************\\n')\n",
    "        return self\n",
    "\n",
    "    def save_snapshot(self, filename):\n",
    "        \"\"\"\n",
    "        Return:\n",
    "            serializable internal model state snapshot.\n",
    "        \"\"\"\n",
    "        assert self.model is not None, \"model is not fitted\"\n",
    "        with open(filename, 'wb') as f:\n",
    "            pickle.dump(self.model, f)\n",
    "\n",
    "    @staticmethod\n",
    "    def load_from_snapshot(self, filename):\n",
    "        \"\"\"\n",
    "        :snapshot serializable internal model state\n",
    "        loads from serializable internal model state snapshot.\n",
    "        \"\"\"\n",
    "        with open(filename, 'rb') as f:\n",
    "            model = pickle.load(f)\n",
    "\n",
    "        new_model = SVMClassifier(model.get_params())\n",
    "        new_model._set_model(model)\n",
    "        return new_model\n",
    "\n",
    "    def predict(self, dataset):\n",
    "        \"\"\"\n",
    "        Args:\n",
    "            X (np.array, shape (n_samples, n_features)): the input data\n",
    "        Return:\n",
    "            np.array, shape (n_samples, ) or (n_samples, n_outputs)\n",
    "        \"\"\"\n",
    "        return self.model.predict(dataset.X)\n",
    "\n",
    "    def is_possible_predict_proba(self):\n",
    "        \"\"\"\n",
    "        Return:\n",
    "            bool, whether model can predict proba\n",
    "        \"\"\"\n",
    "        return True\n",
    "\n",
    "    def predict_proba(self, dataset):\n",
    "        \"\"\"\n",
    "        Args:\n",
    "            X (np.array, shape (n_samples, n_features)): the input data\n",
    "        Return:\n",
    "            np.array, shape (n_samples, n_classes)\n",
    "        \"\"\"\n",
    "        assert self.is_possible_predict_proba(), \"Model cannot predict probability distribution\"\n",
    "        return self.model.decision_function(dataset.X)\n",
    "\n",
    "    @staticmethod\n",
    "    def get_default_parameter_space():\n",
    "        \"\"\"\n",
    "        Return:\n",
    "            dict of DistributionWrappers\n",
    "        \"\"\"\n",
    "        space = {\n",
    "            'nu': hp.choice('nu', np.arange(0.2, 0.8, 0.1)),\n",
    "            'shrinking': hp.choice('shrinking', [True, False]),\n",
    "            'kernel': hp.choice('kernel', [\n",
    "                {\n",
    "                    'kernel': 'rbf',\n",
    "                    'gamma': hp.loguniform('gamma_1', -6, -1),\n",
    "                },\n",
    "                {\n",
    "                    'kernel': 'linear',\n",
    "                },\n",
    "                {\n",
    "                    'kernel': 'poly',\n",
    "                    'degree': hp.choice('degree', range(2, 7)),\n",
    "                    'gamma': hp.loguniform('gamma_3', -6, -1),\n",
    "                    'coef0': hp.loguniform('coef0_3', -6, -1),\n",
    "                },\n",
    "                {\n",
    "                    'kernel': 'sigmoid',\n",
    "                    'gamma': hp.loguniform('gamma_4', -6, -1),\n",
    "                    'coef0': hp.loguniform('coef0_4', -6, -1),\n",
    "                }\n",
    "                ])\n",
    "        }\n",
    "        \n",
    "        return space\n",
    "#         {\n",
    "#             'kernel': hp.choice('kernel', ['rbf', 'linear', 'poly', 'sigmoid']),\n",
    "#             'degree': hp.choice('degree', range(2, 7)),\n",
    "#             'gamma': hp.loguniform('gamma', -6, -1),\n",
    "#             'coef0': hp.loguniform('coef0', -6, -1),\n",
    "#             'nu': hp.choice('nu', np.arange(0.2, 0.8, 0.1)),\n",
    "#             'shrinking': hp.choice('shrinking', [True, False]),\n",
    "#         }\n",
    "\n",
    "    @staticmethod\n",
    "    def get_learning_task():\n",
    "        return LearningTask.CLASSIFICATION"
   ]
  },
  {
   "cell_type": "markdown",
   "metadata": {},
   "source": [
    "## Подберем SVM с оптимальными параметрами"
   ]
  },
  {
   "cell_type": "code",
   "execution_count": 42,
   "metadata": {
    "collapsed": true
   },
   "outputs": [],
   "source": [
    "from modelgym.trainers import TpeTrainer\n",
    "from skopt.optimizer import forest_minimize, gp_minimize\n",
    "from modelgym.metrics import Accuracy, RocAuc, F1\n",
    "from modelgym.report import Report"
   ]
  },
  {
   "cell_type": "markdown",
   "metadata": {},
   "source": [
    "Создаем классификатор и trainer для подбора оптимальных параметров"
   ]
  },
  {
   "cell_type": "code",
   "execution_count": 43,
   "metadata": {
    "collapsed": true
   },
   "outputs": [],
   "source": [
    "models = [SVMClassifier]\n",
    "trainer = TpeTrainer(models)"
   ]
  },
  {
   "cell_type": "markdown",
   "metadata": {},
   "source": [
    "Обертка для данных"
   ]
  },
  {
   "cell_type": "code",
   "execution_count": 44,
   "metadata": {
    "collapsed": true
   },
   "outputs": [],
   "source": [
    "y_train_rescale = np.where(y_train == 0, np.ones((y_train.shape)), -np.ones((y_train.shape)))"
   ]
  },
  {
   "cell_type": "code",
   "execution_count": 45,
   "metadata": {
    "collapsed": true
   },
   "outputs": [],
   "source": [
    "dataset = XYCDataset(X_train, y_train_rescale)"
   ]
  },
  {
   "cell_type": "markdown",
   "metadata": {},
   "source": [
    "Сам подбор параметров"
   ]
  },
  {
   "cell_type": "code",
   "execution_count": 46,
   "metadata": {
    "scrolled": false
   },
   "outputs": [
    {
     "name": "stdout",
     "output_type": "stream",
     "text": [
      "*****************\n",
      "{'kernel': {'kernel': 'linear'}, 'nu': 0.30000000000000004, 'shrinking': False}\n",
      "{'kernel': 'linear', 'nu': 0.30000000000000004, 'shrinking': False}\n",
      "Fitted\n",
      "Run time: 259.40 sec\n",
      "*****************\n",
      "\n",
      "*****************\n",
      "{'kernel': {'kernel': 'linear'}, 'nu': 0.30000000000000004, 'shrinking': False}\n",
      "{'kernel': 'linear', 'nu': 0.30000000000000004, 'shrinking': False}\n",
      "Fitted\n",
      "Run time: 265.32 sec\n",
      "*****************\n",
      "\n",
      "*****************\n",
      "{'kernel': {'kernel': 'linear'}, 'nu': 0.30000000000000004, 'shrinking': False}\n",
      "{'kernel': 'linear', 'nu': 0.30000000000000004, 'shrinking': False}\n",
      "Fitted\n",
      "Run time: 264.49 sec\n",
      "*****************\n",
      "\n",
      "*****************\n",
      "{'kernel': {'coef0': 0.020828223971026037, 'degree': 4, 'gamma': 0.002589170880017787, 'kernel': 'poly'}, 'nu': 0.5000000000000001, 'shrinking': True}\n",
      "{'kernel': 'poly', 'nu': 0.5000000000000001, 'shrinking': True, 'coef0': 0.020828223971026037, 'degree': 4, 'gamma': 0.002589170880017787}\n",
      "Fitted\n",
      "Run time: 726.34 sec\n",
      "*****************\n",
      "\n",
      "*****************\n",
      "{'kernel': {'coef0': 0.020828223971026037, 'degree': 4, 'gamma': 0.002589170880017787, 'kernel': 'poly'}, 'nu': 0.5000000000000001, 'shrinking': True}\n",
      "{'kernel': 'poly', 'nu': 0.5000000000000001, 'shrinking': True, 'coef0': 0.020828223971026037, 'degree': 4, 'gamma': 0.002589170880017787}\n",
      "Fitted\n",
      "Run time: 720.22 sec\n",
      "*****************\n",
      "\n",
      "*****************\n",
      "{'kernel': {'coef0': 0.020828223971026037, 'degree': 4, 'gamma': 0.002589170880017787, 'kernel': 'poly'}, 'nu': 0.5000000000000001, 'shrinking': True}\n",
      "{'kernel': 'poly', 'nu': 0.5000000000000001, 'shrinking': True, 'coef0': 0.020828223971026037, 'degree': 4, 'gamma': 0.002589170880017787}\n",
      "Fitted\n",
      "Run time: 726.71 sec\n",
      "*****************\n",
      "\n",
      "*****************\n",
      "{'kernel': {'coef0': 0.011681943767821817, 'gamma': 0.1778397112381893, 'kernel': 'sigmoid'}, 'nu': 0.6000000000000001, 'shrinking': False}\n",
      "{'kernel': 'sigmoid', 'nu': 0.6000000000000001, 'shrinking': False, 'coef0': 0.011681943767821817, 'gamma': 0.1778397112381893}\n",
      "Fitted\n",
      "Run time: 1420.97 sec\n",
      "*****************\n",
      "\n",
      "*****************\n",
      "{'kernel': {'coef0': 0.011681943767821817, 'gamma': 0.1778397112381893, 'kernel': 'sigmoid'}, 'nu': 0.6000000000000001, 'shrinking': False}\n",
      "{'kernel': 'sigmoid', 'nu': 0.6000000000000001, 'shrinking': False, 'coef0': 0.011681943767821817, 'gamma': 0.1778397112381893}\n",
      "Fitted\n",
      "Run time: 1439.06 sec\n",
      "*****************\n",
      "\n",
      "*****************\n",
      "{'kernel': {'coef0': 0.011681943767821817, 'gamma': 0.1778397112381893, 'kernel': 'sigmoid'}, 'nu': 0.6000000000000001, 'shrinking': False}\n",
      "{'kernel': 'sigmoid', 'nu': 0.6000000000000001, 'shrinking': False, 'coef0': 0.011681943767821817, 'gamma': 0.1778397112381893}\n",
      "Fitted\n",
      "Run time: 1450.32 sec\n",
      "*****************\n",
      "\n",
      "*****************\n",
      "{'kernel': {'coef0': 0.003009707009585911, 'degree': 5, 'gamma': 0.11580199378372835, 'kernel': 'poly'}, 'nu': 0.4000000000000001, 'shrinking': True}\n",
      "{'kernel': 'poly', 'nu': 0.4000000000000001, 'shrinking': True, 'coef0': 0.003009707009585911, 'degree': 5, 'gamma': 0.11580199378372835}\n",
      "Fitted\n",
      "Run time: 604.95 sec\n",
      "*****************\n",
      "\n",
      "*****************\n",
      "{'kernel': {'coef0': 0.003009707009585911, 'degree': 5, 'gamma': 0.11580199378372835, 'kernel': 'poly'}, 'nu': 0.4000000000000001, 'shrinking': True}\n",
      "{'kernel': 'poly', 'nu': 0.4000000000000001, 'shrinking': True, 'coef0': 0.003009707009585911, 'degree': 5, 'gamma': 0.11580199378372835}\n",
      "Fitted\n",
      "Run time: 507.51 sec\n",
      "*****************\n",
      "\n",
      "*****************\n",
      "{'kernel': {'coef0': 0.003009707009585911, 'degree': 5, 'gamma': 0.11580199378372835, 'kernel': 'poly'}, 'nu': 0.4000000000000001, 'shrinking': True}\n",
      "{'kernel': 'poly', 'nu': 0.4000000000000001, 'shrinking': True, 'coef0': 0.003009707009585911, 'degree': 5, 'gamma': 0.11580199378372835}\n",
      "Fitted\n",
      "Run time: 507.89 sec\n",
      "*****************\n",
      "\n",
      "*****************\n",
      "{'kernel': {'gamma': 0.004401222282249897, 'kernel': 'rbf'}, 'nu': 0.5000000000000001, 'shrinking': True}\n",
      "{'kernel': 'rbf', 'nu': 0.5000000000000001, 'shrinking': True, 'gamma': 0.004401222282249897}\n",
      "Fitted\n",
      "Run time: 1171.46 sec\n",
      "*****************\n",
      "\n",
      "*****************\n",
      "{'kernel': {'gamma': 0.004401222282249897, 'kernel': 'rbf'}, 'nu': 0.5000000000000001, 'shrinking': True}\n",
      "{'kernel': 'rbf', 'nu': 0.5000000000000001, 'shrinking': True, 'gamma': 0.004401222282249897}\n",
      "Fitted\n",
      "Run time: 1089.52 sec\n",
      "*****************\n",
      "\n",
      "*****************\n",
      "{'kernel': {'gamma': 0.004401222282249897, 'kernel': 'rbf'}, 'nu': 0.5000000000000001, 'shrinking': True}\n",
      "{'kernel': 'rbf', 'nu': 0.5000000000000001, 'shrinking': True, 'gamma': 0.004401222282249897}\n",
      "Fitted\n",
      "Run time: 1100.87 sec\n",
      "*****************\n",
      "\n",
      "*****************\n",
      "{'kernel': {'coef0': 0.32085414372147, 'gamma': 0.0036617774395340994, 'kernel': 'sigmoid'}, 'nu': 0.6000000000000001, 'shrinking': False}\n",
      "{'kernel': 'sigmoid', 'nu': 0.6000000000000001, 'shrinking': False, 'coef0': 0.32085414372147, 'gamma': 0.0036617774395340994}\n",
      "Fitted\n",
      "Run time: 1041.25 sec\n",
      "*****************\n",
      "\n",
      "*****************\n",
      "{'kernel': {'coef0': 0.32085414372147, 'gamma': 0.0036617774395340994, 'kernel': 'sigmoid'}, 'nu': 0.6000000000000001, 'shrinking': False}\n",
      "{'kernel': 'sigmoid', 'nu': 0.6000000000000001, 'shrinking': False, 'coef0': 0.32085414372147, 'gamma': 0.0036617774395340994}\n",
      "Fitted\n",
      "Run time: 1036.01 sec\n",
      "*****************\n",
      "\n",
      "*****************\n",
      "{'kernel': {'coef0': 0.32085414372147, 'gamma': 0.0036617774395340994, 'kernel': 'sigmoid'}, 'nu': 0.6000000000000001, 'shrinking': False}\n",
      "{'kernel': 'sigmoid', 'nu': 0.6000000000000001, 'shrinking': False, 'coef0': 0.32085414372147, 'gamma': 0.0036617774395340994}\n",
      "Fitted\n",
      "Run time: 1029.32 sec\n",
      "*****************\n",
      "\n",
      "*****************\n",
      "{'kernel': {'coef0': 0.17467113750509214, 'degree': 2, 'gamma': 0.005896169510017723, 'kernel': 'poly'}, 'nu': 0.2, 'shrinking': False}\n",
      "{'kernel': 'poly', 'nu': 0.2, 'shrinking': False, 'coef0': 0.17467113750509214, 'degree': 2, 'gamma': 0.005896169510017723}\n",
      "Fitted\n",
      "Run time: 225.20 sec\n",
      "*****************\n",
      "\n",
      "*****************\n",
      "{'kernel': {'coef0': 0.17467113750509214, 'degree': 2, 'gamma': 0.005896169510017723, 'kernel': 'poly'}, 'nu': 0.2, 'shrinking': False}\n",
      "{'kernel': 'poly', 'nu': 0.2, 'shrinking': False, 'coef0': 0.17467113750509214, 'degree': 2, 'gamma': 0.005896169510017723}\n",
      "Fitted\n",
      "Run time: 226.27 sec\n",
      "*****************\n",
      "\n",
      "*****************\n",
      "{'kernel': {'coef0': 0.17467113750509214, 'degree': 2, 'gamma': 0.005896169510017723, 'kernel': 'poly'}, 'nu': 0.2, 'shrinking': False}\n",
      "{'kernel': 'poly', 'nu': 0.2, 'shrinking': False, 'coef0': 0.17467113750509214, 'degree': 2, 'gamma': 0.005896169510017723}\n",
      "Fitted\n",
      "Run time: 229.47 sec\n",
      "*****************\n",
      "\n",
      "*****************\n",
      "{'kernel': {'coef0': 0.07718268167120167, 'degree': 6, 'gamma': 0.01583248565074802, 'kernel': 'poly'}, 'nu': 0.5000000000000001, 'shrinking': True}\n",
      "{'kernel': 'poly', 'nu': 0.5000000000000001, 'shrinking': True, 'coef0': 0.07718268167120167, 'degree': 6, 'gamma': 0.01583248565074802}\n",
      "Fitted\n",
      "Run time: 627.41 sec\n",
      "*****************\n",
      "\n",
      "*****************\n",
      "{'kernel': {'coef0': 0.07718268167120167, 'degree': 6, 'gamma': 0.01583248565074802, 'kernel': 'poly'}, 'nu': 0.5000000000000001, 'shrinking': True}\n",
      "{'kernel': 'poly', 'nu': 0.5000000000000001, 'shrinking': True, 'coef0': 0.07718268167120167, 'degree': 6, 'gamma': 0.01583248565074802}\n",
      "Fitted\n",
      "Run time: 563.69 sec\n",
      "*****************\n",
      "\n",
      "*****************\n",
      "{'kernel': {'coef0': 0.07718268167120167, 'degree': 6, 'gamma': 0.01583248565074802, 'kernel': 'poly'}, 'nu': 0.5000000000000001, 'shrinking': True}\n",
      "{'kernel': 'poly', 'nu': 0.5000000000000001, 'shrinking': True, 'coef0': 0.07718268167120167, 'degree': 6, 'gamma': 0.01583248565074802}\n",
      "Fitted\n",
      "Run time: 639.14 sec\n",
      "*****************\n",
      "\n",
      "*****************\n",
      "{'kernel': {'gamma': 0.3544778232943166, 'kernel': 'rbf'}, 'nu': 0.30000000000000004, 'shrinking': False}\n",
      "{'kernel': 'rbf', 'nu': 0.30000000000000004, 'shrinking': False, 'gamma': 0.3544778232943166}\n",
      "Fitted\n",
      "Run time: 638.67 sec\n",
      "*****************\n",
      "\n",
      "*****************\n",
      "{'kernel': {'gamma': 0.3544778232943166, 'kernel': 'rbf'}, 'nu': 0.30000000000000004, 'shrinking': False}\n",
      "{'kernel': 'rbf', 'nu': 0.30000000000000004, 'shrinking': False, 'gamma': 0.3544778232943166}\n",
      "Fitted\n",
      "Run time: 628.85 sec\n",
      "*****************\n",
      "\n",
      "*****************\n",
      "{'kernel': {'gamma': 0.3544778232943166, 'kernel': 'rbf'}, 'nu': 0.30000000000000004, 'shrinking': False}\n",
      "{'kernel': 'rbf', 'nu': 0.30000000000000004, 'shrinking': False, 'gamma': 0.3544778232943166}\n"
     ]
    },
    {
     "name": "stdout",
     "output_type": "stream",
     "text": [
      "Fitted\n",
      "Run time: 643.34 sec\n",
      "*****************\n",
      "\n",
      "*****************\n",
      "{'kernel': {'kernel': 'linear'}, 'nu': 0.2, 'shrinking': True}\n",
      "{'kernel': 'linear', 'nu': 0.2, 'shrinking': True}\n",
      "Fitted\n",
      "Run time: 287.69 sec\n",
      "*****************\n",
      "\n",
      "*****************\n",
      "{'kernel': {'kernel': 'linear'}, 'nu': 0.2, 'shrinking': True}\n",
      "{'kernel': 'linear', 'nu': 0.2, 'shrinking': True}\n",
      "Fitted\n",
      "Run time: 281.21 sec\n",
      "*****************\n",
      "\n",
      "*****************\n",
      "{'kernel': {'kernel': 'linear'}, 'nu': 0.2, 'shrinking': True}\n",
      "{'kernel': 'linear', 'nu': 0.2, 'shrinking': True}\n",
      "Fitted\n",
      "Run time: 285.78 sec\n",
      "*****************\n",
      "\n",
      "*****************\n",
      "{'kernel': {'gamma': 0.061224743317982215, 'kernel': 'rbf'}, 'nu': 0.2, 'shrinking': True}\n",
      "{'kernel': 'rbf', 'nu': 0.2, 'shrinking': True, 'gamma': 0.061224743317982215}\n",
      "Fitted\n",
      "Run time: 592.03 sec\n",
      "*****************\n",
      "\n",
      "*****************\n",
      "{'kernel': {'gamma': 0.061224743317982215, 'kernel': 'rbf'}, 'nu': 0.2, 'shrinking': True}\n",
      "{'kernel': 'rbf', 'nu': 0.2, 'shrinking': True, 'gamma': 0.061224743317982215}\n",
      "Fitted\n",
      "Run time: 581.80 sec\n",
      "*****************\n",
      "\n",
      "*****************\n",
      "{'kernel': {'gamma': 0.061224743317982215, 'kernel': 'rbf'}, 'nu': 0.2, 'shrinking': True}\n",
      "{'kernel': 'rbf', 'nu': 0.2, 'shrinking': True, 'gamma': 0.061224743317982215}\n",
      "Fitted\n",
      "Run time: 595.61 sec\n",
      "*****************\n",
      "\n",
      "*****************\n",
      "{'kernel': {'coef0': 0.11559584521487656, 'degree': 4, 'gamma': 0.32596707108282946, 'kernel': 'poly'}, 'nu': 0.5000000000000001, 'shrinking': False}\n",
      "{'kernel': 'poly', 'nu': 0.5000000000000001, 'shrinking': False, 'coef0': 0.11559584521487656, 'degree': 4, 'gamma': 0.32596707108282946}\n",
      "Fitted\n",
      "Run time: 483.42 sec\n",
      "*****************\n",
      "\n",
      "*****************\n",
      "{'kernel': {'coef0': 0.11559584521487656, 'degree': 4, 'gamma': 0.32596707108282946, 'kernel': 'poly'}, 'nu': 0.5000000000000001, 'shrinking': False}\n",
      "{'kernel': 'poly', 'nu': 0.5000000000000001, 'shrinking': False, 'coef0': 0.11559584521487656, 'degree': 4, 'gamma': 0.32596707108282946}\n",
      "Fitted\n",
      "Run time: 471.03 sec\n",
      "*****************\n",
      "\n",
      "*****************\n",
      "{'kernel': {'coef0': 0.11559584521487656, 'degree': 4, 'gamma': 0.32596707108282946, 'kernel': 'poly'}, 'nu': 0.5000000000000001, 'shrinking': False}\n",
      "{'kernel': 'poly', 'nu': 0.5000000000000001, 'shrinking': False, 'coef0': 0.11559584521487656, 'degree': 4, 'gamma': 0.32596707108282946}\n",
      "Fitted\n",
      "Run time: 473.97 sec\n",
      "*****************\n",
      "\n",
      "*****************\n",
      "{'kernel': {'kernel': 'linear'}, 'nu': 0.4000000000000001, 'shrinking': True}\n",
      "{'kernel': 'linear', 'nu': 0.4000000000000001, 'shrinking': True}\n",
      "Fitted\n",
      "Run time: 828.14 sec\n",
      "*****************\n",
      "\n",
      "*****************\n",
      "{'kernel': {'kernel': 'linear'}, 'nu': 0.4000000000000001, 'shrinking': True}\n",
      "{'kernel': 'linear', 'nu': 0.4000000000000001, 'shrinking': True}\n",
      "Fitted\n",
      "Run time: 869.82 sec\n",
      "*****************\n",
      "\n",
      "*****************\n",
      "{'kernel': {'kernel': 'linear'}, 'nu': 0.4000000000000001, 'shrinking': True}\n",
      "{'kernel': 'linear', 'nu': 0.4000000000000001, 'shrinking': True}\n",
      "Fitted\n",
      "Run time: 852.41 sec\n",
      "*****************\n",
      "\n",
      "*****************\n",
      "{'kernel': {'coef0': 0.022377764640214164, 'degree': 4, 'gamma': 0.1298299792881449, 'kernel': 'poly'}, 'nu': 0.6000000000000001, 'shrinking': True}\n",
      "{'kernel': 'poly', 'nu': 0.6000000000000001, 'shrinking': True, 'coef0': 0.022377764640214164, 'degree': 4, 'gamma': 0.1298299792881449}\n",
      "Fitted\n",
      "Run time: 630.83 sec\n",
      "*****************\n",
      "\n",
      "*****************\n",
      "{'kernel': {'coef0': 0.022377764640214164, 'degree': 4, 'gamma': 0.1298299792881449, 'kernel': 'poly'}, 'nu': 0.6000000000000001, 'shrinking': True}\n",
      "{'kernel': 'poly', 'nu': 0.6000000000000001, 'shrinking': True, 'coef0': 0.022377764640214164, 'degree': 4, 'gamma': 0.1298299792881449}\n",
      "Fitted\n",
      "Run time: 618.15 sec\n",
      "*****************\n",
      "\n",
      "*****************\n",
      "{'kernel': {'coef0': 0.022377764640214164, 'degree': 4, 'gamma': 0.1298299792881449, 'kernel': 'poly'}, 'nu': 0.6000000000000001, 'shrinking': True}\n",
      "{'kernel': 'poly', 'nu': 0.6000000000000001, 'shrinking': True, 'coef0': 0.022377764640214164, 'degree': 4, 'gamma': 0.1298299792881449}\n",
      "Fitted\n",
      "Run time: 595.92 sec\n",
      "*****************\n",
      "\n",
      "*****************\n",
      "{'kernel': {'kernel': 'linear'}, 'nu': 0.4000000000000001, 'shrinking': True}\n",
      "{'kernel': 'linear', 'nu': 0.4000000000000001, 'shrinking': True}\n",
      "Fitted\n",
      "Run time: 707.75 sec\n",
      "*****************\n",
      "\n",
      "*****************\n",
      "{'kernel': {'kernel': 'linear'}, 'nu': 0.4000000000000001, 'shrinking': True}\n",
      "{'kernel': 'linear', 'nu': 0.4000000000000001, 'shrinking': True}\n",
      "Fitted\n",
      "Run time: 765.39 sec\n",
      "*****************\n",
      "\n",
      "*****************\n",
      "{'kernel': {'kernel': 'linear'}, 'nu': 0.4000000000000001, 'shrinking': True}\n",
      "{'kernel': 'linear', 'nu': 0.4000000000000001, 'shrinking': True}\n",
      "Fitted\n",
      "Run time: 757.66 sec\n",
      "*****************\n",
      "\n",
      "*****************\n",
      "{'kernel': {'coef0': 0.0855984057522609, 'degree': 6, 'gamma': 0.00390738893365958, 'kernel': 'poly'}, 'nu': 0.2, 'shrinking': True}\n",
      "{'kernel': 'poly', 'nu': 0.2, 'shrinking': True, 'coef0': 0.0855984057522609, 'degree': 6, 'gamma': 0.00390738893365958}\n",
      "Fitted\n",
      "Run time: 437.26 sec\n",
      "*****************\n",
      "\n",
      "*****************\n",
      "{'kernel': {'coef0': 0.0855984057522609, 'degree': 6, 'gamma': 0.00390738893365958, 'kernel': 'poly'}, 'nu': 0.2, 'shrinking': True}\n",
      "{'kernel': 'poly', 'nu': 0.2, 'shrinking': True, 'coef0': 0.0855984057522609, 'degree': 6, 'gamma': 0.00390738893365958}\n",
      "Fitted\n",
      "Run time: 311.72 sec\n",
      "*****************\n",
      "\n",
      "*****************\n",
      "{'kernel': {'coef0': 0.0855984057522609, 'degree': 6, 'gamma': 0.00390738893365958, 'kernel': 'poly'}, 'nu': 0.2, 'shrinking': True}\n",
      "{'kernel': 'poly', 'nu': 0.2, 'shrinking': True, 'coef0': 0.0855984057522609, 'degree': 6, 'gamma': 0.00390738893365958}\n",
      "Fitted\n",
      "Run time: 421.80 sec\n",
      "*****************\n",
      "\n",
      "*****************\n",
      "{'kernel': {'coef0': 0.10168918381732477, 'degree': 2, 'gamma': 0.008407723663179933, 'kernel': 'poly'}, 'nu': 0.6000000000000001, 'shrinking': True}\n",
      "{'kernel': 'poly', 'nu': 0.6000000000000001, 'shrinking': True, 'coef0': 0.10168918381732477, 'degree': 2, 'gamma': 0.008407723663179933}\n",
      "Fitted\n",
      "Run time: 635.83 sec\n",
      "*****************\n",
      "\n",
      "*****************\n",
      "{'kernel': {'coef0': 0.10168918381732477, 'degree': 2, 'gamma': 0.008407723663179933, 'kernel': 'poly'}, 'nu': 0.6000000000000001, 'shrinking': True}\n",
      "{'kernel': 'poly', 'nu': 0.6000000000000001, 'shrinking': True, 'coef0': 0.10168918381732477, 'degree': 2, 'gamma': 0.008407723663179933}\n",
      "Fitted\n",
      "Run time: 623.36 sec\n",
      "*****************\n",
      "\n",
      "*****************\n",
      "{'kernel': {'coef0': 0.10168918381732477, 'degree': 2, 'gamma': 0.008407723663179933, 'kernel': 'poly'}, 'nu': 0.6000000000000001, 'shrinking': True}\n",
      "{'kernel': 'poly', 'nu': 0.6000000000000001, 'shrinking': True, 'coef0': 0.10168918381732477, 'degree': 2, 'gamma': 0.008407723663179933}\n",
      "Fitted\n",
      "Run time: 608.66 sec\n",
      "*****************\n",
      "\n",
      "*****************\n",
      "{'kernel': {'gamma': 0.09259383829761093, 'kernel': 'rbf'}, 'nu': 0.30000000000000004, 'shrinking': False}\n",
      "{'kernel': 'rbf', 'nu': 0.30000000000000004, 'shrinking': False, 'gamma': 0.09259383829761093}\n",
      "Fitted\n",
      "Run time: 614.46 sec\n",
      "*****************\n",
      "\n",
      "*****************\n",
      "{'kernel': {'gamma': 0.09259383829761093, 'kernel': 'rbf'}, 'nu': 0.30000000000000004, 'shrinking': False}\n",
      "{'kernel': 'rbf', 'nu': 0.30000000000000004, 'shrinking': False, 'gamma': 0.09259383829761093}\n",
      "Fitted\n",
      "Run time: 624.03 sec\n",
      "*****************\n",
      "\n",
      "*****************\n",
      "{'kernel': {'gamma': 0.09259383829761093, 'kernel': 'rbf'}, 'nu': 0.30000000000000004, 'shrinking': False}\n",
      "{'kernel': 'rbf', 'nu': 0.30000000000000004, 'shrinking': False, 'gamma': 0.09259383829761093}\n",
      "Fitted\n",
      "Run time: 625.06 sec\n",
      "*****************\n",
      "\n",
      "*****************\n",
      "{'kernel': {'coef0': 0.004648864187219797, 'gamma': 0.019095308791236023, 'kernel': 'sigmoid'}, 'nu': 0.30000000000000004, 'shrinking': True}\n",
      "{'kernel': 'sigmoid', 'nu': 0.30000000000000004, 'shrinking': True, 'coef0': 0.004648864187219797, 'gamma': 0.019095308791236023}\n",
      "Fitted\n",
      "Run time: 1128.41 sec\n",
      "*****************\n",
      "\n",
      "*****************\n",
      "{'kernel': {'coef0': 0.004648864187219797, 'gamma': 0.019095308791236023, 'kernel': 'sigmoid'}, 'nu': 0.30000000000000004, 'shrinking': True}\n",
      "{'kernel': 'sigmoid', 'nu': 0.30000000000000004, 'shrinking': True, 'coef0': 0.004648864187219797, 'gamma': 0.019095308791236023}\n",
      "Fitted\n",
      "Run time: 1030.59 sec\n",
      "*****************\n",
      "\n",
      "*****************\n",
      "{'kernel': {'coef0': 0.004648864187219797, 'gamma': 0.019095308791236023, 'kernel': 'sigmoid'}, 'nu': 0.30000000000000004, 'shrinking': True}\n",
      "{'kernel': 'sigmoid', 'nu': 0.30000000000000004, 'shrinking': True, 'coef0': 0.004648864187219797, 'gamma': 0.019095308791236023}\n"
     ]
    },
    {
     "name": "stdout",
     "output_type": "stream",
     "text": [
      "Fitted\n",
      "Run time: 726.06 sec\n",
      "*****************\n",
      "\n",
      "*****************\n",
      "{'kernel': {'coef0': 0.014206635716488707, 'gamma': 0.0025953485393588964, 'kernel': 'sigmoid'}, 'nu': 0.2, 'shrinking': True}\n",
      "{'kernel': 'sigmoid', 'nu': 0.2, 'shrinking': True, 'coef0': 0.014206635716488707, 'gamma': 0.0025953485393588964}\n",
      "Fitted\n",
      "Run time: 482.33 sec\n",
      "*****************\n",
      "\n",
      "*****************\n",
      "{'kernel': {'coef0': 0.014206635716488707, 'gamma': 0.0025953485393588964, 'kernel': 'sigmoid'}, 'nu': 0.2, 'shrinking': True}\n",
      "{'kernel': 'sigmoid', 'nu': 0.2, 'shrinking': True, 'coef0': 0.014206635716488707, 'gamma': 0.0025953485393588964}\n",
      "Fitted\n",
      "Run time: 562.93 sec\n",
      "*****************\n",
      "\n",
      "*****************\n",
      "{'kernel': {'coef0': 0.014206635716488707, 'gamma': 0.0025953485393588964, 'kernel': 'sigmoid'}, 'nu': 0.2, 'shrinking': True}\n",
      "{'kernel': 'sigmoid', 'nu': 0.2, 'shrinking': True, 'coef0': 0.014206635716488707, 'gamma': 0.0025953485393588964}\n",
      "Fitted\n",
      "Run time: 483.17 sec\n",
      "*****************\n",
      "\n",
      "*****************\n",
      "{'kernel': {'kernel': 'linear'}, 'nu': 0.4000000000000001, 'shrinking': True}\n",
      "{'kernel': 'linear', 'nu': 0.4000000000000001, 'shrinking': True}\n",
      "Fitted\n",
      "Run time: 700.13 sec\n",
      "*****************\n",
      "\n",
      "*****************\n",
      "{'kernel': {'kernel': 'linear'}, 'nu': 0.4000000000000001, 'shrinking': True}\n",
      "{'kernel': 'linear', 'nu': 0.4000000000000001, 'shrinking': True}\n",
      "Fitted\n",
      "Run time: 771.40 sec\n",
      "*****************\n",
      "\n",
      "*****************\n",
      "{'kernel': {'kernel': 'linear'}, 'nu': 0.4000000000000001, 'shrinking': True}\n",
      "{'kernel': 'linear', 'nu': 0.4000000000000001, 'shrinking': True}\n",
      "Fitted\n",
      "Run time: 750.35 sec\n",
      "*****************\n",
      "\n",
      "*****************\n",
      "{'kernel': {'kernel': 'linear'}, 'nu': 0.8000000000000003, 'shrinking': True}\n",
      "{'kernel': 'linear', 'nu': 0.8000000000000003, 'shrinking': True}\n",
      "Fitted\n",
      "Run time: 502.28 sec\n",
      "*****************\n",
      "\n",
      "*****************\n",
      "{'kernel': {'kernel': 'linear'}, 'nu': 0.8000000000000003, 'shrinking': True}\n",
      "{'kernel': 'linear', 'nu': 0.8000000000000003, 'shrinking': True}\n",
      "Fitted\n",
      "Run time: 498.63 sec\n",
      "*****************\n",
      "\n",
      "*****************\n",
      "{'kernel': {'kernel': 'linear'}, 'nu': 0.8000000000000003, 'shrinking': True}\n",
      "{'kernel': 'linear', 'nu': 0.8000000000000003, 'shrinking': True}\n",
      "Fitted\n",
      "Run time: 504.26 sec\n",
      "*****************\n",
      "\n",
      "*****************\n",
      "{'kernel': {'kernel': 'linear'}, 'nu': 0.4000000000000001, 'shrinking': True}\n",
      "{'kernel': 'linear', 'nu': 0.4000000000000001, 'shrinking': True}\n",
      "Fitted\n",
      "Run time: 700.28 sec\n",
      "*****************\n",
      "\n",
      "*****************\n",
      "{'kernel': {'kernel': 'linear'}, 'nu': 0.4000000000000001, 'shrinking': True}\n",
      "{'kernel': 'linear', 'nu': 0.4000000000000001, 'shrinking': True}\n",
      "Fitted\n",
      "Run time: 758.74 sec\n",
      "*****************\n",
      "\n",
      "*****************\n",
      "{'kernel': {'kernel': 'linear'}, 'nu': 0.4000000000000001, 'shrinking': True}\n",
      "{'kernel': 'linear', 'nu': 0.4000000000000001, 'shrinking': True}\n",
      "Fitted\n",
      "Run time: 739.50 sec\n",
      "*****************\n",
      "\n",
      "*****************\n",
      "{'kernel': {'kernel': 'linear'}, 'nu': 0.7000000000000002, 'shrinking': True}\n",
      "{'kernel': 'linear', 'nu': 0.7000000000000002, 'shrinking': True}\n",
      "Fitted\n",
      "Run time: 500.86 sec\n",
      "*****************\n",
      "\n",
      "*****************\n",
      "{'kernel': {'kernel': 'linear'}, 'nu': 0.7000000000000002, 'shrinking': True}\n",
      "{'kernel': 'linear', 'nu': 0.7000000000000002, 'shrinking': True}\n",
      "Fitted\n",
      "Run time: 511.24 sec\n",
      "*****************\n",
      "\n",
      "*****************\n",
      "{'kernel': {'kernel': 'linear'}, 'nu': 0.7000000000000002, 'shrinking': True}\n",
      "{'kernel': 'linear', 'nu': 0.7000000000000002, 'shrinking': True}\n",
      "Fitted\n",
      "Run time: 508.42 sec\n",
      "*****************\n",
      "\n",
      "*****************\n",
      "{'kernel': {'kernel': 'linear'}, 'nu': 0.4000000000000001, 'shrinking': True}\n",
      "{'kernel': 'linear', 'nu': 0.4000000000000001, 'shrinking': True}\n",
      "Fitted\n",
      "Run time: 687.79 sec\n",
      "*****************\n",
      "\n",
      "*****************\n",
      "{'kernel': {'kernel': 'linear'}, 'nu': 0.4000000000000001, 'shrinking': True}\n",
      "{'kernel': 'linear', 'nu': 0.4000000000000001, 'shrinking': True}\n",
      "Fitted\n",
      "Run time: 763.81 sec\n",
      "*****************\n",
      "\n",
      "*****************\n",
      "{'kernel': {'kernel': 'linear'}, 'nu': 0.4000000000000001, 'shrinking': True}\n",
      "{'kernel': 'linear', 'nu': 0.4000000000000001, 'shrinking': True}\n",
      "Fitted\n",
      "Run time: 750.10 sec\n",
      "*****************\n",
      "\n",
      "CPU times: user 21h 35min 6s, sys: 4min 6s, total: 21h 39min 12s\n",
      "Wall time: 21h 39min 22s\n"
     ]
    }
   ],
   "source": [
    "%%time\n",
    "trainer.crossval_optimize_params(RocAuc(), dataset, metrics=[Accuracy(), RocAuc(), F1()], verbose=True,\n",
    "                                 cv=3, opt_evals=25)"
   ]
  },
  {
   "cell_type": "code",
   "execution_count": 47,
   "metadata": {},
   "outputs": [
    {
     "data": {
      "text/plain": [
       "4.166666666666667"
      ]
     },
     "execution_count": 47,
     "metadata": {},
     "output_type": "execute_result"
    }
   ],
   "source": [
    "100/24"
   ]
  },
  {
   "cell_type": "markdown",
   "metadata": {},
   "source": [
    "Результаты"
   ]
  },
  {
   "cell_type": "code",
   "execution_count": 48,
   "metadata": {
    "collapsed": true
   },
   "outputs": [],
   "source": [
    "reporter = Report(trainer.get_best_results(), dataset, [Accuracy(), RocAuc(), F1()])"
   ]
  },
  {
   "cell_type": "code",
   "execution_count": 49,
   "metadata": {},
   "outputs": [
    {
     "name": "stdout",
     "output_type": "stream",
     "text": [
      "\n",
      "~~~~~~~~~~~~~~~~~~~~~~~~~~~~~~~~~~~~~~~~~~~~~~    accuracy    ~~~~~~~~~~~~~~~~~~~~~~~~~~~~~~~~~~~~~~~~~~~~~~~\n",
      "\n",
      "                           tuned\n",
      "SVMClassifier  0.727175 (-0.00%)\n",
      "\n",
      "~~~~~~~~~~~~~~~~~~~~~~~~~~~~~~~~~~~~~~~~~~~~~~~    roc_auc    ~~~~~~~~~~~~~~~~~~~~~~~~~~~~~~~~~~~~~~~~~~~~~~~\n",
      "\n",
      "                           tuned\n",
      "SVMClassifier  0.842647 (+0.00%)\n",
      "\n",
      "~~~~~~~~~~~~~~~~~~~~~~~~~~~~~~~~~~~~~~~~~~~~~~    f1_score    ~~~~~~~~~~~~~~~~~~~~~~~~~~~~~~~~~~~~~~~~~~~~~~~\n",
      "\n",
      "                           tuned\n",
      "SVMClassifier  0.687426 (-0.00%)\n"
     ]
    }
   ],
   "source": [
    "reporter.print_all_metric_results()"
   ]
  },
  {
   "cell_type": "code",
   "execution_count": 50,
   "metadata": {},
   "outputs": [
    {
     "name": "stdout",
     "output_type": "stream",
     "text": [
      "\n",
      "~~~~~~~~~~~~~~~~~~~~~~~~~~~~~~~~~~~~~~~~~~~~~~    accuracy    ~~~~~~~~~~~~~~~~~~~~~~~~~~~~~~~~~~~~~~~~~~~~~~~\n",
      "\n"
     ]
    },
    {
     "data": {
      "image/png": "[encoded data removed]",
      "text/plain": [
       "<matplotlib.figure.Figure at 0x7f594c477da0>"
      ]
     },
     "metadata": {},
     "output_type": "display_data"
    },
    {
     "name": "stdout",
     "output_type": "stream",
     "text": [
      "\n",
      "~~~~~~~~~~~~~~~~~~~~~~~~~~~~~~~~~~~~~~~~~~~~~~~    roc_auc    ~~~~~~~~~~~~~~~~~~~~~~~~~~~~~~~~~~~~~~~~~~~~~~~\n",
      "\n"
     ]
    },
    {
     "data": {
      "image/png": "[encoded data removed]",
      "text/plain": [
       "<matplotlib.figure.Figure at 0x7f594c3c04e0>"
      ]
     },
     "metadata": {},
     "output_type": "display_data"
    },
    {
     "name": "stdout",
     "output_type": "stream",
     "text": [
      "\n",
      "~~~~~~~~~~~~~~~~~~~~~~~~~~~~~~~~~~~~~~~~~~~~~~    f1_score    ~~~~~~~~~~~~~~~~~~~~~~~~~~~~~~~~~~~~~~~~~~~~~~~\n",
      "\n"
     ]
    },
    {
     "data": {
      "image/png": "[encoded data removed]",
      "text/plain": [
       "<matplotlib.figure.Figure at 0x7f594c42d2e8>"
      ]
     },
     "metadata": {},
     "output_type": "display_data"
    }
   ],
   "source": [
    "reporter.plot_all_metrics()"
   ]
  },
  {
   "cell_type": "markdown",
   "metadata": {},
   "source": [
    "Вытащим значения оптимальных параметров"
   ]
  },
  {
   "cell_type": "code",
   "execution_count": 51,
   "metadata": {
    "collapsed": true
   },
   "outputs": [],
   "source": [
    "trainer_log = trainer.state['SVMClassifier']"
   ]
  },
  {
   "cell_type": "code",
   "execution_count": 52,
   "metadata": {},
   "outputs": [
    {
     "data": {
      "text/plain": [
       "{'book_time': datetime.datetime(2018, 6, 7, 7, 44, 30, 904000),\n",
       " 'exp_key': None,\n",
       " 'misc': {'cmd': ('domain_attachment', 'FMinIter_Domain'),\n",
       "  'idxs': {'coef0_3': [],\n",
       "   'coef0_4': [],\n",
       "   'degree': [],\n",
       "   'gamma_1': [],\n",
       "   'gamma_3': [],\n",
       "   'gamma_4': [],\n",
       "   'kernel': [12],\n",
       "   'nu': [12],\n",
       "   'shrinking': [12]},\n",
       "  'tid': 12,\n",
       "  'vals': {'coef0_3': [],\n",
       "   'coef0_4': [],\n",
       "   'degree': [],\n",
       "   'gamma_1': [],\n",
       "   'gamma_3': [],\n",
       "   'gamma_4': [],\n",
       "   'kernel': [1],\n",
       "   'nu': [2],\n",
       "   'shrinking': [0]},\n",
       "  'workdir': None},\n",
       " 'owner': None,\n",
       " 'refresh_time': datetime.datetime(2018, 6, 7, 8, 37, 41, 639000),\n",
       " 'result': {'loss': -0.8426473291967662,\n",
       "  'loss_variance': 0.001974084206454584,\n",
       "  'metric_cv_results': [{'accuracy': 0.7267452343096921,\n",
       "    'f1_score': 0.6867295550210464,\n",
       "    'roc_auc': 0.8408239742470531},\n",
       "   {'accuracy': 0.7255710269880427,\n",
       "    'f1_score': 0.6856429369408275,\n",
       "    'roc_auc': 0.8417281475217214},\n",
       "   {'accuracy': 0.7292098641992509,\n",
       "    'f1_score': 0.6899043650458466,\n",
       "    'roc_auc': 0.8453898658215242}],\n",
       "  'params': {'kernel': {'kernel': 'linear'},\n",
       "   'nu': 0.4000000000000001,\n",
       "   'shrinking': True},\n",
       "  'status': 'ok'},\n",
       " 'spec': None,\n",
       " 'state': 2,\n",
       " 'tid': 12,\n",
       " 'version': 0}"
      ]
     },
     "execution_count": 52,
     "metadata": {},
     "output_type": "execute_result"
    }
   ],
   "source": [
    "trainer_log.best_trial"
   ]
  },
  {
   "cell_type": "markdown",
   "metadata": {},
   "source": [
    "Сами параметры"
   ]
  },
  {
   "cell_type": "code",
   "execution_count": 53,
   "metadata": {},
   "outputs": [
    {
     "data": {
      "text/plain": [
       "{'kernel': {'kernel': 'linear'}, 'nu': 0.4000000000000001, 'shrinking': True}"
      ]
     },
     "execution_count": 53,
     "metadata": {},
     "output_type": "execute_result"
    }
   ],
   "source": [
    "opt_params = trainer_log.best_trial['result']['params']\n",
    "opt_params"
   ]
  },
  {
   "cell_type": "code",
   "execution_count": 54,
   "metadata": {},
   "outputs": [
    {
     "data": {
      "text/plain": [
       "{'kernel': 'linear', 'nu': 0.4000000000000001, 'shrinking': True}"
      ]
     },
     "execution_count": 54,
     "metadata": {},
     "output_type": "execute_result"
    }
   ],
   "source": [
    "opt_params.update(opt_params['kernel'])\n",
    "opt_params"
   ]
  },
  {
   "cell_type": "markdown",
   "metadata": {},
   "source": [
    "Сохраним эти значения"
   ]
  },
  {
   "cell_type": "code",
   "execution_count": 55,
   "metadata": {
    "collapsed": true
   },
   "outputs": [],
   "source": [
    "file_name = 'optimal_svm_params_2.json'\n",
    "with open(file_name, 'w', encoding=\"utf-8\") as file:\n",
    "    # writing\n",
    "    json.dump(opt_params, file, indent=4, ensure_ascii=False)"
   ]
  },
  {
   "cell_type": "markdown",
   "metadata": {},
   "source": [
    "Загрузим значения"
   ]
  },
  {
   "cell_type": "code",
   "execution_count": 56,
   "metadata": {
    "collapsed": true
   },
   "outputs": [],
   "source": [
    "file_name = 'optimal_svm_params_2.json'\n",
    "with open(file_name, 'r', encoding=\"utf-8\") as file:\n",
    "    opt_params = json.load(file)"
   ]
  },
  {
   "cell_type": "code",
   "execution_count": 57,
   "metadata": {},
   "outputs": [
    {
     "data": {
      "text/plain": [
       "{'kernel': 'linear', 'nu': 0.4000000000000001, 'shrinking': True}"
      ]
     },
     "execution_count": 57,
     "metadata": {},
     "output_type": "execute_result"
    }
   ],
   "source": [
    "opt_params"
   ]
  },
  {
   "cell_type": "markdown",
   "metadata": {},
   "source": [
    "## Получим значения метрик OneClassSVM при оптимальных параметрах"
   ]
  },
  {
   "cell_type": "code",
   "execution_count": 58,
   "metadata": {
    "collapsed": true
   },
   "outputs": [],
   "source": [
    "y_test_rescale = np.where(y_test == 0, np.ones((y_test.shape)), -np.ones((y_test.shape)))"
   ]
  },
  {
   "cell_type": "code",
   "execution_count": 59,
   "metadata": {
    "collapsed": true
   },
   "outputs": [],
   "source": [
    "unsupervised_pr_aucs = {}\n",
    "unsupervised_roc_aucs = {}\n",
    "unsupervised_p_at_r = {\n",
    "    '0.8': {},\n",
    "    '0.9': {}, \n",
    "    '0.95': {},\n",
    "    '0.99': {},\n",
    "}"
   ]
  },
  {
   "cell_type": "markdown",
   "metadata": {},
   "source": [
    "Реализуем функции для вычисления precision at recall"
   ]
  },
  {
   "cell_type": "code",
   "execution_count": 60,
   "metadata": {
    "collapsed": true
   },
   "outputs": [],
   "source": [
    "def p_at_r(y_test, y_pred, x):\n",
    "    precision, recall, _ = precision_recall_curve(y_test, y_pred)\n",
    "    return max(precision[recall > x])"
   ]
  },
  {
   "cell_type": "code",
   "execution_count": 61,
   "metadata": {
    "collapsed": true
   },
   "outputs": [],
   "source": [
    "def _eval_p_at_rs(y_test, y_pred, frac, ours_p_at_r, descr):\n",
    "    for recall in ours_p_at_r.keys():\n",
    "        if descr in ours_p_at_r[recall]:\n",
    "            # append the new number to the existing array at this slot\n",
    "            ours_p_at_r[recall][descr].append((frac, p_at_r(y_test, y_pred, float(recall))))\n",
    "        else:\n",
    "            # create a new array in this slot\n",
    "            ours_p_at_r[recall][descr] = [(frac, p_at_r(y_test, y_pred, float(recall)))]\n",
    "            \n",
    "def _eval_p_at_rs_flatten(y_test, y_pred, frac, ours_p_at_r, descr):\n",
    "    for recall in ours_p_at_r.keys():\n",
    "        ours_p_at_r[recall][descr] = (frac, p_at_r(y_test, y_pred, float(recall)))"
   ]
  },
  {
   "cell_type": "markdown",
   "metadata": {},
   "source": [
    "Сохранение данных"
   ]
  },
  {
   "cell_type": "code",
   "execution_count": 62,
   "metadata": {
    "collapsed": true
   },
   "outputs": [],
   "source": [
    "def dump(saved_dict, folder, name):\n",
    "    dict_for_json = {k: {kk: list(vv) for kk, vv in v.items()} if isinstance(v, dict) else list(v) \n",
    "                     for k, v in saved_dict.items()}\n",
    "    with open(os.path.join(folder, name + \".json\"), 'w', encoding=\"utf-8\") as file:\n",
    "        # writing\n",
    "        json.dump(dict_for_json, file, indent=4, ensure_ascii=False)\n",
    "    del dict_for_json"
   ]
  },
  {
   "cell_type": "code",
   "execution_count": 63,
   "metadata": {
    "collapsed": true
   },
   "outputs": [],
   "source": [
    "def create_metrics_folder(metrics_path):\n",
    "    try:\n",
    "        last_folder_n = max(list(map(lambda name: int(name), \n",
    "                                     filter(lambda name: os.path.isdir(os.path.join(metrics_path, name)) \n",
    "                                            and name.isdecimal(), os.listdir(metrics_path)))))\n",
    "    except:\n",
    "        last_folder_n = 0\n",
    "    new_folder = os.path.join(metrics_path, str(last_folder_n + 1))\n",
    "    old_folder = os.path.join(metrics_path, str(last_folder_n))\n",
    "    os.makedirs(new_folder)    \n",
    "    return new_folder, old_folder"
   ]
  },
  {
   "cell_type": "code",
   "execution_count": 64,
   "metadata": {
    "collapsed": true
   },
   "outputs": [],
   "source": [
    "def dump_metrics_un(metrics_path):\n",
    "    folder, old_folder = create_metrics_folder(metrics_path)\n",
    "    print(folder)\n",
    "\n",
    "    dump(unsupervised_pr_aucs, folder, \"unsupervised_pr_aucs\")\n",
    "    dump(unsupervised_roc_aucs, folder, \"unsupervised_roc_aucs\")\n",
    "    dump(unsupervised_p_at_r, folder, \"unsupervised_p_at_r\")\n",
    "    \n",
    "    shutil.rmtree(old_folder, ignore_errors=True)"
   ]
  },
  {
   "cell_type": "code",
   "execution_count": 65,
   "metadata": {},
   "outputs": [
    {
     "name": "stderr",
     "output_type": "stream",
     "text": [
      "\n",
      "0it [00:00, ?it/s]\u001b[A\n"
     ]
    },
    {
     "name": "stdout",
     "output_type": "stream",
     "text": [
      "One-Class SVM\n",
      "recall_score  0.8533557707017505\n",
      "precision_score  0.680617047237232\n",
      "f1_score  0.7572604652515829\n",
      "confusion_matrix \n",
      "[[27434 18323]\n",
      " [ 6710 39047]]\n"
     ]
    },
    {
     "data": {
      "image/png": "[encoded data removed]",
      "text/plain": [
       "<matplotlib.figure.Figure at 0x7f594c22f400>"
      ]
     },
     "metadata": {},
     "output_type": "display_data"
    },
    {
     "data": {
      "image/png": "[encoded data removed]",
      "text/plain": [
       "<matplotlib.figure.Figure at 0x7f594c477978>"
      ]
     },
     "metadata": {},
     "output_type": "display_data"
    },
    {
     "name": "stderr",
     "output_type": "stream",
     "text": [
      "\r",
      "1it [40:53, 2453.57s/it]"
     ]
    },
    {
     "name": "stdout",
     "output_type": "stream",
     "text": [
      "Precision at recall:  0.8 = [(0, 0.7318419000779703)]; 0.9 = [(0, 0.6301470475724145)]; 0.95 = [(0, 0.5731803797468354)]; 0.99 = [(0, 0.5178504063925374)]\n",
      "../metrics/unsupervised/SVM_opt/3\n"
     ]
    },
    {
     "name": "stderr",
     "output_type": "stream",
     "text": [
      "\n"
     ]
    }
   ],
   "source": [
    "from sklearn import svm\n",
    "from sklearn.ensemble import IsolationForest\n",
    "\n",
    "\n",
    "classifiers_classic_uns = {\n",
    "    \"One-Class SVM\": svm.OneClassSVM(**opt_params)\n",
    "}\n",
    "\n",
    "frac = 0\n",
    "metrics_path = '../metrics/unsupervised/SVM_opt/'\n",
    "for i, (clf_name, clf) in tqdm(enumerate(classifiers_classic_uns.items())):\n",
    "        clf.fit(X_good)\n",
    "        #scores_pred = clf.decision_function(X_test)\n",
    "        y_pred = clf.predict(X_test)\n",
    "#         y_pred = clf.decision_function(X_test)\n",
    "        \n",
    "        print (clf_name)\n",
    "        print (\"recall_score \",recall_score(-y_test_rescale, np.round(-y_pred)))\n",
    "        print (\"precision_score \",precision_score(-y_test_rescale, np.round(-y_pred)))\n",
    "        print (\"f1_score \",f1_score(-y_test_rescale, np.round(-y_pred)))\n",
    "        print (\"confusion_matrix \")\n",
    "        print (confusion_matrix(-y_test_rescale, np.round(-y_pred)))\n",
    "        \n",
    "\n",
    "        Score = clf.decision_function(X_test)\n",
    "        \n",
    "        \n",
    "        precision, recall, _ = precision_recall_curve(-y_test_rescale, -Score)\n",
    "        pr_auc = auc(recall, precision)\n",
    "        unsupervised_pr_aucs[clf_name]=[(frac, pr_auc)]\n",
    "        \n",
    "        plt.figure()\n",
    "        plt.plot(recall, precision, label='PR curve (area = %0.3f)' % pr_auc)\n",
    "        plt.xlim([0.0, 1.0])\n",
    "        plt.ylim([0.0, 1.05])\n",
    "        plt.xlabel('Recall')\n",
    "        plt.ylabel('Precision')\n",
    "        plt.legend(loc=\"lower right\")\n",
    "        plt.grid(True)\n",
    "        plt.show()\n",
    "        \n",
    "        fpr, tpr, _ = roc_curve(-y_test_rescale, -Score)\n",
    "        roc_auc = auc(fpr, tpr)\n",
    "        unsupervised_roc_aucs[clf_name]=[(frac, roc_auc)]\n",
    "        \n",
    "        plt.figure()\n",
    "        plt.plot(fpr, tpr, label='ROC curve (area = %0.3f)' % roc_auc)\n",
    "        plt.xlim([0.0, 1.0])\n",
    "        plt.ylim([0.0, 1.05])\n",
    "        plt.xlabel('False Positive Rate')\n",
    "        plt.ylabel('True Positive Rate')\n",
    "        plt.legend(loc=\"lower right\")\n",
    "        plt.grid(True)\n",
    "        plt.show()\n",
    "        \n",
    "        _eval_p_at_rs(-y_test_rescale, -Score, frac, unsupervised_p_at_r, descr=clf_name)\n",
    "        \n",
    "        print(\"Precision at recall: \", \"; \".join(\n",
    "            map(lambda k: \"{} = {}\".format(k, unsupervised_p_at_r[k][clf_name]), unsupervised_p_at_r.keys())\n",
    "        ))\n",
    "        dump_metrics_un(metrics_path)"
   ]
  },
  {
   "cell_type": "code",
   "execution_count": null,
   "metadata": {
    "collapsed": true
   },
   "outputs": [],
   "source": []
  }
 ],
 "metadata": {
  "anaconda-cloud": {},
  "kernelspec": {
   "display_name": "Python 3",
   "language": "python",
   "name": "python3"
  },
  "language_info": {
   "codemirror_mode": {
    "name": "ipython",
    "version": 3
   },
   "file_extension": ".py",
   "mimetype": "text/x-python",
   "name": "python",
   "nbconvert_exporter": "python",
   "pygments_lexer": "ipython3",
   "version": "3.6.2"
  }
 },
 "nbformat": 4,
 "nbformat_minor": 1
}
