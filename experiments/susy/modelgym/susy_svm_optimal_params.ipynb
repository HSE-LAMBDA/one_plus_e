{
 "cells": [
  {
   "cell_type": "markdown",
   "metadata": {},
   "source": [
    "# Получение значений метрик"
   ]
  },
  {
   "cell_type": "code",
   "execution_count": 1,
   "metadata": {},
   "outputs": [
    {
     "name": "stderr",
     "output_type": "stream",
     "text": [
      "/opt/conda/anaconda3/lib/python3.6/importlib/_bootstrap.py:205: RuntimeWarning: compiletime version 3.4 of module '_catboost' does not match runtime version 3.6\n",
      "  return f(*args, **kwds)\n"
     ]
    }
   ],
   "source": [
    "import sys\n",
    "import json\n",
    "import timeit\n",
    "import numpy as np\n",
    "import matplotlib.pyplot as plt\n",
    "\n",
    "from tqdm import tqdm\n",
    "from IPython import display\n",
    "\n",
    "from modelgym.report import Report\n",
    "from modelgym.utils import XYCDataset\n",
    "from modelgym.trainers import TpeTrainer\n",
    "from modelgym.metrics import Accuracy, RocAuc, F1\n",
    "\n",
    "from sklearn.ensemble import IsolationForest\n",
    "from sklearn.svm import OneClassSVM\n",
    "\n",
    "sys.path.append('../../gmm_modules/')\n",
    "from data_preparation import get_train_test_data\n",
    "from metrics import metric_boxplot, eval_metrics, dump_metrics\n",
    "from modelgym_models import SVMClassifier\n",
    "\n",
    "np.random.seed(10)\n",
    "%matplotlib inline"
   ]
  },
  {
   "cell_type": "markdown",
   "metadata": {},
   "source": [
    "## Подготовим данные"
   ]
  },
  {
   "cell_type": "code",
   "execution_count": 2,
   "metadata": {},
   "outputs": [
    {
     "name": "stdout",
     "output_type": "stream",
     "text": [
      "CPU times: user 37.6 s, sys: 6.81 s, total: 44.4 s\n",
      "Wall time: 1min 20s\n"
     ]
    }
   ],
   "source": [
    "%%time\n",
    "path_to_dataset = '../../../../SUSY.csv'\n",
    "column_names = 'label, lepton 1 pT, lepton 1 eta, lepton 1 phi, lepton 2 pT, lepton 2 eta, lepton 2 phi, missing energy magnitude, missing energy phi, MET_rel, axial MET, M_R, M_TR_2, R, MT2, S_R, M_Delta_R, dPhi_r_b, cos(theta_r1)'.split(', ')\n",
    "train_size = 400000\n",
    "test_size = 100000\n",
    "\n",
    "X_train, X_test, y_train, y_test = get_train_test_data(path_to_dataset, column_names, train_size, test_size)"
   ]
  },
  {
   "cell_type": "code",
   "execution_count": 3,
   "metadata": {
    "collapsed": true
   },
   "outputs": [],
   "source": [
    "# split X_train by class\n",
    "X_good = X_train[np.where(y_train==0)[0]]\n",
    "X_bad = X_train[np.where(y_train==1)[0]]  "
   ]
  },
  {
   "cell_type": "code",
   "execution_count": 4,
   "metadata": {},
   "outputs": [
    {
     "data": {
      "text/plain": [
       "((200000, 18), (200000, 18), (400000, 18), (100000, 18))"
      ]
     },
     "execution_count": 4,
     "metadata": {},
     "output_type": "execute_result"
    }
   ],
   "source": [
    "X_good.shape, X_bad.shape, X_train.shape, X_test.shape"
   ]
  },
  {
   "cell_type": "markdown",
   "metadata": {},
   "source": [
    "## Подберем SVM с оптимальными параметрами"
   ]
  },
  {
   "cell_type": "markdown",
   "metadata": {},
   "source": [
    "Создаем классификатор и trainer для подбора оптимальных параметров"
   ]
  },
  {
   "cell_type": "code",
   "execution_count": 5,
   "metadata": {
    "collapsed": true
   },
   "outputs": [],
   "source": [
    "models = [SVMClassifier]\n",
    "trainer = TpeTrainer(models)"
   ]
  },
  {
   "cell_type": "markdown",
   "metadata": {},
   "source": [
    "Обертка для данных"
   ]
  },
  {
   "cell_type": "code",
   "execution_count": 6,
   "metadata": {
    "collapsed": true
   },
   "outputs": [],
   "source": [
    "y_train_rescale = np.where(y_train == 0, np.ones((y_train.shape)), -np.ones((y_train.shape)))"
   ]
  },
  {
   "cell_type": "code",
   "execution_count": null,
   "metadata": {
    "collapsed": true
   },
   "outputs": [],
   "source": [
    "dataset = XYCDataset(X_train, y_train_rescale)"
   ]
  },
  {
   "cell_type": "markdown",
   "metadata": {},
   "source": [
    "Сам подбор параметров"
   ]
  },
  {
   "cell_type": "code",
   "execution_count": null,
   "metadata": {
    "scrolled": true
   },
   "outputs": [
    {
     "name": "stdout",
     "output_type": "stream",
     "text": [
      "*****************\n",
      "{'kernel': {'coef0': 0.17782650433828304, 'degree': 6, 'gamma': 0.30345960645220954, 'kernel': 'poly'}, 'nu': 0.30000000000000004, 'shrinking': True}\n",
      "{'kernel': 'poly', 'nu': 0.30000000000000004, 'shrinking': True, 'coef0': 0.17782650433828304, 'degree': 6, 'gamma': 0.30345960645220954}\n",
      "Fitted\n",
      "Run time: 891.61 sec\n",
      "*****************\n",
      "\n",
      "*****************\n",
      "{'kernel': {'coef0': 0.17782650433828304, 'degree': 6, 'gamma': 0.30345960645220954, 'kernel': 'poly'}, 'nu': 0.30000000000000004, 'shrinking': True}\n",
      "{'kernel': 'poly', 'nu': 0.30000000000000004, 'shrinking': True, 'coef0': 0.17782650433828304, 'degree': 6, 'gamma': 0.30345960645220954}\n",
      "Fitted\n",
      "Run time: 624.01 sec\n",
      "*****************\n",
      "\n",
      "*****************\n",
      "{'kernel': {'coef0': 0.17782650433828304, 'degree': 6, 'gamma': 0.30345960645220954, 'kernel': 'poly'}, 'nu': 0.30000000000000004, 'shrinking': True}\n",
      "{'kernel': 'poly', 'nu': 0.30000000000000004, 'shrinking': True, 'coef0': 0.17782650433828304, 'degree': 6, 'gamma': 0.30345960645220954}\n",
      "Fitted\n",
      "Run time: 620.01 sec\n",
      "*****************\n",
      "\n",
      "*****************\n",
      "{'kernel': {'coef0': 0.008327731537554622, 'gamma': 0.018128924110018596, 'kernel': 'sigmoid'}, 'nu': 0.5000000000000001, 'shrinking': True}\n",
      "{'kernel': 'sigmoid', 'nu': 0.5000000000000001, 'shrinking': True, 'coef0': 0.008327731537554622, 'gamma': 0.018128924110018596}\n",
      "Fitted\n",
      "Run time: 1670.60 sec\n",
      "*****************\n",
      "\n",
      "*****************\n",
      "{'kernel': {'coef0': 0.008327731537554622, 'gamma': 0.018128924110018596, 'kernel': 'sigmoid'}, 'nu': 0.5000000000000001, 'shrinking': True}\n",
      "{'kernel': 'sigmoid', 'nu': 0.5000000000000001, 'shrinking': True, 'coef0': 0.008327731537554622, 'gamma': 0.018128924110018596}\n",
      "Fitted\n",
      "Run time: 1990.11 sec\n",
      "*****************\n",
      "\n",
      "*****************\n",
      "{'kernel': {'coef0': 0.008327731537554622, 'gamma': 0.018128924110018596, 'kernel': 'sigmoid'}, 'nu': 0.5000000000000001, 'shrinking': True}\n",
      "{'kernel': 'sigmoid', 'nu': 0.5000000000000001, 'shrinking': True, 'coef0': 0.008327731537554622, 'gamma': 0.018128924110018596}\n",
      "Fitted\n",
      "Run time: 2791.13 sec\n",
      "*****************\n",
      "\n",
      "*****************\n",
      "{'kernel': {'coef0': 0.003771974573964276, 'degree': 4, 'gamma': 0.20356443931969398, 'kernel': 'poly'}, 'nu': 0.6000000000000001, 'shrinking': False}\n",
      "{'kernel': 'poly', 'nu': 0.6000000000000001, 'shrinking': False, 'coef0': 0.003771974573964276, 'degree': 4, 'gamma': 0.20356443931969398}\n",
      "Fitted\n",
      "Run time: 1179.56 sec\n",
      "*****************\n",
      "\n",
      "*****************\n",
      "{'kernel': {'coef0': 0.003771974573964276, 'degree': 4, 'gamma': 0.20356443931969398, 'kernel': 'poly'}, 'nu': 0.6000000000000001, 'shrinking': False}\n",
      "{'kernel': 'poly', 'nu': 0.6000000000000001, 'shrinking': False, 'coef0': 0.003771974573964276, 'degree': 4, 'gamma': 0.20356443931969398}\n",
      "Fitted\n",
      "Run time: 1202.70 sec\n",
      "*****************\n",
      "\n",
      "*****************\n",
      "{'kernel': {'coef0': 0.003771974573964276, 'degree': 4, 'gamma': 0.20356443931969398, 'kernel': 'poly'}, 'nu': 0.6000000000000001, 'shrinking': False}\n",
      "{'kernel': 'poly', 'nu': 0.6000000000000001, 'shrinking': False, 'coef0': 0.003771974573964276, 'degree': 4, 'gamma': 0.20356443931969398}\n",
      "Fitted\n",
      "Run time: 1257.23 sec\n",
      "*****************\n",
      "\n",
      "*****************\n",
      "{'kernel': {'coef0': 0.012810013887242074, 'gamma': 0.09393815311309513, 'kernel': 'sigmoid'}, 'nu': 0.6000000000000001, 'shrinking': True}\n",
      "{'kernel': 'sigmoid', 'nu': 0.6000000000000001, 'shrinking': True, 'coef0': 0.012810013887242074, 'gamma': 0.09393815311309513}\n",
      "Fitted\n",
      "Run time: 4285.33 sec\n",
      "*****************\n",
      "\n",
      "*****************\n",
      "{'kernel': {'coef0': 0.012810013887242074, 'gamma': 0.09393815311309513, 'kernel': 'sigmoid'}, 'nu': 0.6000000000000001, 'shrinking': True}\n",
      "{'kernel': 'sigmoid', 'nu': 0.6000000000000001, 'shrinking': True, 'coef0': 0.012810013887242074, 'gamma': 0.09393815311309513}\n",
      "Fitted\n",
      "Run time: 3764.94 sec\n",
      "*****************\n",
      "\n",
      "*****************\n",
      "{'kernel': {'coef0': 0.012810013887242074, 'gamma': 0.09393815311309513, 'kernel': 'sigmoid'}, 'nu': 0.6000000000000001, 'shrinking': True}\n",
      "{'kernel': 'sigmoid', 'nu': 0.6000000000000001, 'shrinking': True, 'coef0': 0.012810013887242074, 'gamma': 0.09393815311309513}\n",
      "Fitted\n",
      "Run time: 2516.63 sec\n",
      "*****************\n",
      "\n",
      "*****************\n",
      "{'kernel': {'coef0': 0.039551465111595074, 'gamma': 0.004568048094611443, 'kernel': 'sigmoid'}, 'nu': 0.5000000000000001, 'shrinking': True}\n",
      "{'kernel': 'sigmoid', 'nu': 0.5000000000000001, 'shrinking': True, 'coef0': 0.039551465111595074, 'gamma': 0.004568048094611443}\n",
      "Fitted\n",
      "Run time: 1716.79 sec\n",
      "*****************\n",
      "\n",
      "*****************\n",
      "{'kernel': {'coef0': 0.039551465111595074, 'gamma': 0.004568048094611443, 'kernel': 'sigmoid'}, 'nu': 0.5000000000000001, 'shrinking': True}\n",
      "{'kernel': 'sigmoid', 'nu': 0.5000000000000001, 'shrinking': True, 'coef0': 0.039551465111595074, 'gamma': 0.004568048094611443}\n",
      "Fitted\n",
      "Run time: 2583.09 sec\n",
      "*****************\n",
      "\n",
      "*****************\n",
      "{'kernel': {'coef0': 0.039551465111595074, 'gamma': 0.004568048094611443, 'kernel': 'sigmoid'}, 'nu': 0.5000000000000001, 'shrinking': True}\n",
      "{'kernel': 'sigmoid', 'nu': 0.5000000000000001, 'shrinking': True, 'coef0': 0.039551465111595074, 'gamma': 0.004568048094611443}\n",
      "Fitted\n",
      "Run time: 1736.50 sec\n",
      "*****************\n",
      "\n",
      "*****************\n",
      "{'kernel': {'coef0': 0.12697331912151755, 'degree': 5, 'gamma': 0.0777217480420259, 'kernel': 'poly'}, 'nu': 0.2, 'shrinking': False}\n",
      "{'kernel': 'poly', 'nu': 0.2, 'shrinking': False, 'coef0': 0.12697331912151755, 'degree': 5, 'gamma': 0.0777217480420259}\n",
      "Fitted\n",
      "Run time: 355.29 sec\n",
      "*****************\n",
      "\n",
      "*****************\n",
      "{'kernel': {'coef0': 0.12697331912151755, 'degree': 5, 'gamma': 0.0777217480420259, 'kernel': 'poly'}, 'nu': 0.2, 'shrinking': False}\n",
      "{'kernel': 'poly', 'nu': 0.2, 'shrinking': False, 'coef0': 0.12697331912151755, 'degree': 5, 'gamma': 0.0777217480420259}\n",
      "Fitted\n",
      "Run time: 349.91 sec\n",
      "*****************\n",
      "\n",
      "*****************\n",
      "{'kernel': {'coef0': 0.12697331912151755, 'degree': 5, 'gamma': 0.0777217480420259, 'kernel': 'poly'}, 'nu': 0.2, 'shrinking': False}\n",
      "{'kernel': 'poly', 'nu': 0.2, 'shrinking': False, 'coef0': 0.12697331912151755, 'degree': 5, 'gamma': 0.0777217480420259}\n",
      "Fitted\n",
      "Run time: 352.62 sec\n",
      "*****************\n",
      "\n",
      "*****************\n",
      "{'kernel': {'coef0': 0.1641812953515952, 'gamma': 0.015465783867697178, 'kernel': 'sigmoid'}, 'nu': 0.30000000000000004, 'shrinking': True}\n",
      "{'kernel': 'sigmoid', 'nu': 0.30000000000000004, 'shrinking': True, 'coef0': 0.1641812953515952, 'gamma': 0.015465783867697178}\n",
      "Fitted\n",
      "Run time: 1315.09 sec\n",
      "*****************\n",
      "\n",
      "*****************\n",
      "{'kernel': {'coef0': 0.1641812953515952, 'gamma': 0.015465783867697178, 'kernel': 'sigmoid'}, 'nu': 0.30000000000000004, 'shrinking': True}\n",
      "{'kernel': 'sigmoid', 'nu': 0.30000000000000004, 'shrinking': True, 'coef0': 0.1641812953515952, 'gamma': 0.015465783867697178}\n",
      "Fitted\n",
      "Run time: 1454.55 sec\n",
      "*****************\n",
      "\n",
      "*****************\n",
      "{'kernel': {'coef0': 0.1641812953515952, 'gamma': 0.015465783867697178, 'kernel': 'sigmoid'}, 'nu': 0.30000000000000004, 'shrinking': True}\n",
      "{'kernel': 'sigmoid', 'nu': 0.30000000000000004, 'shrinking': True, 'coef0': 0.1641812953515952, 'gamma': 0.015465783867697178}\n",
      "Fitted\n",
      "Run time: 1490.54 sec\n",
      "*****************\n",
      "\n",
      "*****************\n",
      "{'kernel': {'gamma': 0.08153409767827376, 'kernel': 'rbf'}, 'nu': 0.5000000000000001, 'shrinking': False}\n",
      "{'kernel': 'rbf', 'nu': 0.5000000000000001, 'shrinking': False, 'gamma': 0.08153409767827376}\n",
      "Fitted\n",
      "Run time: 1463.62 sec\n",
      "*****************\n",
      "\n",
      "*****************\n",
      "{'kernel': {'gamma': 0.08153409767827376, 'kernel': 'rbf'}, 'nu': 0.5000000000000001, 'shrinking': False}\n",
      "{'kernel': 'rbf', 'nu': 0.5000000000000001, 'shrinking': False, 'gamma': 0.08153409767827376}\n",
      "Fitted\n",
      "Run time: 1163.03 sec\n",
      "*****************\n",
      "\n",
      "*****************\n",
      "{'kernel': {'gamma': 0.08153409767827376, 'kernel': 'rbf'}, 'nu': 0.5000000000000001, 'shrinking': False}\n",
      "{'kernel': 'rbf', 'nu': 0.5000000000000001, 'shrinking': False, 'gamma': 0.08153409767827376}\n",
      "Fitted\n",
      "Run time: 1174.53 sec\n",
      "*****************\n",
      "\n",
      "*****************\n",
      "{'kernel': {'kernel': 'linear'}, 'nu': 0.2, 'shrinking': True}\n",
      "{'kernel': 'linear', 'nu': 0.2, 'shrinking': True}\n",
      "Fitted\n",
      "Run time: 460.72 sec\n",
      "*****************\n",
      "\n",
      "*****************\n",
      "{'kernel': {'kernel': 'linear'}, 'nu': 0.2, 'shrinking': True}\n",
      "{'kernel': 'linear', 'nu': 0.2, 'shrinking': True}\n"
     ]
    },
    {
     "name": "stdout",
     "output_type": "stream",
     "text": [
      "Fitted\n",
      "Run time: 456.98 sec\n",
      "*****************\n",
      "\n",
      "*****************\n",
      "{'kernel': {'kernel': 'linear'}, 'nu': 0.2, 'shrinking': True}\n",
      "{'kernel': 'linear', 'nu': 0.2, 'shrinking': True}\n",
      "Fitted\n",
      "Run time: 438.72 sec\n",
      "*****************\n",
      "\n",
      "*****************\n",
      "{'kernel': {'gamma': 0.003212936366708991, 'kernel': 'rbf'}, 'nu': 0.6000000000000001, 'shrinking': False}\n",
      "{'kernel': 'rbf', 'nu': 0.6000000000000001, 'shrinking': False, 'gamma': 0.003212936366708991}\n",
      "Fitted\n",
      "Run time: 1268.24 sec\n",
      "*****************\n",
      "\n",
      "*****************\n",
      "{'kernel': {'gamma': 0.003212936366708991, 'kernel': 'rbf'}, 'nu': 0.6000000000000001, 'shrinking': False}\n",
      "{'kernel': 'rbf', 'nu': 0.6000000000000001, 'shrinking': False, 'gamma': 0.003212936366708991}\n",
      "Fitted\n",
      "Run time: 1264.74 sec\n",
      "*****************\n",
      "\n",
      "*****************\n",
      "{'kernel': {'gamma': 0.003212936366708991, 'kernel': 'rbf'}, 'nu': 0.6000000000000001, 'shrinking': False}\n",
      "{'kernel': 'rbf', 'nu': 0.6000000000000001, 'shrinking': False, 'gamma': 0.003212936366708991}\n",
      "Fitted\n",
      "Run time: 1261.76 sec\n",
      "*****************\n",
      "\n",
      "*****************\n",
      "{'kernel': {'gamma': 0.033955938671803236, 'kernel': 'rbf'}, 'nu': 0.7000000000000002, 'shrinking': True}\n",
      "{'kernel': 'rbf', 'nu': 0.7000000000000002, 'shrinking': True, 'gamma': 0.033955938671803236}\n",
      "Fitted\n",
      "Run time: 1854.74 sec\n",
      "*****************\n",
      "\n"
     ]
    }
   ],
   "source": [
    "%%time\n",
    "trainer.crossval_optimize_params(RocAuc(), dataset, metrics=[Accuracy(), RocAuc(), F1()], verbose=True,\n",
    "                                 cv=3, opt_evals=20)"
   ]
  },
  {
   "cell_type": "markdown",
   "metadata": {},
   "source": [
    "Результаты"
   ]
  },
  {
   "cell_type": "code",
   "execution_count": 20,
   "metadata": {
    "collapsed": true
   },
   "outputs": [],
   "source": [
    "reporter = Report(trainer.get_best_results(), dataset, [Accuracy(), RocAuc(), F1()])"
   ]
  },
  {
   "cell_type": "code",
   "execution_count": 21,
   "metadata": {},
   "outputs": [
    {
     "name": "stdout",
     "output_type": "stream",
     "text": [
      "\n",
      "~~~~~~~~~~~~~~~~~~~~~~~~~~~~~~~~~~~~~~~~~~~~~~    accuracy    ~~~~~~~~~~~~~~~~~~~~~~~~~~~~~~~~~~~~~~~~~~~~~~~\n",
      "\n",
      "                           tuned\n",
      "SVMClassifier  0.697557 (+0.00%)\n",
      "\n",
      "~~~~~~~~~~~~~~~~~~~~~~~~~~~~~~~~~~~~~~~~~~~~~~~    roc_auc    ~~~~~~~~~~~~~~~~~~~~~~~~~~~~~~~~~~~~~~~~~~~~~~~\n",
      "\n",
      "                           tuned\n",
      "SVMClassifier  0.843405 (+0.00%)\n",
      "\n",
      "~~~~~~~~~~~~~~~~~~~~~~~~~~~~~~~~~~~~~~~~~~~~~~    f1_score    ~~~~~~~~~~~~~~~~~~~~~~~~~~~~~~~~~~~~~~~~~~~~~~~\n",
      "\n",
      "                           tuned\n",
      "SVMClassifier  0.622969 (+0.00%)\n"
     ]
    }
   ],
   "source": [
    "reporter.print_all_metric_results()"
   ]
  },
  {
   "cell_type": "code",
   "execution_count": 22,
   "metadata": {},
   "outputs": [
    {
     "name": "stdout",
     "output_type": "stream",
     "text": [
      "\n",
      "~~~~~~~~~~~~~~~~~~~~~~~~~~~~~~~~~~~~~~~~~~~~~~    accuracy    ~~~~~~~~~~~~~~~~~~~~~~~~~~~~~~~~~~~~~~~~~~~~~~~\n",
      "\n"
     ]
    },
    {
     "data": {
      "image/png": "[encoded data removed]",
      "text/plain": [
       "<matplotlib.figure.Figure at 0x7f66ab776be0>"
      ]
     },
     "metadata": {},
     "output_type": "display_data"
    },
    {
     "name": "stdout",
     "output_type": "stream",
     "text": [
      "\n",
      "~~~~~~~~~~~~~~~~~~~~~~~~~~~~~~~~~~~~~~~~~~~~~~~    roc_auc    ~~~~~~~~~~~~~~~~~~~~~~~~~~~~~~~~~~~~~~~~~~~~~~~\n",
      "\n"
     ]
    },
    {
     "data": {
      "image/png": "[encoded data removed]",
      "text/plain": [
       "<matplotlib.figure.Figure at 0x7f66aae38f60>"
      ]
     },
     "metadata": {},
     "output_type": "display_data"
    },
    {
     "name": "stdout",
     "output_type": "stream",
     "text": [
      "\n",
      "~~~~~~~~~~~~~~~~~~~~~~~~~~~~~~~~~~~~~~~~~~~~~~    f1_score    ~~~~~~~~~~~~~~~~~~~~~~~~~~~~~~~~~~~~~~~~~~~~~~~\n",
      "\n"
     ]
    },
    {
     "data": {
      "image/png": "[encoded data removed]",
      "text/plain": [
       "<matplotlib.figure.Figure at 0x7f66aad488d0>"
      ]
     },
     "metadata": {},
     "output_type": "display_data"
    }
   ],
   "source": [
    "reporter.plot_all_metrics()"
   ]
  },
  {
   "cell_type": "markdown",
   "metadata": {},
   "source": [
    "Вытащим значения оптимальных параметров"
   ]
  },
  {
   "cell_type": "code",
   "execution_count": null,
   "metadata": {
    "collapsed": true
   },
   "outputs": [],
   "source": [
    "trainer_log = trainer.state['SVMClassifier']\n",
    "opt_params = trainer_log.best_trial['result']['params']\n",
    "opt_params.update(opt_params['kernel'])\n",
    "opt_params"
   ]
  },
  {
   "cell_type": "markdown",
   "metadata": {},
   "source": [
    "Сохраним эти значения"
   ]
  },
  {
   "cell_type": "code",
   "execution_count": 25,
   "metadata": {
    "collapsed": true
   },
   "outputs": [],
   "source": [
    "file_name = 'optimal_svm_params.json'\n",
    "with open(file_name, 'w', encoding=\"utf-8\") as file:\n",
    "    # writing\n",
    "    json.dump(opt_params, file, indent=4, ensure_ascii=False)"
   ]
  },
  {
   "cell_type": "markdown",
   "metadata": {},
   "source": [
    "Загрузим значения"
   ]
  },
  {
   "cell_type": "code",
   "execution_count": 5,
   "metadata": {
    "collapsed": true
   },
   "outputs": [],
   "source": [
    "file_name = 'optimal_svm_params.json'\n",
    "with open(file_name, 'r', encoding=\"utf-8\") as file:\n",
    "    opt_params = json.load(file)"
   ]
  },
  {
   "cell_type": "code",
   "execution_count": 6,
   "metadata": {},
   "outputs": [
    {
     "data": {
      "text/plain": [
       "{'coef0': 0.039551465111595074,\n",
       " 'gamma': 0.004568048094611443,\n",
       " 'kernel': 'sigmoid',\n",
       " 'nu': 0.5000000000000001,\n",
       " 'shrinking': True}"
      ]
     },
     "execution_count": 6,
     "metadata": {},
     "output_type": "execute_result"
    }
   ],
   "source": [
    "opt_params"
   ]
  },
  {
   "cell_type": "markdown",
   "metadata": {},
   "source": [
    "## Получим значения метрик OneClassSVM при оптимальных параметрах"
   ]
  },
  {
   "cell_type": "code",
   "execution_count": 7,
   "metadata": {
    "collapsed": true
   },
   "outputs": [],
   "source": [
    "y_test_rescale = np.where(y_test == 0, np.ones((y_test.shape)), -np.ones((y_test.shape)))"
   ]
  },
  {
   "cell_type": "code",
   "execution_count": 8,
   "metadata": {
    "collapsed": true
   },
   "outputs": [],
   "source": [
    "classifiers_classic_uns = {\n",
    "    \"One-Class SVM\": OneClassSVM(**opt_params, verbose=True)\n",
    "}\n",
    "\n",
    "frac = 0\n",
    "metrics_path = '../metrics/unsupervised/SVM_opt/'\n",
    "\n",
    "metrics_dict = {\n",
    "    'pr_aucs' : {},\n",
    "    'roc_aucs' : {},\n",
    "    'p_at_r' : {\n",
    "        '0.8': {},\n",
    "        '0.9': {}, \n",
    "        '0.95': {},\n",
    "        '0.99': {},\n",
    "    }\n",
    "}"
   ]
  },
  {
   "cell_type": "code",
   "execution_count": 9,
   "metadata": {},
   "outputs": [
    {
     "name": "stdout",
     "output_type": "stream",
     "text": [
      "Run time: 9810.33 sec\n",
      "PR_AUC:  (0, 0.8607933428607378)\n",
      "ROC_AUC:  (0, 0.8426495752000001)\n",
      "clf_name:  One-Class SVM\n"
     ]
    },
    {
     "data": {
      "image/png": "[encoded data removed]",
      "text/plain": [
       "<matplotlib.figure.Figure at 0x7f54e0809668>"
      ]
     },
     "metadata": {},
     "output_type": "display_data"
    },
    {
     "data": {
      "image/png": "[encoded data removed]",
      "text/plain": [
       "<matplotlib.figure.Figure at 0x7f54b2af09e8>"
      ]
     },
     "metadata": {},
     "output_type": "display_data"
    },
    {
     "data": {
      "image/png": "[encoded data removed]",
      "text/plain": [
       "<matplotlib.figure.Figure at 0x7f54d2ee3f98>"
      ]
     },
     "metadata": {},
     "output_type": "display_data"
    },
    {
     "data": {
      "image/png": "[encoded data removed]",
      "text/plain": [
       "<matplotlib.figure.Figure at 0x7f54d2ee92e8>"
      ]
     },
     "metadata": {},
     "output_type": "display_data"
    },
    {
     "data": {
      "image/png": "[encoded data removed]",
      "text/plain": [
       "<matplotlib.figure.Figure at 0x7f54d2e99240>"
      ]
     },
     "metadata": {},
     "output_type": "display_data"
    },
    {
     "data": {
      "image/png": "[encoded data removed]",
      "text/plain": [
       "<matplotlib.figure.Figure at 0x7f556002fb00>"
      ]
     },
     "metadata": {},
     "output_type": "display_data"
    },
    {
     "name": "stderr",
     "output_type": "stream",
     "text": [
      "\r",
      "1it [2:43:32, 9812.66s/it]"
     ]
    },
    {
     "name": "stdout",
     "output_type": "stream",
     "text": [
      "CPU times: user 1h 48min 9s, sys: 6min 13s, total: 1h 54min 23s\n",
      "Wall time: 2h 43min 32s\n"
     ]
    },
    {
     "name": "stderr",
     "output_type": "stream",
     "text": [
      "\n"
     ]
    }
   ],
   "source": [
    "%%time\n",
    "for i, (clf_name, clf) in tqdm(enumerate(classifiers_classic_uns.items())):\n",
    "    # prepare data\n",
    "    if frac > 1:\n",
    "        end_ind = X_good.shape[0]\n",
    "    else:   \n",
    "        end_ind = int(X_good.shape[0] * frac)\n",
    "    print('Ok1')\n",
    "\n",
    "    idx_neg = np.random.permutation(X_bad.shape[0])\n",
    "    X = np.concatenate((\n",
    "        X_good,\n",
    "        X_bad[idx_neg[:end_ind]]\n",
    "    ), axis=0)\n",
    "    print('Ok2')\n",
    "\n",
    "    # fit model and predict probas\n",
    "    start_time = timeit.default_timer()\n",
    "    print('Ok3')\n",
    "    clf.fit(np.random.permutation(X))\n",
    "    print('Ok4')\n",
    "    Score = clf.decision_function(X_test)\n",
    "    run_time = timeit.default_timer() - start_time\n",
    "    print('Ok5')\n",
    "    \n",
    "    # eval and save metrics\n",
    "    eval_metrics(-y_test_rescale, -Score, frac, metrics_dict, descr=clf_name)\n",
    "    dump_metrics(metrics_path, metrics_dict)\n",
    "\n",
    "    # print info\n",
    "    display.clear_output(wait=True)\n",
    "    print(\"Run time: {:.2f} sec\".format(run_time))\n",
    "    print(\"PR_AUC: \", metrics_dict['pr_aucs'][clf_name][-1])\n",
    "    print(\"ROC_AUC: \", metrics_dict['roc_aucs'][clf_name][-1])\n",
    "    print('clf_name: ', clf_name)\n",
    "\n",
    "    # plot metrics\n",
    "    metric_boxplot(metrics_dict['pr_aucs'], ylabel='PR_AUC', ylim=(0.1, 0.9))\n",
    "    plt.show()\n",
    "    metric_boxplot(metrics_dict['roc_aucs'], ylabel='ROC_AUC', ylim=(0.1, 0.9))\n",
    "    plt.show()\n",
    "    for k in metrics_dict['p_at_r'].keys():\n",
    "        metric_boxplot(metrics_dict['p_at_r'][k], ylabel='P@R_' + str(k), ylim=(0.4, 0.9))\n",
    "        plt.show()"
   ]
  },
  {
   "cell_type": "code",
   "execution_count": 10,
   "metadata": {},
   "outputs": [
    {
     "data": {
      "text/plain": [
       "{'p_at_r': {'0.8': {'One-Class SVM': [(0, 0.7353530525580455)]},\n",
       "  '0.9': {'One-Class SVM': [(0, 0.6359486730165909)]},\n",
       "  '0.95': {'One-Class SVM': [(0, 0.5741880114591014)]},\n",
       "  '0.99': {'One-Class SVM': [(0, 0.51815060606695)]}},\n",
       " 'pr_aucs': {'One-Class SVM': [(0, 0.8607933428607378)]},\n",
       " 'roc_aucs': {'One-Class SVM': [(0, 0.8426495752000001)]}}"
      ]
     },
     "execution_count": 10,
     "metadata": {},
     "output_type": "execute_result"
    }
   ],
   "source": [
    "metrics_dict"
   ]
  },
  {
   "cell_type": "code",
   "execution_count": null,
   "metadata": {
    "collapsed": true
   },
   "outputs": [],
   "source": []
  }
 ],
 "metadata": {
  "anaconda-cloud": {},
  "kernelspec": {
   "display_name": "Python 3",
   "language": "python",
   "name": "python3"
  },
  "language_info": {
   "codemirror_mode": {
    "name": "ipython",
    "version": 3
   },
   "file_extension": ".py",
   "mimetype": "text/x-python",
   "name": "python",
   "nbconvert_exporter": "python",
   "pygments_lexer": "ipython3",
   "version": "3.6.2"
  }
 },
 "nbformat": 4,
 "nbformat_minor": 1
}
