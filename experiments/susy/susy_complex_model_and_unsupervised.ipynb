{
 "cells": [
  {
   "cell_type": "code",
   "execution_count": 1,
   "metadata": {},
   "outputs": [
    {
     "name": "stderr",
     "output_type": "stream",
     "text": [
      "/opt/conda/anaconda3/lib/python3.6/site-packages/h5py/__init__.py:34: FutureWarning: Conversion of the second argument of issubdtype from `float` to `np.floating` is deprecated. In future, it will be treated as `np.float64 == np.dtype(float).type`.\n",
      "  from ._conv import register_converters as _register_converters\n"
     ]
    }
   ],
   "source": [
    "import time\n",
    "import timeit\n",
    "from IPython import display\n",
    "\n",
    "import numpy as np\n",
    "import pandas as pd\n",
    "import seaborn as sns\n",
    "import matplotlib.pyplot as plt\n",
    "\n",
    "from sklearn import datasets, mixture\n",
    "from sklearn.mixture import GaussianMixture\n",
    "from sklearn.preprocessing import StandardScaler\n",
    "from sklearn.metrics import precision_recall_curve\n",
    "from sklearn.model_selection import train_test_split\n",
    "\n",
    "from itertools import cycle, islice\n",
    "from math import ceil\n",
    "from tqdm import tqdm\n",
    "from ard_em import GaussianMixtureARD\n",
    "import h5py\n",
    "import shutil\n",
    "\n",
    "import sys\n",
    "sys.path.append('../../')\n",
    "\n",
    "from evaluation import *\n",
    "np.random.seed(10)\n",
    "%matplotlib inline"
   ]
  },
  {
   "cell_type": "markdown",
   "metadata": {},
   "source": [
    "## Подготовим данные"
   ]
  },
  {
   "cell_type": "code",
   "execution_count": 2,
   "metadata": {
    "collapsed": true
   },
   "outputs": [],
   "source": [
    "column_names = 'label, lepton 1 pT, lepton 1 eta, lepton 1 phi, lepton 2 pT, lepton 2 eta, lepton 2 phi, missing energy magnitude, missing energy phi, MET_rel, axial MET, M_R, M_TR_2, R, MT2, S_R, M_Delta_R, dPhi_r_b, cos(theta_r1)'.split(', ')\n",
    "data = pd.read_csv('../../../SUSY.csv', header=None, names=column_names)"
   ]
  },
  {
   "cell_type": "code",
   "execution_count": 3,
   "metadata": {},
   "outputs": [
    {
     "data": {
      "text/html": [
       "<div>\n",
       "<style>\n",
       "    .dataframe thead tr:only-child th {\n",
       "        text-align: right;\n",
       "    }\n",
       "\n",
       "    .dataframe thead th {\n",
       "        text-align: left;\n",
       "    }\n",
       "\n",
       "    .dataframe tbody tr th {\n",
       "        vertical-align: top;\n",
       "    }\n",
       "</style>\n",
       "<table border=\"1\" class=\"dataframe\">\n",
       "  <thead>\n",
       "    <tr style=\"text-align: right;\">\n",
       "      <th></th>\n",
       "      <th>label</th>\n",
       "      <th>lepton 1 pT</th>\n",
       "      <th>lepton 1 eta</th>\n",
       "      <th>lepton 1 phi</th>\n",
       "      <th>lepton 2 pT</th>\n",
       "      <th>lepton 2 eta</th>\n",
       "      <th>lepton 2 phi</th>\n",
       "      <th>missing energy magnitude</th>\n",
       "      <th>missing energy phi</th>\n",
       "      <th>MET_rel</th>\n",
       "      <th>axial MET</th>\n",
       "      <th>M_R</th>\n",
       "      <th>M_TR_2</th>\n",
       "      <th>R</th>\n",
       "      <th>MT2</th>\n",
       "      <th>S_R</th>\n",
       "      <th>M_Delta_R</th>\n",
       "      <th>dPhi_r_b</th>\n",
       "      <th>cos(theta_r1)</th>\n",
       "    </tr>\n",
       "  </thead>\n",
       "  <tbody>\n",
       "    <tr>\n",
       "      <th>0</th>\n",
       "      <td>0.0</td>\n",
       "      <td>0.972861</td>\n",
       "      <td>0.653855</td>\n",
       "      <td>1.176225</td>\n",
       "      <td>1.157156</td>\n",
       "      <td>-1.739873</td>\n",
       "      <td>-0.874309</td>\n",
       "      <td>0.567765</td>\n",
       "      <td>-0.175000</td>\n",
       "      <td>0.810061</td>\n",
       "      <td>-0.252552</td>\n",
       "      <td>1.921887</td>\n",
       "      <td>0.889637</td>\n",
       "      <td>0.410772</td>\n",
       "      <td>1.145621</td>\n",
       "      <td>1.932632</td>\n",
       "      <td>0.994464</td>\n",
       "      <td>1.367815</td>\n",
       "      <td>0.040714</td>\n",
       "    </tr>\n",
       "    <tr>\n",
       "      <th>1</th>\n",
       "      <td>1.0</td>\n",
       "      <td>1.667973</td>\n",
       "      <td>0.064191</td>\n",
       "      <td>-1.225171</td>\n",
       "      <td>0.506102</td>\n",
       "      <td>-0.338939</td>\n",
       "      <td>1.672543</td>\n",
       "      <td>3.475464</td>\n",
       "      <td>-1.219136</td>\n",
       "      <td>0.012955</td>\n",
       "      <td>3.775174</td>\n",
       "      <td>1.045977</td>\n",
       "      <td>0.568051</td>\n",
       "      <td>0.481928</td>\n",
       "      <td>0.000000</td>\n",
       "      <td>0.448410</td>\n",
       "      <td>0.205356</td>\n",
       "      <td>1.321893</td>\n",
       "      <td>0.377584</td>\n",
       "    </tr>\n",
       "    <tr>\n",
       "      <th>2</th>\n",
       "      <td>1.0</td>\n",
       "      <td>0.444840</td>\n",
       "      <td>-0.134298</td>\n",
       "      <td>-0.709972</td>\n",
       "      <td>0.451719</td>\n",
       "      <td>-1.613871</td>\n",
       "      <td>-0.768661</td>\n",
       "      <td>1.219918</td>\n",
       "      <td>0.504026</td>\n",
       "      <td>1.831248</td>\n",
       "      <td>-0.431385</td>\n",
       "      <td>0.526283</td>\n",
       "      <td>0.941514</td>\n",
       "      <td>1.587535</td>\n",
       "      <td>2.024308</td>\n",
       "      <td>0.603498</td>\n",
       "      <td>1.562374</td>\n",
       "      <td>1.135454</td>\n",
       "      <td>0.180910</td>\n",
       "    </tr>\n",
       "    <tr>\n",
       "      <th>3</th>\n",
       "      <td>1.0</td>\n",
       "      <td>0.381256</td>\n",
       "      <td>-0.976145</td>\n",
       "      <td>0.693152</td>\n",
       "      <td>0.448959</td>\n",
       "      <td>0.891753</td>\n",
       "      <td>-0.677328</td>\n",
       "      <td>2.033060</td>\n",
       "      <td>1.533041</td>\n",
       "      <td>3.046260</td>\n",
       "      <td>-1.005285</td>\n",
       "      <td>0.569386</td>\n",
       "      <td>1.015211</td>\n",
       "      <td>1.582217</td>\n",
       "      <td>1.551914</td>\n",
       "      <td>0.761215</td>\n",
       "      <td>1.715464</td>\n",
       "      <td>1.492257</td>\n",
       "      <td>0.090719</td>\n",
       "    </tr>\n",
       "    <tr>\n",
       "      <th>4</th>\n",
       "      <td>1.0</td>\n",
       "      <td>1.309996</td>\n",
       "      <td>-0.690089</td>\n",
       "      <td>-0.676259</td>\n",
       "      <td>1.589283</td>\n",
       "      <td>-0.693326</td>\n",
       "      <td>0.622907</td>\n",
       "      <td>1.087562</td>\n",
       "      <td>-0.381742</td>\n",
       "      <td>0.589204</td>\n",
       "      <td>1.365479</td>\n",
       "      <td>1.179295</td>\n",
       "      <td>0.968218</td>\n",
       "      <td>0.728563</td>\n",
       "      <td>0.000000</td>\n",
       "      <td>1.083158</td>\n",
       "      <td>0.043429</td>\n",
       "      <td>1.154854</td>\n",
       "      <td>0.094859</td>\n",
       "    </tr>\n",
       "  </tbody>\n",
       "</table>\n",
       "</div>"
      ],
      "text/plain": [
       "   label  lepton 1 pT  lepton 1 eta  lepton 1 phi  lepton 2 pT  lepton 2 eta  \\\n",
       "0    0.0     0.972861      0.653855      1.176225     1.157156     -1.739873   \n",
       "1    1.0     1.667973      0.064191     -1.225171     0.506102     -0.338939   \n",
       "2    1.0     0.444840     -0.134298     -0.709972     0.451719     -1.613871   \n",
       "3    1.0     0.381256     -0.976145      0.693152     0.448959      0.891753   \n",
       "4    1.0     1.309996     -0.690089     -0.676259     1.589283     -0.693326   \n",
       "\n",
       "   lepton 2 phi  missing energy magnitude  missing energy phi   MET_rel  \\\n",
       "0     -0.874309                  0.567765           -0.175000  0.810061   \n",
       "1      1.672543                  3.475464           -1.219136  0.012955   \n",
       "2     -0.768661                  1.219918            0.504026  1.831248   \n",
       "3     -0.677328                  2.033060            1.533041  3.046260   \n",
       "4      0.622907                  1.087562           -0.381742  0.589204   \n",
       "\n",
       "   axial MET       M_R    M_TR_2         R       MT2       S_R  M_Delta_R  \\\n",
       "0  -0.252552  1.921887  0.889637  0.410772  1.145621  1.932632   0.994464   \n",
       "1   3.775174  1.045977  0.568051  0.481928  0.000000  0.448410   0.205356   \n",
       "2  -0.431385  0.526283  0.941514  1.587535  2.024308  0.603498   1.562374   \n",
       "3  -1.005285  0.569386  1.015211  1.582217  1.551914  0.761215   1.715464   \n",
       "4   1.365479  1.179295  0.968218  0.728563  0.000000  1.083158   0.043429   \n",
       "\n",
       "   dPhi_r_b  cos(theta_r1)  \n",
       "0  1.367815       0.040714  \n",
       "1  1.321893       0.377584  \n",
       "2  1.135454       0.180910  \n",
       "3  1.492257       0.090719  \n",
       "4  1.154854       0.094859  "
      ]
     },
     "execution_count": 3,
     "metadata": {},
     "output_type": "execute_result"
    }
   ],
   "source": [
    "data.head()"
   ]
  },
  {
   "cell_type": "code",
   "execution_count": 4,
   "metadata": {},
   "outputs": [
    {
     "data": {
      "text/plain": [
       "(5000000, 19)"
      ]
     },
     "execution_count": 4,
     "metadata": {},
     "output_type": "execute_result"
    }
   ],
   "source": [
    "data.shape"
   ]
  },
  {
   "cell_type": "markdown",
   "metadata": {},
   "source": [
    "Делим выборку на признаки и таргеты. Нормируем признаки."
   ]
  },
  {
   "cell_type": "markdown",
   "metadata": {},
   "source": [
    "$X_{new} = \\frac{X - \\mu}{\\sigma}$"
   ]
  },
  {
   "cell_type": "code",
   "execution_count": 5,
   "metadata": {
    "collapsed": true
   },
   "outputs": [],
   "source": [
    "X_data = data.drop('label', 1)\n",
    "X_data = StandardScaler().fit_transform(X_data)\n",
    "\n",
    "labels = data[\"label\"]"
   ]
  },
  {
   "cell_type": "code",
   "execution_count": 6,
   "metadata": {
    "collapsed": true
   },
   "outputs": [],
   "source": [
    "min_class_size = min(X_data[np.where(labels==0)[0]].shape[0], X_data[np.where(labels==1)[0]].shape[0])"
   ]
  },
  {
   "cell_type": "code",
   "execution_count": 7,
   "metadata": {},
   "outputs": [
    {
     "data": {
      "text/plain": [
       "2287827"
      ]
     },
     "execution_count": 7,
     "metadata": {},
     "output_type": "execute_result"
    }
   ],
   "source": [
    "min_class_size"
   ]
  },
  {
   "cell_type": "code",
   "execution_count": 8,
   "metadata": {
    "collapsed": true
   },
   "outputs": [],
   "source": [
    "X_0 = X_data[np.where(labels==0)[0]]\n",
    "X_1 = X_data[np.where(labels==1)[0]]"
   ]
  },
  {
   "cell_type": "code",
   "execution_count": 9,
   "metadata": {},
   "outputs": [
    {
     "data": {
      "text/plain": [
       "(4575654, 18)"
      ]
     },
     "execution_count": 9,
     "metadata": {},
     "output_type": "execute_result"
    }
   ],
   "source": [
    "np.concatenate((X_0[:min_class_size], X_1[:min_class_size])).shape"
   ]
  },
  {
   "cell_type": "code",
   "execution_count": 10,
   "metadata": {
    "collapsed": true
   },
   "outputs": [],
   "source": [
    "X_data = np.concatenate((X_0[:min_class_size], X_1[:min_class_size]))\n",
    "labels = np.concatenate((np.zeros((min_class_size,1)), np.ones((min_class_size,1)))).ravel()"
   ]
  },
  {
   "cell_type": "markdown",
   "metadata": {},
   "source": [
    "Разбиваем на train(8% от всех данных) и test(2%)"
   ]
  },
  {
   "cell_type": "code",
   "execution_count": 11,
   "metadata": {
    "collapsed": true
   },
   "outputs": [],
   "source": [
    "from sklearn.model_selection import train_test_split"
   ]
  },
  {
   "cell_type": "code",
   "execution_count": 12,
   "metadata": {
    "collapsed": true
   },
   "outputs": [],
   "source": [
    "indx_train, indx_test = train_test_split(np.arange(len(labels), dtype='int32'), \n",
    "                                         stratify=labels, train_size=400000, test_size=100000, random_state=5)"
   ]
  },
  {
   "cell_type": "code",
   "execution_count": 13,
   "metadata": {
    "collapsed": true
   },
   "outputs": [],
   "source": [
    "indx_train = np.random.permutation(indx_train)\n",
    "indx_test = np.random.permutation(indx_test)"
   ]
  },
  {
   "cell_type": "code",
   "execution_count": 14,
   "metadata": {
    "collapsed": true
   },
   "outputs": [],
   "source": [
    "y_train = labels[indx_train]\n",
    "y_test = labels[indx_test]\n",
    "\n",
    "X_train = X_data[indx_train]\n",
    "X_test = X_data[indx_test]"
   ]
  },
  {
   "cell_type": "markdown",
   "metadata": {},
   "source": [
    "Разбиваем объекты по классам"
   ]
  },
  {
   "cell_type": "code",
   "execution_count": 15,
   "metadata": {
    "collapsed": true
   },
   "outputs": [],
   "source": [
    "X_good = X_train[np.where(y_train==0)[0]]\n",
    "X_bad = X_train[np.where(y_train==1)[0]]"
   ]
  },
  {
   "cell_type": "code",
   "execution_count": 16,
   "metadata": {},
   "outputs": [
    {
     "data": {
      "text/plain": [
       "((200000, 18), (400000, 18), (4575654, 18))"
      ]
     },
     "execution_count": 16,
     "metadata": {},
     "output_type": "execute_result"
    }
   ],
   "source": [
    "X_good.shape, X_train.shape, X_data.shape"
   ]
  },
  {
   "cell_type": "code",
   "execution_count": null,
   "metadata": {
    "collapsed": true
   },
   "outputs": [],
   "source": []
  },
  {
   "cell_type": "code",
   "execution_count": null,
   "metadata": {
    "collapsed": true
   },
   "outputs": [],
   "source": []
  },
  {
   "cell_type": "code",
   "execution_count": null,
   "metadata": {
    "collapsed": true
   },
   "outputs": [],
   "source": []
  },
  {
   "cell_type": "code",
   "execution_count": null,
   "metadata": {
    "collapsed": true
   },
   "outputs": [],
   "source": []
  },
  {
   "cell_type": "markdown",
   "metadata": {},
   "source": [
    "В прошлый раз данные как-то странно перемешивались, что ROC AUC для XGB оказался равен 0.5, так что здесь тоже оставил проверку на то, что все работает хорошо"
   ]
  },
  {
   "cell_type": "code",
   "execution_count": 17,
   "metadata": {},
   "outputs": [
    {
     "name": "stdout",
     "output_type": "stream",
     "text": [
      "Model Accuray with all features: 73.39%\n",
      "The AUC score with all features is 0.87\n",
      "Run time with all features: 35.23 sec\n"
     ]
    },
    {
     "name": "stderr",
     "output_type": "stream",
     "text": [
      "/opt/conda/anaconda3/lib/python3.6/site-packages/sklearn/preprocessing/label.py:171: DeprecationWarning: The truth value of an empty array is ambiguous. Returning False, but in future this will result in an error. Use `array.size > 0` to check that an array is not empty.\n",
      "  if diff:\n"
     ]
    }
   ],
   "source": [
    "import xgboost as xgb\n",
    "import timeit\n",
    "\n",
    "frac = 0.25\n",
    "if frac > 1:\n",
    "    end_ind = X_bad.shape[0]\n",
    "else:   \n",
    "    end_ind = int(X_bad.shape[0] * frac)\n",
    "\n",
    "XGBclassifier = xgb.sklearn.XGBClassifier(nthread=-1, seed=1, n_estimators=100)\n",
    "#Train and time classifier\n",
    "start_time = timeit.default_timer()\n",
    "\n",
    "XGBclassifier.fit(np.concatenate((X_good, X_bad[:end_ind])), \n",
    "        np.concatenate((np.zeros((X_good.shape[0],1)), np.ones((end_ind,1)))).ravel())\n",
    "run_time = timeit.default_timer() - start_time\n",
    "\n",
    "#Make Predictions\n",
    "y_pred = XGBclassifier.predict_proba(X_test)[:,1]\n",
    "\n",
    "#Print Results\n",
    "print(\"Model Accuray with all features: {:.2f}%\".format(100*XGBclassifier.score(X_test, y_test)))\n",
    "print(\"The AUC score with all features is {:.2f}\".format(roc_auc_score(y_test,y_pred)))\n",
    "print(\"Run time with all features: {:.2f} sec\".format(run_time))"
   ]
  },
  {
   "cell_type": "markdown",
   "metadata": {
    "collapsed": true
   },
   "source": [
    "ROC AUC = 0.87 => все нормально"
   ]
  },
  {
   "cell_type": "code",
   "execution_count": null,
   "metadata": {
    "collapsed": true
   },
   "outputs": [],
   "source": []
  },
  {
   "cell_type": "code",
   "execution_count": null,
   "metadata": {
    "collapsed": true
   },
   "outputs": [],
   "source": []
  },
  {
   "cell_type": "code",
   "execution_count": null,
   "metadata": {
    "collapsed": true
   },
   "outputs": [],
   "source": []
  },
  {
   "cell_type": "code",
   "execution_count": null,
   "metadata": {
    "collapsed": true
   },
   "outputs": [],
   "source": []
  },
  {
   "cell_type": "code",
   "execution_count": null,
   "metadata": {
    "collapsed": true
   },
   "outputs": [],
   "source": []
  },
  {
   "cell_type": "markdown",
   "metadata": {},
   "source": [
    "## Сгенерируем примеры используя GMM подход"
   ]
  },
  {
   "cell_type": "markdown",
   "metadata": {},
   "source": [
    "Подберем оптимальное число компонент для GaussianMixture"
   ]
  },
  {
   "cell_type": "code",
   "execution_count": 17,
   "metadata": {
    "collapsed": true
   },
   "outputs": [],
   "source": [
    "gm = GaussianMixture(n_components=35, n_init=4, covariance_type=\"full\", verbose=0)"
   ]
  },
  {
   "cell_type": "code",
   "execution_count": 18,
   "metadata": {},
   "outputs": [
    {
     "name": "stdout",
     "output_type": "stream",
     "text": [
      "CPU times: user 22min 31s, sys: 1min 52s, total: 24min 23s\n",
      "Wall time: 24min 19s\n"
     ]
    }
   ],
   "source": [
    "%%time\n",
    "sigma = 0.01\n",
    "gm.fit(X_good + np.random.normal(0, sigma, X_good.shape))"
   ]
  },
  {
   "cell_type": "code",
   "execution_count": null,
   "metadata": {
    "collapsed": true
   },
   "outputs": [],
   "source": []
  },
  {
   "cell_type": "code",
   "execution_count": 19,
   "metadata": {},
   "outputs": [
    {
     "data": {
      "text/plain": [
       "-112496.9081242989"
      ]
     },
     "execution_count": 19,
     "metadata": {},
     "output_type": "execute_result"
    }
   ],
   "source": [
    "gm.bic(X_good)"
   ]
  },
  {
   "cell_type": "markdown",
   "metadata": {},
   "source": [
    "Генерируем выборку размера исходной нейтральной следующим образом:\n",
    "- Для каждой компоненты смеси распределения, сэмплируем свои примеры с востановленными матожиданием и матрицей ковариаций\n",
    "- Количество примеров для компоненты пропорционально ее вкладу в смесь"
   ]
  },
  {
   "cell_type": "code",
   "execution_count": 20,
   "metadata": {
    "collapsed": true
   },
   "outputs": [],
   "source": [
    "from scipy.stats import multivariate_normal"
   ]
  },
  {
   "cell_type": "code",
   "execution_count": 21,
   "metadata": {
    "collapsed": true
   },
   "outputs": [],
   "source": [
    "n_samples = X_good.shape[0] * 5"
   ]
  },
  {
   "cell_type": "code",
   "execution_count": 22,
   "metadata": {
    "collapsed": true
   },
   "outputs": [],
   "source": [
    "gen = np.array(multivariate_normal.rvs(mean=gm.means_[0], cov=gm.covariances_[0], \n",
    "                                       size=ceil(gm.weights_[0]*n_samples)))\n",
    "for d in range(1, gm.n_components):\n",
    "    gen=np.vstack((\n",
    "        gen, multivariate_normal.rvs(mean=gm.means_[d], cov=gm.covariances_[d], size=ceil(gm.weights_[d]*n_samples))\n",
    "    ))\n",
    "np.random.shuffle(gen)\n",
    "gen = np.array(gen)[:n_samples]"
   ]
  },
  {
   "cell_type": "markdown",
   "metadata": {},
   "source": [
    "Посчитаем плотности вероятности на сгенерированных объектах для каждой компоненты смеси"
   ]
  },
  {
   "cell_type": "code",
   "execution_count": 23,
   "metadata": {
    "collapsed": true
   },
   "outputs": [],
   "source": [
    "probabilities = np.empty((gm.n_components, gen.shape[0]))"
   ]
  },
  {
   "cell_type": "code",
   "execution_count": 24,
   "metadata": {
    "collapsed": true
   },
   "outputs": [],
   "source": [
    "for d in range(gm.n_components):\n",
    "    probabilities[d] = multivariate_normal.pdf(gen, mean=gm.means_[d], cov=gm.covariances_[d], allow_singular=True)"
   ]
  },
  {
   "cell_type": "code",
   "execution_count": 25,
   "metadata": {},
   "outputs": [
    {
     "data": {
      "text/plain": [
       "(1000000, 18)"
      ]
     },
     "execution_count": 25,
     "metadata": {},
     "output_type": "execute_result"
    }
   ],
   "source": [
    "gen.shape"
   ]
  },
  {
   "cell_type": "markdown",
   "metadata": {},
   "source": [
    "Выберем для каждого объекта наибольшую вероятность по всем компонентам и инвертируем это значение для получения веса"
   ]
  },
  {
   "cell_type": "markdown",
   "metadata": {},
   "source": [
    "Т.е. нам интересны те примеры, которые мало вероятно появляются в восстановленной смеси распределения(необычное поведение == аномалия)"
   ]
  },
  {
   "cell_type": "code",
   "execution_count": 26,
   "metadata": {
    "collapsed": true
   },
   "outputs": [],
   "source": [
    "maxprob = np.max(probabilities, axis=0)\n",
    "gen_w = 1./(maxprob + 1e-2)"
   ]
  },
  {
   "cell_type": "markdown",
   "metadata": {},
   "source": [
    "Веса ограничены сверху 100. Из этого графика мало что понятно, так как точек слигком много. Можно сказаль лишь то, что около граничных значений весов точек намного больше, чем в середине."
   ]
  },
  {
   "cell_type": "code",
   "execution_count": 27,
   "metadata": {},
   "outputs": [
    {
     "data": {
      "image/png": "[encoded data removed]",
      "text/plain": [
       "<matplotlib.figure.Figure at 0x7fe964a88438>"
      ]
     },
     "metadata": {},
     "output_type": "display_data"
    }
   ],
   "source": [
    "plt.figure(figsize=(16, 10))\n",
    "plt.scatter(np.arange(len(gen_w)), gen_w, linewidths=0.00001)\n",
    "plt.show()"
   ]
  },
  {
   "cell_type": "markdown",
   "metadata": {},
   "source": [
    "Нормируем полученные веса"
   ]
  },
  {
   "cell_type": "code",
   "execution_count": 28,
   "metadata": {
    "collapsed": true
   },
   "outputs": [],
   "source": [
    "weights = np.ones((n_samples, 1)) #X_train.shape[0]"
   ]
  },
  {
   "cell_type": "code",
   "execution_count": 29,
   "metadata": {
    "collapsed": true
   },
   "outputs": [],
   "source": [
    "gen_w_normed = gen_w/np.sum(gen_w)*np.sum(weights)"
   ]
  },
  {
   "cell_type": "code",
   "execution_count": 30,
   "metadata": {},
   "outputs": [
    {
     "data": {
      "text/plain": [
       "(1000000.0000000005, 1000000.0)"
      ]
     },
     "execution_count": 30,
     "metadata": {},
     "output_type": "execute_result"
    }
   ],
   "source": [
    "gen_w_normed.sum(), np.sum(weights)"
   ]
  },
  {
   "cell_type": "code",
   "execution_count": 31,
   "metadata": {
    "collapsed": true
   },
   "outputs": [],
   "source": [
    "y1 = np.zeros((n_samples,1))\n",
    "y2 = np.ones((gen.shape[0],1))"
   ]
  },
  {
   "cell_type": "code",
   "execution_count": 32,
   "metadata": {
    "collapsed": true
   },
   "outputs": [],
   "source": [
    "X_mix = np.vstack((gen, X_good)) \n",
    "\n",
    "y_mix = np.vstack((y2, y1))\n",
    "\n",
    "weights_mix = np.vstack((gen_w_normed.reshape(-1,1), weights.reshape(-1,1))).reshape(-1)"
   ]
  },
  {
   "cell_type": "code",
   "execution_count": 33,
   "metadata": {},
   "outputs": [
    {
     "data": {
      "text/plain": [
       "((2000000,), (2000000, 1))"
      ]
     },
     "execution_count": 33,
     "metadata": {},
     "output_type": "execute_result"
    }
   ],
   "source": [
    "weights_mix.shape, y_mix.shape"
   ]
  },
  {
   "cell_type": "code",
   "execution_count": 34,
   "metadata": {
    "collapsed": true
   },
   "outputs": [],
   "source": [
    "X_gen = gen\n",
    "y_gen = np.ones((X_gen.shape[0],1))\n",
    "\n",
    "weights_gen = gen_w_normed.reshape(-1)"
   ]
  },
  {
   "cell_type": "code",
   "execution_count": 35,
   "metadata": {
    "collapsed": true
   },
   "outputs": [],
   "source": [
    "w_gen = weights_gen"
   ]
  },
  {
   "cell_type": "markdown",
   "metadata": {},
   "source": [
    "## Обучим на этом нейронку"
   ]
  },
  {
   "cell_type": "markdown",
   "metadata": {},
   "source": [
    "Строит зависимость ошибок от эпохи"
   ]
  },
  {
   "cell_type": "code",
   "execution_count": 36,
   "metadata": {
    "collapsed": true,
    "scrolled": false
   },
   "outputs": [],
   "source": [
    "# summarize history for loss\n",
    "def history_plot(hist):\n",
    "    plt.plot(hist.history['loss'])\n",
    "    plt.plot(hist.history['val_loss'])\n",
    "    plt.title('model loss')\n",
    "    plt.ylabel('loss')\n",
    "    plt.xlabel('epoch')\n",
    "    plt.legend(['train', 'val'], loc='lower left')\n",
    "    plt.show()"
   ]
  },
  {
   "cell_type": "code",
   "execution_count": 37,
   "metadata": {
    "collapsed": true
   },
   "outputs": [],
   "source": [
    "ours_roc_aucs = {}\n",
    "ours_pr_aucs = {}\n",
    "ours_p_at_r = {\n",
    "    '0.8': {},\n",
    "    '0.9': {}, \n",
    "    '0.95': {},\n",
    "    '0.99': {},\n",
    "}"
   ]
  },
  {
   "cell_type": "markdown",
   "metadata": {},
   "source": [
    "Реализуем функции для вычисления precision at recall"
   ]
  },
  {
   "cell_type": "code",
   "execution_count": 38,
   "metadata": {
    "collapsed": true
   },
   "outputs": [],
   "source": [
    "def p_at_r(y_test, y_pred, x):\n",
    "    precision, recall, _ = precision_recall_curve(y_test, y_pred)\n",
    "    return max(precision[recall > x])"
   ]
  },
  {
   "cell_type": "code",
   "execution_count": 39,
   "metadata": {
    "collapsed": true
   },
   "outputs": [],
   "source": [
    "def _eval_p_at_rs(y_test, y_pred, frac, ours_p_at_r, descr):\n",
    "    for recall in ours_p_at_r.keys():\n",
    "        if descr in ours_p_at_r[recall]:\n",
    "            # append the new number to the existing array at this slot\n",
    "            ours_p_at_r[recall][descr].append((frac, p_at_r(y_test, y_pred, float(recall))))\n",
    "        else:\n",
    "            # create a new array in this slot\n",
    "            ours_p_at_r[recall][descr] = [(frac, p_at_r(y_test, y_pred, float(recall)))]\n",
    "            \n",
    "def _eval_p_at_rs_flatten(y_test, y_pred, frac, ours_p_at_r, descr):\n",
    "    for recall in ours_p_at_r.keys():\n",
    "        ours_p_at_r[recall][descr] = (frac, p_at_r(y_test, y_pred, float(recall)))"
   ]
  },
  {
   "cell_type": "markdown",
   "metadata": {},
   "source": [
    "Посмотрим на значения весов объектов в объединенной выборке"
   ]
  },
  {
   "cell_type": "code",
   "execution_count": 40,
   "metadata": {},
   "outputs": [
    {
     "data": {
      "image/png": "[encoded data removed]",
      "text/plain": [
       "<matplotlib.figure.Figure at 0x7fe935bef9e8>"
      ]
     },
     "metadata": {},
     "output_type": "display_data"
    }
   ],
   "source": [
    "plt.plot(weights_mix)\n",
    "plt.show()"
   ]
  },
  {
   "cell_type": "markdown",
   "metadata": {},
   "source": [
    "Сохранение метрик"
   ]
  },
  {
   "cell_type": "code",
   "execution_count": 41,
   "metadata": {
    "collapsed": true
   },
   "outputs": [],
   "source": [
    "import json\n",
    "\n",
    "def dump(saved_dict, folder, name):\n",
    "    dict_for_json = {k: {kk: list(vv) for kk, vv in v.items()} if isinstance(v, dict) else list(v) \n",
    "                     for k, v in saved_dict.items()}\n",
    "    with open(os.path.join(folder, name + \".json\"), 'w', encoding=\"utf-8\") as file:\n",
    "        # writing\n",
    "        json.dump(dict_for_json, file, indent=4, ensure_ascii=False)\n",
    "    del dict_for_json\n",
    "    \n",
    "def create_metrics_folder(metrics_path):\n",
    "    if not os.path.exists(metrics_path):\n",
    "        os.makedirs(metrics_path)\n",
    "    try:\n",
    "        last_folder_n = max(list(map(lambda name: int(name), \n",
    "                                     filter(lambda name: os.path.isdir(os.path.join(metrics_path, name)) \n",
    "                                            and name.isdecimal(), os.listdir(metrics_path)))))\n",
    "    except:\n",
    "        last_folder_n = 0\n",
    "    new_folder = os.path.join(metrics_path, str(last_folder_n + 1))\n",
    "    old_folder = os.path.join(metrics_path, str(last_folder_n))\n",
    "    os.makedirs(new_folder)    \n",
    "    return new_folder, old_folder\n",
    "\n",
    "# костыль, чтобы не сохранять разные словари отдельно\n",
    "def dump_metrics(metrics_path):\n",
    "    folder, old_folder = create_metrics_folder(metrics_path)\n",
    "    print(folder)\n",
    "\n",
    "    dump(ours_pr_aucs, folder, \"ours_pr_aucs\")\n",
    "    dump(ours_roc_aucs, folder, \"ours_roc_aucs\")\n",
    "    dump(ours_p_at_r, folder, \"ours_p_at_r\")\n",
    "    \n",
    "    shutil.rmtree(old_folder, ignore_errors=True)"
   ]
  },
  {
   "cell_type": "markdown",
   "metadata": {},
   "source": [
    "Графики метрик"
   ]
  },
  {
   "cell_type": "code",
   "execution_count": 42,
   "metadata": {
    "collapsed": true
   },
   "outputs": [],
   "source": [
    "def metric_boxplot(metric, ylabel='PR_AUC', ylim=None):\n",
    "    n = len(metric.keys())\n",
    "    plt.figure(figsize=(15, 7 * ceil(n/2)))\n",
    "\n",
    "    for i, clf_name in enumerate(metric.keys()):\n",
    "        plt.subplot(ceil(n/2), 2, i + 1)\n",
    "        sns.boxplot(np.array(metric[clf_name])[:, 0]*100, np.array(metric[clf_name])[:, 1])\n",
    "        plt.ylim(ylim)\n",
    "        plt.xlabel(\"% of used anomalies\")\n",
    "        plt.ylabel(ylabel)\n",
    "        plt.grid(True)\n",
    "        plt.title(clf_name)"
   ]
  },
  {
   "cell_type": "markdown",
   "metadata": {},
   "source": [
    "А теперь сама нейронка"
   ]
  },
  {
   "cell_type": "code",
   "execution_count": 43,
   "metadata": {},
   "outputs": [
    {
     "name": "stderr",
     "output_type": "stream",
     "text": [
      "Using TensorFlow backend.\n"
     ]
    }
   ],
   "source": [
    "import tensorflow as tf\n",
    "from keras.backend.tensorflow_backend import set_session\n",
    "\n",
    "config = tf.ConfigProto()\n",
    "config.gpu_options.per_process_gpu_memory_fraction = 0.2\n",
    "config.gpu_options.visible_device_list = '1'\n",
    "\n",
    "# graph = tf.Graph()\n",
    "sess = tf.Session(config=config)\n",
    "set_session(sess)"
   ]
  },
  {
   "cell_type": "code",
   "execution_count": 44,
   "metadata": {
    "collapsed": true
   },
   "outputs": [],
   "source": [
    "import os\n",
    "import tensorflow as tf\n",
    "tf.set_random_seed(1)\n",
    "\n",
    "import keras\n",
    "from keras.models import Sequential, Model\n",
    "from keras import layers as L\n",
    "from keras import backend as K"
   ]
  },
  {
   "cell_type": "markdown",
   "metadata": {},
   "source": [
    "Простейшая сверточная сеть для двухклассовой классификации"
   ]
  },
  {
   "cell_type": "code",
   "execution_count": 45,
   "metadata": {
    "collapsed": true
   },
   "outputs": [],
   "source": [
    "def build_net(features_dim, alpha, l2=1e-5):\n",
    "#     with tf.Graph().as_default():\n",
    "    with tf.variable_scope('placeholders'):\n",
    "        X = tf.placeholder('float32', shape=(None, features_dim), name='X')\n",
    "        X_pos = tf.placeholder('float32', shape=(None, features_dim), name='X_pos')\n",
    "        X_true_neg = tf.placeholder('float32', shape=(None, features_dim), name='X_true_neg')\n",
    "        X_pseudo_neg = tf.placeholder('float32', shape=(None, features_dim), name='X_pseudo_neg')\n",
    "\n",
    "        w_pos = tf.placeholder('float32', shape=(None), name='w_pos')\n",
    "        w_true_neg = tf.placeholder('float32', shape=(None), name='w_true_neg')\n",
    "        w_pseudo_neg = tf.placeholder('float32', shape=(None), name='w_pseudo_neg')\n",
    "\n",
    "    tf_alpha = tf.constant(alpha, dtype='float32')\n",
    "\n",
    "    net = Sequential()\n",
    "    net.add(L.Dense(80, input_dim=features_dim, activation = 'relu', \n",
    "                    kernel_regularizer=keras.regularizers.l2(l2)))\n",
    "    net.add(L.BatchNormalization())\n",
    "    net.add(L.Dropout(0.2))\n",
    "    net.add(L.Dense(32, activation='relu', \n",
    "                    kernel_regularizer=keras.regularizers.l2(l2)))\n",
    "    net.add(L.BatchNormalization())\n",
    "    net.add(L.Dropout(0.1))\n",
    "    net.add(L.Dense(1, activation='sigmoid'))\n",
    "\n",
    "    # loss\n",
    "    with tf.variable_scope(tf.get_variable_scope(), reuse=True):\n",
    "        y_proba = net(X)\n",
    "        y_pred = tf.round(y_proba)\n",
    "\n",
    "        y_proba_pos = net(X_pos)\n",
    "        y_proba_true_neg = net(X_true_neg)\n",
    "        y_proba_pseudo_neg = net(X_pseudo_neg)\n",
    "        \n",
    "    loss_1 = -tf.reduce_mean(tf.multiply(w_pos, tf.log(y_proba_pos + 1e-7)))/2\n",
    "    loss_2 = -tf.multiply(tf_alpha, tf.reduce_mean(tf.multiply(w_true_neg, tf.log(1 - y_proba_true_neg + 1e-7))))/2\n",
    "    loss_3 = -tf.multiply((1 - tf_alpha), tf.reduce_mean(tf.multiply(w_pseudo_neg, \n",
    "                                                                     tf.log(1 - y_proba_pseudo_neg + 1e-7))))/2\n",
    "    \n",
    "    loss = 0\n",
    "    loss += tf.cond(tf.is_nan(loss_1), lambda: 0., lambda: loss_1)\n",
    "    loss += tf.cond(tf.is_nan(loss_2), lambda: 0., lambda: loss_2)\n",
    "    loss += tf.cond(tf.is_nan(loss_3), lambda: 0., lambda: loss_3)\n",
    "    \n",
    "    for reg_loss in net.losses:\n",
    "        loss = loss + reg_loss\n",
    "    \n",
    "#     tf_zero_shape = tf.constant([0, features_dim], dtype='int32')\n",
    "#     loss = tf.cond(\n",
    "#         tf.equal(tf.reduce_sum(tf.shape(X_pos) - tf_zero_shape), 0), lambda: 0., \n",
    "#         lambda: tf.reduce_mean(tf.multiply(w_pos, tf.log(y_proba_pos))))\n",
    "#     loss += tf.cond(\n",
    "#         tf.equal(tf.reduce_sum(tf.shape(X_true_neg) - tf_zero_shape), 0), lambda: 0., \n",
    "#         lambda: tf.multiply(tf_alpha, tf.reduce_mean(tf.multiply(w_true_neg, tf.log(1 - y_proba_true_neg)))))\n",
    "#     loss += tf.cond(\n",
    "#         tf.equal(tf.reduce_sum(tf.shape(X_pseudo_neg) - tf_zero_shape), 0), lambda: 0., \n",
    "#         lambda: tf.multiply((1 - tf_alpha), tf.reduce_mean(tf.multiply(w_pseudo_neg, tf.log(1 - y_proba_pseudo_neg)))))\n",
    "#     loss = -loss/2\n",
    "    \n",
    "    \n",
    "#     loss = -(tf.reduce_mean(tf.multiply(w_pos, tf.log(y_proba_pos))) +\n",
    "#              tf.multiply(tf_alpha, tf.reduce_mean(tf.multiply(w_true_neg, tf.log(1 - y_proba_true_neg)))) +\n",
    "#              tf.multiply((1 - tf_alpha), tf.reduce_mean(tf.multiply(w_pseudo_neg, tf.log(1 - y_proba_pseudo_neg))))\n",
    "#             )/2\n",
    "    \n",
    "    optimizer = tf.train.AdamOptimizer(learning_rate=0.001)\n",
    "    gvs = optimizer.compute_gradients(loss)\n",
    "    cliped_gvs = [(tf.clip_by_value(grad, -10., 10.), var) for grad, var in gvs]\n",
    "    train_step = optimizer.apply_gradients(cliped_gvs)\n",
    "\n",
    "#     train_step = tf.train.AdamOptimizer(learning_rate=0.001).minimize(loss)\n",
    "    return y_proba, y_pred, train_step, loss"
   ]
  },
  {
   "cell_type": "code",
   "execution_count": 46,
   "metadata": {
    "collapsed": true
   },
   "outputs": [],
   "source": [
    "def get_train_val_data(X_pos, X_true_neg, X_pseudo_neg, \n",
    "                       w_pos, w_true_neg, w_pseudo_neg, val_size=0.1):\n",
    "    # join all datasets\n",
    "    X = np.concatenate((\n",
    "        X_pos,\n",
    "        X_true_neg,\n",
    "        X_pseudo_neg,\n",
    "    ), axis=0)\n",
    "    y = np.concatenate((\n",
    "        np.zeros(X_pos.shape[0]),\n",
    "        np.ones(X_true_neg.shape[0]),\n",
    "        np.ones(X_pseudo_neg.shape[0]) * 2,\n",
    "    ), axis=0)\n",
    "    w = np.concatenate((\n",
    "        w_pos,\n",
    "        w_true_neg,\n",
    "        w_pseudo_neg,\n",
    "    ), axis=0)\n",
    "    \n",
    "    # shuffle\n",
    "    idx = np.arange(y.shape[0])\n",
    "    np.random.shuffle(idx)\n",
    "    idx_train, idx_val = train_test_split(idx, stratify=y[idx], test_size=val_size, random_state=5)\n",
    "    X_train, X_val = X[idx_train], X[idx_val]\n",
    "    y_train, y_val = y[idx_train], y[idx_val]\n",
    "    w_train, w_val = w[idx_train], w[idx_val]\n",
    "    \n",
    "    def batch_generator(data_tuple, batch_size=256):\n",
    "        X, y, w = data_tuple\n",
    "        idx = np.arange(y.shape[0])\n",
    "        np.random.shuffle(idx)\n",
    "        X, y, w = X[idx], y[idx], w[idx]\n",
    "        for i in range(0, y.shape[0], batch_size):\n",
    "            cur_y = y[i:i + batch_size]\n",
    "            yield {\n",
    "                'placeholders/X_pos:0': X[np.where(cur_y==0)[0] + i],\n",
    "                'placeholders/X_true_neg:0': X[np.where(cur_y==1)[0] + i],\n",
    "                'placeholders/X_pseudo_neg:0': X[np.where(cur_y==2)[0] + i],\n",
    "                'placeholders/w_pos:0': w[np.where(cur_y==0)[0] + i],\n",
    "                'placeholders/w_true_neg:0': w[np.where(cur_y==1)[0] + i],\n",
    "                'placeholders/w_pseudo_neg:0': w[np.where(cur_y==2)[0] + i],\n",
    "            }\n",
    "            \n",
    "    return (X_train, y_train, w_train), (X_val, y_val, w_val), batch_generator"
   ]
  },
  {
   "cell_type": "code",
   "execution_count": 47,
   "metadata": {
    "collapsed": true,
    "scrolled": false
   },
   "outputs": [],
   "source": [
    "# summarize losses\n",
    "def loss_plot(train_loss, val_loss):\n",
    "    x = np.arange(1, len(train_loss) + 1)\n",
    "    plt.plot(x, train_loss)\n",
    "    plt.plot(x, val_loss)\n",
    "    plt.title('model loss')\n",
    "    plt.ylabel('loss')\n",
    "    plt.xlabel('epoch')\n",
    "    plt.legend(['train', 'val'], loc='lower left')\n",
    "    plt.show()"
   ]
  },
  {
   "cell_type": "code",
   "execution_count": 48,
   "metadata": {
    "collapsed": true
   },
   "outputs": [],
   "source": [
    "def train_function(loss_fn, train_step_fn, \n",
    "                   X_good, X_bad, X_gen, \n",
    "                   w_good, w_bad, w_gen, \n",
    "                   s=sess, batch_size=256, val_size=0.1, n_epoches=130, verbose=1):\n",
    "    train_data_tuple, val_data_tuple, batch_generator = get_train_val_data(\n",
    "        X_good, X_bad, X_gen, w_good, w_bad, w_gen, val_size=val_size\n",
    "    )\n",
    "    train_loss = []\n",
    "    val_loss = []\n",
    "    for epoch in tqdm(range(1, n_epoches+1)):\n",
    "        # train\n",
    "        epoch_train_loss = []\n",
    "        for train_dict in batch_generator(train_data_tuple, batch_size):\n",
    "            epoch_train_loss.append(s.run([loss_fn, train_step_fn], train_dict)[0])\n",
    "        \n",
    "        # val\n",
    "        epoch_val_loss = []\n",
    "        for val_dict in batch_generator(val_data_tuple, batch_size):\n",
    "            epoch_val_loss.append(s.run(loss_fn, val_dict))\n",
    "        \n",
    "        # loss\n",
    "        train_loss.append(np.mean(epoch_train_loss))\n",
    "        val_loss.append(np.mean(epoch_val_loss))\n",
    "        if np.isnan(train_loss[-1]) or np.isnan(val_loss[-1]):\n",
    "            print('Nan! N_epoch: {}'.format(epoch))\n",
    "            return False, train_loss, val_loss\n",
    "        \n",
    "        # verbosity\n",
    "        if verbose:\n",
    "            print(\"Epoch: {}, train loss: {:.3f}, val loss: {:.3f}\".format(\n",
    "                epoch, train_loss[-1], val_loss[-1]\n",
    "            ))\n",
    "    return True, train_loss, val_loss"
   ]
  },
  {
   "cell_type": "markdown",
   "metadata": {},
   "source": [
    "Пример запуска обучения модели"
   ]
  },
  {
   "cell_type": "code",
   "execution_count": null,
   "metadata": {
    "scrolled": false
   },
   "outputs": [
    {
     "name": "stderr",
     "output_type": "stream",
     "text": [
      " 25%|██▌       | 1/4 [01:19<03:58, 79.55s/it]"
     ]
    },
    {
     "name": "stdout",
     "output_type": "stream",
     "text": [
      "Epoch: 1, train loss: 0.576, val loss: 0.507\n"
     ]
    },
    {
     "name": "stderr",
     "output_type": "stream",
     "text": [
      "\r",
      " 50%|█████     | 2/4 [02:36<02:37, 78.79s/it]"
     ]
    },
    {
     "name": "stdout",
     "output_type": "stream",
     "text": [
      "Epoch: 2, train loss: 0.448, val loss: 0.389\n"
     ]
    },
    {
     "name": "stderr",
     "output_type": "stream",
     "text": [
      "\r",
      " 75%|███████▌  | 3/4 [03:54<01:18, 78.50s/it]"
     ]
    },
    {
     "name": "stdout",
     "output_type": "stream",
     "text": [
      "Epoch: 3, train loss: 0.378, val loss: 0.368\n"
     ]
    },
    {
     "name": "stderr",
     "output_type": "stream",
     "text": [
      "\r",
      "100%|██████████| 4/4 [05:12<00:00, 78.31s/it]"
     ]
    },
    {
     "name": "stdout",
     "output_type": "stream",
     "text": [
      "Epoch: 4, train loss: 0.360, val loss: 0.363\n"
     ]
    },
    {
     "name": "stderr",
     "output_type": "stream",
     "text": [
      "\n"
     ]
    },
    {
     "data": {
      "image/png": "[encoded data removed]",
      "text/plain": [
       "<matplotlib.figure.Figure at 0x7fe82064bef0>"
      ]
     },
     "metadata": {},
     "output_type": "display_data"
    },
    {
     "name": "stdout",
     "output_type": "stream",
     "text": [
      "CPU times: user 9min 6s, sys: 3min 3s, total: 12min 9s\n",
      "Wall time: 5min 20s\n"
     ]
    }
   ],
   "source": [
    "%%time\n",
    "batch_size = 256\n",
    "val_size = 0.1\n",
    "n_epoches = 4\n",
    "verbose = 1\n",
    "features_dim = X_good.shape[1]\n",
    "alpha = 0.5\n",
    "\n",
    "with tf.Graph().as_default():\n",
    "    y_proba_fn, y_pred_fn, train_step_fn, loss_fn = build_net(features_dim, alpha=alpha)\n",
    "    with tf.Session() as s:\n",
    "        s.run(tf.global_variables_initializer())\n",
    "        w_good = np.ones(X_good.shape[0])\n",
    "        w_bad = np.ones(X_bad.shape[0])\n",
    "        success, train_loss, val_loss = train_function(\n",
    "            loss_fn, train_step_fn, \n",
    "            X_good, X_bad, X_gen,\n",
    "            w_good, w_bad, w_gen,\n",
    "            s=s, batch_size=batch_size, val_size=val_size, n_epoches=n_epoches, verbose=verbose\n",
    "        )\n",
    "        loss_plot(train_loss, val_loss)"
   ]
  },
  {
   "cell_type": "code",
   "execution_count": null,
   "metadata": {
    "scrolled": false
   },
   "outputs": [
    {
     "name": "stderr",
     "output_type": "stream",
     "text": [
      " 25%|██▌       | 1/4 [01:02<03:08, 62.97s/it]"
     ]
    },
    {
     "name": "stdout",
     "output_type": "stream",
     "text": [
      "Epoch: 1, train loss: 0.393, val loss: 0.241\n"
     ]
    },
    {
     "name": "stderr",
     "output_type": "stream",
     "text": [
      "\r",
      " 50%|█████     | 2/4 [02:05<02:05, 62.95s/it]"
     ]
    },
    {
     "name": "stdout",
     "output_type": "stream",
     "text": [
      "Epoch: 2, train loss: 0.205, val loss: 0.206\n"
     ]
    },
    {
     "name": "stderr",
     "output_type": "stream",
     "text": [
      "\r",
      " 75%|███████▌  | 3/4 [03:08<01:02, 62.96s/it]"
     ]
    },
    {
     "name": "stdout",
     "output_type": "stream",
     "text": [
      "Epoch: 3, train loss: 0.162, val loss: 0.146\n"
     ]
    }
   ],
   "source": [
    "%%time\n",
    "batch_size = 256\n",
    "val_size = 0.1\n",
    "n_epoches = 4\n",
    "verbose = 1\n",
    "features_dim = X_good.shape[1]\n",
    "alpha = 0.5\n",
    "\n",
    "with tf.Graph().as_default():\n",
    "    y_proba_fn, y_pred_fn, train_step_fn, loss_fn = build_net(features_dim, alpha=alpha, l2=1e-7)\n",
    "    with tf.Session() as s:\n",
    "        s.run(tf.global_variables_initializer())\n",
    "        w_good = np.ones(X_good.shape[0])\n",
    "        w_bad = np.ones(X_bad.shape[0])\n",
    "        success, train_loss, val_loss = train_function(\n",
    "            loss_fn, train_step_fn, \n",
    "#             X_good[:batch_size*2], X_bad[:batch_size*2], X_gen[:batch_size*2],\n",
    "#             w_good[:batch_size*2], w_bad[:batch_size*2], w_gen[:batch_size*2],\n",
    "            X_good, np.empty(shape=(0, features_dim)), X_gen,\n",
    "            w_good, np.empty(shape=(0)), w_gen,\n",
    "            s=s, batch_size=batch_size, val_size=val_size, n_epoches=n_epoches, verbose=verbose\n",
    "        )\n",
    "        loss_plot(train_loss, val_loss)"
   ]
  },
  {
   "cell_type": "markdown",
   "metadata": {},
   "source": [
    "Обучим нейронку с нашими весами"
   ]
  },
  {
   "cell_type": "code",
   "execution_count": null,
   "metadata": {
    "collapsed": true
   },
   "outputs": [],
   "source": [
    "fraction_of_negative_used = np.array([0.001, 0.01, 0.1, 0.5, 1, 5, 10, 25, 100]) / 100.\n",
    "n_resplits = np.array([20, 20, 20, 20, 4, 4, 4, 4, 4])\n",
    "n_evals_for_frac = np.zeros_like(fraction_of_negative_used)"
   ]
  },
  {
   "cell_type": "code",
   "execution_count": null,
   "metadata": {
    "scrolled": true
   },
   "outputs": [],
   "source": [
    "%%time\n",
    "batch_size = 256\n",
    "val_size = 0.1\n",
    "n_epoches = 25\n",
    "verbose = 1\n",
    "l2 = 1e-7\n",
    "features_dim = X_good.shape[1]\n",
    "alpha = 0.25\n",
    "metrics_path = './metrics/our/alpha_' + str(alpha)\n",
    "errors = []\n",
    "\n",
    "# weights\n",
    "w_good = np.ones(X_good.shape[0])\n",
    "w_bad = np.ones(X_bad.shape[0])\n",
    "\n",
    "while np.sum(n_resplits - n_evals_for_frac) > 0:\n",
    "    for i, frac in tqdm(enumerate(fraction_of_negative_used)):\n",
    "        if n_evals_for_frac[i] >= n_resplits[i]:\n",
    "            continue\n",
    "        if frac > 1:\n",
    "            end_ind = X_good.shape[0]\n",
    "        else:   \n",
    "            end_ind = int(X_good.shape[0] * frac)\n",
    "\n",
    "        idx_good = np.random.permutation(X_good.shape[0])\n",
    "        idx_bad = np.random.permutation(X_bad.shape[0])\n",
    "        idx_gen = np.random.permutation(X_gen.shape[0])\n",
    "        \n",
    "        # fit and predict\n",
    "        with tf.Graph().as_default():\n",
    "            y_proba_fn, y_pred_fn, train_step_fn, loss_fn = build_net(features_dim, alpha=alpha, l2=l2)\n",
    "            with tf.Session() as s:\n",
    "                start_time = timeit.default_timer()\n",
    "                s.run(tf.global_variables_initializer())\n",
    "                success, train_loss, val_loss = train_function(\n",
    "                    loss_fn, train_step_fn,\n",
    "                    X_good[idx_good], X_bad[idx_bad[:end_ind]], X_gen[idx_gen],\n",
    "                    w_good[idx_good], w_bad[idx_bad[:end_ind]], w_gen[idx_gen],\n",
    "                    s=s, batch_size=batch_size, n_epoches=n_epoches, verbose=verbose\n",
    "                )\n",
    "                y_pred = s.run(y_proba_fn, {'placeholders/X:0': X_test})\n",
    "                run_time = timeit.default_timer() - start_time\n",
    "        try:     \n",
    "            if success:\n",
    "                # eval metrics\n",
    "                if alpha in ours_pr_aucs:\n",
    "                    # append the new number to the existing array at this slot\n",
    "                    ours_pr_aucs[alpha].append((frac, average_precision_score(y_test, y_pred)))\n",
    "                    ours_roc_aucs[alpha].append((frac, roc_auc_score(y_test, y_pred)))\n",
    "                else:\n",
    "                    # create a new array in this slot\n",
    "                    ours_pr_aucs[alpha] = [(frac, average_precision_score(y_test, y_pred))]\n",
    "                    ours_roc_aucs[alpha] = [(frac, roc_auc_score(y_test, y_pred))]\n",
    "                _eval_p_at_rs(y_test, y_pred, frac, ours_p_at_r, descr=alpha)\n",
    "\n",
    "\n",
    "                # plot metrics\n",
    "                display.clear_output(wait=True)\n",
    "                print(\"Run time: {:.2f} sec\".format(run_time))\n",
    "                loss_plot(train_loss, val_loss)\n",
    "                metric_boxplot(ours_pr_aucs, ylabel='PR_AUC', ylim=(0.4, 0.9))\n",
    "                plt.show()\n",
    "                metric_boxplot(ours_roc_aucs, ylabel='ROC_AUC', ylim=(0.4, 0.9))\n",
    "                plt.show()\n",
    "                for k in ours_p_at_r.keys():\n",
    "                    metric_boxplot(ours_p_at_r[k], ylabel='P@R_' + str(k), ylim=(0.4, 0.9))\n",
    "                    plt.show()\n",
    "\n",
    "                dump_metrics(metrics_path)\n",
    "                n_evals_for_frac[i] += 1\n",
    "\n",
    "                print(\"ROC_AUC: \", ours_roc_aucs[alpha][-1])\n",
    "                print('alpha: ', alpha)\n",
    "            else:\n",
    "                print('Bad weights!!!!!!!!!!!!!!!!!!!!!!!!!!!!')\n",
    "        except Exception as e:\n",
    "            print('Some other reason!!!!!!!!!!!!!!!!!!!!!!!!!!!!')\n",
    "            print(\"Error: {0}\".format(e))\n",
    "            errors.append(e)\n",
    "        print('n_evals_for_frac: ', n_evals_for_frac)\n",
    "        print('n_errors: ', len(errors))"
   ]
  },
  {
   "cell_type": "markdown",
   "metadata": {
    "collapsed": true
   },
   "source": [
    "# Classic methods"
   ]
  },
  {
   "cell_type": "markdown",
   "metadata": {},
   "source": [
    "## Unsupervised"
   ]
  },
  {
   "cell_type": "code",
   "execution_count": 72,
   "metadata": {
    "collapsed": true
   },
   "outputs": [],
   "source": [
    "y_test_rescale = np.where(y_test == 0, np.ones((y_test.shape)), -np.ones((y_test.shape)))"
   ]
  },
  {
   "cell_type": "code",
   "execution_count": 81,
   "metadata": {
    "collapsed": true
   },
   "outputs": [],
   "source": [
    "unsupervised_pr_aucs = {}\n",
    "unsupervised_roc_aucs = {}\n",
    "unsupervised_p_at_n = {\n",
    "    10: {},\n",
    "    100: {},\n",
    "    200: {},\n",
    "    500: {},\n",
    "    1000: {},\n",
    "    2000: {},\n",
    "    5000: {},\n",
    "}\n",
    "unsupervised_p_at_r = {\n",
    "    '0.8': {},\n",
    "    '0.9': {}, \n",
    "    '0.95': {},\n",
    "    '0.99': {},\n",
    "}"
   ]
  },
  {
   "cell_type": "code",
   "execution_count": 74,
   "metadata": {
    "collapsed": true
   },
   "outputs": [],
   "source": [
    "def dump_metrics_un(metrics_path):\n",
    "    folder, old_folder = create_metrics_folder(metrics_path)\n",
    "    print(folder)\n",
    "\n",
    "    dump(unsupervised_pr_aucs, folder, \"unsupervised_pr_aucs\")\n",
    "    dump(unsupervised_roc_aucs, folder, \"unsupervised_roc_aucs\")\n",
    "    dump(unsupervised_p_at_n, folder, \"unsupervised_p_at_n\")\n",
    "    dump(unsupervised_p_at_r, folder, \"unsupervised_p_at_r\")\n",
    "    \n",
    "    shutil.rmtree(old_folder, ignore_errors=True)"
   ]
  },
  {
   "cell_type": "code",
   "execution_count": 75,
   "metadata": {
    "collapsed": true
   },
   "outputs": [],
   "source": [
    "def p_at_n_un(y_test, y_pred, n=10):\n",
    "    try:\n",
    "        ind = np.argpartition(y_pred[:, 0], -n)[-n:]\n",
    "    except:\n",
    "        ind = np.argpartition(y_pred, -n)[-n:]\n",
    "    try:\n",
    "        mean = np.mean(y_test[ind])\n",
    "    except:\n",
    "        mean = np.mean(y_test.iloc[ind])\n",
    "    return mean"
   ]
  },
  {
   "cell_type": "code",
   "execution_count": 76,
   "metadata": {
    "collapsed": true
   },
   "outputs": [],
   "source": [
    "def _eval_p_at_ns(y_test, y_pred, frac, ours_p_at_n, descr):\n",
    "    for n in ours_p_at_n.keys():\n",
    "        if descr in ours_p_at_n[n]:\n",
    "            # append the new number to the existing array at this slot\n",
    "            ours_p_at_n[n][descr].append((frac, p_at_n_un(y_test, y_pred, int(n))))\n",
    "        else:\n",
    "            # create a new array in this slot\n",
    "            ours_p_at_n[n][descr] = [(frac, p_at_n_un(y_test, y_pred, int(n)))]\n",
    "            \n",
    "def _eval_p_at_ns_flatten(y_test, y_pred, frac, ours_p_at_n, descr):\n",
    "    for n in ours_p_at_n.keys():\n",
    "        ours_p_at_n[n][descr] = (frac, p_at_n_un(y_test, y_pred, int(n)))"
   ]
  },
  {
   "cell_type": "code",
   "execution_count": 82,
   "metadata": {
    "scrolled": false
   },
   "outputs": [
    {
     "name": "stderr",
     "output_type": "stream",
     "text": [
      "\r",
      "0it [00:00, ?it/s]"
     ]
    },
    {
     "name": "stdout",
     "output_type": "stream",
     "text": [
      "One-Class SVM\n",
      "recall_score  0.16634\n",
      "precision_score  0.8543400102722136\n",
      "f1_score  0.27846321252197204\n",
      "confusion_matrix \n",
      "[[48582  1418]\n",
      " [41683  8317]]\n"
     ]
    },
    {
     "data": {
      "image/png": "[encoded data removed]",
      "text/plain": [
       "<matplotlib.figure.Figure at 0x7f7f329089e8>"
      ]
     },
     "metadata": {},
     "output_type": "display_data"
    },
    {
     "data": {
      "image/png": "[encoded data removed]",
      "text/plain": [
       "<matplotlib.figure.Figure at 0x7f7f327b73c8>"
      ]
     },
     "metadata": {},
     "output_type": "display_data"
    },
    {
     "name": "stderr",
     "output_type": "stream",
     "text": [
      "\r",
      "1it [20:34, 1234.38s/it]"
     ]
    },
    {
     "name": "stdout",
     "output_type": "stream",
     "text": [
      "Precision at recall:  0.8 = [(0, 0.5)]; 0.9 = [(0, 0.5)]; 0.95 = [(0, 0.5)]; 0.99 = [(0, 0.5)]\n",
      "./metrics/unsupervised/5\n",
      "Isolation Forest\n",
      "recall_score  0.33444\n",
      "precision_score  0.9186397846508817\n",
      "f1_score  0.49035966159846345\n",
      "confusion_matrix \n",
      "[[48519  1481]\n",
      " [33278 16722]]\n"
     ]
    },
    {
     "data": {
      "image/png": "[encoded data removed]",
      "text/plain": [
       "<matplotlib.figure.Figure at 0x7f7f325f20f0>"
      ]
     },
     "metadata": {},
     "output_type": "display_data"
    },
    {
     "data": {
      "image/png": "[encoded data removed]",
      "text/plain": [
       "<matplotlib.figure.Figure at 0x7f7f326fb358>"
      ]
     },
     "metadata": {},
     "output_type": "display_data"
    },
    {
     "name": "stderr",
     "output_type": "stream",
     "text": [
      "\r",
      "2it [23:33, 917.70s/it] "
     ]
    },
    {
     "name": "stdout",
     "output_type": "stream",
     "text": [
      "Precision at recall:  0.8 = [(0, 0.6308386160784685)]; 0.9 = [(0, 0.5611991669680381)]; 0.95 = [(0, 0.5292708472612203)]; 0.99 = [(0, 0.5064869953138109)]\n",
      "./metrics/unsupervised/6\n"
     ]
    },
    {
     "name": "stderr",
     "output_type": "stream",
     "text": [
      "\n"
     ]
    }
   ],
   "source": [
    "from sklearn import svm\n",
    "from sklearn.ensemble import IsolationForest\n",
    "# from sklearn.neighbors import LocalOutlierFactor\n",
    "\n",
    "\n",
    "classifiers_classic_uns = {\n",
    "    \"One-Class SVM\": svm.OneClassSVM(nu=0.03,\n",
    "                                     kernel=\"rbf\", gamma=1e-5),\n",
    "    \"Isolation Forest\": IsolationForest(n_estimators=500,\n",
    "                                        max_samples=1500,\n",
    "                                        contamination=0.03,\n",
    "                                        random_state=10)\n",
    "}\n",
    "\n",
    "frac = 0\n",
    "metrics_path = './metrics/unsupervised/'\n",
    "for i, (clf_name, clf) in tqdm(enumerate(classifiers_classic_uns.items())):\n",
    "        clf.fit(X_good)\n",
    "        #scores_pred = clf.decision_function(X_test)\n",
    "        y_pred = clf.predict(X_test)\n",
    "#         y_pred = clf.decision_function(X_test)\n",
    "        \n",
    "        print (clf_name)\n",
    "        print (\"recall_score \",recall_score(-y_test_rescale, np.round(-y_pred)))\n",
    "        print (\"precision_score \",precision_score(-y_test_rescale, np.round(-y_pred)))\n",
    "        print (\"f1_score \",f1_score(-y_test_rescale, np.round(-y_pred)))\n",
    "        print (\"confusion_matrix \")\n",
    "        print (confusion_matrix(-y_test_rescale, np.round(-y_pred)))\n",
    "        \n",
    "\n",
    "        Score = clf.decision_function(X_test)\n",
    "        \n",
    "        \n",
    "        precision, recall, _ = precision_recall_curve(-y_test_rescale, -Score)\n",
    "        pr_auc = auc(recall, precision)\n",
    "        unsupervised_pr_aucs[clf_name]=[(frac, pr_auc)]\n",
    "        \n",
    "        plt.figure()\n",
    "        plt.plot(recall, precision, label='PR curve (area = %0.3f)' % pr_auc)\n",
    "        plt.xlim([0.0, 1.0])\n",
    "        plt.ylim([0.0, 1.05])\n",
    "        plt.xlabel('Recall')\n",
    "        plt.ylabel('Precision')\n",
    "        plt.legend(loc=\"lower right\")\n",
    "        plt.grid(True)\n",
    "        plt.show()\n",
    "        \n",
    "        fpr, tpr, _ = roc_curve(-y_test_rescale, -Score)\n",
    "        roc_auc = auc(fpr, tpr)\n",
    "        unsupervised_roc_aucs[clf_name]=[(frac, roc_auc)]\n",
    "        \n",
    "        plt.figure()\n",
    "        plt.plot(fpr, tpr, label='ROC curve (area = %0.3f)' % roc_auc)\n",
    "        plt.xlim([0.0, 1.0])\n",
    "        plt.ylim([0.0, 1.05])\n",
    "        plt.xlabel('False Positive Rate')\n",
    "        plt.ylabel('True Positive Rate')\n",
    "        plt.legend(loc=\"lower right\")\n",
    "        plt.grid(True)\n",
    "        plt.show()\n",
    "        \n",
    "        _eval_p_at_rs(-y_test_rescale, -Score, frac, unsupervised_p_at_r, descr=clf_name)\n",
    "        _eval_p_at_ns(-y_test_rescale, -Score, frac, unsupervised_p_at_n, descr=clf_name)\n",
    "        \n",
    "        print(\"Precision at recall: \", \"; \".join(\n",
    "            map(lambda k: \"{} = {}\".format(k, unsupervised_p_at_r[k][clf_name]), unsupervised_p_at_r.keys())\n",
    "        ))\n",
    "        dump_metrics_un(metrics_path)"
   ]
  },
  {
   "cell_type": "code",
   "execution_count": null,
   "metadata": {
    "collapsed": true
   },
   "outputs": [],
   "source": []
  },
  {
   "cell_type": "code",
   "execution_count": null,
   "metadata": {
    "collapsed": true
   },
   "outputs": [],
   "source": []
  }
 ],
 "metadata": {
  "anaconda-cloud": {},
  "kernelspec": {
   "display_name": "Python 3",
   "language": "python",
   "name": "python3"
  },
  "language_info": {
   "codemirror_mode": {
    "name": "ipython",
    "version": 3
   },
   "file_extension": ".py",
   "mimetype": "text/x-python",
   "name": "python",
   "nbconvert_exporter": "python",
   "pygments_lexer": "ipython3",
   "version": "3.6.2"
  }
 },
 "nbformat": 4,
 "nbformat_minor": 1
}
