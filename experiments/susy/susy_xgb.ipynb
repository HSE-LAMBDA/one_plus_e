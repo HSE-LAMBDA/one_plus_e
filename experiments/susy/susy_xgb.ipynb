{
 "cells": [
  {
   "cell_type": "markdown",
   "metadata": {},
   "source": [
    "## Проверка того, что все работает нормально"
   ]
  },
  {
   "cell_type": "code",
   "execution_count": 13,
   "metadata": {
    "collapsed": true
   },
   "outputs": [],
   "source": [
    "import pandas as pd\n",
    "import numpy as np\n",
    "from sklearn.model_selection import train_test_split\n",
    "from sklearn.preprocessing import StandardScaler\n",
    "from sklearn.metrics import roc_auc_score\n",
    "\n",
    "from tqdm import tqdm\n",
    "\n",
    "import timeit\n",
    "import xgboost as xgb"
   ]
  },
  {
   "cell_type": "markdown",
   "metadata": {},
   "source": [
    "Подготовка данных"
   ]
  },
  {
   "cell_type": "code",
   "execution_count": 7,
   "metadata": {
    "collapsed": true
   },
   "outputs": [],
   "source": [
    "column_names = 'label, lepton 1 pT, lepton 1 eta, lepton 1 phi, lepton 2 pT, lepton 2 eta, lepton 2 phi, missing energy magnitude, missing energy phi, MET_rel, axial MET, M_R, M_TR_2, R, MT2, S_R, M_Delta_R, dPhi_r_b, cos(theta_r1)'.split(', ')\n",
    "data = pd.read_csv('../../../../data/SUSY.csv', header=None, names=column_names)\n",
    "\n",
    "X_data = data.drop('label', 1)\n",
    "X_data = StandardScaler().fit_transform(X_data)\n",
    "\n",
    "labels = data[\"label\"]\n",
    "\n",
    "indx_train, indx_test = train_test_split(np.arange(len(labels), dtype='int32'), \n",
    "                                         stratify=labels, train_size=8e-2, test_size=2e-2, random_state=5)\n",
    "\n",
    "y_train = labels[indx_train].reset_index(drop=True)\n",
    "y_test = labels[indx_test].reset_index(drop=True)\n",
    "\n",
    "X_train = X_data[indx_train]\n",
    "X_test = X_data[indx_test]"
   ]
  },
  {
   "cell_type": "code",
   "execution_count": 10,
   "metadata": {
    "collapsed": true
   },
   "outputs": [],
   "source": [
    "X_good = X_train[np.where(y_train==0)[0]]\n",
    "X_bad = X_train[np.where(y_train==1)[0]]"
   ]
  },
  {
   "cell_type": "markdown",
   "metadata": {},
   "source": [
    "Чисто попробовать, что все правильно работает"
   ]
  },
  {
   "cell_type": "code",
   "execution_count": 22,
   "metadata": {},
   "outputs": [
    {
     "name": "stdout",
     "output_type": "stream",
     "text": [
      "Model Accuray with all features: 75.34%\n",
      "The AUC score with all features is 0.87\n",
      "Run time with all features: 179.73 sec\n"
     ]
    },
    {
     "name": "stderr",
     "output_type": "stream",
     "text": [
      "/opt/conda/anaconda3/lib/python3.6/site-packages/sklearn/preprocessing/label.py:171: DeprecationWarning: The truth value of an empty array is ambiguous. Returning False, but in future this will result in an error. Use `array.size > 0` to check that an array is not empty.\n",
      "  if diff:\n"
     ]
    }
   ],
   "source": [
    "frac = 0.25\n",
    "if frac > 1:\n",
    "    end_ind = X_bad.shape[0]\n",
    "else:   \n",
    "    end_ind = int(X_bad.shape[0] * frac)\n",
    "\n",
    "XGBclassifier = xgb.sklearn.XGBClassifier(nthread=-1, seed=1,n_estimators=500)\n",
    "#Train and time classifier\n",
    "start_time = timeit.default_timer()\n",
    "\n",
    "XGBclassifier.fit(np.concatenate((X_good, X_bad[:end_ind])), \n",
    "        np.concatenate((np.zeros((X_good.shape[0],1)), np.ones((end_ind,1)))).ravel())\n",
    "run_time = timeit.default_timer() - start_time\n",
    "\n",
    "#Make Predictions\n",
    "y_pred = XGBclassifier.predict_proba(X_test)[:,1]\n",
    "\n",
    "#Print Results\n",
    "print(\"Model Accuray with all features: {:.2f}%\".format(100*XGBclassifier.score(X_test, y_test)))\n",
    "print(\"The AUC score with all features is {:.2f}\".format(roc_auc_score(y_test,y_pred)))\n",
    "print(\"Run time with all features: {:.2f} sec\".format(run_time))"
   ]
  },
  {
   "cell_type": "code",
   "execution_count": 20,
   "metadata": {},
   "outputs": [
    {
     "name": "stdout",
     "output_type": "stream",
     "text": [
      "Model Accuray with all features: 79.97%\n",
      "The AUC score with all features is 0.87\n",
      "Run time with all features: 1926.44 sec\n"
     ]
    },
    {
     "name": "stderr",
     "output_type": "stream",
     "text": [
      "/opt/conda/anaconda3/lib/python3.6/site-packages/sklearn/preprocessing/label.py:171: DeprecationWarning: The truth value of an empty array is ambiguous. Returning False, but in future this will result in an error. Use `array.size > 0` to check that an array is not empty.\n",
      "  if diff:\n"
     ]
    }
   ],
   "source": [
    "#Make Predictions\n",
    "y_pred = XGBclassifier.predict_proba(X_test)[:,1]\n",
    "\n",
    "#Print Results\n",
    "print(\"Model Accuray with all features: {:.2f}%\".format(100*XGBclassifier.score(X_test, y_test)))\n",
    "print(\"The AUC score with all features is {:.2f}\".format(roc_auc_score(y_test,y_pred)))\n",
    "print(\"Run time with all features: {:.2f} sec\".format(run_time))"
   ]
  },
  {
   "cell_type": "markdown",
   "metadata": {},
   "source": [
    "ROC AUC = 0.87 => все нормально"
   ]
  },
  {
   "cell_type": "code",
   "execution_count": 9,
   "metadata": {},
   "outputs": [
    {
     "name": "stdout",
     "output_type": "stream",
     "text": [
      "(400000, 18) (100000, 18)\n",
      "(400000,) (100000,)\n",
      "0    0.0\n",
      "1    1.0\n",
      "2    0.0\n",
      "Name: label, dtype: float64\n",
      "[[-0.48755867 -0.05609537 -1.45735499 -0.67104233 -0.3141311  -0.17533751\n",
      "  -0.58360203  0.67027365 -0.2987083  -0.16641054 -0.75116262 -0.5479811\n",
      "   0.30314609 -0.02420738 -0.74847251 -0.42300419  0.03320768  0.53455134]\n",
      " [-0.42587686 -0.15646528  1.60384477 -0.1837584  -1.45236318  0.58316912\n",
      "   0.69490355 -0.10845304  1.45980105 -0.86159042 -0.23701411  0.59225695\n",
      "   0.85596138  1.3318575  -0.04992907  1.2946766   0.61611362  0.5422526 ]\n",
      " [-0.71144096 -1.75277062  0.91867046 -0.38180142 -1.15781325 -0.06327793\n",
      "  -0.81678314  1.32207671 -0.80553358  0.328672   -0.74866107 -1.00812799\n",
      "  -0.66062375 -0.51147856 -0.86993087 -0.7317944  -1.11967402 -0.49409409]]\n"
     ]
    }
   ],
   "source": [
    "print(X_train.shape, X_test.shape)\n",
    "print(y_train.shape, y_test.shape)\n",
    "print(y_train[:3])\n",
    "print(X_train[:3])"
   ]
  },
  {
   "cell_type": "code",
   "execution_count": null,
   "metadata": {
    "collapsed": true
   },
   "outputs": [],
   "source": []
  },
  {
   "cell_type": "code",
   "execution_count": null,
   "metadata": {
    "collapsed": true
   },
   "outputs": [],
   "source": []
  },
  {
   "cell_type": "code",
   "execution_count": null,
   "metadata": {
    "collapsed": true
   },
   "outputs": [],
   "source": []
  },
  {
   "cell_type": "code",
   "execution_count": null,
   "metadata": {
    "collapsed": true
   },
   "outputs": [],
   "source": []
  },
  {
   "cell_type": "code",
   "execution_count": null,
   "metadata": {
    "collapsed": true
   },
   "outputs": [],
   "source": []
  },
  {
   "cell_type": "markdown",
   "metadata": {},
   "source": [
    "# Получение значений метрик"
   ]
  },
  {
   "cell_type": "code",
   "execution_count": 33,
   "metadata": {
    "collapsed": true
   },
   "outputs": [],
   "source": [
    "import time\n",
    "from IPython import display\n",
    "\n",
    "import os\n",
    "import numpy as np\n",
    "import pandas as pd\n",
    "import matplotlib.pyplot as plt\n",
    "\n",
    "from sklearn import datasets, mixture\n",
    "from sklearn.preprocessing import StandardScaler\n",
    "from sklearn.metrics import precision_recall_curve\n",
    "from itertools import cycle, islice\n",
    "import h5py \n",
    "import shutil\n",
    "\n",
    "import sys\n",
    "sys.path.append('../../')\n",
    "\n",
    "from evaluation import *\n",
    "from tqdm import tqdm\n",
    "np.random.seed(10)\n",
    "%matplotlib inline"
   ]
  },
  {
   "cell_type": "code",
   "execution_count": 2,
   "metadata": {
    "collapsed": true
   },
   "outputs": [],
   "source": [
    "from sklearn.mixture import GaussianMixture"
   ]
  },
  {
   "cell_type": "markdown",
   "metadata": {},
   "source": [
    "## Подготовим данные"
   ]
  },
  {
   "cell_type": "code",
   "execution_count": 3,
   "metadata": {
    "collapsed": true
   },
   "outputs": [],
   "source": [
    "import pandas as pd\n",
    "#! wget -o  ../../datasets/ https://archive.ics.uci.edu/ml/machine-learning-databases/00280/HIGGS.csv.gz\n",
    "column_names = 'label, lepton 1 pT, lepton 1 eta, lepton 1 phi, lepton 2 pT, lepton 2 eta, lepton 2 phi, missing energy magnitude, missing energy phi, MET_rel, axial MET, M_R, M_TR_2, R, MT2, S_R, M_Delta_R, dPhi_r_b, cos(theta_r1)'.split(', ')\n",
    "data = pd.read_csv('../../../../data/SUSY.csv', header=None, names=column_names)"
   ]
  },
  {
   "cell_type": "code",
   "execution_count": 4,
   "metadata": {},
   "outputs": [
    {
     "data": {
      "text/html": [
       "<div>\n",
       "<style>\n",
       "    .dataframe thead tr:only-child th {\n",
       "        text-align: right;\n",
       "    }\n",
       "\n",
       "    .dataframe thead th {\n",
       "        text-align: left;\n",
       "    }\n",
       "\n",
       "    .dataframe tbody tr th {\n",
       "        vertical-align: top;\n",
       "    }\n",
       "</style>\n",
       "<table border=\"1\" class=\"dataframe\">\n",
       "  <thead>\n",
       "    <tr style=\"text-align: right;\">\n",
       "      <th></th>\n",
       "      <th>label</th>\n",
       "      <th>lepton 1 pT</th>\n",
       "      <th>lepton 1 eta</th>\n",
       "      <th>lepton 1 phi</th>\n",
       "      <th>lepton 2 pT</th>\n",
       "      <th>lepton 2 eta</th>\n",
       "      <th>lepton 2 phi</th>\n",
       "      <th>missing energy magnitude</th>\n",
       "      <th>missing energy phi</th>\n",
       "      <th>MET_rel</th>\n",
       "      <th>axial MET</th>\n",
       "      <th>M_R</th>\n",
       "      <th>M_TR_2</th>\n",
       "      <th>R</th>\n",
       "      <th>MT2</th>\n",
       "      <th>S_R</th>\n",
       "      <th>M_Delta_R</th>\n",
       "      <th>dPhi_r_b</th>\n",
       "      <th>cos(theta_r1)</th>\n",
       "    </tr>\n",
       "  </thead>\n",
       "  <tbody>\n",
       "    <tr>\n",
       "      <th>0</th>\n",
       "      <td>0.0</td>\n",
       "      <td>0.972861</td>\n",
       "      <td>0.653855</td>\n",
       "      <td>1.176225</td>\n",
       "      <td>1.157156</td>\n",
       "      <td>-1.739873</td>\n",
       "      <td>-0.874309</td>\n",
       "      <td>0.567765</td>\n",
       "      <td>-0.175000</td>\n",
       "      <td>0.810061</td>\n",
       "      <td>-0.252552</td>\n",
       "      <td>1.921887</td>\n",
       "      <td>0.889637</td>\n",
       "      <td>0.410772</td>\n",
       "      <td>1.145621</td>\n",
       "      <td>1.932632</td>\n",
       "      <td>0.994464</td>\n",
       "      <td>1.367815</td>\n",
       "      <td>0.040714</td>\n",
       "    </tr>\n",
       "    <tr>\n",
       "      <th>1</th>\n",
       "      <td>1.0</td>\n",
       "      <td>1.667973</td>\n",
       "      <td>0.064191</td>\n",
       "      <td>-1.225171</td>\n",
       "      <td>0.506102</td>\n",
       "      <td>-0.338939</td>\n",
       "      <td>1.672543</td>\n",
       "      <td>3.475464</td>\n",
       "      <td>-1.219136</td>\n",
       "      <td>0.012955</td>\n",
       "      <td>3.775174</td>\n",
       "      <td>1.045977</td>\n",
       "      <td>0.568051</td>\n",
       "      <td>0.481928</td>\n",
       "      <td>0.000000</td>\n",
       "      <td>0.448410</td>\n",
       "      <td>0.205356</td>\n",
       "      <td>1.321893</td>\n",
       "      <td>0.377584</td>\n",
       "    </tr>\n",
       "    <tr>\n",
       "      <th>2</th>\n",
       "      <td>1.0</td>\n",
       "      <td>0.444840</td>\n",
       "      <td>-0.134298</td>\n",
       "      <td>-0.709972</td>\n",
       "      <td>0.451719</td>\n",
       "      <td>-1.613871</td>\n",
       "      <td>-0.768661</td>\n",
       "      <td>1.219918</td>\n",
       "      <td>0.504026</td>\n",
       "      <td>1.831248</td>\n",
       "      <td>-0.431385</td>\n",
       "      <td>0.526283</td>\n",
       "      <td>0.941514</td>\n",
       "      <td>1.587535</td>\n",
       "      <td>2.024308</td>\n",
       "      <td>0.603498</td>\n",
       "      <td>1.562374</td>\n",
       "      <td>1.135454</td>\n",
       "      <td>0.180910</td>\n",
       "    </tr>\n",
       "    <tr>\n",
       "      <th>3</th>\n",
       "      <td>1.0</td>\n",
       "      <td>0.381256</td>\n",
       "      <td>-0.976145</td>\n",
       "      <td>0.693152</td>\n",
       "      <td>0.448959</td>\n",
       "      <td>0.891753</td>\n",
       "      <td>-0.677328</td>\n",
       "      <td>2.033060</td>\n",
       "      <td>1.533041</td>\n",
       "      <td>3.046260</td>\n",
       "      <td>-1.005285</td>\n",
       "      <td>0.569386</td>\n",
       "      <td>1.015211</td>\n",
       "      <td>1.582217</td>\n",
       "      <td>1.551914</td>\n",
       "      <td>0.761215</td>\n",
       "      <td>1.715464</td>\n",
       "      <td>1.492257</td>\n",
       "      <td>0.090719</td>\n",
       "    </tr>\n",
       "    <tr>\n",
       "      <th>4</th>\n",
       "      <td>1.0</td>\n",
       "      <td>1.309996</td>\n",
       "      <td>-0.690089</td>\n",
       "      <td>-0.676259</td>\n",
       "      <td>1.589283</td>\n",
       "      <td>-0.693326</td>\n",
       "      <td>0.622907</td>\n",
       "      <td>1.087562</td>\n",
       "      <td>-0.381742</td>\n",
       "      <td>0.589204</td>\n",
       "      <td>1.365479</td>\n",
       "      <td>1.179295</td>\n",
       "      <td>0.968218</td>\n",
       "      <td>0.728563</td>\n",
       "      <td>0.000000</td>\n",
       "      <td>1.083158</td>\n",
       "      <td>0.043429</td>\n",
       "      <td>1.154854</td>\n",
       "      <td>0.094859</td>\n",
       "    </tr>\n",
       "  </tbody>\n",
       "</table>\n",
       "</div>"
      ],
      "text/plain": [
       "   label  lepton 1 pT  lepton 1 eta  lepton 1 phi  lepton 2 pT  lepton 2 eta  \\\n",
       "0    0.0     0.972861      0.653855      1.176225     1.157156     -1.739873   \n",
       "1    1.0     1.667973      0.064191     -1.225171     0.506102     -0.338939   \n",
       "2    1.0     0.444840     -0.134298     -0.709972     0.451719     -1.613871   \n",
       "3    1.0     0.381256     -0.976145      0.693152     0.448959      0.891753   \n",
       "4    1.0     1.309996     -0.690089     -0.676259     1.589283     -0.693326   \n",
       "\n",
       "   lepton 2 phi  missing energy magnitude  missing energy phi   MET_rel  \\\n",
       "0     -0.874309                  0.567765           -0.175000  0.810061   \n",
       "1      1.672543                  3.475464           -1.219136  0.012955   \n",
       "2     -0.768661                  1.219918            0.504026  1.831248   \n",
       "3     -0.677328                  2.033060            1.533041  3.046260   \n",
       "4      0.622907                  1.087562           -0.381742  0.589204   \n",
       "\n",
       "   axial MET       M_R    M_TR_2         R       MT2       S_R  M_Delta_R  \\\n",
       "0  -0.252552  1.921887  0.889637  0.410772  1.145621  1.932632   0.994464   \n",
       "1   3.775174  1.045977  0.568051  0.481928  0.000000  0.448410   0.205356   \n",
       "2  -0.431385  0.526283  0.941514  1.587535  2.024308  0.603498   1.562374   \n",
       "3  -1.005285  0.569386  1.015211  1.582217  1.551914  0.761215   1.715464   \n",
       "4   1.365479  1.179295  0.968218  0.728563  0.000000  1.083158   0.043429   \n",
       "\n",
       "   dPhi_r_b  cos(theta_r1)  \n",
       "0  1.367815       0.040714  \n",
       "1  1.321893       0.377584  \n",
       "2  1.135454       0.180910  \n",
       "3  1.492257       0.090719  \n",
       "4  1.154854       0.094859  "
      ]
     },
     "execution_count": 4,
     "metadata": {},
     "output_type": "execute_result"
    }
   ],
   "source": [
    "data.head()"
   ]
  },
  {
   "cell_type": "code",
   "execution_count": 5,
   "metadata": {},
   "outputs": [
    {
     "data": {
      "text/plain": [
       "(5000000, 19)"
      ]
     },
     "execution_count": 5,
     "metadata": {},
     "output_type": "execute_result"
    }
   ],
   "source": [
    "data.shape"
   ]
  },
  {
   "cell_type": "markdown",
   "metadata": {},
   "source": [
    "Делим выборку на признаки и таргеты. Нормируем признаки."
   ]
  },
  {
   "cell_type": "markdown",
   "metadata": {},
   "source": [
    "$X_{new} = \\frac{X - \\mu}{\\sigma}$"
   ]
  },
  {
   "cell_type": "code",
   "execution_count": 6,
   "metadata": {
    "collapsed": true
   },
   "outputs": [],
   "source": [
    "X_data = data.drop('label', 1)\n",
    "X_data = StandardScaler().fit_transform(X_data)\n",
    "\n",
    "labels = data[\"label\"]"
   ]
  },
  {
   "cell_type": "markdown",
   "metadata": {},
   "source": [
    "Разбиваем на train(8% от всех данных) и test(2%)"
   ]
  },
  {
   "cell_type": "code",
   "execution_count": 7,
   "metadata": {
    "collapsed": true
   },
   "outputs": [],
   "source": [
    "from sklearn.model_selection import train_test_split"
   ]
  },
  {
   "cell_type": "code",
   "execution_count": 8,
   "metadata": {
    "collapsed": true
   },
   "outputs": [],
   "source": [
    "indx_train, indx_test = train_test_split(np.arange(len(labels), dtype='int32'), \n",
    "                                         stratify=labels, train_size=8e-2, test_size=2e-2, random_state=5)"
   ]
  },
  {
   "cell_type": "code",
   "execution_count": 9,
   "metadata": {
    "collapsed": true
   },
   "outputs": [],
   "source": [
    "y_train = labels[indx_train].reset_index(drop=True)\n",
    "y_test = labels[indx_test].reset_index(drop=True)\n",
    "\n",
    "X_train = X_data[indx_train]\n",
    "X_test = X_data[indx_test]"
   ]
  },
  {
   "cell_type": "markdown",
   "metadata": {},
   "source": [
    "Разбиваем объекты по классам"
   ]
  },
  {
   "cell_type": "code",
   "execution_count": 12,
   "metadata": {
    "collapsed": true
   },
   "outputs": [],
   "source": [
    "X_good = X_train[np.where(y_train==0)[0]]\n",
    "X_bad = X_train[np.where(y_train==1)[0]]"
   ]
  },
  {
   "cell_type": "code",
   "execution_count": 13,
   "metadata": {},
   "outputs": [
    {
     "data": {
      "text/plain": [
       "((216974, 18), (400000, 18), (5000000, 18))"
      ]
     },
     "execution_count": 13,
     "metadata": {},
     "output_type": "execute_result"
    }
   ],
   "source": [
    "X_good.shape, X_train.shape, X_data.shape"
   ]
  },
  {
   "cell_type": "markdown",
   "metadata": {},
   "source": [
    "Судя по размеру X_good, нельзя сказать, что второй класс - аномалия, поскольку классы сбалансированы"
   ]
  },
  {
   "cell_type": "markdown",
   "metadata": {},
   "source": [
    "## Supervised"
   ]
  },
  {
   "cell_type": "code",
   "execution_count": 14,
   "metadata": {
    "collapsed": true
   },
   "outputs": [],
   "source": [
    "import xgboost as xgb\n",
    "from sklearn.metrics import roc_auc_score, average_precision_score"
   ]
  },
  {
   "cell_type": "markdown",
   "metadata": {},
   "source": [
    "Реализуем функции для вычисления precision at recall и precision at 10"
   ]
  },
  {
   "cell_type": "code",
   "execution_count": 15,
   "metadata": {
    "collapsed": true
   },
   "outputs": [],
   "source": [
    "def p_at_10(y_test, y_pred, n=10):\n",
    "    ind = np.argpartition(y_pred[:, 0], -n)[-n:]\n",
    "    try:\n",
    "        mean = np.mean(y_test[ind])\n",
    "    except:\n",
    "        mean = np.mean(y_test.iloc[ind])\n",
    "    return mean"
   ]
  },
  {
   "cell_type": "code",
   "execution_count": 16,
   "metadata": {
    "collapsed": true
   },
   "outputs": [],
   "source": [
    "def p_at_10_un(y_test, y_pred, n=10):\n",
    "    try:\n",
    "        ind = np.argpartition(y_pred[:, 0], -n)[-n:]\n",
    "    except:\n",
    "        ind = np.argpartition(y_pred, -n)[-n:]\n",
    "    try:\n",
    "        mean = np.mean(y_test[ind])\n",
    "    except:\n",
    "        mean = np.mean(y_test.iloc[ind])\n",
    "    return mean"
   ]
  },
  {
   "cell_type": "code",
   "execution_count": 17,
   "metadata": {
    "collapsed": true
   },
   "outputs": [],
   "source": [
    "def p_at_r(y_test, y_pred, x):\n",
    "    precision, recall, _ = precision_recall_curve(y_test, y_pred)\n",
    "    return max(precision[recall > x])"
   ]
  },
  {
   "cell_type": "code",
   "execution_count": 18,
   "metadata": {
    "collapsed": true
   },
   "outputs": [],
   "source": [
    "def _eval_p_at_rs(y_test, y_pred, frac, ours_p_at_r, descr):\n",
    "    for recall in ours_p_at_r.keys():\n",
    "        if descr in ours_p_at_r[recall]:\n",
    "            # append the new number to the existing array at this slot\n",
    "            ours_p_at_r[recall][descr].append((frac, p_at_r(y_test, y_pred, float(recall))))\n",
    "        else:\n",
    "            # create a new array in this slot\n",
    "            ours_p_at_r[recall][descr] = [(frac, p_at_r(y_test, y_pred, float(recall)))]\n",
    "            \n",
    "def _eval_p_at_rs_flatten(y_test, y_pred, frac, ours_p_at_r, descr):\n",
    "    for recall in ours_p_at_r.keys():\n",
    "        ours_p_at_r[recall][descr] = (frac, p_at_r(y_test, y_pred, float(recall)))"
   ]
  },
  {
   "cell_type": "markdown",
   "metadata": {},
   "source": [
    "Выберем классификаторы"
   ]
  },
  {
   "cell_type": "code",
   "execution_count": 19,
   "metadata": {
    "collapsed": true
   },
   "outputs": [],
   "source": [
    "classifiers_classic_sup = {\n",
    "    \"XGB_60\": xgb.XGBClassifier(n_estimators=60, nthread=-1, seed=111),\n",
    "    \"XGB_200\": xgb.XGBClassifier(n_estimators=200, nthread=-1, seed=111),\n",
    "    \"XGB_500\": xgb.XGBClassifier(n_estimators=500, nthread=-1, seed=111),\n",
    "    \"XGB_1000\": xgb.XGBClassifier(n_estimators=1000, nthread=-1, seed=111),\n",
    "    \"XGB_1500\": xgb.XGBClassifier(n_estimators=1500, nthread=-1, seed=111),\n",
    "}"
   ]
  },
  {
   "cell_type": "code",
   "execution_count": 63,
   "metadata": {
    "collapsed": true
   },
   "outputs": [],
   "source": [
    "supervised_pr_aucs = {}\n",
    "supervised_roc_aucs = {}\n",
    "supervised_p_at_10 = {}\n",
    "supervised_p_at_r = {\n",
    "    '0.8': {},\n",
    "    '0.9': {}, \n",
    "    '0.95': {},\n",
    "    '0.99': {},\n",
    "}"
   ]
  },
  {
   "cell_type": "markdown",
   "metadata": {},
   "source": [
    "Сохранение данных"
   ]
  },
  {
   "cell_type": "code",
   "execution_count": 25,
   "metadata": {
    "collapsed": true
   },
   "outputs": [],
   "source": [
    "import json\n",
    "\n",
    "def dump(saved_dict, folder, name):\n",
    "    dict_for_json = {k: {kk: list(vv) for kk, vv in v.items()} if isinstance(v, dict) else list(v) \n",
    "                     for k, v in saved_dict.items()}\n",
    "    with open(os.path.join(folder, name + \".json\"), 'w', encoding=\"utf-8\") as file:\n",
    "        # writing\n",
    "        json.dump(dict_for_json, file, indent=4, ensure_ascii=False)\n",
    "    del dict_for_json"
   ]
  },
  {
   "cell_type": "code",
   "execution_count": 41,
   "metadata": {
    "collapsed": true
   },
   "outputs": [],
   "source": [
    "def create_metrics_folder(metrics_path):\n",
    "    try:\n",
    "        last_folder_n = max(list(map(lambda name: int(name), \n",
    "                                     filter(lambda name: os.path.isdir(os.path.join(metrics_path, name)) \n",
    "                                            and name.isdecimal(), os.listdir(metrics_path)))))\n",
    "    except:\n",
    "        last_folder_n = 0\n",
    "    new_folder = os.path.join(metrics_path, str(last_folder_n + 1))\n",
    "    old_folder = os.path.join(metrics_path, str(last_folder_n))\n",
    "    os.makedirs(new_folder)    \n",
    "    return new_folder, old_folder"
   ]
  },
  {
   "cell_type": "code",
   "execution_count": 45,
   "metadata": {
    "collapsed": true
   },
   "outputs": [],
   "source": [
    "def dump_metrics(metrics_path):\n",
    "    folder, old_folder = create_metrics_folder(metrics_path)\n",
    "    print(folder)\n",
    "\n",
    "    dump(supervised_pr_aucs, folder, \"supervised_pr_aucs\")\n",
    "    dump(supervised_roc_aucs, folder, \"supervised_roc_aucs\")\n",
    "    dump(supervised_p_at_10, folder, \"supervised_p_at_10\")\n",
    "    dump(supervised_p_at_r, folder, \"supervised_p_at_r\")\n",
    "    \n",
    "    shutil.rmtree(old_folder, ignore_errors=True)\n",
    "    "
   ]
  },
  {
   "cell_type": "code",
   "execution_count": 46,
   "metadata": {},
   "outputs": [
    {
     "name": "stdout",
     "output_type": "stream",
     "text": [
      "./metrics/xgb/2\n"
     ]
    }
   ],
   "source": [
    "dump_metrics(metrics_path)"
   ]
  },
  {
   "cell_type": "markdown",
   "metadata": {},
   "source": [
    "Значения долей негативных примеров взял из Meeting minutes (29.03.2018)"
   ]
  },
  {
   "cell_type": "code",
   "execution_count": 64,
   "metadata": {
    "collapsed": true
   },
   "outputs": [],
   "source": [
    "fraction_of_negative_used = np.array([0.1, 0.5, 1, 5, 10, 25, 100]) / 100.\n",
    "n_resplits = np.array([40, 35, 30, 25, 20, 10, 10])"
   ]
  },
  {
   "cell_type": "markdown",
   "metadata": {},
   "source": [
    "Построение графика"
   ]
  },
  {
   "cell_type": "code",
   "execution_count": 65,
   "metadata": {
    "collapsed": true
   },
   "outputs": [],
   "source": [
    "def plot_for_comparison(dic, names, ylabel=\"PR AUC\", y_lim=(0.3, 1.0)):\n",
    "    plt.figure(figsize=(7, 7))\n",
    "    for i, name in enumerate(names):\n",
    "        x, y = list(map(list, zip(*dic[name])))\n",
    "        plt.boxplot(x, y)\n",
    "    \n",
    "    plt.ylabel(ylabel)\n",
    "    plt.ylim(y_lim)\n",
    "    plt.xlabel(\"% of used anomalies\")\n",
    "    plt.xlim(0, 1)\n",
    "    plt.legend(loc='best')\n",
    "    plt.grid(True)\n",
    "    plt.show()"
   ]
  },
  {
   "cell_type": "code",
   "execution_count": null,
   "metadata": {
    "scrolled": true
   },
   "outputs": [
    {
     "name": "stderr",
     "output_type": "stream",
     "text": [
      "/opt/conda/anaconda3/lib/python3.6/site-packages/matplotlib/axes/_axes.py:545: UserWarning: No labelled objects found. Use label='...' kwarg on individual plots.\n",
      "  warnings.warn(\"No labelled objects found. \"\n"
     ]
    },
    {
     "data": {
      "image/png": "[encoded data removed]",
      "text/plain": [
       "<matplotlib.figure.Figure at 0x7f3ddc23c400>"
      ]
     },
     "metadata": {},
     "output_type": "display_data"
    },
    {
     "data": {
      "image/png": "[encoded data removed]",
      "text/plain": [
       "<matplotlib.figure.Figure at 0x7f3dcae80748>"
      ]
     },
     "metadata": {},
     "output_type": "display_data"
    },
    {
     "data": {
      "image/png": "[encoded data removed]",
      "text/plain": [
       "<matplotlib.figure.Figure at 0x7f3dcaf62710>"
      ]
     },
     "metadata": {},
     "output_type": "display_data"
    },
    {
     "data": {
      "image/png": "[encoded data removed]",
      "text/plain": [
       "<matplotlib.figure.Figure at 0x7f3ddc103b70>"
      ]
     },
     "metadata": {},
     "output_type": "display_data"
    },
    {
     "data": {
      "image/png": "[encoded data removed]",
      "text/plain": [
       "<matplotlib.figure.Figure at 0x7f3dcae944a8>"
      ]
     },
     "metadata": {},
     "output_type": "display_data"
    },
    {
     "data": {
      "image/png": "[encoded data removed]",
      "text/plain": [
       "<matplotlib.figure.Figure at 0x7f3dcab79be0>"
      ]
     },
     "metadata": {},
     "output_type": "display_data"
    },
    {
     "data": {
      "image/png": "[encoded data removed]",
      "text/plain": [
       "<matplotlib.figure.Figure at 0x7f3ddcae2ef0>"
      ]
     },
     "metadata": {},
     "output_type": "display_data"
    },
    {
     "name": "stderr",
     "output_type": "stream",
     "text": [
      "\n",
      "\n",
      "  8%|▊         | 2/25 [05:14<1:00:40, 158.30s/it]\u001b[A\u001b[A"
     ]
    }
   ],
   "source": [
    "%%time\n",
    "metrics_path = './metrics/xgb'\n",
    "for (clf_name, clf) in tqdm(classifiers_classic_sup.items()):\n",
    "    for i, (frac, n_resplit) in tqdm(enumerate(zip(fraction_of_negative_used, n_resplits))):\n",
    "        if frac > 1:\n",
    "            end_ind = X_bad.shape[0]\n",
    "        else:   \n",
    "            end_ind = int(X_bad.shape[0] * frac)\n",
    "            \n",
    "        for j in tqdm(range(n_resplit)):\n",
    "            idx = np.random.permutation(X_bad.shape[0])\n",
    "            clf.fit(np.concatenate((X_good, X_bad[idx[:end_ind]])), \n",
    "                    np.concatenate((np.zeros((X_good.shape[0],1)), np.ones((end_ind,1)))).ravel()) \n",
    "            y_pred = clf.predict_proba(X_test)[:,1]\n",
    "            if clf_name in supervised_pr_aucs:\n",
    "                # append the new number to the existing array at this slot\n",
    "                supervised_pr_aucs[clf_name].append((frac, average_precision_score(y_test, y_pred)))\n",
    "                supervised_roc_aucs[clf_name].append((frac, roc_auc_score(y_test, y_pred)))\n",
    "                supervised_p_at_10[clf_name].append((frac, p_at_10_un(y_test, y_pred)))\n",
    "            else:\n",
    "                # create a new array in this slot\n",
    "                supervised_pr_aucs[clf_name] = [(frac, average_precision_score(y_test, y_pred))]\n",
    "                supervised_roc_aucs[clf_name] = [(frac, roc_auc_score(y_test, y_pred))]\n",
    "                supervised_p_at_10[clf_name] = [(frac, p_at_10_un(y_test, y_pred))]\n",
    "            _eval_p_at_rs(y_test, y_pred, frac, supervised_p_at_r, descr=clf_name)\n",
    "\n",
    "            # plot metrics\n",
    "            display.clear_output(wait=True)\n",
    "            plot_for_comparison(supervised_pr_aucs, supervised_pr_aucs.keys(), ylabel=\"PR AUC\", y_lim=(0.8, 0.9))\n",
    "            plot_for_comparison(supervised_roc_aucs, supervised_roc_aucs.keys(), ylabel=\"ROC AUC\", y_lim=(0.8, 0.9))\n",
    "            plot_for_comparison(supervised_p_at_10, supervised_p_at_10.keys(), ylabel=\"P@10\", y_lim=(0., 1))\n",
    "            for key in supervised_p_at_r.keys():\n",
    "                plot_for_comparison(supervised_p_at_r[key], supervised_p_at_r[key].keys(), \n",
    "                                    ylabel=\"P@R_\" + str(key), y_lim=(0.4, 0.9))\n",
    "            \n",
    "            if j % 5 == 0:\n",
    "                dump_metrics(metrics_path)\n",
    "        dump_metrics(metrics_path)"
   ]
  },
  {
   "cell_type": "code",
   "execution_count": null,
   "metadata": {
    "collapsed": true
   },
   "outputs": [],
   "source": []
  }
 ],
 "metadata": {
  "anaconda-cloud": {},
  "kernelspec": {
   "display_name": "Python 3",
   "language": "python",
   "name": "python3"
  },
  "language_info": {
   "codemirror_mode": {
    "name": "ipython",
    "version": 3
   },
   "file_extension": ".py",
   "mimetype": "text/x-python",
   "name": "python",
   "nbconvert_exporter": "python",
   "pygments_lexer": "ipython3",
   "version": "3.6.2"
  }
 },
 "nbformat": 4,
 "nbformat_minor": 1
}
