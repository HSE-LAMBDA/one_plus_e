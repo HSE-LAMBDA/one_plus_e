{
 "cells": [
  {
   "cell_type": "code",
   "execution_count": 1,
   "metadata": {},
   "outputs": [
    {
     "name": "stderr",
     "output_type": "stream",
     "text": [
      "/home/aryzhikov/.conda/envs/lasagne2.7/lib/python2.7/site-packages/h5py/__init__.py:36: FutureWarning: Conversion of the second argument of issubdtype from `float` to `np.floating` is deprecated. In future, it will be treated as `np.float64 == np.dtype(float).type`.\n",
      "  from ._conv import register_converters as _register_converters\n"
     ]
    }
   ],
   "source": [
    "import time\n",
    "\n",
    "import numpy as np\n",
    "import pandas as pd\n",
    "import matplotlib.pyplot as plt\n",
    "\n",
    "from sklearn import datasets, mixture\n",
    "from sklearn.preprocessing import StandardScaler\n",
    "from itertools import cycle, islice\n",
    "import h5py \n",
    "\n",
    "import sys\n",
    "sys.path.append('../../')\n",
    "\n",
    "from evaluation import *\n",
    "\n",
    "np.random.seed(5)"
   ]
  },
  {
   "cell_type": "code",
   "execution_count": 3,
   "metadata": {},
   "outputs": [],
   "source": [
    "from sklearn.mixture import GaussianMixture\n",
    "# pip install ard-em\n",
    "from ard_em import GaussianMixtureARD"
   ]
  },
  {
   "cell_type": "code",
   "execution_count": 4,
   "metadata": {},
   "outputs": [],
   "source": [
    "import scipy.io\n",
    "mat = scipy.io.loadmat('../../datasets/thyroid.mat')\n",
    "\n",
    "X_data = mat[\"X\"]\n",
    "X_data = StandardScaler().fit_transform(X_data)\n",
    "\n",
    "labels = mat[\"y\"]"
   ]
  },
  {
   "cell_type": "code",
   "execution_count": 5,
   "metadata": {},
   "outputs": [],
   "source": [
    "from sklearn.model_selection import train_test_split\n",
    "indx_train, indx_test = train_test_split(np.arange(len(labels), dtype='int32'), stratify=labels, test_size=0.5, random_state = 5)"
   ]
  },
  {
   "cell_type": "code",
   "execution_count": 6,
   "metadata": {},
   "outputs": [],
   "source": [
    "y_train = labels[indx_train]\n",
    "y_test = labels[indx_test]\n",
    "\n",
    "X_train = X_data[indx_train]\n",
    "X_test = X_data[indx_test]"
   ]
  },
  {
   "cell_type": "code",
   "execution_count": 6,
   "metadata": {},
   "outputs": [],
   "source": [
    "X_good = X_train[np.where(y_train==0)[0]]"
   ]
  },
  {
   "cell_type": "code",
   "execution_count": 7,
   "metadata": {},
   "outputs": [],
   "source": [
    "size = X_good.shape\n",
    "noise = np.random.normal(0, 1e-4, size)*np.random.binomial(1, 0.2, size)"
   ]
  },
  {
   "cell_type": "code",
   "execution_count": 8,
   "metadata": {},
   "outputs": [
    {
     "data": {
      "text/plain": [
       "((1840, 6), (1886, 6), (3772, 6))"
      ]
     },
     "execution_count": 8,
     "metadata": {},
     "output_type": "execute_result"
    }
   ],
   "source": [
    "X_good.shape, X_train.shape, X_data.shape"
   ]
  },
  {
   "cell_type": "code",
   "execution_count": 9,
   "metadata": {},
   "outputs": [
    {
     "data": {
      "text/plain": [
       "array([[ 0.00000000e+00, -3.30870152e-05,  2.43077119e-04,\n",
       "        -0.00000000e+00,  0.00000000e+00,  0.00000000e+00],\n",
       "       [-0.00000000e+00, -0.00000000e+00,  1.87603226e-05,\n",
       "        -0.00000000e+00, -0.00000000e+00, -2.04876511e-05],\n",
       "       [-3.58828947e-05,  0.00000000e+00, -0.00000000e+00,\n",
       "        -0.00000000e+00,  0.00000000e+00,  0.00000000e+00],\n",
       "       ...,\n",
       "       [-0.00000000e+00,  0.00000000e+00, -0.00000000e+00,\n",
       "         0.00000000e+00, -0.00000000e+00,  0.00000000e+00],\n",
       "       [ 0.00000000e+00,  0.00000000e+00,  0.00000000e+00,\n",
       "        -0.00000000e+00, -0.00000000e+00,  0.00000000e+00],\n",
       "       [-0.00000000e+00,  0.00000000e+00, -0.00000000e+00,\n",
       "         0.00000000e+00, -2.37727183e-05,  0.00000000e+00]])"
      ]
     },
     "execution_count": 9,
     "metadata": {},
     "output_type": "execute_result"
    }
   ],
   "source": [
    "noise"
   ]
  },
  {
   "cell_type": "code",
   "execution_count": 13,
   "metadata": {},
   "outputs": [],
   "source": [
    "# gm = GaussianMixture(n_components=7, n_init=6, verbose=2)\n",
    "gm = GaussianMixtureARD(n_init=6, verbose=2)"
   ]
  },
  {
   "cell_type": "code",
   "execution_count": 14,
   "metadata": {},
   "outputs": [
    {
     "name": "stdout",
     "output_type": "stream",
     "text": [
      "Initialization 0\n",
      "Initialization 0\n",
      "  Iteration 0\t time lapse 0.09252s\t ll change inf\n",
      "  Iteration 10\t time lapse 0.17556s\t ll change 0.02983\n",
      "  Iteration 20\t time lapse 0.17264s\t ll change 0.04098\n",
      "  Iteration 30\t time lapse 0.17531s\t ll change 0.00119\n",
      "Initialization converged: True\t time lapse 0.92522s\t ll 0.57570\n",
      "Initialization 1\n",
      "  Iteration 0\t time lapse 0.07102s\t ll change inf\n",
      "  Iteration 10\t time lapse 0.17806s\t ll change 0.10952\n",
      "  Iteration 20\t time lapse 0.18987s\t ll change 0.00306\n",
      "  Iteration 30\t time lapse 0.17547s\t ll change 0.00260\n",
      "  Iteration 40\t time lapse 0.17889s\t ll change 0.04151\n",
      "  Iteration 50\t time lapse 0.18214s\t ll change 0.00309\n",
      "Initialization converged: True\t time lapse 1.07872s\t ll 0.84052\n",
      "Initialization 2\n",
      "  Iteration 0\t time lapse 0.07608s\t ll change inf\n",
      "  Iteration 10\t time lapse 0.17803s\t ll change 0.02950\n",
      "  Iteration 20\t time lapse 0.17342s\t ll change 0.01313\n",
      "  Iteration 30\t time lapse 0.17374s\t ll change 0.00331\n",
      "  Iteration 40\t time lapse 0.17217s\t ll change 0.00118\n",
      "  Iteration 50\t time lapse 0.18071s\t ll change 0.00257\n",
      "  Iteration 60\t time lapse 0.17250s\t ll change 0.01723\n",
      "  Iteration 70\t time lapse 0.17626s\t ll change 0.00168\n",
      "Initialization converged: True\t time lapse 1.37223s\t ll 0.69181\n",
      "Initialization 3\n",
      "  Iteration 0\t time lapse 0.06364s\t ll change inf\n",
      "  Iteration 10\t time lapse 0.17414s\t ll change 0.17128\n",
      "  Iteration 20\t time lapse 0.19869s\t ll change 0.01027\n",
      "  Iteration 30\t time lapse 0.18323s\t ll change 0.00462\n",
      "  Iteration 40\t time lapse 0.18081s\t ll change 0.00928\n",
      "  Iteration 50\t time lapse 0.17762s\t ll change 0.01046\n",
      "  Iteration 60\t time lapse 0.17719s\t ll change 0.00684\n",
      "Initialization converged: True\t time lapse 1.29885s\t ll 0.97437\n",
      "Initialization 4\n",
      "  Iteration 0\t time lapse 0.07350s\t ll change inf\n",
      "  Iteration 10\t time lapse 0.22540s\t ll change 0.09457\n",
      "  Iteration 20\t time lapse 0.26317s\t ll change 0.00751\n",
      "  Iteration 30\t time lapse 0.40685s\t ll change 0.00489\n",
      "  Iteration 40\t time lapse 0.23860s\t ll change 0.02264\n",
      "  Iteration 50\t time lapse 0.17535s\t ll change 0.00094\n",
      "Initialization converged: True\t time lapse 1.38294s\t ll 0.70285\n",
      "Initialization 5\n",
      "  Iteration 0\t time lapse 0.06539s\t ll change inf\n",
      "  Iteration 10\t time lapse 0.17358s\t ll change 0.03911\n",
      "  Iteration 20\t time lapse 0.17375s\t ll change 0.02166\n",
      "  Iteration 30\t time lapse 0.17500s\t ll change 0.00258\n",
      "Initialization converged: True\t time lapse 0.64105s\t ll 0.56143\n",
      "  Iteration 0\t time lapse 6.74425s\t ll change inf\n",
      "  Iteration 10\t time lapse 0.20073s\t ll change 0.01043\n",
      "  Iteration 20\t time lapse 0.09240s\t ll change 0.00177\n",
      "  Iteration 30\t time lapse 0.08371s\t ll change 0.00322\n",
      "  Iteration 40\t time lapse 0.08412s\t ll change 0.00335\n",
      "  Iteration 50\t time lapse 0.08219s\t ll change 0.00821\n",
      "Initialization converged: True\t time lapse 7.35322s\t ll -0.34243\n",
      "Initialization 1\n",
      "Initialization 0\n",
      "  Iteration 0\t time lapse 0.06243s\t ll change inf\n",
      "  Iteration 10\t time lapse 0.17000s\t ll change 0.04615\n",
      "  Iteration 20\t time lapse 0.17178s\t ll change 0.00683\n",
      "  Iteration 30\t time lapse 0.19301s\t ll change 0.00492\n",
      "Initialization converged: True\t time lapse 0.71733s\t ll 0.13539\n",
      "Initialization 1\n",
      "  Iteration 0\t time lapse 0.06956s\t ll change inf\n",
      "  Iteration 10\t time lapse 0.16997s\t ll change 0.16759\n",
      "  Iteration 20\t time lapse 0.16891s\t ll change 0.00769\n",
      "  Iteration 30\t time lapse 0.17447s\t ll change 0.00385\n",
      "  Iteration 40\t time lapse 0.16822s\t ll change 0.00223\n",
      "Initialization converged: True\t time lapse 0.89060s\t ll 0.65219\n",
      "Initialization 2\n",
      "  Iteration 0\t time lapse 0.07448s\t ll change inf\n",
      "  Iteration 10\t time lapse 0.17044s\t ll change 0.02805\n",
      "  Iteration 20\t time lapse 0.18325s\t ll change 0.00451\n",
      "  Iteration 30\t time lapse 0.18030s\t ll change 0.00302\n",
      "  Iteration 40\t time lapse 0.17798s\t ll change 0.01442\n",
      "  Iteration 50\t time lapse 0.17607s\t ll change 0.00250\n",
      "Initialization converged: True\t time lapse 1.03686s\t ll 0.69223\n",
      "Initialization 3\n",
      "  Iteration 0\t time lapse 0.06946s\t ll change inf\n",
      "  Iteration 10\t time lapse 0.17751s\t ll change 0.05369\n",
      "  Iteration 20\t time lapse 0.16977s\t ll change 0.01534\n",
      "  Iteration 30\t time lapse 0.17237s\t ll change 0.00803\n",
      "  Iteration 40\t time lapse 0.17269s\t ll change 0.00750\n",
      "  Iteration 50\t time lapse 0.18456s\t ll change 0.00083\n",
      "Initialization converged: True\t time lapse 0.94642s\t ll 1.04846\n",
      "Initialization 4\n",
      "  Iteration 0\t time lapse 0.06495s\t ll change inf\n",
      "  Iteration 10\t time lapse 0.17339s\t ll change 0.25135\n",
      "  Iteration 20\t time lapse 0.17464s\t ll change 0.01061\n",
      "  Iteration 30\t time lapse 0.17044s\t ll change 0.00155\n",
      "  Iteration 40\t time lapse 0.17266s\t ll change 0.00811\n",
      "Initialization converged: True\t time lapse 0.80723s\t ll 0.57935\n",
      "Initialization 5\n",
      "  Iteration 0\t time lapse 0.06036s\t ll change inf\n",
      "  Iteration 10\t time lapse 0.17076s\t ll change 0.06606\n",
      "  Iteration 20\t time lapse 0.17024s\t ll change 0.06766\n",
      "  Iteration 30\t time lapse 0.16883s\t ll change 0.00251\n",
      "  Iteration 40\t time lapse 0.16886s\t ll change 0.00510\n",
      "  Iteration 50\t time lapse 0.17128s\t ll change 0.00730\n",
      "  Iteration 60\t time lapse 0.16901s\t ll change 0.00068\n",
      "Initialization converged: True\t time lapse 1.07939s\t ll 0.62876\n",
      "  Iteration 0\t time lapse 5.50500s\t ll change inf\n",
      "  Iteration 10\t time lapse 0.21889s\t ll change 0.00855\n",
      "  Iteration 20\t time lapse 0.09189s\t ll change 0.00247\n",
      "  Iteration 30\t time lapse 0.09083s\t ll change 0.00132\n",
      "Initialization converged: True\t time lapse 5.92751s\t ll -0.04518\n",
      "Initialization 2\n",
      "Initialization 0\n",
      "  Iteration 0\t time lapse 0.06477s\t ll change inf\n",
      "  Iteration 10\t time lapse 0.17294s\t ll change 0.02092\n",
      "  Iteration 20\t time lapse 0.17234s\t ll change 0.42878\n",
      "  Iteration 30\t time lapse 0.17326s\t ll change 0.00264\n",
      "  Iteration 40\t time lapse 0.17428s\t ll change 0.00099\n",
      "Initialization converged: True\t time lapse 0.75766s\t ll 0.57537\n",
      "Initialization 1\n",
      "  Iteration 0\t time lapse 0.06369s\t ll change inf\n",
      "  Iteration 10\t time lapse 0.18713s\t ll change 0.39023\n",
      "  Iteration 20\t time lapse 0.19607s\t ll change 0.01060\n",
      "  Iteration 30\t time lapse 0.17590s\t ll change 0.00224\n",
      "Initialization converged: True\t time lapse 0.72719s\t ll 0.35033\n",
      "Initialization 2\n",
      "  Iteration 0\t time lapse 0.06033s\t ll change inf\n",
      "  Iteration 10\t time lapse 0.17495s\t ll change 0.34477\n",
      "  Iteration 20\t time lapse 0.17375s\t ll change 0.00787\n",
      "  Iteration 30\t time lapse 0.17420s\t ll change 0.00199\n",
      "  Iteration 40\t time lapse 0.17218s\t ll change 0.00506\n",
      "Initialization converged: True\t time lapse 0.86007s\t ll 0.42955\n",
      "Initialization 3\n",
      "  Iteration 0\t time lapse 0.07561s\t ll change inf\n",
      "  Iteration 10\t time lapse 0.19878s\t ll change 0.03414\n",
      "  Iteration 20\t time lapse 0.17207s\t ll change 0.02156\n",
      "  Iteration 30\t time lapse 0.17550s\t ll change 0.00448\n",
      "Initialization converged: True\t time lapse 0.74282s\t ll 0.72780\n",
      "Initialization 4\n",
      "  Iteration 0\t time lapse 0.07280s\t ll change inf\n",
      "  Iteration 10\t time lapse 0.17392s\t ll change 0.05628\n",
      "  Iteration 20\t time lapse 0.17226s\t ll change 0.01035\n",
      "  Iteration 30\t time lapse 0.18380s\t ll change 0.00491\n",
      "Initialization converged: True\t time lapse 0.74089s\t ll 0.09687\n",
      "Initialization 5\n",
      "  Iteration 0\t time lapse 0.06509s\t ll change inf\n",
      "  Iteration 10\t time lapse 0.17345s\t ll change 0.12624\n",
      "  Iteration 20\t time lapse 0.17310s\t ll change 0.00363\n",
      "  Iteration 30\t time lapse 0.17322s\t ll change 0.01143\n",
      "  Iteration 40\t time lapse 0.18085s\t ll change 0.00323\n",
      "Initialization converged: True\t time lapse 0.86914s\t ll 0.60060\n",
      "  Iteration 0\t time lapse 4.74568s\t ll change inf\n",
      "  Iteration 10\t time lapse 0.10555s\t ll change 0.01349\n",
      "  Iteration 20\t time lapse 0.10794s\t ll change 0.00332\n",
      "  Iteration 30\t time lapse 0.27025s\t ll change 0.00128\n",
      "Initialization converged: True\t time lapse 5.25664s\t ll -0.21314\n",
      "Initialization 3\n",
      "Initialization 0\n",
      "  Iteration 0\t time lapse 0.07503s\t ll change inf\n",
      "  Iteration 10\t time lapse 0.17437s\t ll change 0.15029\n",
      "  Iteration 20\t time lapse 0.17151s\t ll change 0.00508\n",
      "  Iteration 30\t time lapse 0.18577s\t ll change 0.00194\n",
      "Initialization converged: True\t time lapse 0.65820s\t ll 0.38648\n",
      "Initialization 1\n",
      "  Iteration 0\t time lapse 0.07006s\t ll change inf\n",
      "  Iteration 10\t time lapse 0.17451s\t ll change 0.22479\n",
      "  Iteration 20\t time lapse 0.17059s\t ll change 0.00720\n",
      "  Iteration 30\t time lapse 0.17338s\t ll change 0.03008\n",
      "  Iteration 40\t time lapse 0.17249s\t ll change 0.00726\n"
     ]
    },
    {
     "name": "stdout",
     "output_type": "stream",
     "text": [
      "  Iteration 50\t time lapse 0.17432s\t ll change 0.00343\n",
      "Initialization converged: True\t time lapse 1.07741s\t ll 0.66255\n",
      "Initialization 2\n",
      "  Iteration 0\t time lapse 0.09736s\t ll change inf\n",
      "  Iteration 10\t time lapse 0.25383s\t ll change 0.23835\n",
      "  Iteration 20\t time lapse 0.21408s\t ll change 0.00835\n",
      "  Iteration 30\t time lapse 0.17085s\t ll change 0.00112\n",
      "Initialization converged: True\t time lapse 0.75325s\t ll 0.40525\n",
      "Initialization 3\n",
      "  Iteration 0\t time lapse 0.08716s\t ll change inf\n",
      "  Iteration 10\t time lapse 0.17235s\t ll change 0.10436\n",
      "  Iteration 20\t time lapse 0.18296s\t ll change 0.00356\n",
      "Initialization converged: True\t time lapse 0.58078s\t ll 0.36648\n",
      "Initialization 4\n",
      "  Iteration 0\t time lapse 0.06909s\t ll change inf\n",
      "  Iteration 10\t time lapse 0.17497s\t ll change 0.23229\n",
      "  Iteration 20\t time lapse 0.17663s\t ll change 0.00837\n",
      "  Iteration 30\t time lapse 0.17296s\t ll change 0.00778\n",
      "  Iteration 40\t time lapse 0.17496s\t ll change 0.00545\n",
      "  Iteration 50\t time lapse 0.17103s\t ll change 0.00528\n",
      "  Iteration 60\t time lapse 0.17420s\t ll change 0.00238\n",
      "Initialization converged: True\t time lapse 1.26790s\t ll 0.69805\n",
      "Initialization 5\n",
      "  Iteration 0\t time lapse 0.07380s\t ll change inf\n",
      "  Iteration 10\t time lapse 0.17222s\t ll change 0.10626\n",
      "  Iteration 20\t time lapse 0.17358s\t ll change 0.00532\n",
      "  Iteration 30\t time lapse 0.17585s\t ll change 0.01524\n",
      "  Iteration 40\t time lapse 0.17274s\t ll change 0.00147\n",
      "  Iteration 50\t time lapse 0.17858s\t ll change 0.00150\n",
      "  Iteration 60\t time lapse 0.17686s\t ll change 0.00181\n",
      "Initialization converged: True\t time lapse 1.22623s\t ll 0.80183\n",
      "  Iteration 0\t time lapse 5.58848s\t ll change inf\n",
      "  Iteration 10\t time lapse 0.11203s\t ll change 0.01769\n",
      "  Iteration 20\t time lapse 0.10038s\t ll change 0.00097\n",
      "Initialization converged: True\t time lapse 5.80101s\t ll -0.21881\n",
      "Initialization 4\n",
      "Initialization 0\n",
      "  Iteration 0\t time lapse 0.08251s\t ll change inf\n",
      "  Iteration 10\t time lapse 0.17497s\t ll change 0.17728\n",
      "  Iteration 20\t time lapse 0.17559s\t ll change 0.00437\n",
      "  Iteration 30\t time lapse 0.17762s\t ll change 0.00268\n",
      "  Iteration 40\t time lapse 0.17703s\t ll change 0.00092\n",
      "Initialization converged: True\t time lapse 0.78778s\t ll 0.39532\n",
      "Initialization 1\n",
      "  Iteration 0\t time lapse 0.08350s\t ll change inf\n",
      "  Iteration 10\t time lapse 0.17246s\t ll change 0.28139\n",
      "  Iteration 20\t time lapse 0.17310s\t ll change 0.00881\n",
      "  Iteration 30\t time lapse 0.17148s\t ll change 0.02232\n",
      "  Iteration 40\t time lapse 0.17397s\t ll change 0.00249\n",
      "  Iteration 50\t time lapse 0.17050s\t ll change 0.00194\n",
      "  Iteration 60\t time lapse 0.17654s\t ll change 0.00113\n",
      "Initialization converged: True\t time lapse 1.15595s\t ll 0.67489\n",
      "Initialization 2\n",
      "  Iteration 0\t time lapse 0.08446s\t ll change inf\n",
      "  Iteration 10\t time lapse 0.17476s\t ll change 0.06925\n",
      "  Iteration 20\t time lapse 0.17456s\t ll change 0.01803\n",
      "  Iteration 30\t time lapse 0.17479s\t ll change 0.00227\n",
      "  Iteration 40\t time lapse 0.17112s\t ll change 0.00152\n",
      "Initialization converged: True\t time lapse 0.91966s\t ll 0.80194\n",
      "Initialization 3\n",
      "  Iteration 0\t time lapse 0.06395s\t ll change inf\n",
      "  Iteration 10\t time lapse 0.17393s\t ll change 0.22463\n",
      "  Iteration 20\t time lapse 0.17110s\t ll change 0.02186\n",
      "  Iteration 30\t time lapse 0.17557s\t ll change 0.00562\n",
      "  Iteration 40\t time lapse 0.21492s\t ll change 0.00317\n",
      "  Iteration 50\t time lapse 0.21124s\t ll change 0.00171\n",
      "Initialization converged: True\t time lapse 1.17489s\t ll 0.79981\n",
      "Initialization 4\n",
      "  Iteration 0\t time lapse 0.09364s\t ll change inf\n",
      "  Iteration 10\t time lapse 0.22308s\t ll change 0.03957\n",
      "  Iteration 20\t time lapse 0.18052s\t ll change 0.01556\n",
      "  Iteration 30\t time lapse 0.17637s\t ll change 0.00361\n",
      "  Iteration 40\t time lapse 0.20643s\t ll change 0.00299\n",
      "Initialization converged: True\t time lapse 1.04291s\t ll 0.89520\n",
      "Initialization 5\n",
      "  Iteration 0\t time lapse 0.08526s\t ll change inf\n",
      "  Iteration 10\t time lapse 0.17344s\t ll change 0.02307\n",
      "  Iteration 20\t time lapse 0.18037s\t ll change 0.01257\n",
      "  Iteration 30\t time lapse 0.17264s\t ll change 0.02250\n",
      "  Iteration 40\t time lapse 0.17557s\t ll change 0.00168\n",
      "Initialization converged: True\t time lapse 0.84175s\t ll 1.06244\n",
      "  Iteration 0\t time lapse 5.97572s\t ll change inf\n",
      "  Iteration 10\t time lapse 0.13811s\t ll change 0.01293\n",
      "  Iteration 20\t time lapse 0.09014s\t ll change 0.00410\n",
      "  Iteration 30\t time lapse 0.09041s\t ll change 0.00188\n",
      "Initialization converged: True\t time lapse 6.33431s\t ll -0.05892\n",
      "Initialization 5\n",
      "Initialization 0\n",
      "  Iteration 0\t time lapse 0.06665s\t ll change inf\n",
      "  Iteration 10\t time lapse 0.17797s\t ll change 0.25609\n",
      "  Iteration 20\t time lapse 0.17027s\t ll change 0.01017\n",
      "  Iteration 30\t time lapse 0.17751s\t ll change 0.00487\n",
      "  Iteration 40\t time lapse 0.17614s\t ll change 0.00660\n",
      "  Iteration 50\t time lapse 0.17196s\t ll change 0.02018\n",
      "  Iteration 60\t time lapse 0.17068s\t ll change 0.00296\n",
      "Initialization converged: True\t time lapse 1.21654s\t ll 1.04702\n",
      "Initialization 1\n",
      "  Iteration 0\t time lapse 0.05874s\t ll change inf\n",
      "  Iteration 10\t time lapse 0.17290s\t ll change 0.11001\n",
      "  Iteration 20\t time lapse 0.16996s\t ll change 0.01068\n",
      "  Iteration 30\t time lapse 0.18953s\t ll change 0.00449\n",
      "  Iteration 40\t time lapse 0.16964s\t ll change 0.00314\n",
      "Initialization converged: True\t time lapse 0.84787s\t ll 0.79807\n",
      "Initialization 2\n",
      "  Iteration 0\t time lapse 0.06345s\t ll change inf\n",
      "  Iteration 10\t time lapse 0.17250s\t ll change 0.13991\n",
      "  Iteration 20\t time lapse 0.17090s\t ll change 0.00554\n",
      "  Iteration 30\t time lapse 0.17224s\t ll change 0.00416\n",
      "Initialization converged: True\t time lapse 0.63139s\t ll 0.68300\n",
      "Initialization 3\n",
      "  Iteration 0\t time lapse 0.07279s\t ll change inf\n",
      "  Iteration 10\t time lapse 0.17022s\t ll change 0.02337\n",
      "  Iteration 20\t time lapse 0.16988s\t ll change 0.17612\n",
      "  Iteration 30\t time lapse 0.17303s\t ll change 0.05026\n",
      "  Iteration 40\t time lapse 0.17086s\t ll change 0.02551\n",
      "Initialization converged: True\t time lapse 0.89997s\t ll 1.07091\n",
      "Initialization 4\n",
      "  Iteration 0\t time lapse 0.06209s\t ll change inf\n",
      "  Iteration 10\t time lapse 0.17273s\t ll change 0.06492\n",
      "  Iteration 20\t time lapse 0.17178s\t ll change 0.00715\n",
      "  Iteration 30\t time lapse 0.17869s\t ll change 0.00479\n",
      "  Iteration 40\t time lapse 0.17095s\t ll change 0.00094\n",
      "Initialization converged: True\t time lapse 0.75632s\t ll 0.62877\n",
      "Initialization 5\n",
      "  Iteration 0\t time lapse 0.08321s\t ll change inf\n",
      "  Iteration 10\t time lapse 0.17854s\t ll change 0.02489\n",
      "  Iteration 20\t time lapse 0.25921s\t ll change 0.02056\n",
      "  Iteration 30\t time lapse 0.24401s\t ll change 0.00123\n",
      "Initialization converged: True\t time lapse 0.89102s\t ll 0.64378\n",
      "  Iteration 0\t time lapse 5.26825s\t ll change inf\n",
      "  Iteration 10\t time lapse 0.21005s\t ll change 0.00650\n",
      "  Iteration 20\t time lapse 0.10121s\t ll change 0.00204\n",
      "  Iteration 30\t time lapse 0.10221s\t ll change 0.00144\n",
      "Initialization converged: True\t time lapse 5.71300s\t ll 0.03935\n"
     ]
    },
    {
     "data": {
      "text/plain": [
       "ArdGaussianMixture(alpha_bound=1000.0, covariance_type='full',\n",
       "          init_components='sqrt', init_params='kmeans', max_iter=100,\n",
       "          means_init=None, n_init=6, precisions_init=None,\n",
       "          random_state=None, reg_covar=1e-06, tol=0.001, verbose=2,\n",
       "          verbose_interval=10, warm_start=False, weight_bound=0.001,\n",
       "          weights_init=None)"
      ]
     },
     "execution_count": 14,
     "metadata": {},
     "output_type": "execute_result"
    }
   ],
   "source": [
    "gm.fit(X_good+noise)"
   ]
  },
  {
   "cell_type": "code",
   "execution_count": 15,
   "metadata": {},
   "outputs": [],
   "source": [
    "from scipy.stats import multivariate_normal"
   ]
  },
  {
   "cell_type": "code",
   "execution_count": 16,
   "metadata": {},
   "outputs": [],
   "source": [
    "n_samples = X_good.shape[0]"
   ]
  },
  {
   "cell_type": "code",
   "execution_count": 17,
   "metadata": {},
   "outputs": [],
   "source": [
    "gen = np.array(multivariate_normal.rvs(mean=gm.means_[0], cov=gm.covariances_[0], size=int(gm.weights_[0]*n_samples)))\n",
    "for d in range(1,gm.n_components):\n",
    "    gen=np.vstack((gen,multivariate_normal.rvs(mean=gm.means_[d], cov=gm.covariances_[d], size=int(gm.weights_[d]*n_samples))))\n",
    "np.random.shuffle(gen)\n",
    "gen = np.array(gen)"
   ]
  },
  {
   "cell_type": "code",
   "execution_count": 18,
   "metadata": {},
   "outputs": [],
   "source": [
    "probabilities = np.empty((gm.n_components, gen.shape[0]))"
   ]
  },
  {
   "cell_type": "code",
   "execution_count": 19,
   "metadata": {},
   "outputs": [],
   "source": [
    "for d in range(gm.n_components):\n",
    "    probabilities[d] = multivariate_normal.pdf(gen, mean=gm.means_[d], \n",
    "                                                    cov=gm.covariances_[d], allow_singular=True)"
   ]
  },
  {
   "cell_type": "code",
   "execution_count": 20,
   "metadata": {},
   "outputs": [
    {
     "data": {
      "text/plain": [
       "(1833, 6)"
      ]
     },
     "execution_count": 20,
     "metadata": {},
     "output_type": "execute_result"
    }
   ],
   "source": [
    "gen.shape"
   ]
  },
  {
   "cell_type": "code",
   "execution_count": 21,
   "metadata": {},
   "outputs": [],
   "source": [
    "maxprob = np.max(probabilities, axis = 0)\n",
    "gen_w = 1./(maxprob+1e-2)"
   ]
  },
  {
   "cell_type": "code",
   "execution_count": 22,
   "metadata": {},
   "outputs": [],
   "source": [
    "#indices = gen_w.argsort()[-50:][::-1] #_toobig\n",
    "#indices_toosmall = gen_w.argsort()[:200][::-1]\n",
    "\n",
    "#indices = np.concatenate((indices_toosmall,indices_toobig))"
   ]
  },
  {
   "cell_type": "code",
   "execution_count": 23,
   "metadata": {},
   "outputs": [],
   "source": [
    "#gen_w = np.delete(gen_w, indices)\n",
    "#gen = np.delete(gen, indices, axis = 0)"
   ]
  },
  {
   "cell_type": "code",
   "execution_count": 24,
   "metadata": {},
   "outputs": [
    {
     "data": {
      "image/png": "[encoded data removed]",
      "text/plain": [
       "<matplotlib.figure.Figure at 0x7ff5aee1b850>"
      ]
     },
     "metadata": {},
     "output_type": "display_data"
    }
   ],
   "source": [
    "plt.scatter(np.arange(len(gen_w)), gen_w)\n",
    "plt.show()"
   ]
  },
  {
   "cell_type": "code",
   "execution_count": 25,
   "metadata": {},
   "outputs": [],
   "source": [
    "weights = np.ones((n_samples,1)) #X_train.shape[0]"
   ]
  },
  {
   "cell_type": "code",
   "execution_count": 26,
   "metadata": {},
   "outputs": [],
   "source": [
    "gen_w_normed = gen_w/np.sum(gen_w)*np.sum(weights)"
   ]
  },
  {
   "cell_type": "code",
   "execution_count": 27,
   "metadata": {},
   "outputs": [
    {
     "data": {
      "text/plain": [
       "(1839.9999999999995, 1840.0)"
      ]
     },
     "execution_count": 27,
     "metadata": {},
     "output_type": "execute_result"
    }
   ],
   "source": [
    "gen_w_normed.sum(), np.sum(weights)"
   ]
  },
  {
   "cell_type": "code",
   "execution_count": 28,
   "metadata": {},
   "outputs": [],
   "source": [
    "y1 = np.zeros((n_samples,1))\n",
    "y2 = np.ones((gen.shape[0],1))"
   ]
  },
  {
   "cell_type": "code",
   "execution_count": 29,
   "metadata": {},
   "outputs": [],
   "source": [
    "X_mix = np.vstack((X_good, gen)) #X_good\n",
    "\n",
    "y_mix = np.vstack((y1, y2)) #y_train\n",
    "\n",
    "weights_mix = np.vstack((weights.reshape(-1,1), gen_w_normed.reshape(-1,1))).reshape(-1)"
   ]
  },
  {
   "cell_type": "code",
   "execution_count": 30,
   "metadata": {},
   "outputs": [
    {
     "data": {
      "text/plain": [
       "(3673,)"
      ]
     },
     "execution_count": 30,
     "metadata": {},
     "output_type": "execute_result"
    }
   ],
   "source": [
    "weights_mix.shape"
   ]
  },
  {
   "cell_type": "code",
   "execution_count": 31,
   "metadata": {},
   "outputs": [
    {
     "name": "stderr",
     "output_type": "stream",
     "text": [
      "Using TensorFlow backend.\n"
     ]
    }
   ],
   "source": [
    "import tensorflow as tf\n",
    "\n",
    "s = tf.InteractiveSession()\n",
    "\n",
    "import keras\n",
    "from keras.models import Sequential\n",
    "from keras import layers as L"
   ]
  },
  {
   "cell_type": "code",
   "execution_count": 32,
   "metadata": {},
   "outputs": [],
   "source": [
    "net = Sequential()\n",
    "net.add(L.Dense(64, input_shape=(6,), activation = 'relu'))\n",
    "#net.add(L.BatchNormalization())\n",
    "#net.add(L.Dense(32, activation='relu'))\n",
    "net.add(L.BatchNormalization())\n",
    "net.add(L.Dropout(0.2))\n",
    "net.add(L.Dense(1, activation='sigmoid'))\n",
    "\n",
    "adam = keras.optimizers.Adam(lr=0.001)\n",
    "net.compile(optimizer=adam, loss='binary_crossentropy')"
   ]
  },
  {
   "cell_type": "code",
   "execution_count": 33,
   "metadata": {},
   "outputs": [
    {
     "name": "stdout",
     "output_type": "stream",
     "text": [
      "Train on 3305 samples, validate on 368 samples\n",
      "Epoch 1/120\n",
      "3305/3305 [==============================] - 0s 54us/step - loss: 1.1634 - val_loss: 0.8010\n",
      "Epoch 2/120\n",
      "3305/3305 [==============================] - 0s 13us/step - loss: 0.8356 - val_loss: 0.6032\n",
      "Epoch 3/120\n",
      "3305/3305 [==============================] - 0s 14us/step - loss: 0.6662 - val_loss: 0.5702\n",
      "Epoch 4/120\n",
      "3305/3305 [==============================] - 0s 14us/step - loss: 0.6129 - val_loss: 0.5602\n",
      "Epoch 5/120\n",
      "3305/3305 [==============================] - 0s 12us/step - loss: 0.6154 - val_loss: 0.5558\n",
      "Epoch 6/120\n",
      "3305/3305 [==============================] - 0s 13us/step - loss: 0.5558 - val_loss: 0.5489\n",
      "Epoch 7/120\n",
      "3305/3305 [==============================] - 0s 12us/step - loss: 0.5224 - val_loss: 0.5544\n",
      "Epoch 8/120\n",
      "3305/3305 [==============================] - 0s 13us/step - loss: 0.5442 - val_loss: 0.5702\n",
      "Epoch 9/120\n",
      "3305/3305 [==============================] - 0s 13us/step - loss: 0.5350 - val_loss: 0.5683\n",
      "Epoch 10/120\n",
      "3305/3305 [==============================] - 0s 13us/step - loss: 0.5402 - val_loss: 0.5705\n",
      "Epoch 11/120\n",
      "3305/3305 [==============================] - 0s 14us/step - loss: 0.5175 - val_loss: 0.5685\n",
      "Epoch 12/120\n",
      "3305/3305 [==============================] - 0s 14us/step - loss: 0.5169 - val_loss: 0.5658\n",
      "Epoch 13/120\n",
      "3305/3305 [==============================] - 0s 11us/step - loss: 0.4990 - val_loss: 0.5631\n",
      "Epoch 14/120\n",
      "3305/3305 [==============================] - 0s 10us/step - loss: 0.4987 - val_loss: 0.5545\n",
      "Epoch 15/120\n",
      "3305/3305 [==============================] - 0s 11us/step - loss: 0.4958 - val_loss: 0.5428\n",
      "Epoch 16/120\n",
      "3305/3305 [==============================] - 0s 10us/step - loss: 0.4985 - val_loss: 0.5392\n",
      "Epoch 17/120\n",
      "3305/3305 [==============================] - 0s 11us/step - loss: 0.4893 - val_loss: 0.5382\n",
      "Epoch 18/120\n",
      "3305/3305 [==============================] - 0s 11us/step - loss: 0.4879 - val_loss: 0.5382\n",
      "Epoch 19/120\n",
      "3305/3305 [==============================] - 0s 11us/step - loss: 0.4916 - val_loss: 0.5245\n",
      "Epoch 20/120\n",
      "3305/3305 [==============================] - 0s 11us/step - loss: 0.4716 - val_loss: 0.5154\n",
      "Epoch 21/120\n",
      "3305/3305 [==============================] - 0s 11us/step - loss: 0.4794 - val_loss: 0.5169\n",
      "Epoch 22/120\n",
      "3305/3305 [==============================] - 0s 11us/step - loss: 0.4897 - val_loss: 0.5061\n",
      "Epoch 23/120\n",
      "3305/3305 [==============================] - 0s 10us/step - loss: 0.4828 - val_loss: 0.4916\n",
      "Epoch 24/120\n",
      "3305/3305 [==============================] - 0s 12us/step - loss: 0.4651 - val_loss: 0.4867\n",
      "Epoch 25/120\n",
      "3305/3305 [==============================] - 0s 11us/step - loss: 0.4782 - val_loss: 0.4897\n",
      "Epoch 26/120\n",
      "3305/3305 [==============================] - 0s 11us/step - loss: 0.4666 - val_loss: 0.4920\n",
      "Epoch 27/120\n",
      "3305/3305 [==============================] - 0s 10us/step - loss: 0.4644 - val_loss: 0.4777\n",
      "Epoch 28/120\n",
      "3305/3305 [==============================] - 0s 11us/step - loss: 0.4562 - val_loss: 0.4786\n",
      "Epoch 29/120\n",
      "3305/3305 [==============================] - 0s 12us/step - loss: 0.4826 - val_loss: 0.4719\n",
      "Epoch 30/120\n",
      "3305/3305 [==============================] - 0s 12us/step - loss: 0.4644 - val_loss: 0.4659\n",
      "Epoch 31/120\n",
      "3305/3305 [==============================] - 0s 11us/step - loss: 0.4692 - val_loss: 0.4598\n",
      "Epoch 32/120\n",
      "3305/3305 [==============================] - 0s 11us/step - loss: 0.4458 - val_loss: 0.4651\n",
      "Epoch 33/120\n",
      "3305/3305 [==============================] - 0s 12us/step - loss: 0.4497 - val_loss: 0.4609\n",
      "Epoch 34/120\n",
      "3305/3305 [==============================] - 0s 11us/step - loss: 0.4497 - val_loss: 0.4533\n",
      "Epoch 35/120\n",
      "3305/3305 [==============================] - 0s 11us/step - loss: 0.4486 - val_loss: 0.4391\n",
      "Epoch 36/120\n",
      "3305/3305 [==============================] - 0s 12us/step - loss: 0.4572 - val_loss: 0.4402\n",
      "Epoch 37/120\n",
      "3305/3305 [==============================] - 0s 11us/step - loss: 0.4400 - val_loss: 0.4441\n",
      "Epoch 38/120\n",
      "3305/3305 [==============================] - 0s 12us/step - loss: 0.4215 - val_loss: 0.4408\n",
      "Epoch 39/120\n",
      "3305/3305 [==============================] - 0s 11us/step - loss: 0.4259 - val_loss: 0.4529\n",
      "Epoch 40/120\n",
      "3305/3305 [==============================] - 0s 12us/step - loss: 0.4359 - val_loss: 0.4515\n",
      "Epoch 41/120\n",
      "3305/3305 [==============================] - 0s 10us/step - loss: 0.4331 - val_loss: 0.4474\n",
      "Epoch 42/120\n",
      "3305/3305 [==============================] - 0s 12us/step - loss: 0.4457 - val_loss: 0.4570\n",
      "Epoch 43/120\n",
      "3305/3305 [==============================] - 0s 11us/step - loss: 0.4369 - val_loss: 0.4504\n",
      "Epoch 44/120\n",
      "3305/3305 [==============================] - 0s 11us/step - loss: 0.4406 - val_loss: 0.4457\n",
      "Epoch 45/120\n",
      "3305/3305 [==============================] - 0s 12us/step - loss: 0.4315 - val_loss: 0.4487\n",
      "Epoch 46/120\n",
      "3305/3305 [==============================] - 0s 13us/step - loss: 0.4139 - val_loss: 0.4563\n",
      "Epoch 47/120\n",
      "3305/3305 [==============================] - 0s 11us/step - loss: 0.4269 - val_loss: 0.4593\n",
      "Epoch 48/120\n",
      "3305/3305 [==============================] - 0s 12us/step - loss: 0.4423 - val_loss: 0.4569\n",
      "Epoch 49/120\n",
      "3305/3305 [==============================] - 0s 10us/step - loss: 0.4371 - val_loss: 0.4521\n",
      "Epoch 50/120\n",
      "3305/3305 [==============================] - 0s 12us/step - loss: 0.4146 - val_loss: 0.4530\n",
      "Epoch 51/120\n",
      "3305/3305 [==============================] - 0s 11us/step - loss: 0.4075 - val_loss: 0.4516\n",
      "Epoch 52/120\n",
      "3305/3305 [==============================] - 0s 10us/step - loss: 0.4033 - val_loss: 0.4496\n",
      "Epoch 53/120\n",
      "3305/3305 [==============================] - 0s 10us/step - loss: 0.4174 - val_loss: 0.4553\n",
      "Epoch 54/120\n",
      "3305/3305 [==============================] - 0s 12us/step - loss: 0.4313 - val_loss: 0.4517\n",
      "Epoch 55/120\n",
      "3305/3305 [==============================] - 0s 12us/step - loss: 0.4224 - val_loss: 0.4553\n",
      "Epoch 56/120\n",
      "3305/3305 [==============================] - 0s 11us/step - loss: 0.4137 - val_loss: 0.4574\n",
      "Epoch 57/120\n",
      "3305/3305 [==============================] - 0s 11us/step - loss: 0.4264 - val_loss: 0.4425\n",
      "Epoch 58/120\n",
      "3305/3305 [==============================] - 0s 11us/step - loss: 0.4223 - val_loss: 0.4261\n",
      "Epoch 59/120\n",
      "3305/3305 [==============================] - 0s 12us/step - loss: 0.4300 - val_loss: 0.4256\n",
      "Epoch 60/120\n",
      "3305/3305 [==============================] - 0s 11us/step - loss: 0.4212 - val_loss: 0.4217\n",
      "Epoch 61/120\n",
      "3305/3305 [==============================] - 0s 11us/step - loss: 0.4071 - val_loss: 0.4263\n",
      "Epoch 62/120\n",
      "3305/3305 [==============================] - 0s 12us/step - loss: 0.4058 - val_loss: 0.4291\n",
      "Epoch 63/120\n",
      "3305/3305 [==============================] - 0s 12us/step - loss: 0.4099 - val_loss: 0.4326\n",
      "Epoch 64/120\n",
      "3305/3305 [==============================] - 0s 11us/step - loss: 0.4098 - val_loss: 0.4370\n",
      "Epoch 65/120\n",
      "3305/3305 [==============================] - 0s 11us/step - loss: 0.4083 - val_loss: 0.4317\n",
      "Epoch 66/120\n",
      "3305/3305 [==============================] - 0s 11us/step - loss: 0.4020 - val_loss: 0.4274\n",
      "Epoch 67/120\n",
      "3305/3305 [==============================] - 0s 13us/step - loss: 0.3959 - val_loss: 0.4308\n",
      "Epoch 68/120\n",
      "3305/3305 [==============================] - 0s 13us/step - loss: 0.4041 - val_loss: 0.4311\n",
      "Epoch 69/120\n",
      "3305/3305 [==============================] - 0s 11us/step - loss: 0.4120 - val_loss: 0.4296\n",
      "Epoch 70/120\n",
      "3305/3305 [==============================] - 0s 12us/step - loss: 0.3988 - val_loss: 0.4294\n",
      "Epoch 71/120\n",
      "3305/3305 [==============================] - 0s 11us/step - loss: 0.4118 - val_loss: 0.4320\n",
      "Epoch 72/120\n",
      "3305/3305 [==============================] - 0s 12us/step - loss: 0.4071 - val_loss: 0.4253\n",
      "Epoch 73/120\n",
      "3305/3305 [==============================] - 0s 13us/step - loss: 0.4088 - val_loss: 0.4271\n",
      "Epoch 74/120\n",
      "3305/3305 [==============================] - 0s 11us/step - loss: 0.3920 - val_loss: 0.4296\n",
      "Epoch 75/120\n",
      "3305/3305 [==============================] - 0s 11us/step - loss: 0.4049 - val_loss: 0.4198\n",
      "Epoch 76/120\n",
      "3305/3305 [==============================] - 0s 11us/step - loss: 0.3988 - val_loss: 0.4155\n",
      "Epoch 77/120\n",
      "3305/3305 [==============================] - 0s 11us/step - loss: 0.3950 - val_loss: 0.4314\n",
      "Epoch 78/120\n",
      "3305/3305 [==============================] - 0s 11us/step - loss: 0.4013 - val_loss: 0.4245\n",
      "Epoch 79/120\n",
      "3305/3305 [==============================] - 0s 11us/step - loss: 0.3931 - val_loss: 0.4291\n",
      "Epoch 80/120\n",
      "3305/3305 [==============================] - 0s 11us/step - loss: 0.3884 - val_loss: 0.4220\n",
      "Epoch 81/120\n",
      "3305/3305 [==============================] - 0s 10us/step - loss: 0.4054 - val_loss: 0.4117\n",
      "Epoch 82/120\n",
      "3305/3305 [==============================] - 0s 11us/step - loss: 0.3921 - val_loss: 0.4062\n",
      "Epoch 83/120\n",
      "3305/3305 [==============================] - 0s 11us/step - loss: 0.3960 - val_loss: 0.4127\n",
      "Epoch 84/120\n",
      "3305/3305 [==============================] - 0s 12us/step - loss: 0.3857 - val_loss: 0.4143\n",
      "Epoch 85/120\n",
      "3305/3305 [==============================] - 0s 13us/step - loss: 0.3924 - val_loss: 0.4126\n",
      "Epoch 86/120\n",
      "3305/3305 [==============================] - 0s 12us/step - loss: 0.3764 - val_loss: 0.4123\n",
      "Epoch 87/120\n",
      "3305/3305 [==============================] - 0s 12us/step - loss: 0.3772 - val_loss: 0.4170\n",
      "Epoch 88/120\n",
      "3305/3305 [==============================] - 0s 10us/step - loss: 0.3972 - val_loss: 0.4270\n",
      "Epoch 89/120\n",
      "3305/3305 [==============================] - 0s 11us/step - loss: 0.3983 - val_loss: 0.4202\n",
      "Epoch 90/120\n",
      "3305/3305 [==============================] - 0s 10us/step - loss: 0.3778 - val_loss: 0.4178\n",
      "Epoch 91/120\n",
      "3305/3305 [==============================] - 0s 11us/step - loss: 0.3811 - val_loss: 0.4207\n",
      "Epoch 92/120\n",
      "3305/3305 [==============================] - 0s 10us/step - loss: 0.4033 - val_loss: 0.4210\n",
      "Epoch 93/120\n",
      "3305/3305 [==============================] - 0s 10us/step - loss: 0.3932 - val_loss: 0.4186\n",
      "Epoch 94/120\n",
      "3305/3305 [==============================] - 0s 10us/step - loss: 0.3722 - val_loss: 0.4200\n",
      "Epoch 95/120\n",
      "3305/3305 [==============================] - 0s 10us/step - loss: 0.3801 - val_loss: 0.4209\n",
      "Epoch 96/120\n",
      "3305/3305 [==============================] - 0s 11us/step - loss: 0.3685 - val_loss: 0.4213\n",
      "Epoch 97/120\n",
      "3305/3305 [==============================] - 0s 11us/step - loss: 0.3807 - val_loss: 0.4154\n",
      "Epoch 98/120\n",
      "3305/3305 [==============================] - 0s 11us/step - loss: 0.3874 - val_loss: 0.4168\n",
      "Epoch 99/120\n",
      "3305/3305 [==============================] - 0s 10us/step - loss: 0.3758 - val_loss: 0.4159\n",
      "Epoch 100/120\n",
      "3305/3305 [==============================] - 0s 10us/step - loss: 0.3901 - val_loss: 0.4199\n",
      "Epoch 101/120\n",
      "3305/3305 [==============================] - 0s 10us/step - loss: 0.3601 - val_loss: 0.4179\n",
      "Epoch 102/120\n",
      "3305/3305 [==============================] - 0s 12us/step - loss: 0.3975 - val_loss: 0.4167\n",
      "Epoch 103/120\n",
      "3305/3305 [==============================] - 0s 10us/step - loss: 0.3728 - val_loss: 0.4164\n",
      "Epoch 104/120\n",
      "3305/3305 [==============================] - 0s 10us/step - loss: 0.3725 - val_loss: 0.4068\n",
      "Epoch 105/120\n",
      "3305/3305 [==============================] - 0s 10us/step - loss: 0.3764 - val_loss: 0.4021\n",
      "Epoch 106/120\n",
      "3305/3305 [==============================] - 0s 10us/step - loss: 0.3838 - val_loss: 0.3978\n",
      "Epoch 107/120\n",
      "3305/3305 [==============================] - 0s 11us/step - loss: 0.3693 - val_loss: 0.3969\n",
      "Epoch 108/120\n",
      "3305/3305 [==============================] - 0s 10us/step - loss: 0.3760 - val_loss: 0.3940\n",
      "Epoch 109/120\n",
      "3305/3305 [==============================] - 0s 10us/step - loss: 0.3695 - val_loss: 0.3900\n",
      "Epoch 110/120\n",
      "3305/3305 [==============================] - 0s 11us/step - loss: 0.3751 - val_loss: 0.3836\n",
      "Epoch 111/120\n",
      "3305/3305 [==============================] - 0s 10us/step - loss: 0.3855 - val_loss: 0.3936\n",
      "Epoch 112/120\n",
      "3305/3305 [==============================] - 0s 11us/step - loss: 0.3861 - val_loss: 0.4004\n",
      "Epoch 113/120\n",
      "3305/3305 [==============================] - 0s 10us/step - loss: 0.3797 - val_loss: 0.3910\n",
      "Epoch 114/120\n",
      "3305/3305 [==============================] - 0s 11us/step - loss: 0.3727 - val_loss: 0.3844\n",
      "Epoch 115/120\n",
      "3305/3305 [==============================] - 0s 11us/step - loss: 0.3916 - val_loss: 0.4006\n",
      "Epoch 116/120\n",
      "3305/3305 [==============================] - 0s 12us/step - loss: 0.3672 - val_loss: 0.3946\n",
      "Epoch 117/120\n",
      "3305/3305 [==============================] - 0s 11us/step - loss: 0.3771 - val_loss: 0.4004\n",
      "Epoch 118/120\n",
      "3305/3305 [==============================] - 0s 11us/step - loss: 0.3831 - val_loss: 0.3951\n",
      "Epoch 119/120\n",
      "3305/3305 [==============================] - 0s 11us/step - loss: 0.3636 - val_loss: 0.3979\n",
      "Epoch 120/120\n",
      "3305/3305 [==============================] - 0s 10us/step - loss: 0.3759 - val_loss: 0.4002\n"
     ]
    }
   ],
   "source": [
    "history = net.fit(X_mix, y_mix, batch_size=256, epochs=120, validation_split = 0.1, verbose=1, shuffle=True, sample_weight=weights_mix)"
   ]
  },
  {
   "cell_type": "code",
   "execution_count": 34,
   "metadata": {
    "scrolled": true
   },
   "outputs": [
    {
     "data": {
      "image/png": "[encoded data removed]",
      "text/plain": [
       "<matplotlib.figure.Figure at 0x7ff4e87d81d0>"
      ]
     },
     "metadata": {},
     "output_type": "display_data"
    }
   ],
   "source": [
    "# summarize history for loss\n",
    "plt.plot(history.history['loss'])\n",
    "plt.plot(history.history['val_loss'])\n",
    "plt.title('model loss')\n",
    "plt.ylabel('loss')\n",
    "plt.xlabel('epoch')\n",
    "plt.legend(['train', 'test'], loc='upper left')\n",
    "plt.show()"
   ]
  },
  {
   "cell_type": "code",
   "execution_count": 35,
   "metadata": {},
   "outputs": [
    {
     "name": "stdout",
     "output_type": "stream",
     "text": [
      "1886/1886 [==============================] - 0s 28us/step\n"
     ]
    }
   ],
   "source": [
    "y_pred = net.predict(X_test, verbose=1)"
   ]
  },
  {
   "cell_type": "code",
   "execution_count": 36,
   "metadata": {},
   "outputs": [
    {
     "name": "stdout",
     "output_type": "stream",
     "text": [
      "('f1_score ', 0.323943661971831)\n",
      "confusion_matrix \n",
      "[[1648  191]\n",
      " [   1   46]]\n"
     ]
    },
    {
     "data": {
      "image/png": "[encoded data removed]",
      "text/plain": [
       "<matplotlib.figure.Figure at 0x7ff52c1ce210>"
      ]
     },
     "metadata": {},
     "output_type": "display_data"
    }
   ],
   "source": [
    "perfomance(y_test, y_pred)"
   ]
  },
  {
   "cell_type": "code",
   "execution_count": null,
   "metadata": {
    "collapsed": true
   },
   "outputs": [],
   "source": []
  },
  {
   "cell_type": "code",
   "execution_count": null,
   "metadata": {
    "collapsed": true
   },
   "outputs": [],
   "source": []
  }
 ],
 "metadata": {
  "anaconda-cloud": {},
  "kernelspec": {
   "display_name": "Python 2",
   "language": "python",
   "name": "python2"
  },
  "language_info": {
   "codemirror_mode": {
    "name": "ipython",
    "version": 2
   },
   "file_extension": ".py",
   "mimetype": "text/x-python",
   "name": "python",
   "nbconvert_exporter": "python",
   "pygments_lexer": "ipython2",
   "version": "2.7.14"
  }
 },
 "nbformat": 4,
 "nbformat_minor": 1
}
