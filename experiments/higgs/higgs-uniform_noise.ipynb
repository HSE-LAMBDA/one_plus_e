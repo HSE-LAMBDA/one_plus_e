{
 "cells": [
  {
   "cell_type": "code",
   "execution_count": 4,
   "metadata": {},
   "outputs": [],
   "source": [
    "import time\n",
    "\n",
    "import numpy as np\n",
    "import pandas as pd\n",
    "import matplotlib.pyplot as plt\n",
    "\n",
    "from sklearn import datasets, mixture\n",
    "from sklearn.preprocessing import StandardScaler, OneHotEncoder\n",
    "from itertools import cycle, islice\n",
    "import h5py \n",
    "\n",
    "import sys\n",
    "sys.path.append('../../')\n",
    "\n",
    "from evaluation import *\n",
    "np.random.seed(5)"
   ]
  },
  {
   "cell_type": "code",
   "execution_count": 2,
   "metadata": {},
   "outputs": [],
   "source": [
    "import pandas as pd\n",
    "#! wget -o  ../../datasets/ https://archive.ics.uci.edu/ml/machine-learning-databases/00280/HIGGS.csv.gz\n",
    "column_names = 'label, lepton pT, lepton eta, lepton phi, missing energy magnitude, missing energy phi, jet 1 pt, jet 1 eta, jet 1 phi, jet 1 b-tag, jet 2 pt, jet 2 eta, jet 2 phi, jet 2 b-tag, jet 3 pt, jet 3 eta, jet 3 phi, jet 3 b-tag, jet 4 pt, jet 4 eta, jet 4 phi, jet 4 b-tag, m_jj, m_jjj, m_lv, m_jlv, m_bb, m_wbb, m_wwbb'.split(', ')\n",
    "data = pd.read_csv('../../datasets/HIGGS.csv.gz', header=None, names=column_names)"
   ]
  },
  {
   "cell_type": "code",
   "execution_count": 3,
   "metadata": {},
   "outputs": [],
   "source": [
    "X_data = data.drop('label', 1)\n",
    "X_data = StandardScaler().fit_transform(X_data)\n",
    "\n",
    "labels = data[\"label\"]"
   ]
  },
  {
   "cell_type": "code",
   "execution_count": 3,
   "metadata": {
    "collapsed": true
   },
   "outputs": [],
   "source": [
    "from sklearn.model_selection import train_test_split\n",
    "indx_train, indx_test = train_test_split(np.arange(len(labels), dtype='int32'), stratify=labels, train_size=0.1, test_size=0.1, random_state = 5)"
   ]
  },
  {
   "cell_type": "code",
   "execution_count": 4,
   "metadata": {
    "collapsed": true
   },
   "outputs": [],
   "source": [
    "y_train = labels[indx_train]\n",
    "y_test = labels[indx_test]\n",
    "\n",
    "X_train = X_data[indx_train]\n",
    "X_test = X_data[indx_test]"
   ]
  },
  {
   "cell_type": "code",
   "execution_count": 5,
   "metadata": {},
   "outputs": [
    {
     "data": {
      "text/plain": [
       "OneHotEncoder(categorical_features='all', dtype=<class 'numpy.float64'>,\n",
       "       handle_unknown='error', n_values='auto', sparse=True)"
      ]
     },
     "execution_count": 5,
     "metadata": {},
     "output_type": "execute_result"
    }
   ],
   "source": [
    "enc = OneHotEncoder()\n",
    "enc.fit(labels)"
   ]
  },
  {
   "cell_type": "code",
   "execution_count": 6,
   "metadata": {},
   "outputs": [],
   "source": [
    "X_good = X_train[np.where(y_train==0)[0]]\n",
    "X_bad = X_train[np.where(y_train==1)[0]]"
   ]
  },
  {
   "cell_type": "code",
   "execution_count": 7,
   "metadata": {},
   "outputs": [
    {
     "data": {
      "text/plain": [
       "((1840, 6), (1886, 6), (3772, 6))"
      ]
     },
     "execution_count": 7,
     "metadata": {},
     "output_type": "execute_result"
    }
   ],
   "source": [
    "X_good.shape, X_train.shape, X_data.shape"
   ]
  },
  {
   "cell_type": "code",
   "execution_count": 8,
   "metadata": {},
   "outputs": [
    {
     "name": "stderr",
     "output_type": "stream",
     "text": [
      "/Users/OlgaKo/anaconda/envs/py35/lib/python3.5/importlib/_bootstrap.py:222: RuntimeWarning: compiletime version 3.6 of module 'tensorflow.python.framework.fast_tensor_util' does not match runtime version 3.5\n",
      "  return f(*args, **kwds)\n"
     ]
    }
   ],
   "source": [
    "import tensorflow as tf\n",
    "\n",
    "tf.set_random_seed(0)"
   ]
  },
  {
   "cell_type": "code",
   "execution_count": 9,
   "metadata": {},
   "outputs": [],
   "source": [
    "def batch(iterable, n=1):\n",
    "    l = len(iterable)\n",
    "    for ndx in range(0, l, n):\n",
    "        yield np.random.permutation(iterable)[ndx:min(ndx + n, l)]\n"
   ]
  },
  {
   "cell_type": "code",
   "execution_count": 10,
   "metadata": {},
   "outputs": [],
   "source": [
    "batch_size = 128\n",
    "n_epoch = 10000\n",
    "N = X_data.shape[1]"
   ]
  },
  {
   "cell_type": "code",
   "execution_count": 11,
   "metadata": {},
   "outputs": [],
   "source": [
    "def uniform_noise(X_good, batch_size):\n",
    "    return np.random.uniform(low=np.min(X_good, axis=0), high=np.max(X_good, axis=0), size=[batch_size, X_good.shape[1]])"
   ]
  },
  {
   "cell_type": "code",
   "execution_count": 12,
   "metadata": {
    "collapsed": true
   },
   "outputs": [],
   "source": [
    "def net(X, n_hidden_1, n_hidden_2):\n",
    "    layer1 = tf.layers.dense(x,n_hidden_1,tf.nn.relu, kernel_regularizer=tf.contrib.layers.l2_regularizer(0.01))\n",
    "    layer2 = tf.layers.dropout(layer1,rate=0.3)\n",
    "    layer3 = tf.layers.dense(layer2,n_hidden_2,tf.nn.relu, kernel_regularizer=tf.contrib.layers.l2_regularizer(0.01))\n",
    "    y = tf.layers.dense(layer1, 2, tf.nn.relu)\n",
    "    return y"
   ]
  },
  {
   "cell_type": "code",
   "execution_count": 13,
   "metadata": {},
   "outputs": [],
   "source": [
    "n_hidden_1 = 80\n",
    "n_hidden_2 = 160\n",
    "\n",
    "x = tf.placeholder(np.float64,shape=[None,N])\n",
    "t = tf.placeholder(np.float64,shape=[None,2])\n",
    "# x=tf.concat((input_batch, noise), axis=0)\n",
    "# t=tf.concat((tf.zeros([batch_size, 1], tf.float64), tf.ones([batch_size, 1], tf.float64)), axis=0)\n",
    "y = net(x, n_hidden_1, n_hidden_2)\n",
    "\n",
    "predict = tf.argmax(y, axis=1)\n",
    "\n",
    "#loss = - tf.reduce_mean(t * tf.log(y) + (1-t) * tf.log(1-y))\n",
    "loss = tf.reduce_mean(tf.nn.softmax_cross_entropy_with_logits_v2(logits=y, labels=t))\n",
    "\n",
    "# regularizer = tf.contrib.layers.l2_regularizer(scale=0.01)\n",
    "# reg_variables = tf.get_collection(tf.GraphKeys.REGULARIZATION_LOSSES)\n",
    "# reg_term = tf.contrib.layers.apply_regularization(regularizer, reg_variables)\n",
    "loss += tf.losses.get_regularization_loss()\n",
    "# loss = 0.5 * tf.mean(T.nnet.softplus(-f_normal)) + \\\n",
    "#        0.5 * alpha * T.mean(T.nnet.softplus(f_anomalious)) + \\\n",
    "#        0.5 * (1 - alpha) * T.mean(T.nnet.softplus(f_noise))\n",
    "train_step = tf.train.AdamOptimizer(learning_rate=0.001).minimize(loss)"
   ]
  },
  {
   "cell_type": "code",
   "execution_count": 14,
   "metadata": {},
   "outputs": [
    {
     "name": "stdout",
     "output_type": "stream",
     "text": [
      "Epoch = 0, train predicted annomalies = 93.48%, train loss = 123.82\n",
      "Epoch = 100, train predicted annomalies = 67.39%, train loss = 7.58\n",
      "Epoch = 200, train predicted annomalies = 54.35%, train loss = 6.28\n",
      "Epoch = 300, train predicted annomalies = 60.87%, train loss = 5.29\n",
      "Epoch = 400, train predicted annomalies = 63.04%, train loss = 5.65\n",
      "Epoch = 500, train predicted annomalies = 60.87%, train loss = 4.60\n",
      "Epoch = 600, train predicted annomalies = 73.91%, train loss = 4.66\n",
      "Epoch = 700, train predicted annomalies = 84.78%, train loss = 4.14\n",
      "Epoch = 800, train predicted annomalies = 80.43%, train loss = 4.66\n",
      "Epoch = 900, train predicted annomalies = 71.74%, train loss = 4.40\n",
      "Epoch = 1000, train predicted annomalies = 80.43%, train loss = 4.43\n",
      "Epoch = 1100, train predicted annomalies = 84.78%, train loss = 3.73\n",
      "Epoch = 1200, train predicted annomalies = 86.96%, train loss = 3.57\n",
      "Epoch = 1300, train predicted annomalies = 82.61%, train loss = 4.34\n",
      "Epoch = 1400, train predicted annomalies = 80.43%, train loss = 3.89\n",
      "Epoch = 1500, train predicted annomalies = 84.78%, train loss = 3.85\n",
      "Epoch = 1600, train predicted annomalies = 78.26%, train loss = 3.54\n",
      "Epoch = 1700, train predicted annomalies = 89.13%, train loss = 2.99\n",
      "Epoch = 1800, train predicted annomalies = 84.78%, train loss = 2.68\n",
      "Epoch = 1900, train predicted annomalies = 84.78%, train loss = 3.16\n",
      "Epoch = 2000, train predicted annomalies = 82.61%, train loss = 2.77\n",
      "Epoch = 2100, train predicted annomalies = 84.78%, train loss = 2.89\n",
      "Epoch = 2200, train predicted annomalies = 84.78%, train loss = 3.27\n",
      "Epoch = 2300, train predicted annomalies = 86.96%, train loss = 3.53\n",
      "Epoch = 2400, train predicted annomalies = 84.78%, train loss = 2.75\n",
      "Epoch = 2500, train predicted annomalies = 73.91%, train loss = 3.56\n",
      "Epoch = 2600, train predicted annomalies = 84.78%, train loss = 2.77\n",
      "Epoch = 2700, train predicted annomalies = 82.61%, train loss = 2.80\n",
      "Epoch = 2800, train predicted annomalies = 82.61%, train loss = 3.24\n",
      "Epoch = 2900, train predicted annomalies = 84.78%, train loss = 3.01\n",
      "Epoch = 3000, train predicted annomalies = 84.78%, train loss = 3.99\n",
      "Epoch = 3100, train predicted annomalies = 80.43%, train loss = 3.37\n",
      "Epoch = 3200, train predicted annomalies = 84.78%, train loss = 2.96\n",
      "Epoch = 3300, train predicted annomalies = 84.78%, train loss = 2.62\n",
      "Epoch = 3400, train predicted annomalies = 82.61%, train loss = 4.95\n",
      "Epoch = 3500, train predicted annomalies = 91.30%, train loss = 2.62\n",
      "Epoch = 3600, train predicted annomalies = 84.78%, train loss = 3.44\n",
      "Epoch = 3700, train predicted annomalies = 86.96%, train loss = 2.70\n",
      "Epoch = 3800, train predicted annomalies = 86.96%, train loss = 2.43\n",
      "Epoch = 3900, train predicted annomalies = 86.96%, train loss = 3.20\n",
      "Epoch = 4000, train predicted annomalies = 78.26%, train loss = 3.58\n",
      "Epoch = 4100, train predicted annomalies = 86.96%, train loss = 2.40\n",
      "Epoch = 4200, train predicted annomalies = 71.74%, train loss = 3.87\n",
      "Epoch = 4300, train predicted annomalies = 76.09%, train loss = 3.22\n",
      "Epoch = 4400, train predicted annomalies = 82.61%, train loss = 2.37\n",
      "Epoch = 4500, train predicted annomalies = 84.78%, train loss = 2.39\n",
      "Epoch = 4600, train predicted annomalies = 80.43%, train loss = 2.55\n",
      "Epoch = 4700, train predicted annomalies = 86.96%, train loss = 2.60\n",
      "Epoch = 4800, train predicted annomalies = 84.78%, train loss = 2.14\n",
      "Epoch = 4900, train predicted annomalies = 86.96%, train loss = 2.33\n",
      "Epoch = 5000, train predicted annomalies = 86.96%, train loss = 2.90\n",
      "Epoch = 5100, train predicted annomalies = 86.96%, train loss = 2.99\n",
      "Epoch = 5200, train predicted annomalies = 86.96%, train loss = 3.45\n",
      "Epoch = 5300, train predicted annomalies = 86.96%, train loss = 2.17\n",
      "Epoch = 5400, train predicted annomalies = 84.78%, train loss = 4.88\n",
      "Epoch = 5500, train predicted annomalies = 86.96%, train loss = 3.08\n",
      "Epoch = 5600, train predicted annomalies = 84.78%, train loss = 2.51\n",
      "Epoch = 5700, train predicted annomalies = 82.61%, train loss = 2.98\n",
      "Epoch = 5800, train predicted annomalies = 82.61%, train loss = 2.55\n",
      "Epoch = 5900, train predicted annomalies = 86.96%, train loss = 2.72\n",
      "Epoch = 6000, train predicted annomalies = 73.91%, train loss = 3.31\n",
      "Epoch = 6100, train predicted annomalies = 86.96%, train loss = 2.80\n",
      "Epoch = 6200, train predicted annomalies = 86.96%, train loss = 2.88\n",
      "Epoch = 6300, train predicted annomalies = 82.61%, train loss = 3.94\n",
      "Epoch = 6400, train predicted annomalies = 82.61%, train loss = 4.36\n",
      "Epoch = 6500, train predicted annomalies = 86.96%, train loss = 2.43\n",
      "Epoch = 6600, train predicted annomalies = 84.78%, train loss = 2.81\n",
      "Epoch = 6700, train predicted annomalies = 80.43%, train loss = 3.05\n",
      "Epoch = 6800, train predicted annomalies = 86.96%, train loss = 2.48\n",
      "Epoch = 6900, train predicted annomalies = 82.61%, train loss = 5.16\n",
      "Epoch = 7000, train predicted annomalies = 80.43%, train loss = 2.72\n",
      "Epoch = 7100, train predicted annomalies = 86.96%, train loss = 2.51\n",
      "Epoch = 7200, train predicted annomalies = 86.96%, train loss = 2.57\n",
      "Epoch = 7300, train predicted annomalies = 86.96%, train loss = 2.46\n",
      "Epoch = 7400, train predicted annomalies = 82.61%, train loss = 2.28\n",
      "Epoch = 7500, train predicted annomalies = 78.26%, train loss = 3.04\n",
      "Epoch = 7600, train predicted annomalies = 84.78%, train loss = 2.49\n",
      "Epoch = 7700, train predicted annomalies = 73.91%, train loss = 3.56\n",
      "Epoch = 7800, train predicted annomalies = 82.61%, train loss = 2.74\n",
      "Epoch = 7900, train predicted annomalies = 86.96%, train loss = 3.02\n",
      "Epoch = 8000, train predicted annomalies = 86.96%, train loss = 2.54\n",
      "Epoch = 8100, train predicted annomalies = 86.96%, train loss = 2.24\n",
      "Epoch = 8200, train predicted annomalies = 84.78%, train loss = 2.45\n",
      "Epoch = 8300, train predicted annomalies = 86.96%, train loss = 2.48\n",
      "Epoch = 8400, train predicted annomalies = 84.78%, train loss = 2.76\n",
      "Epoch = 8500, train predicted annomalies = 86.96%, train loss = 2.58\n",
      "Epoch = 8600, train predicted annomalies = 84.78%, train loss = 2.73\n",
      "Epoch = 8700, train predicted annomalies = 84.78%, train loss = 3.51\n",
      "Epoch = 8800, train predicted annomalies = 86.96%, train loss = 2.24\n",
      "Epoch = 8900, train predicted annomalies = 86.96%, train loss = 2.25\n",
      "Epoch = 9000, train predicted annomalies = 71.74%, train loss = 3.47\n",
      "Epoch = 9100, train predicted annomalies = 76.09%, train loss = 3.12\n",
      "Epoch = 9200, train predicted annomalies = 86.96%, train loss = 2.51\n",
      "Epoch = 9300, train predicted annomalies = 82.61%, train loss = 3.65\n",
      "Epoch = 9400, train predicted annomalies = 86.96%, train loss = 2.36\n",
      "Epoch = 9500, train predicted annomalies = 78.26%, train loss = 3.21\n",
      "Epoch = 9600, train predicted annomalies = 84.78%, train loss = 2.95\n",
      "Epoch = 9700, train predicted annomalies = 82.61%, train loss = 2.83\n",
      "Epoch = 9800, train predicted annomalies = 89.13%, train loss = 2.37\n",
      "Epoch = 9900, train predicted annomalies = 80.43%, train loss = 3.40\n"
     ]
    }
   ],
   "source": [
    "init = tf.global_variables_initializer()\n",
    "sess = tf.Session()\n",
    "sess.run(init)\n",
    "# sess.run(iterator.initializer)\n",
    "\n",
    "for epoch in range(n_epoch):  \n",
    "    for X_batch in batch(X_good, n=batch_size):\n",
    "        x_val = np.concatenate((X_batch, uniform_noise(X_good, batch_size*2)))\n",
    "        t_val = enc.transform(np.concatenate((np.zeros([X_batch.shape[0], 1]), np.ones([batch_size*2, 1])))).toarray()\n",
    "        sess.run(train_step, feed_dict={x: x_val, \n",
    "                                        t: t_val})\n",
    "        \n",
    "    if epoch%100==0:\n",
    "        train_accuracy = np.mean(sess.run(predict, feed_dict={x: X_bad}))\n",
    "        train_loss = sess.run(loss, feed_dict={x: X_train, t: enc.transform(y_train).toarray()})\n",
    "        print(\"Epoch = %d, train predicted annomalies = %.2f%%, train loss = %.2f\"\n",
    "              % (epoch , 100. * train_accuracy, 100. * train_loss))"
   ]
  },
  {
   "cell_type": "code",
   "execution_count": 15,
   "metadata": {},
   "outputs": [],
   "source": [
    "y_pred = sess.run(y, feed_dict={x: X_test})"
   ]
  },
  {
   "cell_type": "code",
   "execution_count": 16,
   "metadata": {},
   "outputs": [
    {
     "name": "stdout",
     "output_type": "stream",
     "text": [
      "recall_score  0.914893617021\n",
      "precision_score  0.614285714286\n",
      "f1_score  0.735042735043\n",
      "confusion_matrix \n",
      "[[1812   27]\n",
      " [   4   43]]\n"
     ]
    }
   ],
   "source": [
    "print (\"recall_score \",recall_score(y_test, np.argmax(y_pred, axis=1)))\n",
    "print (\"precision_score \",precision_score(y_test, np.argmax(y_pred, axis=1)))\n",
    "print (\"f1_score \",f1_score(y_test, np.argmax(y_pred, axis=1)))\n",
    "print (\"confusion_matrix \")\n",
    "print (confusion_matrix(y_test, np.argmax(y_pred, axis=1)))"
   ]
  },
  {
   "cell_type": "code",
   "execution_count": 17,
   "metadata": {},
   "outputs": [
    {
     "data": {
      "image/png": "[encoded data removed]",
      "text/plain": [
       "<matplotlib.figure.Figure at 0x1268b9e10>"
      ]
     },
     "metadata": {},
     "output_type": "display_data"
    },
    {
     "data": {
      "image/png": "[encoded data removed]",
      "text/plain": [
       "<matplotlib.figure.Figure at 0x12a25d860>"
      ]
     },
     "metadata": {},
     "output_type": "display_data"
    }
   ],
   "source": [
    "precision, recall, _ = precision_recall_curve(y_test, y_pred[:,1])\n",
    "pr_auc = auc(recall, precision)\n",
    "     \n",
    "\n",
    "plt.figure()\n",
    "plt.plot(recall, precision, label='PR curve (area = %0.3f)' % pr_auc)\n",
    "plt.xlim([0.0, 1.0])\n",
    "plt.ylim([0.0, 1.05])\n",
    "plt.xlabel('Recall')\n",
    "plt.ylabel('Precision')\n",
    "plt.legend(loc=\"lower right\")\n",
    "plt.grid(True)\n",
    "plt.show()\n",
    "\n",
    "fpr, tpr, _ = roc_curve(y_test, y_pred[:,1])\n",
    "roc_auc = auc(fpr, tpr)\n",
    "\n",
    "\n",
    "plt.figure()\n",
    "plt.plot(fpr, tpr, label='ROC curve (area = %0.3f)' % roc_auc)\n",
    "plt.xlim([0.0, 1.0])\n",
    "plt.ylim([0.0, 1.05])\n",
    "plt.xlabel('False Positive Rate')\n",
    "plt.ylabel('True Positive Rate')\n",
    "plt.legend(loc=\"lower right\")\n",
    "plt.grid(True)\n",
    "plt.show()"
   ]
  },
  {
   "cell_type": "code",
   "execution_count": null,
   "metadata": {
    "collapsed": true
   },
   "outputs": [],
   "source": []
  }
 ],
 "metadata": {
  "anaconda-cloud": {},
  "kernelspec": {
   "display_name": "Python 2",
   "language": "python",
   "name": "python2"
  },
  "language_info": {
   "codemirror_mode": {
    "name": "ipython",
    "version": 2
   },
   "file_extension": ".py",
   "mimetype": "text/x-python",
   "name": "python",
   "nbconvert_exporter": "python",
   "pygments_lexer": "ipython2",
   "version": "2.7.14"
  }
 },
 "nbformat": 4,
 "nbformat_minor": 1
}
