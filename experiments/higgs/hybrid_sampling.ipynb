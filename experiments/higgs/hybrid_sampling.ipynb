{
 "cells": [
  {
   "cell_type": "code",
   "execution_count": 1,
   "metadata": {},
   "outputs": [],
   "source": [
    "import matplotlib.pyplot as plt\n",
    "%matplotlib inline"
   ]
  },
  {
   "cell_type": "code",
   "execution_count": 2,
   "metadata": {},
   "outputs": [],
   "source": [
    "from sklearn.preprocessing import StandardScaler\n",
    "import pandas as pd\n",
    "#! wget -o  ../../datasets/ https://archive.ics.uci.edu/ml/machine-learning-databases/00280/HIGGS.csv.gz\n",
    "column_names = 'label, lepton pT, lepton eta, lepton phi, missing energy magnitude, missing energy phi, jet 1 pt, jet 1 eta, jet 1 phi, jet 1 b-tag, jet 2 pt, jet 2 eta, jet 2 phi, jet 2 b-tag, jet 3 pt, jet 3 eta, jet 3 phi, jet 3 b-tag, jet 4 pt, jet 4 eta, jet 4 phi, jet 4 b-tag, m_jj, m_jjj, m_lv, m_jlv, m_bb, m_wbb, m_wwbb'.split(', ')\n",
    "data = pd.read_csv('../../datasets/HIGGS.csv.gz', header=None, names=column_names)"
   ]
  },
  {
   "cell_type": "code",
   "execution_count": 4,
   "metadata": {},
   "outputs": [],
   "source": [
    "X_data = data.drop('label', 1)\n",
    "X_data = StandardScaler().fit_transform(X_data)\n",
    "\n",
    "labels = data[\"label\"]"
   ]
  },
  {
   "cell_type": "code",
   "execution_count": 5,
   "metadata": {},
   "outputs": [],
   "source": [
    "from sklearn.model_selection import train_test_split\n",
    "import numpy as np\n",
    "indx_train, indx_test = train_test_split(np.arange(len(labels), dtype='int32'), stratify=labels, train_size=0.1, test_size=0.1, random_state = 5)"
   ]
  },
  {
   "cell_type": "code",
   "execution_count": 6,
   "metadata": {},
   "outputs": [],
   "source": [
    "y_train = labels[indx_train]\n",
    "y_test = labels[indx_test]\n",
    "\n",
    "X_train = X_data[indx_train]\n",
    "X_test = X_data[indx_test]"
   ]
  },
  {
   "cell_type": "code",
   "execution_count": 12,
   "metadata": {},
   "outputs": [],
   "source": [
    "X_good = X_train[np.where(y_train==0)[0]]\n",
    "X_bad = X_train[np.where(y_train==1)[0]]"
   ]
  },
  {
   "cell_type": "code",
   "execution_count": 13,
   "metadata": {},
   "outputs": [
    {
     "data": {
      "text/plain": [
       "((517088, 28), (582912, 28), (1100000, 28), (11000000, 28))"
      ]
     },
     "execution_count": 13,
     "metadata": {},
     "output_type": "execute_result"
    }
   ],
   "source": [
    "X_good.shape, X_bad.shape, X_train.shape, X_data.shape"
   ]
  },
  {
   "cell_type": "code",
   "execution_count": 61,
   "metadata": {},
   "outputs": [],
   "source": [
    "import theano\n",
    "import theano.tensor as T\n",
    "import lasagne\n",
    "from lasagne.layers import InputLayer, DenseLayer\n",
    "from lasagne.nonlinearities import softmax\n",
    "from lasagne.objectives import categorical_crossentropy\n",
    "\n",
    "input_size = X_good.shape[1] # features cnt\n",
    "\n",
    "input_var = T.matrix('input', dtype='float32')\n",
    "weights_var = T.vector('weights', dtype='float32')\n",
    "target_var = T.matrix('target', dtype='float32')\n",
    "lr_var = T.scalar('learning rate')\n",
    "\n",
    "network = InputLayer(shape=(None, input_size), input_var=input_var)\n",
    "network = DenseLayer(network, 400)\n",
    "network = DenseLayer(network, 2, nonlinearity=softmax)\n",
    "output = lasagne.layers.get_output(network)\n",
    "\n",
    "loss = (weights_var * categorical_crossentropy(output, target_var)).mean()\n",
    "params = lasagne.layers.get_all_params(network, trainable=True)\n",
    "updates = lasagne.updates.rmsprop(loss, params, learning_rate=lr_var)\n",
    "\n",
    "train_fn = theano.function([input_var, weights_var, target_var, lr_var], [output, loss], updates=updates, allow_input_downcast=True)\n",
    "predict_fn = theano.function([input_var], [output], allow_input_downcast=True)"
   ]
  },
  {
   "cell_type": "code",
   "execution_count": 62,
   "metadata": {},
   "outputs": [],
   "source": [
    "X_min, X_max = np.min(X_data, axis=0), np.max(X_data, axis=0)\n",
    "\n",
    "def random_sampling(size, features_range=[X_min, X_max]):\n",
    "    return np.array([features_range[0][i] * np.ones(size) + np.random.rand(size) * (features_range[1][i] - features_range[0][i]) for i in range(len(features_range[0]))]).transpose()"
   ]
  },
  {
   "cell_type": "code",
   "execution_count": 63,
   "metadata": {},
   "outputs": [],
   "source": [
    "import sys\n",
    "sys.path.append('../../')\n",
    "from hmc import *"
   ]
  },
  {
   "cell_type": "code",
   "execution_count": null,
   "metadata": {},
   "outputs": [
    {
     "name": "stdout",
     "output_type": "stream",
     "text": [
      "Epoch: 0\n",
      "('recall_score ', 0.006661382850241546)\n",
      "('precision_score ', 0.9356626506024096)\n",
      "('f1_score ', 0.013228585737111243)\n",
      "confusion_matrix \n",
      "[[516821    267]\n",
      " [579029   3883]]\n",
      "Loss: 0.16, Accuracy (test): 0.47\n",
      "Epoch: 1\n",
      "('recall_score ', 0.011711887900746596)\n",
      "('precision_score ', 0.8573401984176818)\n",
      "('f1_score ', 0.02310810239052253)\n",
      "confusion_matrix \n",
      "[[515952   1136]\n",
      " [576085   6827]]\n",
      "Loss: 0.16, Accuracy (test): 0.48\n",
      "Epoch: 2\n",
      "('recall_score ', 0.01812451965305226)\n",
      "('precision_score ', 0.9357838795394154)\n",
      "('f1_score ', 0.035560297676547704)\n",
      "confusion_matrix \n",
      "[[516363    725]\n",
      " [572347  10565]]\n",
      "Loss: 0.16, Accuracy (test): 0.48\n",
      "Epoch: 3\n",
      "('recall_score ', 0.015631862099253404)\n",
      "('precision_score ', 0.9437597099948213)\n",
      "('f1_score ', 0.03075432820254925)\n",
      "confusion_matrix \n",
      "[[516545    543]\n",
      " [573800   9112]]\n",
      "Loss: 0.16, Accuracy (test): 0.48\n",
      "Epoch: 4\n",
      "('recall_score ', 0.020694375823451912)\n",
      "('precision_score ', 0.9315057915057915)\n",
      "('f1_score ', 0.040489240797365836)\n",
      "confusion_matrix \n",
      "[[516201    887]\n",
      " [570849  12063]]\n",
      "Loss: 0.16, Accuracy (test): 0.48\n",
      "Epoch: 5\n",
      "('recall_score ', 0.016306063350900308)\n",
      "('precision_score ', 0.941089108910891)\n",
      "('f1_score ', 0.032056686879860775)\n",
      "confusion_matrix \n",
      "[[516493    595]\n",
      " [573407   9505]]\n",
      "Loss: 0.16, Accuracy (test): 0.48\n",
      "Epoch: 6\n",
      "('recall_score ', 0.027424379666227492)\n",
      "('precision_score ', 0.9194754400092028)\n",
      "('f1_score ', 0.05326021409366682)\n",
      "confusion_matrix \n",
      "[[515688   1400]\n",
      " [566926  15986]]\n",
      "Loss: 0.16, Accuracy (test): 0.48\n",
      "Epoch: 7\n",
      "('recall_score ', 0.020150554457619676)\n",
      "('precision_score ', 0.9409597051990707)\n",
      "('f1_score ', 0.039456159356393655)\n",
      "confusion_matrix \n",
      "[[516351    737]\n",
      " [571166  11746]]\n",
      "Loss: 0.15, Accuracy (test): 0.48\n",
      "Epoch: 8\n",
      "('recall_score ', 0.027851545344751868)\n",
      "('precision_score ', 0.9273963212612818)\n",
      "('f1_score ', 0.054078991635827044)\n",
      "confusion_matrix \n",
      "[[515817   1271]\n",
      " [566677  16235]]\n",
      "Loss: 0.15, Accuracy (test): 0.48\n",
      "Epoch: 9\n",
      "('recall_score ', 0.028285573122529644)\n",
      "('precision_score ', 0.9356486210418795)\n",
      "('f1_score ', 0.05491112909510536)\n",
      "confusion_matrix \n",
      "[[515954   1134]\n",
      " [566424  16488]]\n",
      "Loss: 0.15, Accuracy (test): 0.48\n",
      "Epoch: 10\n",
      "('recall_score ', 0.03162913098375055)\n",
      "('precision_score ', 0.9357933204750787)\n",
      "('f1_score ', 0.061190081876624176)\n",
      "confusion_matrix \n",
      "[[515823   1265]\n",
      " [564475  18437]]\n",
      "Loss: 0.15, Accuracy (test): 0.49\n",
      "Epoch: 11\n",
      "('recall_score ', 0.03394852053140097)\n",
      "('precision_score ', 0.9334433962264151)\n",
      "('f1_score ', 0.06551434171147073)\n",
      "confusion_matrix \n",
      "[[515677   1411]\n",
      " [563123  19789]]\n",
      "Loss: 0.15, Accuracy (test): 0.49\n",
      "Epoch: 12\n",
      "('recall_score ', 0.04043320432586737)\n",
      "('precision_score ', 0.9320599517538656)\n",
      "('f1_score ', 0.07750423792212745)\n",
      "confusion_matrix \n",
      "[[515370   1718]\n",
      " [559343  23569]]\n",
      "Loss: 0.15, Accuracy (test): 0.49\n",
      "Epoch: 13\n",
      "('recall_score ', 0.042754309398331136)\n",
      "('precision_score ', 0.928747111872997)\n",
      "('f1_score ', 0.08174551370570696)\n",
      "confusion_matrix \n",
      "[[515176   1912]\n",
      " [557990  24922]]\n",
      "Loss: 0.15, Accuracy (test): 0.49\n",
      "Epoch: 14\n",
      "('recall_score ', 0.037158267457180504)\n",
      "('precision_score ', 0.9447376455707245)\n",
      "('f1_score ', 0.07150414549079871)\n",
      "confusion_matrix \n",
      "[[515821   1267]\n",
      " [561252  21660]]\n",
      "Loss: 0.15, Accuracy (test): 0.49\n",
      "Epoch: 15\n",
      "('recall_score ', 0.04078317138779095)\n",
      "('precision_score ', 0.9387537513820882)\n",
      "('f1_score ', 0.07817031546965324)\n",
      "confusion_matrix \n",
      "[[515537   1551]\n",
      " [559139  23773]]\n",
      "Loss: 0.15, Accuracy (test): 0.49\n",
      "Epoch: 16\n"
     ]
    }
   ],
   "source": [
    "from sklearn.metrics import *\n",
    "from keras.utils import to_categorical\n",
    "\n",
    "lr = 1e-3\n",
    "epoches = 1000\n",
    "batch_size = 10000\n",
    "\n",
    "true_bad_size = int(0.1 * y_train.sum())\n",
    "fake_bad_size = int(0.9 * y_train.sum())\n",
    "good_size = X_good.shape[0]\n",
    "\n",
    "X_bad_true = X_train[y_train == 1][np.random.choice(np.arange(int(y_train.sum())), size=true_bad_size), :]\n",
    "X_bad_fake = random_sampling(fake_bad_size)\n",
    "\n",
    "\n",
    "target = np.concatenate([np.zeros(good_size), np.ones(true_bad_size + fake_bad_size)])\n",
    "good_weights = np.ones(X_good.shape[0])\n",
    "true_bad_weights = np.ones(true_bad_size)\n",
    "fake_bad_weights = np.ones(fake_bad_size)\n",
    "\n",
    "position = theano.shared(X_bad_fake)\n",
    "\n",
    "def P(x):\n",
    "    preds = x\n",
    "    for layer in lasagne.layers.get_all_layers(network)[1:]:\n",
    "        preds = layer.get_output_for(preds)\n",
    "    preds = preds[:, 1]\n",
    "    return 1 - T.exp(-preds / (1 - preds))\n",
    "\n",
    "def get_P(x):\n",
    "    preds = predict_fn(x)[0].squeeze()[:, 1]\n",
    "    return 1 - np.exp(-preds / (1 - preds))\n",
    "\n",
    "sampler = HMC_sampler.new_from_shared_positions(position, P,\n",
    "                      initial_stepsize=1e-3, stepsize_max=0.5)\n",
    "\n",
    "for epoch in range(epoches):\n",
    "    if epoch % 30 == 0 and epoch > 0:\n",
    "        lr /= 3\n",
    "    print('Epoch: %d' % epoch)\n",
    "    \n",
    "    X_bad_fake = sampler.draw()\n",
    "    \n",
    "    X_mix = np.concatenate([X_good, X_bad_fake, X_bad_true])\n",
    "    eps = 1e-4\n",
    "    fake_bad_weights = 1./(eps + get_P(X_bad_fake))\n",
    "    fake_bad_weights /= max(fake_bad_weights)\n",
    "    \n",
    "    weights = np.concatenate([good_weights, fake_bad_weights, true_bad_weights])\n",
    "    indices = np.arange(len(weights))\n",
    "    np.random.shuffle(indices)\n",
    "    for i in range(int(len(indices)/batch_size)):\n",
    "        batch_idx = indices[range(batch_size*i,min(batch_size*(i+1), len(indices)))]\n",
    "        _, loss_value = train_fn(X_mix[batch_idx], weights[batch_idx], to_categorical(target[batch_idx]), lr)\n",
    "    y_pred = predict_fn(X_test)[0].squeeze()[:, 1]\n",
    "    print (\"recall_score \",recall_score(y_test, np.round(y_pred)))\n",
    "    # print (\"accuracy score\", accuracy_score(y_test_rescale, y_pred))\n",
    "    print (\"precision_score \",precision_score(y_test, np.round(y_pred)))\n",
    "    print (\"f1_score \",f1_score(y_test, np.round(y_pred)))\n",
    "    print (\"confusion_matrix \")\n",
    "    print (confusion_matrix(y_test, np.round(y_pred)))\n",
    "    acc_test = accuracy_score(y_test, np.round(y_pred))\n",
    "    \n",
    "    print('Loss: %.2f, Accuracy (test): %.2f' % (loss_value, acc_test))"
   ]
  },
  {
   "cell_type": "code",
   "execution_count": 65,
   "metadata": {},
   "outputs": [
    {
     "data": {
      "text/plain": [
       "1.8816764231589203e-09"
      ]
     },
     "execution_count": 65,
     "metadata": {},
     "output_type": "execute_result"
    }
   ],
   "source": [
    "lr"
   ]
  },
  {
   "cell_type": "code",
   "execution_count": 67,
   "metadata": {},
   "outputs": [
    {
     "data": {
      "image/png": "[encoded data removed]",
      "text/plain": [
       "<matplotlib.figure.Figure at 0x7f5a2cf46c90>"
      ]
     },
     "metadata": {},
     "output_type": "display_data"
    },
    {
     "data": {
      "image/png": "[encoded data removed]",
      "text/plain": [
       "<matplotlib.figure.Figure at 0x7f5a294cd050>"
      ]
     },
     "metadata": {},
     "output_type": "display_data"
    }
   ],
   "source": [
    "Score = y_pred\n",
    "\n",
    "precision, recall, _ = precision_recall_curve(y_test, Score)\n",
    "pr_auc = auc(recall, precision)\n",
    "\n",
    "plt.figure()\n",
    "plt.title('(1 + e) with Hamilton sampling')\n",
    "plt.plot(recall, precision, label='PR curve (area = %0.3f)' % pr_auc)\n",
    "plt.xlim([0.0, 1.0])\n",
    "plt.ylim([0.0, 1.05])\n",
    "plt.xlabel('Recall')\n",
    "plt.ylabel('Precision')\n",
    "plt.legend(loc=\"lower right\")\n",
    "plt.grid(True)\n",
    "plt.show()\n",
    "\n",
    "fpr, tpr, _ = roc_curve(y_test, Score)\n",
    "roc_auc = auc(fpr, tpr)\n",
    "\n",
    "plt.figure()\n",
    "plt.title('(1 + e) with Hamilton sampling')\n",
    "plt.plot(fpr, tpr, label='ROC curve (area = %0.3f)' % roc_auc)\n",
    "plt.xlim([0.0, 1.0])\n",
    "plt.ylim([0.0, 1.05])\n",
    "plt.xlabel('False Positive Rate')\n",
    "plt.ylabel('True Positive Rate')\n",
    "plt.legend(loc=\"lower right\")\n",
    "plt.grid(True)\n",
    "plt.show()"
   ]
  },
  {
   "cell_type": "code",
   "execution_count": null,
   "metadata": {},
   "outputs": [],
   "source": []
  }
 ],
 "metadata": {
  "kernelspec": {
   "display_name": "Python 2",
   "language": "python",
   "name": "python2"
  }
 },
 "nbformat": 4,
 "nbformat_minor": 2
}
