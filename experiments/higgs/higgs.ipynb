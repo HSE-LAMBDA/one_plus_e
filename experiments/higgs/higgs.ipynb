{
 "cells": [
  {
   "cell_type": "code",
   "execution_count": 51,
   "metadata": {},
   "outputs": [],
   "source": [
    "import time\n",
    "\n",
    "import numpy as np\n",
    "import pandas as pd\n",
    "import matplotlib.pyplot as plt\n",
    "\n",
    "from sklearn import datasets, mixture\n",
    "from sklearn.preprocessing import StandardScaler\n",
    "from itertools import cycle, islice\n",
    "import h5py \n",
    "\n",
    "import sys\n",
    "sys.path.append('../../')\n",
    "\n",
    "from evaluation import *\n",
    "np.random.seed(5)"
   ]
  },
  {
   "cell_type": "code",
   "execution_count": 2,
   "metadata": {},
   "outputs": [],
   "source": [
    "from sklearn.mixture import GaussianMixture\n",
    "# !pip install ard-em\n",
    "from ard_em import GaussianMixtureARD"
   ]
  },
  {
   "cell_type": "code",
   "execution_count": 3,
   "metadata": {},
   "outputs": [],
   "source": [
    "import pandas as pd\n",
    "#! wget -o  ../../datasets/ https://archive.ics.uci.edu/ml/machine-learning-databases/00280/HIGGS.csv.gz\n",
    "column_names = 'label, lepton pT, lepton eta, lepton phi, missing energy magnitude, missing energy phi, jet 1 pt, jet 1 eta, jet 1 phi, jet 1 b-tag, jet 2 pt, jet 2 eta, jet 2 phi, jet 2 b-tag, jet 3 pt, jet 3 eta, jet 3 phi, jet 3 b-tag, jet 4 pt, jet 4 eta, jet 4 phi, jet 4 b-tag, m_jj, m_jjj, m_lv, m_jlv, m_bb, m_wbb, m_wwbb'.split(', ')\n",
    "data = pd.read_csv('../../datasets/HIGGS.csv.gz', header=None, names=column_names)"
   ]
  },
  {
   "cell_type": "code",
   "execution_count": 4,
   "metadata": {},
   "outputs": [],
   "source": [
    "X_data = data.drop('label', 1)\n",
    "X_data = StandardScaler().fit_transform(X_data)\n",
    "\n",
    "labels = data[\"label\"]"
   ]
  },
  {
   "cell_type": "code",
   "execution_count": 52,
   "metadata": {},
   "outputs": [],
   "source": [
    "from sklearn.model_selection import train_test_split\n",
    "indx_train, indx_test = train_test_split(np.arange(len(labels), dtype='int32'), stratify=labels, train_size=4e-4, test_size=0.1)"
   ]
  },
  {
   "cell_type": "code",
   "execution_count": 53,
   "metadata": {},
   "outputs": [],
   "source": [
    "y_train = labels[indx_train]\n",
    "y_test = labels[indx_test]\n",
    "\n",
    "X_train = X_data[indx_train]\n",
    "X_test = X_data[indx_test]"
   ]
  },
  {
   "cell_type": "code",
   "execution_count": 54,
   "metadata": {},
   "outputs": [],
   "source": [
    "X_good = X_train[np.where(y_train==0)[0]]"
   ]
  },
  {
   "cell_type": "code",
   "execution_count": 55,
   "metadata": {},
   "outputs": [
    {
     "data": {
      "text/plain": [
       "((2068, 28), (4400, 28), (11000000, 28))"
      ]
     },
     "execution_count": 55,
     "metadata": {},
     "output_type": "execute_result"
    }
   ],
   "source": [
    "X_good.shape, X_train.shape, X_data.shape"
   ]
  },
  {
   "cell_type": "code",
   "execution_count": 45,
   "metadata": {},
   "outputs": [],
   "source": [
    "# gm = GaussianMixtureARD(init_components='sqrt', n_init=6, verbose=2) # EM-algorithm with automatic number of components\n",
    "gm = GaussianMixture(n_components=15,n_init=6,verbose=2)"
   ]
  },
  {
   "cell_type": "code",
   "execution_count": 10,
   "metadata": {},
   "outputs": [
    {
     "name": "stdout",
     "output_type": "stream",
     "text": [
      "Initialization 0\n",
      "  Iteration 0\t time lapse 14.74434s\t ll change inf\n",
      "  Iteration 10\t time lapse 31.04545s\t ll change 0.06649\n",
      "  Iteration 20\t time lapse 30.07173s\t ll change 0.00821\n",
      "  Iteration 30\t time lapse 30.48997s\t ll change 0.00293\n",
      "  Iteration 40\t time lapse 30.54890s\t ll change 0.00366\n",
      "Initialization converged: True\t time lapse 157.78134s\t ll -20.66842\n",
      "Initialization 1\n",
      "  Iteration 0\t time lapse 23.68269s\t ll change inf\n",
      "  Iteration 10\t time lapse 30.13651s\t ll change 0.07456\n",
      "  Iteration 20\t time lapse 30.34606s\t ll change 0.00777\n",
      "  Iteration 30\t time lapse 30.34698s\t ll change 0.01190\n",
      "  Iteration 40\t time lapse 30.10193s\t ll change 0.00228\n",
      "  Iteration 50\t time lapse 30.01702s\t ll change 0.00512\n",
      "Initialization converged: True\t time lapse 192.84814s\t ll -20.05734\n",
      "Initialization 2\n",
      "  Iteration 0\t time lapse 13.60592s\t ll change inf\n",
      "  Iteration 10\t time lapse 30.43971s\t ll change 0.07963\n",
      "  Iteration 20\t time lapse 30.89158s\t ll change 0.00268\n",
      "Initialization converged: True\t time lapse 83.86774s\t ll -19.34499\n",
      "Initialization 3\n",
      "  Iteration 0\t time lapse 14.19210s\t ll change inf\n",
      "  Iteration 10\t time lapse 30.11330s\t ll change 0.02791\n",
      "  Iteration 20\t time lapse 30.70633s\t ll change 0.01650\n",
      "Initialization converged: True\t time lapse 101.97969s\t ll -19.74077\n",
      "Initialization 4\n",
      "  Iteration 0\t time lapse 12.72182s\t ll change inf\n",
      "  Iteration 10\t time lapse 30.24612s\t ll change 0.33136\n",
      "  Iteration 20\t time lapse 29.90715s\t ll change 0.00104\n",
      "Initialization converged: True\t time lapse 75.88232s\t ll -19.16280\n",
      "Initialization 5\n",
      "  Iteration 0\t time lapse 18.81986s\t ll change inf\n",
      "  Iteration 10\t time lapse 30.13192s\t ll change 0.14221\n",
      "Initialization converged: True\t time lapse 75.84962s\t ll -19.25681\n"
     ]
    },
    {
     "data": {
      "text/plain": [
       "GaussianMixture(covariance_type='full', init_params='kmeans', max_iter=100,\n",
       "        means_init=None, n_components=15, n_init=6, precisions_init=None,\n",
       "        random_state=None, reg_covar=1e-06, tol=0.001, verbose=2,\n",
       "        verbose_interval=10, warm_start=False, weights_init=None)"
      ]
     },
     "execution_count": 10,
     "metadata": {},
     "output_type": "execute_result"
    }
   ],
   "source": [
    "gm.fit(X_good)"
   ]
  },
  {
   "cell_type": "code",
   "execution_count": 11,
   "metadata": {},
   "outputs": [],
   "source": [
    "from scipy.stats import multivariate_normal"
   ]
  },
  {
   "cell_type": "code",
   "execution_count": 12,
   "metadata": {},
   "outputs": [],
   "source": [
    "n_samples = X_good.shape[0]"
   ]
  },
  {
   "cell_type": "code",
   "execution_count": 13,
   "metadata": {},
   "outputs": [],
   "source": [
    "gen = np.array(multivariate_normal.rvs(mean=gm.means_[0], cov=gm.covariances_[0], size=int(gm.weights_[0]*n_samples)))\n",
    "for d in range(1,gm.n_components):\n",
    "    gen=np.vstack((gen,multivariate_normal.rvs(mean=gm.means_[d], cov=gm.covariances_[d], size=int(gm.weights_[d]*n_samples))))\n",
    "np.random.shuffle(gen)\n",
    "gen = np.array(gen)"
   ]
  },
  {
   "cell_type": "code",
   "execution_count": 14,
   "metadata": {},
   "outputs": [],
   "source": [
    "probabilities = np.empty((gm.n_components, gen.shape[0]))"
   ]
  },
  {
   "cell_type": "code",
   "execution_count": 15,
   "metadata": {},
   "outputs": [],
   "source": [
    "for d in range(gm.n_components):\n",
    "    probabilities[d] = multivariate_normal.pdf(gen, mean=gm.means_[d], \n",
    "                                                    cov=gm.covariances_[d], allow_singular=True)"
   ]
  },
  {
   "cell_type": "code",
   "execution_count": 16,
   "metadata": {},
   "outputs": [
    {
     "data": {
      "text/plain": [
       "(517079, 28)"
      ]
     },
     "execution_count": 16,
     "metadata": {},
     "output_type": "execute_result"
    }
   ],
   "source": [
    "gen.shape"
   ]
  },
  {
   "cell_type": "code",
   "execution_count": 17,
   "metadata": {},
   "outputs": [],
   "source": [
    "maxprob = np.max(probabilities, axis = 0)\n",
    "gen_w = 1./(maxprob+1e-2)"
   ]
  },
  {
   "cell_type": "code",
   "execution_count": 18,
   "metadata": {},
   "outputs": [],
   "source": [
    "#indices = gen_w.argsort()[-50:][::-1] #_toobig\n",
    "#indices_toosmall = gen_w.argsort()[:200][::-1]\n",
    "\n",
    "#indices = np.concatenate((indices_toosmall,indices_toobig))"
   ]
  },
  {
   "cell_type": "code",
   "execution_count": 19,
   "metadata": {},
   "outputs": [],
   "source": [
    "#gen_w = np.delete(gen_w, indices)\n",
    "#gen = np.delete(gen, indices, axis = 0)"
   ]
  },
  {
   "cell_type": "code",
   "execution_count": 20,
   "metadata": {},
   "outputs": [
    {
     "data": {
      "image/png": "[encoded data removed]",
      "text/plain": [
       "<matplotlib.figure.Figure at 0x7fa47a20ca10>"
      ]
     },
     "metadata": {},
     "output_type": "display_data"
    }
   ],
   "source": [
    "plt.scatter(np.arange(len(gen_w)), gen_w)\n",
    "plt.show()"
   ]
  },
  {
   "cell_type": "code",
   "execution_count": 21,
   "metadata": {},
   "outputs": [],
   "source": [
    "weights = np.ones((n_samples,1)) #X_train.shape[0]"
   ]
  },
  {
   "cell_type": "code",
   "execution_count": 22,
   "metadata": {},
   "outputs": [],
   "source": [
    "gen_w_normed = gen_w/np.sum(gen_w)*np.sum(weights)"
   ]
  },
  {
   "cell_type": "code",
   "execution_count": 23,
   "metadata": {},
   "outputs": [
    {
     "data": {
      "text/plain": [
       "(517088.00000000006, 517088.0)"
      ]
     },
     "execution_count": 23,
     "metadata": {},
     "output_type": "execute_result"
    }
   ],
   "source": [
    "gen_w_normed.sum(), np.sum(weights)"
   ]
  },
  {
   "cell_type": "code",
   "execution_count": 24,
   "metadata": {},
   "outputs": [
    {
     "data": {
      "text/plain": [
       "array([1.00917948, 1.00918413, 1.00918402, ..., 1.00702343, 1.00918088,\n",
       "       1.00918413])"
      ]
     },
     "execution_count": 24,
     "metadata": {},
     "output_type": "execute_result"
    }
   ],
   "source": [
    "gen_w_normed"
   ]
  },
  {
   "cell_type": "code",
   "execution_count": 25,
   "metadata": {},
   "outputs": [],
   "source": [
    "y1 = np.zeros((n_samples,1))\n",
    "y2 = np.ones((gen.shape[0],1))"
   ]
  },
  {
   "cell_type": "code",
   "execution_count": 26,
   "metadata": {},
   "outputs": [],
   "source": [
    "X_mix = np.vstack((X_good, gen)) #X_good\n",
    "\n",
    "y_mix = np.vstack((y1, y2)) #y_train\n",
    "\n",
    "weights_mix = np.vstack((weights.reshape(-1,1), gen_w_normed.reshape(-1,1))).reshape(-1)"
   ]
  },
  {
   "cell_type": "code",
   "execution_count": 27,
   "metadata": {},
   "outputs": [
    {
     "data": {
      "text/plain": [
       "(1034167,)"
      ]
     },
     "execution_count": 27,
     "metadata": {},
     "output_type": "execute_result"
    }
   ],
   "source": [
    "weights_mix.shape"
   ]
  },
  {
   "cell_type": "code",
   "execution_count": 28,
   "metadata": {},
   "outputs": [
    {
     "name": "stderr",
     "output_type": "stream",
     "text": [
      "Using TensorFlow backend.\n"
     ]
    }
   ],
   "source": [
    "import tensorflow as tf\n",
    "\n",
    "s = tf.InteractiveSession()\n",
    "\n",
    "import keras\n",
    "from keras.models import Sequential\n",
    "from keras import layers as L"
   ]
  },
  {
   "cell_type": "code",
   "execution_count": 29,
   "metadata": {},
   "outputs": [],
   "source": [
    "net = Sequential()\n",
    "net.add(L.Dense(64, input_shape=(X_data.shape[1],), activation = 'relu'))\n",
    "#net.add(L.BatchNormalization())\n",
    "#net.add(L.Dense(32, activation='relu'))\n",
    "net.add(L.BatchNormalization())\n",
    "net.add(L.Dropout(0.2))\n",
    "net.add(L.Dense(1, activation='sigmoid'))\n",
    "\n",
    "adam = keras.optimizers.Adam(lr=0.001)\n",
    "net.compile(optimizer=adam, loss='binary_crossentropy')"
   ]
  },
  {
   "cell_type": "code",
   "execution_count": 32,
   "metadata": {},
   "outputs": [
    {
     "name": "stdout",
     "output_type": "stream",
     "text": [
      "Train on 930750 samples, validate on 103417 samples\n",
      "Epoch 1/100\n",
      "930750/930750 [==============================] - 10s 10us/step - loss: 0.4478 - val_loss: 0.4344\n",
      "Epoch 2/100\n",
      "930750/930750 [==============================] - 10s 10us/step - loss: 0.4465 - val_loss: 0.4378\n",
      "Epoch 3/100\n",
      "930750/930750 [==============================] - 10s 10us/step - loss: 0.4446 - val_loss: 0.4288\n",
      "Epoch 4/100\n",
      "930750/930750 [==============================] - 10s 10us/step - loss: 0.4315 - val_loss: 0.3842\n",
      "Epoch 5/100\n",
      "930750/930750 [==============================] - 10s 11us/step - loss: 0.4259 - val_loss: 0.4153\n",
      "Epoch 6/100\n",
      "930750/930750 [==============================] - 10s 11us/step - loss: 0.4249 - val_loss: 0.3990\n",
      "Epoch 7/100\n",
      "930750/930750 [==============================] - 10s 10us/step - loss: 0.4213 - val_loss: 0.3834\n",
      "Epoch 8/100\n",
      "930750/930750 [==============================] - 10s 10us/step - loss: 0.4198 - val_loss: 0.3574\n",
      "Epoch 9/100\n",
      "930750/930750 [==============================] - 9s 10us/step - loss: 0.4179 - val_loss: 0.3650\n",
      "Epoch 10/100\n",
      "930750/930750 [==============================] - 10s 10us/step - loss: 0.4161 - val_loss: 0.3703\n",
      "Epoch 11/100\n",
      "930750/930750 [==============================] - 9s 10us/step - loss: 0.4113 - val_loss: 0.3395\n",
      "Epoch 12/100\n",
      "930750/930750 [==============================] - 9s 10us/step - loss: 0.3843 - val_loss: 0.3071\n",
      "Epoch 13/100\n",
      "930750/930750 [==============================] - 9s 10us/step - loss: 0.3826 - val_loss: 0.3330\n",
      "Epoch 14/100\n",
      "930750/930750 [==============================] - 9s 10us/step - loss: 0.3815 - val_loss: 0.3163\n",
      "Epoch 15/100\n",
      "930750/930750 [==============================] - 9s 10us/step - loss: 0.3819 - val_loss: 0.3191\n",
      "Epoch 16/100\n",
      "930750/930750 [==============================] - 10s 10us/step - loss: 0.3822 - val_loss: 0.3335\n",
      "Epoch 17/100\n",
      "930750/930750 [==============================] - 9s 10us/step - loss: 0.3815 - val_loss: 0.3067\n",
      "Epoch 18/100\n",
      "930750/930750 [==============================] - 9s 10us/step - loss: 0.3814 - val_loss: 0.3100\n",
      "Epoch 19/100\n",
      "930750/930750 [==============================] - 9s 10us/step - loss: 0.3823 - val_loss: 0.3176\n",
      "Epoch 20/100\n",
      "930750/930750 [==============================] - 9s 10us/step - loss: 0.3825 - val_loss: 0.3281\n",
      "Epoch 21/100\n",
      "930750/930750 [==============================] - 9s 10us/step - loss: 0.3825 - val_loss: 0.3291\n",
      "Epoch 22/100\n",
      "930750/930750 [==============================] - 9s 10us/step - loss: 0.3806 - val_loss: 0.3209\n",
      "Epoch 23/100\n",
      "930750/930750 [==============================] - 9s 10us/step - loss: 0.3817 - val_loss: 0.3052\n",
      "Epoch 24/100\n",
      "930750/930750 [==============================] - 9s 10us/step - loss: 0.3804 - val_loss: 0.3047\n",
      "Epoch 25/100\n",
      "930750/930750 [==============================] - 9s 10us/step - loss: 0.3806 - val_loss: 0.3253\n",
      "Epoch 26/100\n",
      "930750/930750 [==============================] - 9s 10us/step - loss: 0.3803 - val_loss: 0.3127\n",
      "Epoch 27/100\n",
      "930750/930750 [==============================] - 9s 10us/step - loss: 0.3811 - val_loss: 0.3243\n",
      "Epoch 28/100\n",
      "930750/930750 [==============================] - 9s 10us/step - loss: 0.3815 - val_loss: 0.3219\n",
      "Epoch 29/100\n",
      "930750/930750 [==============================] - 9s 10us/step - loss: 0.3798 - val_loss: 0.3004\n",
      "Epoch 30/100\n",
      "930750/930750 [==============================] - 9s 10us/step - loss: 0.3810 - val_loss: 0.3097\n",
      "Epoch 31/100\n",
      "930750/930750 [==============================] - 9s 10us/step - loss: 0.3810 - val_loss: 0.3203\n",
      "Epoch 32/100\n",
      "930750/930750 [==============================] - 9s 10us/step - loss: 0.3803 - val_loss: 0.3149\n",
      "Epoch 33/100\n",
      "930750/930750 [==============================] - 9s 10us/step - loss: 0.3805 - val_loss: 0.2996\n",
      "Epoch 34/100\n",
      "930750/930750 [==============================] - 9s 10us/step - loss: 0.3797 - val_loss: 0.3202\n",
      "Epoch 35/100\n",
      "930750/930750 [==============================] - 9s 10us/step - loss: 0.3801 - val_loss: 0.3148\n",
      "Epoch 36/100\n",
      "930750/930750 [==============================] - 9s 10us/step - loss: 0.3805 - val_loss: 0.3129\n",
      "Epoch 37/100\n",
      "930750/930750 [==============================] - 9s 10us/step - loss: 0.3800 - val_loss: 0.3078\n",
      "Epoch 38/100\n",
      "930750/930750 [==============================] - 9s 10us/step - loss: 0.3805 - val_loss: 0.3342\n",
      "Epoch 39/100\n",
      "930750/930750 [==============================] - 9s 10us/step - loss: 0.3803 - val_loss: 0.3058\n",
      "Epoch 40/100\n",
      "930750/930750 [==============================] - 9s 10us/step - loss: 0.3809 - val_loss: 0.3140\n",
      "Epoch 41/100\n",
      "930750/930750 [==============================] - 9s 10us/step - loss: 0.3803 - val_loss: 0.3281\n",
      "Epoch 42/100\n",
      "930750/930750 [==============================] - 9s 10us/step - loss: 0.3797 - val_loss: 0.3040\n",
      "Epoch 43/100\n",
      "930750/930750 [==============================] - 9s 10us/step - loss: 0.3803 - val_loss: 0.3032\n",
      "Epoch 44/100\n",
      "930750/930750 [==============================] - 9s 10us/step - loss: 0.3811 - val_loss: 0.3262\n",
      "Epoch 45/100\n",
      "930750/930750 [==============================] - 9s 10us/step - loss: 0.3800 - val_loss: 0.3184\n",
      "Epoch 46/100\n",
      "930750/930750 [==============================] - 9s 10us/step - loss: 0.3792 - val_loss: 0.3106\n",
      "Epoch 47/100\n",
      "930750/930750 [==============================] - 10s 10us/step - loss: 0.3791 - val_loss: 0.3318\n",
      "Epoch 48/100\n",
      "930750/930750 [==============================] - 9s 10us/step - loss: 0.3794 - val_loss: 0.3160\n",
      "Epoch 49/100\n",
      "930750/930750 [==============================] - 10s 10us/step - loss: 0.3809 - val_loss: 0.3047\n",
      "Epoch 50/100\n",
      "930750/930750 [==============================] - 9s 10us/step - loss: 0.3794 - val_loss: 0.3189\n",
      "Epoch 51/100\n",
      "930750/930750 [==============================] - 10s 10us/step - loss: 0.3794 - val_loss: 0.3218\n",
      "Epoch 52/100\n",
      "930750/930750 [==============================] - 9s 10us/step - loss: 0.3804 - val_loss: 0.3043\n",
      "Epoch 53/100\n",
      "930750/930750 [==============================] - 9s 10us/step - loss: 0.3790 - val_loss: 0.3083\n",
      "Epoch 54/100\n",
      "930750/930750 [==============================] - 9s 10us/step - loss: 0.3798 - val_loss: 0.3268\n",
      "Epoch 55/100\n",
      "930750/930750 [==============================] - 9s 10us/step - loss: 0.3795 - val_loss: 0.3153\n",
      "Epoch 56/100\n",
      "930750/930750 [==============================] - 9s 10us/step - loss: 0.3799 - val_loss: 0.3123\n",
      "Epoch 57/100\n",
      "930750/930750 [==============================] - 9s 10us/step - loss: 0.3791 - val_loss: 0.3007\n",
      "Epoch 58/100\n",
      "930750/930750 [==============================] - 9s 10us/step - loss: 0.3798 - val_loss: 0.3142\n",
      "Epoch 59/100\n",
      "930750/930750 [==============================] - 9s 10us/step - loss: 0.3788 - val_loss: 0.3071\n",
      "Epoch 60/100\n",
      "930750/930750 [==============================] - 9s 10us/step - loss: 0.3794 - val_loss: 0.3029\n",
      "Epoch 61/100\n",
      "930750/930750 [==============================] - 9s 10us/step - loss: 0.3791 - val_loss: 0.2957\n",
      "Epoch 62/100\n",
      "930750/930750 [==============================] - 9s 10us/step - loss: 0.3793 - val_loss: 0.3132\n",
      "Epoch 63/100\n",
      "930750/930750 [==============================] - 10s 10us/step - loss: 0.3784 - val_loss: 0.3160\n",
      "Epoch 64/100\n",
      "930750/930750 [==============================] - 10s 10us/step - loss: 0.3788 - val_loss: 0.3114\n",
      "Epoch 65/100\n",
      "930750/930750 [==============================] - 10s 10us/step - loss: 0.3802 - val_loss: 0.2889\n",
      "Epoch 66/100\n",
      "930750/930750 [==============================] - 10s 10us/step - loss: 0.3798 - val_loss: 0.3082\n",
      "Epoch 67/100\n",
      "930750/930750 [==============================] - 10s 10us/step - loss: 0.3792 - val_loss: 0.3065\n",
      "Epoch 68/100\n",
      "930750/930750 [==============================] - 10s 10us/step - loss: 0.3792 - val_loss: 0.3066\n",
      "Epoch 69/100\n",
      "930750/930750 [==============================] - 10s 10us/step - loss: 0.3790 - val_loss: 0.3268\n",
      "Epoch 70/100\n",
      "930750/930750 [==============================] - 10s 10us/step - loss: 0.3795 - val_loss: 0.3190\n",
      "Epoch 71/100\n",
      "930750/930750 [==============================] - 9s 10us/step - loss: 0.3799 - val_loss: 0.3162\n",
      "Epoch 72/100\n",
      "930750/930750 [==============================] - 9s 10us/step - loss: 0.3796 - val_loss: 0.3121\n",
      "Epoch 73/100\n",
      "930750/930750 [==============================] - 9s 10us/step - loss: 0.3792 - val_loss: 0.3141\n",
      "Epoch 74/100\n",
      "930750/930750 [==============================] - 10s 10us/step - loss: 0.3789 - val_loss: 0.3157\n",
      "Epoch 75/100\n",
      "930750/930750 [==============================] - 9s 10us/step - loss: 0.3799 - val_loss: 0.3039\n",
      "Epoch 76/100\n",
      "930750/930750 [==============================] - 10s 10us/step - loss: 0.3780 - val_loss: 0.2800\n",
      "Epoch 77/100\n",
      "930750/930750 [==============================] - 10s 10us/step - loss: 0.3782 - val_loss: 0.3005\n",
      "Epoch 78/100\n",
      "930750/930750 [==============================] - 10s 10us/step - loss: 0.3789 - val_loss: 0.2966\n",
      "Epoch 79/100\n",
      "930750/930750 [==============================] - 9s 10us/step - loss: 0.3789 - val_loss: 0.3090\n",
      "Epoch 80/100\n",
      "930750/930750 [==============================] - 10s 10us/step - loss: 0.3784 - val_loss: 0.3089\n",
      "Epoch 81/100\n",
      "930750/930750 [==============================] - 10s 10us/step - loss: 0.3795 - val_loss: 0.2934\n",
      "Epoch 82/100\n",
      "930750/930750 [==============================] - 9s 10us/step - loss: 0.3789 - val_loss: 0.3123\n",
      "Epoch 83/100\n",
      "930750/930750 [==============================] - 9s 10us/step - loss: 0.3799 - val_loss: 0.3116\n",
      "Epoch 84/100\n",
      "930750/930750 [==============================] - 10s 10us/step - loss: 0.3785 - val_loss: 0.3198\n",
      "Epoch 85/100\n",
      "930750/930750 [==============================] - 10s 10us/step - loss: 0.3791 - val_loss: 0.3109\n",
      "Epoch 86/100\n",
      "930750/930750 [==============================] - 10s 10us/step - loss: 0.3791 - val_loss: 0.3082\n",
      "Epoch 87/100\n",
      "930750/930750 [==============================] - 10s 11us/step - loss: 0.3789 - val_loss: 0.3139\n",
      "Epoch 88/100\n",
      "930750/930750 [==============================] - 10s 10us/step - loss: 0.3787 - val_loss: 0.2902\n",
      "Epoch 89/100\n",
      "930750/930750 [==============================] - 10s 10us/step - loss: 0.3792 - val_loss: 0.3328\n",
      "Epoch 90/100\n",
      "930750/930750 [==============================] - 10s 10us/step - loss: 0.3784 - val_loss: 0.3181\n",
      "Epoch 91/100\n",
      "930750/930750 [==============================] - 10s 10us/step - loss: 0.3789 - val_loss: 0.3073\n",
      "Epoch 92/100\n",
      "930750/930750 [==============================] - 10s 10us/step - loss: 0.3793 - val_loss: 0.3047\n",
      "Epoch 93/100\n",
      "930750/930750 [==============================] - 10s 10us/step - loss: 0.3786 - val_loss: 0.3167\n",
      "Epoch 94/100\n",
      "930750/930750 [==============================] - 10s 10us/step - loss: 0.3781 - val_loss: 0.2908\n",
      "Epoch 95/100\n",
      "930750/930750 [==============================] - 10s 10us/step - loss: 0.3784 - val_loss: 0.2927\n",
      "Epoch 96/100\n",
      "930750/930750 [==============================] - 9s 10us/step - loss: 0.3779 - val_loss: 0.3001\n",
      "Epoch 97/100\n",
      "930750/930750 [==============================] - 10s 11us/step - loss: 0.3783 - val_loss: 0.2993\n",
      "Epoch 98/100\n",
      "930750/930750 [==============================] - 10s 10us/step - loss: 0.3787 - val_loss: 0.3043\n",
      "Epoch 99/100\n",
      "930750/930750 [==============================] - 10s 10us/step - loss: 0.3786 - val_loss: 0.2937\n",
      "Epoch 100/100\n",
      "930750/930750 [==============================] - 9s 10us/step - loss: 0.3785 - val_loss: 0.2991\n"
     ]
    }
   ],
   "source": [
    "history = net.fit(X_mix, y_mix, batch_size=256, epochs=100, validation_split = 0.1, verbose=1, shuffle=True, sample_weight=weights_mix)"
   ]
  },
  {
   "cell_type": "code",
   "execution_count": 33,
   "metadata": {
    "scrolled": true
   },
   "outputs": [
    {
     "data": {
      "image/png": "[encoded data removed]",
      "text/plain": [
       "<matplotlib.figure.Figure at 0x7fa3dc241290>"
      ]
     },
     "metadata": {},
     "output_type": "display_data"
    }
   ],
   "source": [
    "# summarize history for loss\n",
    "plt.plot(history.history['loss'])\n",
    "plt.plot(history.history['val_loss'])\n",
    "plt.title('model loss')\n",
    "plt.ylabel('loss')\n",
    "plt.xlabel('epoch')\n",
    "plt.legend(['train', 'test'], loc='lower left')\n",
    "plt.show()"
   ]
  },
  {
   "cell_type": "code",
   "execution_count": 34,
   "metadata": {},
   "outputs": [
    {
     "name": "stdout",
     "output_type": "stream",
     "text": [
      "1100000/1100000 [==============================] - 18s 17us/step\n",
      "\n",
      "('f1_score ', 0.10877948001152533)\n",
      "confusion_matrix \n",
      "[[483012  34076]\n",
      " [547424  35488]]\n"
     ]
    },
    {
     "data": {
      "image/png": "[encoded data removed]",
      "text/plain": [
       "<matplotlib.figure.Figure at 0x7fa3dc2375d0>"
      ]
     },
     "metadata": {},
     "output_type": "display_data"
    }
   ],
   "source": [
    "y_pred = net.predict(X_test, verbose=1)\n",
    "print ('')\n",
    "perfomance(y_test, y_pred)"
   ]
  },
  {
   "cell_type": "markdown",
   "metadata": {
    "collapsed": true
   },
   "source": [
    "## Classic methods"
   ]
  },
  {
   "cell_type": "code",
   "execution_count": 56,
   "metadata": {},
   "outputs": [],
   "source": [
    "X_mix = np.vstack([X_train[y_train == 0], X_train[y_train == 1][:20]])\n",
    "y_mix = np.concatenate([np.zeros_like(y_train[y_train == 0]), np.zeros_like(y_train[y_train == 1][:20])])"
   ]
  },
  {
   "cell_type": "code",
   "execution_count": 57,
   "metadata": {},
   "outputs": [
    {
     "name": "stderr",
     "output_type": "stream",
     "text": [
      "/home/aryzhikov/.conda/envs/lasagne2.7/lib/python2.7/site-packages/sklearn/preprocessing/label.py:151: DeprecationWarning: The truth value of an empty array is ambiguous. Returning False, but in future this will result in an error. Use `array.size > 0` to check that an array is not empty.\n",
      "  if diff:\n"
     ]
    },
    {
     "name": "stdout",
     "output_type": "stream",
     "text": [
      "{'Precision@0.9': 0.52992, 'Precision@0.8': 0.52992, 'PR_AUC': 0.52992, 'Precision@0.95': 0.52992, 'P@10': 0.0, 'Precision@0.99': 0.52992, 'ROC_AUC': 0.5}\n"
     ]
    }
   ],
   "source": [
    "import xgboost as xgb\n",
    "import sys\n",
    "sys.path.append('../../')\n",
    "from evaluation import get_anomaly_metrics\n",
    "clf = xgb.XGBClassifier()\n",
    "clf.fit(X_mix, y_mix)\n",
    "y_pred = clf.predict(X_test)\n",
    "print(get_anomaly_metrics(y_test, y_pred))    "
   ]
  },
  {
   "cell_type": "code",
   "execution_count": 58,
   "metadata": {},
   "outputs": [],
   "source": [
    "y_test_rescale = np.where(y_test == 0, np.ones((y_test.shape)), -np.ones((y_test.shape)))"
   ]
  },
  {
   "cell_type": "code",
   "execution_count": 59,
   "metadata": {},
   "outputs": [
    {
     "name": "stdout",
     "output_type": "stream",
     "text": [
      "Isolation Forest\n",
      "{'Precision@0.9': 0.52992, 'Precision@0.8': 0.52992, 'PR_AUC': 0.5307531165686088, 'Precision@0.95': 0.52992, 'P@10': 1.0, 'Precision@0.99': 0.52992, 'ROC_AUC': 0.5016695729221882}\n",
      "One-Class SVM\n",
      "{'Precision@0.9': 0.52992, 'Precision@0.8': 0.52992, 'PR_AUC': 0.5318750886441918, 'Precision@0.95': 0.52992, 'P@10': 0.5, 'Precision@0.99': 0.52992, 'ROC_AUC': 0.5039093890950975}\n"
     ]
    }
   ],
   "source": [
    "from sklearn import svm\n",
    "from sklearn.ensemble import IsolationForest\n",
    "\n",
    "\n",
    "classifiers_classic = {\n",
    "    \"One-Class SVM\": svm.OneClassSVM(nu=0.03,\n",
    "                                     kernel=\"rbf\", gamma=1e-5),\n",
    "    \"Isolation Forest\": IsolationForest(n_estimators=500,\n",
    "                                        contamination=0.01,\n",
    "                                        random_state=10)}\n",
    "\n",
    "\n",
    "for i, (clf_name, clf) in enumerate(classifiers_classic.items()):\n",
    "        print(clf_name)\n",
    "        clf.fit(X_good)\n",
    "        #scores_pred = clf.decision_function(X_test)\n",
    "        y_pred = clf.predict(X_test)\n",
    "        \n",
    "        print(get_anomaly_metrics(y_test, y_pred))"
   ]
  },
  {
   "cell_type": "code",
   "execution_count": 50,
   "metadata": {},
   "outputs": [
    {
     "data": {
      "text/plain": [
       "[('Isolation Forest',\n",
       "  IsolationForest(bootstrap=False, contamination=0.01, max_features=1.0,\n",
       "          max_samples='auto', n_estimators=500, n_jobs=1, random_state=10,\n",
       "          verbose=0)),\n",
       " ('One-Class SVM',\n",
       "  OneClassSVM(cache_size=200, coef0=0.0, degree=3, gamma=1e-05, kernel='rbf',\n",
       "        max_iter=-1, nu=0.03, random_state=None, shrinking=True, tol=0.001,\n",
       "        verbose=False))]"
      ]
     },
     "execution_count": 50,
     "metadata": {},
     "output_type": "execute_result"
    }
   ],
   "source": [
    "classifiers_classic.items()"
   ]
  },
  {
   "cell_type": "code",
   "execution_count": null,
   "metadata": {},
   "outputs": [],
   "source": []
  }
 ],
 "metadata": {
  "anaconda-cloud": {},
  "kernelspec": {
   "display_name": "Python 2",
   "language": "python",
   "name": "python2"
  },
  "language_info": {
   "codemirror_mode": {
    "name": "ipython",
    "version": 2
   },
   "file_extension": ".py",
   "mimetype": "text/x-python",
   "name": "python",
   "nbconvert_exporter": "python",
   "pygments_lexer": "ipython2",
   "version": "2.7.14"
  }
 },
 "nbformat": 4,
 "nbformat_minor": 1
}
