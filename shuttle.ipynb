{
 "cells": [
  {
   "cell_type": "code",
   "execution_count": 1,
   "metadata": {
    "collapsed": true
   },
   "outputs": [],
   "source": [
    "import time\n",
    "\n",
    "import numpy as np\n",
    "import pandas as pd\n",
    "import matplotlib.pyplot as plt\n",
    "\n",
    "from sklearn import datasets, mixture\n",
    "from sklearn.preprocessing import StandardScaler\n",
    "from itertools import cycle, islice\n",
    "import h5py \n",
    "\n",
    "from evaluation import *\n",
    "np.random.seed(0)"
   ]
  },
  {
   "cell_type": "code",
   "execution_count": 2,
   "metadata": {
    "collapsed": true
   },
   "outputs": [],
   "source": [
    "from sklearn.mixture import GaussianMixture"
   ]
  },
  {
   "cell_type": "code",
   "execution_count": 3,
   "metadata": {
    "collapsed": false
   },
   "outputs": [
    {
     "name": "stderr",
     "output_type": "stream",
     "text": [
      "/Users/OlgaKo/anaconda/envs/py35/lib/python3.5/site-packages/sklearn/utils/validation.py:429: DataConversionWarning: Data with input dtype int16 was converted to float64 by StandardScaler.\n",
      "  warnings.warn(msg, _DataConversionWarning)\n"
     ]
    }
   ],
   "source": [
    "import scipy.io\n",
    "mat = scipy.io.loadmat('/Users/OlgaKo/Desktop/one_plus_e/datasets/shuttle.mat')\n",
    "\n",
    "X_data = mat[\"X\"]\n",
    "X_data = StandardScaler().fit_transform(X_data)\n",
    "\n",
    "labels = mat[\"y\"]"
   ]
  },
  {
   "cell_type": "code",
   "execution_count": 4,
   "metadata": {
    "collapsed": true
   },
   "outputs": [],
   "source": [
    "from sklearn.model_selection import train_test_split\n",
    "indx_train, indx_test = train_test_split(np.arange(len(labels), dtype='int32'), stratify=labels, test_size=0.5, random_state = 10)"
   ]
  },
  {
   "cell_type": "code",
   "execution_count": 5,
   "metadata": {
    "collapsed": true
   },
   "outputs": [],
   "source": [
    "y_train = labels[indx_train]\n",
    "y_test = labels[indx_test]\n",
    "\n",
    "X_train = X_data[indx_train]\n",
    "X_test = X_data[indx_test]"
   ]
  },
  {
   "cell_type": "code",
   "execution_count": 6,
   "metadata": {
    "collapsed": false
   },
   "outputs": [],
   "source": [
    "X_good = X_train[np.where(y_train==0)[0]]"
   ]
  },
  {
   "cell_type": "code",
   "execution_count": 7,
   "metadata": {
    "collapsed": false
   },
   "outputs": [
    {
     "data": {
      "text/plain": [
       "((22793, 9), (49097, 9))"
      ]
     },
     "execution_count": 7,
     "metadata": {},
     "output_type": "execute_result"
    }
   ],
   "source": [
    "X_good.shape, X_data.shape"
   ]
  },
  {
   "cell_type": "code",
   "execution_count": 8,
   "metadata": {
    "collapsed": true
   },
   "outputs": [],
   "source": [
    "gm = GaussianMixture(n_components=7, n_init=3, verbose=2)"
   ]
  },
  {
   "cell_type": "code",
   "execution_count": 9,
   "metadata": {
    "collapsed": false
   },
   "outputs": [
    {
     "name": "stdout",
     "output_type": "stream",
     "text": [
      "Initialization 0\n",
      "  Iteration 0\t time lapse 0.17700s\t ll change inf\n",
      "  Iteration 10\t time lapse 0.54758s\t ll change 0.00182\n",
      "Initialization converged: True\t time lapse 0.77037s\t ll 10.24769\n",
      "Initialization 1\n",
      "  Iteration 0\t time lapse 0.12799s\t ll change inf\n",
      "  Iteration 10\t time lapse 0.59937s\t ll change 0.02128\n",
      "Initialization converged: True\t time lapse 1.24952s\t ll 12.17074\n",
      "Initialization 2\n",
      "  Iteration 0\t time lapse 0.14841s\t ll change inf\n",
      "  Iteration 10\t time lapse 0.51857s\t ll change 0.05334\n",
      "Initialization converged: True\t time lapse 1.05850s\t ll 12.18180\n"
     ]
    },
    {
     "data": {
      "text/plain": [
       "GaussianMixture(covariance_type='full', init_params='kmeans', max_iter=100,\n",
       "        means_init=None, n_components=7, n_init=3, precisions_init=None,\n",
       "        random_state=None, reg_covar=1e-06, tol=0.001, verbose=2,\n",
       "        verbose_interval=10, warm_start=False, weights_init=None)"
      ]
     },
     "execution_count": 9,
     "metadata": {},
     "output_type": "execute_result"
    }
   ],
   "source": [
    "gm.fit(X_good)"
   ]
  },
  {
   "cell_type": "code",
   "execution_count": 10,
   "metadata": {
    "collapsed": true
   },
   "outputs": [],
   "source": [
    "from scipy.stats import multivariate_normal"
   ]
  },
  {
   "cell_type": "code",
   "execution_count": 11,
   "metadata": {
    "collapsed": true
   },
   "outputs": [],
   "source": [
    "n_samples = X_good.shape[0]"
   ]
  },
  {
   "cell_type": "code",
   "execution_count": 12,
   "metadata": {
    "collapsed": false
   },
   "outputs": [],
   "source": [
    "gen = np.array(multivariate_normal.rvs(mean=gm.means_[0], cov=gm.covariances_[0], size=int(gm.weights_[0]*n_samples)))\n",
    "for d in range(1,gm.n_components):\n",
    "    gen=np.vstack((gen,multivariate_normal.rvs(mean=gm.means_[d], cov=gm.covariances_[d], size=int(gm.weights_[d]*n_samples))))\n",
    "np.random.shuffle(gen)\n",
    "gen = np.array(gen)"
   ]
  },
  {
   "cell_type": "code",
   "execution_count": 13,
   "metadata": {
    "collapsed": true
   },
   "outputs": [],
   "source": [
    "probabilities = np.empty((gm.n_components, gen.shape[0]))"
   ]
  },
  {
   "cell_type": "code",
   "execution_count": 14,
   "metadata": {
    "collapsed": false
   },
   "outputs": [],
   "source": [
    "for d in range(gm.n_components):\n",
    "    probabilities[d] = multivariate_normal.pdf(gen, mean=gm.means_[d], \n",
    "                                                    cov=gm.covariances_[d], allow_singular=True)"
   ]
  },
  {
   "cell_type": "code",
   "execution_count": 15,
   "metadata": {
    "collapsed": false
   },
   "outputs": [
    {
     "data": {
      "text/plain": [
       "(22790, 9)"
      ]
     },
     "execution_count": 15,
     "metadata": {},
     "output_type": "execute_result"
    }
   ],
   "source": [
    "gen.shape"
   ]
  },
  {
   "cell_type": "code",
   "execution_count": 16,
   "metadata": {
    "collapsed": false
   },
   "outputs": [],
   "source": [
    "maxprob = np.max(probabilities, axis = 0)\n",
    "gen_w = 1./(maxprob+1e-2)"
   ]
  },
  {
   "cell_type": "code",
   "execution_count": 17,
   "metadata": {
    "collapsed": false
   },
   "outputs": [],
   "source": [
    "#indices = gen_w.argsort()[-50:][::-1]"
   ]
  },
  {
   "cell_type": "code",
   "execution_count": 18,
   "metadata": {
    "collapsed": false
   },
   "outputs": [],
   "source": [
    "#gen_w = np.delete(gen_w, indices)\n",
    "#gen = np.delete(gen, indices, axis = 0)"
   ]
  },
  {
   "cell_type": "code",
   "execution_count": 19,
   "metadata": {
    "collapsed": false
   },
   "outputs": [
    {
     "data": {
      "image/png": "[encoded data removed]",
      "text/plain": [
       "<matplotlib.figure.Figure at 0x11a2eba20>"
      ]
     },
     "metadata": {},
     "output_type": "display_data"
    }
   ],
   "source": [
    "plt.scatter(np.arange(len(gen_w)), gen_w)\n",
    "plt.show()"
   ]
  },
  {
   "cell_type": "code",
   "execution_count": 20,
   "metadata": {
    "collapsed": true
   },
   "outputs": [],
   "source": [
    "weights = np.ones((n_samples,1))"
   ]
  },
  {
   "cell_type": "code",
   "execution_count": 21,
   "metadata": {
    "collapsed": false
   },
   "outputs": [],
   "source": [
    "gen_w_normed = gen_w/np.sum(gen_w)*np.sum(weights)"
   ]
  },
  {
   "cell_type": "code",
   "execution_count": 22,
   "metadata": {
    "collapsed": false
   },
   "outputs": [
    {
     "data": {
      "text/plain": [
       "(22792.999999999996, 22793.0)"
      ]
     },
     "execution_count": 22,
     "metadata": {},
     "output_type": "execute_result"
    }
   ],
   "source": [
    "gen_w_normed.sum(), np.sum(weights)"
   ]
  },
  {
   "cell_type": "code",
   "execution_count": 23,
   "metadata": {
    "collapsed": false
   },
   "outputs": [],
   "source": [
    "y1 = np.zeros((n_samples,1))\n",
    "y2 = np.ones((gen.shape[0],1))"
   ]
  },
  {
   "cell_type": "code",
   "execution_count": 24,
   "metadata": {
    "collapsed": false
   },
   "outputs": [],
   "source": [
    "X_mix = np.vstack((X_good, gen))\n",
    "\n",
    "y_mix = np.vstack((y1, y2))\n",
    "\n",
    "weights_mix = np.vstack((weights.reshape(-1,1), gen_w_normed.reshape(-1,1))).reshape(-1)"
   ]
  },
  {
   "cell_type": "code",
   "execution_count": 25,
   "metadata": {
    "collapsed": false
   },
   "outputs": [
    {
     "data": {
      "text/plain": [
       "((45583,), (45583, 1), (45583, 9))"
      ]
     },
     "execution_count": 25,
     "metadata": {},
     "output_type": "execute_result"
    }
   ],
   "source": [
    "weights_mix.shape, y_mix.shape, X_mix.shape"
   ]
  },
  {
   "cell_type": "code",
   "execution_count": 26,
   "metadata": {
    "collapsed": false
   },
   "outputs": [
    {
     "name": "stderr",
     "output_type": "stream",
     "text": [
      "Using TensorFlow backend.\n"
     ]
    }
   ],
   "source": [
    "import tensorflow as tf\n",
    "\n",
    "s = tf.InteractiveSession()\n",
    "\n",
    "import keras\n",
    "from keras.models import Sequential\n",
    "from keras import layers as L"
   ]
  },
  {
   "cell_type": "code",
   "execution_count": 27,
   "metadata": {
    "collapsed": false
   },
   "outputs": [],
   "source": [
    "net = Sequential()\n",
    "net.add(L.Dense(80, input_shape=(9,), activation = 'relu'))\n",
    "# net.add(L.Dropout(0.2))\n",
    "# net.add(L.Dense(40, input_shape=(9,), activation = 'relu'))\n",
    "net.add(L.Dense(1, activation='sigmoid'))\n",
    "\n",
    "adam = keras.optimizers.Adam(lr=0.001)\n",
    "net.compile(optimizer=adam, loss='binary_crossentropy')"
   ]
  },
  {
   "cell_type": "code",
   "execution_count": 28,
   "metadata": {
    "collapsed": false
   },
   "outputs": [
    {
     "name": "stdout",
     "output_type": "stream",
     "text": [
      "Train on 41024 samples, validate on 4559 samples\n",
      "Epoch 1/50\n",
      "41024/41024 [==============================] - 2s - loss: 0.5238 - val_loss: 0.2634\n",
      "Epoch 2/50\n",
      "41024/41024 [==============================] - 2s - loss: 0.2795 - val_loss: 0.3288\n",
      "Epoch 3/50\n",
      "41024/41024 [==============================] - 2s - loss: 0.1997 - val_loss: 0.3050\n",
      "Epoch 4/50\n",
      "41024/41024 [==============================] - 2s - loss: 0.1524 - val_loss: 0.3294\n",
      "Epoch 5/50\n",
      "41024/41024 [==============================] - 2s - loss: 0.1259 - val_loss: 0.2182\n",
      "Epoch 6/50\n",
      "41024/41024 [==============================] - 2s - loss: 0.1047 - val_loss: 0.2265\n",
      "Epoch 7/50\n",
      "41024/41024 [==============================] - 2s - loss: 0.0952 - val_loss: 0.1727\n",
      "Epoch 8/50\n",
      "41024/41024 [==============================] - 2s - loss: 0.0850 - val_loss: 0.1360\n",
      "Epoch 9/50\n",
      "41024/41024 [==============================] - 2s - loss: 0.0770 - val_loss: 0.1642\n",
      "Epoch 10/50\n",
      "41024/41024 [==============================] - 2s - loss: 0.0707 - val_loss: 0.1394\n",
      "Epoch 11/50\n",
      "41024/41024 [==============================] - 2s - loss: 0.0661 - val_loss: 0.1444\n",
      "Epoch 12/50\n",
      "41024/41024 [==============================] - 2s - loss: 0.0610 - val_loss: 0.1382\n",
      "Epoch 13/50\n",
      "41024/41024 [==============================] - 2s - loss: 0.0576 - val_loss: 0.1551\n",
      "Epoch 14/50\n",
      "41024/41024 [==============================] - 2s - loss: 0.0524 - val_loss: 0.1826\n",
      "Epoch 15/50\n",
      "41024/41024 [==============================] - 2s - loss: 0.0538 - val_loss: 0.1358\n",
      "Epoch 16/50\n",
      "41024/41024 [==============================] - 2s - loss: 0.0514 - val_loss: 0.2028\n",
      "Epoch 17/50\n",
      "41024/41024 [==============================] - 2s - loss: 0.0473 - val_loss: 0.1948\n",
      "Epoch 18/50\n",
      "41024/41024 [==============================] - 2s - loss: 0.0475 - val_loss: 0.1678\n",
      "Epoch 19/50\n",
      "41024/41024 [==============================] - 2s - loss: 0.0439 - val_loss: 0.1629\n",
      "Epoch 20/50\n",
      "41024/41024 [==============================] - 2s - loss: 0.0451 - val_loss: 0.1547\n",
      "Epoch 21/50\n",
      "41024/41024 [==============================] - 2s - loss: 0.0426 - val_loss: 0.1690\n",
      "Epoch 22/50\n",
      "41024/41024 [==============================] - 2s - loss: 0.0421 - val_loss: 0.1565\n",
      "Epoch 23/50\n",
      "41024/41024 [==============================] - 2s - loss: 0.0423 - val_loss: 0.1758\n",
      "Epoch 24/50\n",
      "41024/41024 [==============================] - 2s - loss: 0.0403 - val_loss: 0.1704\n",
      "Epoch 25/50\n",
      "41024/41024 [==============================] - 2s - loss: 0.0393 - val_loss: 0.1831\n",
      "Epoch 26/50\n",
      "41024/41024 [==============================] - 2s - loss: 0.0389 - val_loss: 0.1677\n",
      "Epoch 27/50\n",
      "41024/41024 [==============================] - 2s - loss: 0.0384 - val_loss: 0.1882\n",
      "Epoch 28/50\n",
      "41024/41024 [==============================] - 2s - loss: 0.0378 - val_loss: 0.1649\n",
      "Epoch 29/50\n",
      "41024/41024 [==============================] - 2s - loss: 0.0368 - val_loss: 0.1278\n",
      "Epoch 30/50\n",
      "41024/41024 [==============================] - 2s - loss: 0.0376 - val_loss: 0.1774\n",
      "Epoch 31/50\n",
      "41024/41024 [==============================] - 2s - loss: 0.0362 - val_loss: 0.1613\n",
      "Epoch 32/50\n",
      "41024/41024 [==============================] - 2s - loss: 0.0351 - val_loss: 0.1829\n",
      "Epoch 33/50\n",
      "41024/41024 [==============================] - 2s - loss: 0.0355 - val_loss: 0.1492\n",
      "Epoch 34/50\n",
      "41024/41024 [==============================] - 2s - loss: 0.0362 - val_loss: 0.1602\n",
      "Epoch 35/50\n",
      "41024/41024 [==============================] - 2s - loss: 0.0348 - val_loss: 0.1370\n",
      "Epoch 36/50\n",
      "41024/41024 [==============================] - 2s - loss: 0.0352 - val_loss: 0.1674\n",
      "Epoch 37/50\n",
      "41024/41024 [==============================] - 2s - loss: 0.0345 - val_loss: 0.2133\n",
      "Epoch 38/50\n",
      "41024/41024 [==============================] - 2s - loss: 0.0342 - val_loss: 0.1634\n",
      "Epoch 39/50\n",
      "41024/41024 [==============================] - 2s - loss: 0.0338 - val_loss: 0.1671\n",
      "Epoch 40/50\n",
      "41024/41024 [==============================] - 1s - loss: 0.0337 - val_loss: 0.1917\n",
      "Epoch 41/50\n",
      "41024/41024 [==============================] - 2s - loss: 0.0332 - val_loss: 0.1707\n",
      "Epoch 42/50\n",
      "41024/41024 [==============================] - 2s - loss: 0.0336 - val_loss: 0.1669\n",
      "Epoch 43/50\n",
      "41024/41024 [==============================] - 2s - loss: 0.0326 - val_loss: 0.1755\n",
      "Epoch 44/50\n",
      "41024/41024 [==============================] - 2s - loss: 0.0333 - val_loss: 0.1703\n",
      "Epoch 45/50\n",
      "41024/41024 [==============================] - 2s - loss: 0.0339 - val_loss: 0.1566\n",
      "Epoch 46/50\n",
      "41024/41024 [==============================] - 2s - loss: 0.0323 - val_loss: 0.1400\n",
      "Epoch 47/50\n",
      "41024/41024 [==============================] - 2s - loss: 0.0329 - val_loss: 0.1473\n",
      "Epoch 48/50\n",
      "41024/41024 [==============================] - 2s - loss: 0.0317 - val_loss: 0.1938\n",
      "Epoch 49/50\n",
      "41024/41024 [==============================] - 2s - loss: 0.0317 - val_loss: 0.1652\n",
      "Epoch 50/50\n",
      "41024/41024 [==============================] - 2s - loss: 0.0328 - val_loss: 0.1622\n"
     ]
    }
   ],
   "source": [
    "history = net.fit(X_mix, y_mix, batch_size=64, epochs=50, validation_split = 0.1, verbose=1, shuffle=True, sample_weight=weights_mix)"
   ]
  },
  {
   "cell_type": "code",
   "execution_count": 29,
   "metadata": {
    "collapsed": false,
    "scrolled": true
   },
   "outputs": [
    {
     "data": {
      "image/png": "[encoded data removed]",
      "text/plain": [
       "<matplotlib.figure.Figure at 0x12a02ff98>"
      ]
     },
     "metadata": {},
     "output_type": "display_data"
    }
   ],
   "source": [
    "# summarize history for loss\n",
    "plt.plot(history.history['loss'])\n",
    "plt.plot(history.history['val_loss'])\n",
    "plt.title('model loss')\n",
    "plt.ylabel('loss')\n",
    "plt.xlabel('epoch')\n",
    "plt.legend(['train', 'test'], loc='upper left')\n",
    "plt.show()"
   ]
  },
  {
   "cell_type": "code",
   "execution_count": 30,
   "metadata": {
    "collapsed": false
   },
   "outputs": [
    {
     "name": "stdout",
     "output_type": "stream",
     "text": [
      "23840/24549 [============================>.] - ETA: 0s"
     ]
    }
   ],
   "source": [
    "y_pred = net.predict(X_test, verbose=1)"
   ]
  },
  {
   "cell_type": "code",
   "execution_count": 31,
   "metadata": {
    "collapsed": false
   },
   "outputs": [
    {
     "name": "stdout",
     "output_type": "stream",
     "text": [
      "recall_score  0.985193621868\n",
      "precision_score  0.966480446927\n",
      "f1_score  0.975747320925\n",
      "confusion_matrix \n",
      "[[22733    60]\n",
      " [   26  1730]]\n"
     ]
    },
    {
     "data": {
      "image/png": "[encoded data removed]",
      "text/plain": [
       "<matplotlib.figure.Figure at 0x129ee8ba8>"
      ]
     },
     "metadata": {},
     "output_type": "display_data"
    }
   ],
   "source": [
    "perfomance(y_test, y_pred)"
   ]
  },
  {
   "cell_type": "markdown",
   "metadata": {},
   "source": [
    "## Classic methods"
   ]
  },
  {
   "cell_type": "code",
   "execution_count": 32,
   "metadata": {
    "collapsed": true
   },
   "outputs": [],
   "source": [
    "y_test_rescale = np.where(y_test == 0, -np.ones((y_test.shape)), np.ones((y_test.shape)))"
   ]
  },
  {
   "cell_type": "code",
   "execution_count": 36,
   "metadata": {
    "collapsed": false
   },
   "outputs": [
    {
     "name": "stdout",
     "output_type": "stream",
     "text": [
      "One-Class SVM\n",
      "recall_score  0.958997722096\n",
      "precision_score  0.893368700265\n",
      "f1_score  0.925020598737\n",
      "confusion_matrix \n",
      "[[22592   201]\n",
      " [   72  1684]]\n",
      "Isolation Forest\n",
      "recall_score  0.961845102506\n",
      "precision_score  0.955316742081\n",
      "f1_score  0.958569807037\n",
      "confusion_matrix \n",
      "[[22714    79]\n",
      " [   67  1689]]\n"
     ]
    }
   ],
   "source": [
    "from sklearn import svm\n",
    "from sklearn.ensemble import IsolationForest\n",
    "\n",
    "\n",
    "classifiers_classic = {\n",
    "    \"One-Class SVM\": svm.OneClassSVM(nu=0.01,\n",
    "                                     kernel=\"rbf\", gamma=1e-5),\n",
    "    \"Isolation Forest\": IsolationForest(n_estimators=700,\n",
    "                                        #max_samples=2000,\n",
    "                                        contamination=0.005,\n",
    "                                        random_state=10)}\n",
    "\n",
    "\n",
    "for i, (clf_name, clf) in enumerate(classifiers_classic.items()):\n",
    "        clf.fit(X_good)\n",
    "        #scores_pred = clf.decision_function(X_test)\n",
    "        y_pred = clf.predict(X_test)\n",
    "        \n",
    "        print (clf_name)\n",
    "        print (\"recall_score \",recall_score(y_test_rescale, np.round(-y_pred)))\n",
    "        print (\"precision_score \",precision_score(y_test_rescale, np.round(-y_pred)))\n",
    "        print (\"f1_score \",f1_score(y_test_rescale, np.round(-y_pred)))\n",
    "        print (\"confusion_matrix \")\n",
    "        print (confusion_matrix(y_test_rescale, np.round(-y_pred)))"
   ]
  },
  {
   "cell_type": "code",
   "execution_count": null,
   "metadata": {
    "collapsed": true
   },
   "outputs": [],
   "source": []
  },
  {
   "cell_type": "code",
   "execution_count": null,
   "metadata": {
    "collapsed": true
   },
   "outputs": [],
   "source": []
  }
 ],
 "metadata": {
  "anaconda-cloud": {},
  "kernelspec": {
   "display_name": "Python [conda env:py35]",
   "language": "python",
   "name": "conda-env-py35-py"
  },
  "language_info": {
   "codemirror_mode": {
    "name": "ipython",
    "version": 3
   },
   "file_extension": ".py",
   "mimetype": "text/x-python",
   "name": "python",
   "nbconvert_exporter": "python",
   "pygments_lexer": "ipython3",
   "version": "3.5.2"
  }
 },
 "nbformat": 4,
 "nbformat_minor": 1
}
